{
  "nbformat": 4,
  "nbformat_minor": 0,
  "metadata": {
    "colab": {
      "name": "1FC_043_EM",
      "provenance": [],
      "toc_visible": true,
      "authorship_tag": "ABX9TyNy4pmUDbEVYZVEWYLNkDmm",
      "include_colab_link": true
    },
    "kernelspec": {
      "name": "python3",
      "display_name": "Python 3"
    }
  },
  "cells": [
    {
      "cell_type": "markdown",
      "metadata": {
        "id": "view-in-github",
        "colab_type": "text"
      },
      "source": [
        "<a href=\"https://colab.research.google.com/github/kzhkAKT/ErgyMtrlScience/blob/draft/1FC_043_EM.ipynb\" target=\"_parent\"><img src=\"https://colab.research.google.com/assets/colab-badge.svg\" alt=\"Open In Colab\"/></a>"
      ]
    },
    {
      "cell_type": "markdown",
      "metadata": {
        "id": "WiqdYm0SVDkd",
        "colab_type": "text"
      },
      "source": [
        "# 電解質"
      ]
    },
    {
      "cell_type": "markdown",
      "metadata": {
        "id": "XZ1EaF8QVG4p",
        "colab_type": "text"
      },
      "source": [
        "## イオンの移動度と輸率"
      ]
    },
    {
      "cell_type": "markdown",
      "metadata": {
        "id": "YlJEhaiZVaxq",
        "colab_type": "text"
      },
      "source": [
        "### イオンの移動度 $u$\n",
        "$\\require{cancel}$\n",
        "- イオン: 電荷 $z$, 半径 $a$ in 電場 $E\\ {\\rm (Vm^{-1})}$\n",
        "- イオンに働く力: $\\qquad f_e= z e E$\n",
        "- イオンの速度: $s$\n",
        "- イオンに働く抵抗 ~ Stoke's law: $\\quad f_{\\rm f}=6 \\pi \\eta a s$ \n",
        "\n",
        "$\\eta\\ {\\rm (Pa\\ s)}$: 粘性係数\n",
        "\n",
        "これらをもとにイオンの運動方程式を立て, 十分時間が経過した状況では速度は変化しないので\n",
        "\\begin{align*}\n",
        "m \\cancelto{0}{\\dfrac{{\\rm d}s}{{\\rm d}t}} &= f_e - f_{\\rm f}&\\\\\n",
        "\\end{align*}\n",
        "これを整理すると **ドリフト速度 $s$**\n",
        "\\begin{align*}\n",
        "f_{\\rm f} &= f_e&\\\\\n",
        "6 \\pi \\eta a s &= f_e&\\\\\n",
        "s &= \\dfrac{f_e}{6 \\pi \\eta a}&\\\\\n",
        "s &= \\dfrac{z e E}{6 \\pi \\eta a},\n",
        "\\end{align*}\n",
        "が得られ, これを単位電場あたりに換算したものを **移動度 $u$**\n",
        "\\begin{align*}\n",
        "u&= \\dfrac{s}{E} = \\dfrac{z e}{6 \\pi \\eta a}\n",
        "\\propto\n",
        "\\begin{cases}\n",
        "z&\\\\\n",
        "\\dfrac{1}{\\eta}&\\\\\n",
        "\\dfrac{1}{a}&\n",
        "\\end{cases}&\n",
        "\\end{align*}"
      ]
    },
    {
      "cell_type": "markdown",
      "metadata": {
        "id": "JV3kMSqjZlxJ",
        "colab_type": "text"
      },
      "source": [
        "$\\require{mhchem}$\n",
        "### 移動度による極限モル伝導率 $\\Lambda^\\circ_{\\rm m}$ の表現\n",
        "\n",
        "電荷 $z$ を持つイオンの伝導率 $\\lambda$ は\n",
        "\\begin{align*}\n",
        "\\lambda = q u = (z \\mathcal{F}) u = z u \\mathcal{F}\n",
        "\\end{align*}\n",
        "$\\mathcal{F}=e\\cdot N_{\\rm A}$: Faradday constant\n",
        "\n",
        "次のような電解質では\n",
        "\\begin{align*}\n",
        "\\ce{A}_{\\nu_+} + \\ce{B}_{\\nu_-}\n",
        " &\\to\n",
        "{\\nu_+} \\ce{A}^{z_+} \n",
        "+ {\\nu_-} \\ce{B}^{z_-}&\n",
        "\\end{align*}\n",
        "ここで\n",
        "- $\\ce{A}^{z_+}$: cation($z_+>0$),   \n",
        "$\\ce{B}^{z_-}$: anion($z_-<0$)\n",
        "- ${z_+}{\\nu_+}+{z_-}{\\nu_-}=0$  \n",
        "- $u^\\circ_+$: mobility of cation  \n",
        "  $u^\\circ_-$: mobility of anion\n",
        "\n",
        "\\begin{align*}\n",
        "\\Lambda^\\circ_{\\rm m}\n",
        "&=\n",
        "{\\nu_+}\\lambda^\\circ_+ \n",
        "+\n",
        "{\\nu_-} \\lambda^\\circ_-&\\\\\n",
        "&=\\left(\n",
        "{\\nu_+} z_+ u^\\circ_+ \n",
        "+\n",
        "{\\nu_-} z_- u^\\circ_- \n",
        "  \\right)\\mathcal{F}\n",
        "\\end{align*}"
      ]
    },
    {
      "cell_type": "markdown",
      "metadata": {
        "id": "AtXDfbHQcyx_",
        "colab_type": "text"
      },
      "source": [
        "### 輸率 $t_{\\pm}$\n",
        "\n",
        "あるイオンが運ぶ電流の割合\n",
        "\n",
        "- $I_+$: cation $\\ce{A}^{z_+}$ が運ぶ電流\n",
        "- $I_-$: anion $\\ce{A}^{z_+}$ が運ぶ電流\n",
        "- $I = I_+ + I_-$: 全電流\n",
        "\n",
        "輸率 $t_{\\pm}$ の定義\n",
        "\\begin{align*}\n",
        "t_{\\pm} &= \\dfrac{I_{\\pm}}{I}.\n",
        "\\end{align*}\n",
        "全電流 $I$ から\n",
        "\\begin{align*}\n",
        "t_+ + t_- &= 1.&\n",
        "\\end{align*}\n",
        "これらを利用すると無限希釈溶液のイオン輸率\n",
        " $t_{\\pm}^\\circ$ は,  \n",
        " 無限希釈におけるモル伝導率を利用すれば $I=\\Lambda_{\\rm m}^\\circ$, \n",
        " $I_\\pm={\\nu_\\pm}\\lambda^\\circ_\\pm$\n",
        "\\begin{align*}\n",
        "t_\\pm^\\circ \n",
        "&=\n",
        "\\dfrac{\\nu_\\pm \\lambda_\\pm^\\circ}\n",
        "{\\Lambda_{\\rm m}^\\circ}\n",
        "=\n",
        "\\dfrac{\\nu_\\pm \\lambda_\\pm^\\circ}\n",
        "{{\\nu_+}\\lambda^\\circ_+ + {\\nu_-}\\lambda^\\circ_-}\n",
        "=\n",
        "\\dfrac{\\nu_\\pm z_\\pm u_\\pm^\\circ}\n",
        "{{\\nu_+} z_+ u^\\circ_+ + {\\nu_-} z_- u^\\circ_-} \n",
        "\\end{align*}\n",
        "$t^\\circ_\\pm$ はイオンの数や種類できまる.\n",
        "\n",
        "$\\require{cancel}$\n",
        "一方(+)だけが動ける場合は\n",
        "\\begin{align*}\n",
        "t_+^\\circ \n",
        "&=\n",
        "\\dfrac{\\nu_+ z_+ u_+^\\circ}\n",
        "{{\\nu_+} z_+ u^\\circ_+ + \\cancelto{0}{{\\nu_-} z_- u^\\circ_-}} \\to 1\n",
        "\\end{align*}\n"
      ]
    }
  ]
}