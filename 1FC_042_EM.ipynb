{
  "nbformat": 4,
  "nbformat_minor": 0,
  "metadata": {
    "colab": {
      "name": "1FC_042_EM",
      "provenance": [],
      "toc_visible": true,
      "authorship_tag": "ABX9TyMfTLiLkyx+O99yjVt2fYeg",
      "include_colab_link": true
    },
    "kernelspec": {
      "name": "python3",
      "display_name": "Python 3"
    }
  },
  "cells": [
    {
      "cell_type": "markdown",
      "metadata": {
        "id": "view-in-github",
        "colab_type": "text"
      },
      "source": [
        "<a href=\"https://colab.research.google.com/github/kzhkAKT/ErgyMtrlScience/blob/draft/1FC_042_EM.ipynb\" target=\"_parent\"><img src=\"https://colab.research.google.com/assets/colab-badge.svg\" alt=\"Open In Colab\"/></a>"
      ]
    },
    {
      "cell_type": "markdown",
      "metadata": {
        "id": "B-hJfA0PdmjW",
        "colab_type": "text"
      },
      "source": [
        "# 電解質"
      ]
    },
    {
      "cell_type": "markdown",
      "metadata": {
        "id": "iTqSAgbldrWR",
        "colab_type": "text"
      },
      "source": [
        "## 電解質の伝導率\n",
        "\n",
        "- イオン伝導体\n",
        "  - イオン液体: イオン液体, 溶融塩\n",
        "  - 固体電解質\n"
      ]
    },
    {
      "cell_type": "code",
      "metadata": {
        "id": "7scqRPRFefzQ",
        "colab_type": "code",
        "cellView": "form",
        "outputId": "f46b6b81-42e3-464c-fe65-4efdf9b38c9a",
        "colab": {
          "base_uri": "https://localhost:8080/",
          "height": 336
        }
      },
      "source": [
        "#@title 電解液を利用したスピーカー\n",
        "%%html\n",
        "<iframe width=\"560\" height=\"315\" src=\"https://www.youtube-nocookie.com/embed/5K5KSDL1gXE\" frameborder=\"0\" allow=\"accelerometer; autoplay; encrypted-media; gyroscope; picture-in-picture\" allowfullscreen></iframe>"
      ],
      "execution_count": 0,
      "outputs": [
        {
          "output_type": "display_data",
          "data": {
            "text/html": [
              "<iframe width=\"560\" height=\"315\" src=\"https://www.youtube-nocookie.com/embed/5K5KSDL1gXE\" frameborder=\"0\" allow=\"accelerometer; autoplay; encrypted-media; gyroscope; picture-in-picture\" allowfullscreen></iframe>"
            ],
            "text/plain": [
              "<IPython.core.display.HTML object>"
            ]
          },
          "metadata": {
            "tags": []
          }
        }
      ]
    },
    {
      "cell_type": "markdown",
      "metadata": {
        "id": "k_6sf0JRenrc",
        "colab_type": "text"
      },
      "source": [
        "[イオン伝導体のジェルで作られた、\n",
        "透明スピーカー](https://www.tel.co.jp/museum/magazine/news/091.html)"
      ]
    },
    {
      "cell_type": "code",
      "metadata": {
        "id": "yzuL19B0ehcE",
        "colab_type": "code",
        "cellView": "form",
        "outputId": "874f9814-45c2-40e4-9767-7dca5ed1c1b6",
        "colab": {
          "base_uri": "https://localhost:8080/",
          "height": 336
        }
      },
      "source": [
        "#@title 固体電解質: 全固体電池への道\n",
        "%%html\n",
        "<iframe width=\"560\" height=\"315\" src=\"https://www.youtube-nocookie.com/embed/DVXGBz3mQUs\" frameborder=\"0\" allow=\"accelerometer; autoplay; encrypted-media; gyroscope; picture-in-picture\" allowfullscreen></iframe>"
      ],
      "execution_count": 0,
      "outputs": [
        {
          "output_type": "display_data",
          "data": {
            "text/html": [
              "<iframe width=\"560\" height=\"315\" src=\"https://www.youtube-nocookie.com/embed/DVXGBz3mQUs\" frameborder=\"0\" allow=\"accelerometer; autoplay; encrypted-media; gyroscope; picture-in-picture\" allowfullscreen></iframe>"
            ],
            "text/plain": [
              "<IPython.core.display.HTML object>"
            ]
          },
          "metadata": {
            "tags": []
          }
        }
      ]
    },
    {
      "cell_type": "code",
      "metadata": {
        "id": "w6nQT9Nvf1N-",
        "colab_type": "code",
        "cellView": "form",
        "outputId": "5c9193d6-6605-49a0-e043-51db7e525ebb",
        "colab": {
          "base_uri": "https://localhost:8080/",
          "height": 336
        }
      },
      "source": [
        "#@title 全固体電池の最近の動向\n",
        "%%html\n",
        "<iframe width=\"560\" height=\"315\" src=\"https://www.youtube-nocookie.com/embed/vnpCdSV-wDo\" frameborder=\"0\" allow=\"accelerometer; autoplay; encrypted-media; gyroscope; picture-in-picture\" allowfullscreen></iframe>"
      ],
      "execution_count": 0,
      "outputs": [
        {
          "output_type": "display_data",
          "data": {
            "text/html": [
              "<iframe width=\"560\" height=\"315\" src=\"https://www.youtube-nocookie.com/embed/vnpCdSV-wDo\" frameborder=\"0\" allow=\"accelerometer; autoplay; encrypted-media; gyroscope; picture-in-picture\" allowfullscreen></iframe>"
            ],
            "text/plain": [
              "<IPython.core.display.HTML object>"
            ]
          },
          "metadata": {
            "tags": []
          }
        }
      ]
    },
    {
      "cell_type": "markdown",
      "metadata": {
        "id": "lxsz13JMieKm",
        "colab_type": "text"
      },
      "source": [
        "> Q. 教科書 p55 の表4.2 で一般的な物質の電気伝導率を確認してください.\n",
        "\n",
        "固体電解質の有力候補の電気伝導度 $\\qquad {\\rm 3.2\\times 10^{-2} S cm^{-1}}$  \n",
        "https://www.nature.com/articles/s41467-019-13178-2"
      ]
    },
    {
      "cell_type": "markdown",
      "metadata": {
        "id": "5z76ZdMVjsY2",
        "colab_type": "text"
      },
      "source": [
        "## 電解質溶液\n",
        "\n",
        "$\\kappa$:電気伝導率(${\\rm S\\ cm^{-1}}$),\n",
        "$c$:モル濃度(${\\rm mol\\ cm^{-3}}$)\n",
        "\\begin{align*}\n",
        "\\kappa &\\propto c&\\\\\n",
        "\\kappa &= \\Lambda_{\\rm m} c&\\\\\n",
        "\\Lambda_{\\rm m} &= \\dfrac{\\kappa}{c}&\n",
        "\\end{align*}\n",
        "$\\Lambda_{\\rm }$ := モル伝導率(${\\rm S\\ cm^2\\ mol^{-1}}$)\n",
        "\n",
        "> 教科書 p57 の 図4.2 で $c^{1/2}-\\Lambda_{\\rm m}$ の関係を確認してください."
      ]
    },
    {
      "cell_type": "markdown",
      "metadata": {
        "id": "toE9GOY1sN5o",
        "colab_type": "text"
      },
      "source": [
        "$\\require{mhchem}$\n",
        "### モル伝導率 $\\Lambda_{\\rm m}$ と濃度 $c$ の関係"
      ]
    },
    {
      "cell_type": "markdown",
      "metadata": {
        "id": "3AIdr430JYij",
        "colab_type": "text"
      },
      "source": [
        "#### 強電解質\n",
        "Strong electrolyte, 溶液中で(ほぼ)完全電離: $\\ce{HCl, NaCl}$\n",
        "\n",
        "##### Kohlraush's law\n",
        "\n",
        "発見当初は経験則.  \n",
        "Onsager(1937) が Debye–Hückel theory を利用して証明済み.  \n",
        "(残念ながら照明についてはこの講義では扱えません...)\n",
        "\n",
        "\\begin{align*}\n",
        "\\Lambda_{\\rm m} &= \\Lambda^\\circ_{\\rm m} - K c^{1/2}\n",
        "\\end{align*}\n",
        "\n",
        "$\\Lambda^\\circ_{\\rm m}$: 極限モル濃度が $c\\to 0$ で, 無限希釈におけるモル伝導率.  \n",
        "(ここでの $K$ は平衡定数ではありません.)\n",
        "\n",
        "##### 極限モル濃度 $\\Lambda^\\circ_{\\rm m}$ の構成\n",
        "\n",
        "電解質\n",
        "- $\\ce{A}^{z_+}$: cation($z_+>0$)\n",
        "- $\\ce{B}^{z_-}$: anion($z_-<0$)\n",
        "\n",
        "が溶液中で次のように完全電離しているとする\n",
        "\\begin{align*}\n",
        "\\ce{A}_{\\nu_+} + \\ce{B}_{\\nu_-}\n",
        " &\\to\n",
        "{\\nu_+} \\ce{A}^{z_+} \n",
        "+ {\\nu_-} \\ce{B}^{z_-}\n",
        "\\end{align*}\n",
        "このとき 電気的中性の原理から\n",
        "\\begin{align*}\n",
        "{z_+}{\\nu_+}+{z_-}{\\nu_-}&=0&\n",
        "\\end{align*}\n",
        "が成り立ちます.\n",
        "\n",
        "電離したイオンが極限モル伝導率 $\\Lambda^\\circ_{\\rm m}$ を担うので, cation と anion のそれぞれについて 極限モル伝導率を $\\lambda^\\circ_+, \\lambda^\\circ_-$ とすると\n",
        "\\begin{align*}\n",
        "\\Lambda^\\circ_{\\rm m}\n",
        "&=\n",
        "{\\nu_+}\\lambda^\\circ_+ \n",
        "+\n",
        "{\\nu_-} \\lambda^\\circ_-&\n",
        "\\end{align*}\n",
        "このように無限希釈溶液でイオンの動きやすさが表現される法則を **イオン独立移動の法則** (Kohlrausch's law of independent migration of ions)と言います.\n",
        "\n",
        "一般には, 教科書 p57 表4.3 にあるように価数当たりで表現されます: $\\lambda^\\circ_+ /|z_+|, \\lambda^\\circ_- /|z_-|$"
      ]
    },
    {
      "cell_type": "markdown",
      "metadata": {
        "id": "y227oLBxJazJ",
        "colab_type": "text"
      },
      "source": [
        "#### 弱電解質\n",
        "Weak electrolyte, 溶液中で完全電離しない: $\\ce{CH3COOH}$\n",
        "\n",
        "弱電解質では\n",
        "\\begin{align*}\n",
        "\\kappa &\\propto \\Lambda^\\circ_{\\rm m}&\\\\\n",
        "\\kappa &\\propto c&\\\\\n",
        "\\kappa &= \\alpha c \\Lambda^\\circ_{\\rm m}&\n",
        "\\end{align*}\n",
        "ここで $\\alpha$ は電離度に相当する.\n",
        "\n",
        "これを利用すれば, 弱電解質のモル伝導率 $\\Lambda_{\\rm m}$は\n",
        "\\begin{align*}\n",
        "\\Lambda_{\\rm m} &= \\dfrac{\\kappa}{c} \n",
        "= \\alpha \\Lambda^\\circ_{\\rm m}&\n",
        "\\end{align*}\n",
        "\n",
        "モル濃度が $c$ の弱電解質 AB ($z_+=+1, z_-=-1$) に関して\n",
        "\\begin{align*}\n",
        "\\ce{AB <=> A+ + B-}\n",
        "\\end{align*}\n",
        "電離度を $\\alpha$ とすると $\\ce{AB, A+, B-}$ の濃度は\n",
        "$(1-\\alpha)c, \\alpha c, \\alpha c$ となり,   \n",
        "平衡定数 $K$ は\n",
        "\\begin{align*}\n",
        "K&= \\dfrac{[\\ce{A+}][\\ce{B-}]}{[\\ce{AB}]}\n",
        "=\\dfrac{\\alpha^2 c}{1-\\alpha}&\\\\\n",
        "&=\\alpha^2 c \\left( 1-\\alpha\\right)^-1.\n",
        "\\end{align*}\n",
        "\n",
        "弱電解質では $\\alpha<<1$ なので\n",
        "\\begin{align*}\n",
        "K&= \\alpha^2 c \\left( 1-\\alpha\\right)^-1&\\\\\n",
        "&\\approx \\alpha^2 c \\left( 1+\\alpha\\right)\n",
        "= \\alpha^2 c +\\alpha^3 c&\\\\\n",
        "&\\approx \\alpha^2 c.&\n",
        "\\end{align*}\n",
        "これより\n",
        "\\begin{align*}\n",
        "\\Lambda_{\\rm m} &= \\alpha \\Lambda^\\circ_{\\rm m}\n",
        "= \\sqrt{\\dfrac{K}{c}}\\Lambda^\\circ_{\\rm m} &\\\\\n",
        "&= \\dfrac{\\sqrt{K}\\Lambda^\\circ_{\\rm m}}{\\sqrt{c}}\n",
        "\\propto \\dfrac{1}{\\sqrt{c}}.&\n",
        "\\end{align*}\n",
        "教科書 p57 図4.2 でグラフの形状を確認しておいてください."
      ]
    }
  ]
}