{
  "nbformat": 4,
  "nbformat_minor": 0,
  "metadata": {
    "colab": {
      "name": "1FC_042_EM",
      "provenance": [],
      "toc_visible": true,
      "authorship_tag": "ABX9TyOLNVfZb4D5pL0oDL7GO/Zh",
      "include_colab_link": true
    },
    "kernelspec": {
      "name": "python3",
      "display_name": "Python 3"
    }
  },
  "cells": [
    {
      "cell_type": "markdown",
      "metadata": {
        "id": "view-in-github",
        "colab_type": "text"
      },
      "source": [
        "<a href=\"https://colab.research.google.com/github/kzhkAKT/ErgyMtrlScience/blob/draft/1FC_042_EM.ipynb\" target=\"_parent\"><img src=\"https://colab.research.google.com/assets/colab-badge.svg\" alt=\"Open In Colab\"/></a>"
      ]
    },
    {
      "cell_type": "markdown",
      "metadata": {
        "id": "B-hJfA0PdmjW",
        "colab_type": "text"
      },
      "source": [
        "# 電解質"
      ]
    },
    {
      "cell_type": "markdown",
      "metadata": {
        "id": "iTqSAgbldrWR",
        "colab_type": "text"
      },
      "source": [
        "## 電解質の伝導率\n",
        "\n",
        "- イオン伝導体\n",
        "  - イオン液体: イオン液体, 溶融塩\n",
        "  - 固体電解質\n"
      ]
    },
    {
      "cell_type": "code",
      "metadata": {
        "id": "7scqRPRFefzQ",
        "colab_type": "code",
        "colab": {
          "base_uri": "https://localhost:8080/",
          "height": 336
        },
        "cellView": "form",
        "outputId": "f46b6b81-42e3-464c-fe65-4efdf9b38c9a"
      },
      "source": [
        "#@title 電解液を利用したスピーカー\n",
        "%%html\n",
        "<iframe width=\"560\" height=\"315\" src=\"https://www.youtube-nocookie.com/embed/5K5KSDL1gXE\" frameborder=\"0\" allow=\"accelerometer; autoplay; encrypted-media; gyroscope; picture-in-picture\" allowfullscreen></iframe>"
      ],
      "execution_count": 1,
      "outputs": [
        {
          "output_type": "display_data",
          "data": {
            "text/html": [
              "<iframe width=\"560\" height=\"315\" src=\"https://www.youtube-nocookie.com/embed/5K5KSDL1gXE\" frameborder=\"0\" allow=\"accelerometer; autoplay; encrypted-media; gyroscope; picture-in-picture\" allowfullscreen></iframe>"
            ],
            "text/plain": [
              "<IPython.core.display.HTML object>"
            ]
          },
          "metadata": {
            "tags": []
          }
        }
      ]
    },
    {
      "cell_type": "markdown",
      "metadata": {
        "id": "k_6sf0JRenrc",
        "colab_type": "text"
      },
      "source": [
        "[イオン伝導体のジェルで作られた、\n",
        "透明スピーカー](https://www.tel.co.jp/museum/magazine/news/091.html)"
      ]
    },
    {
      "cell_type": "code",
      "metadata": {
        "id": "yzuL19B0ehcE",
        "colab_type": "code",
        "colab": {
          "base_uri": "https://localhost:8080/",
          "height": 336
        },
        "cellView": "form",
        "outputId": "874f9814-45c2-40e4-9767-7dca5ed1c1b6"
      },
      "source": [
        "#@title 固体電解質: 全固体電池への道\n",
        "%%html\n",
        "<iframe width=\"560\" height=\"315\" src=\"https://www.youtube-nocookie.com/embed/DVXGBz3mQUs\" frameborder=\"0\" allow=\"accelerometer; autoplay; encrypted-media; gyroscope; picture-in-picture\" allowfullscreen></iframe>"
      ],
      "execution_count": 2,
      "outputs": [
        {
          "output_type": "display_data",
          "data": {
            "text/html": [
              "<iframe width=\"560\" height=\"315\" src=\"https://www.youtube-nocookie.com/embed/DVXGBz3mQUs\" frameborder=\"0\" allow=\"accelerometer; autoplay; encrypted-media; gyroscope; picture-in-picture\" allowfullscreen></iframe>"
            ],
            "text/plain": [
              "<IPython.core.display.HTML object>"
            ]
          },
          "metadata": {
            "tags": []
          }
        }
      ]
    },
    {
      "cell_type": "code",
      "metadata": {
        "id": "w6nQT9Nvf1N-",
        "colab_type": "code",
        "colab": {
          "base_uri": "https://localhost:8080/",
          "height": 336
        },
        "cellView": "form",
        "outputId": "5c9193d6-6605-49a0-e043-51db7e525ebb"
      },
      "source": [
        "#@title 全固体電池の最近の動向\n",
        "%%html\n",
        "<iframe width=\"560\" height=\"315\" src=\"https://www.youtube-nocookie.com/embed/vnpCdSV-wDo\" frameborder=\"0\" allow=\"accelerometer; autoplay; encrypted-media; gyroscope; picture-in-picture\" allowfullscreen></iframe>"
      ],
      "execution_count": 3,
      "outputs": [
        {
          "output_type": "display_data",
          "data": {
            "text/html": [
              "<iframe width=\"560\" height=\"315\" src=\"https://www.youtube-nocookie.com/embed/vnpCdSV-wDo\" frameborder=\"0\" allow=\"accelerometer; autoplay; encrypted-media; gyroscope; picture-in-picture\" allowfullscreen></iframe>"
            ],
            "text/plain": [
              "<IPython.core.display.HTML object>"
            ]
          },
          "metadata": {
            "tags": []
          }
        }
      ]
    },
    {
      "cell_type": "markdown",
      "metadata": {
        "id": "lxsz13JMieKm",
        "colab_type": "text"
      },
      "source": [
        "> Q. 教科書 p55 の表4.2 で一般的な物質の電気伝導率を確認してください.\n",
        "\n",
        "固体電解質の有力候補の電気伝導度 $\\qquad {\\rm 3.2\\times 10^{-2} S cm^{-1}}$  \n",
        "https://www.nature.com/articles/s41467-019-13178-2"
      ]
    },
    {
      "cell_type": "markdown",
      "metadata": {
        "id": "5z76ZdMVjsY2",
        "colab_type": "text"
      },
      "source": [
        "## 電解質溶液\n",
        "\n",
        "$\\kappa$:電気伝導率(${\\rm S\\ cm^{-1}}$),\n",
        "$c$:モル濃度(${\\rm mol\\ cm^{-3}}$)\n",
        "\\begin{align*}\n",
        "\\kappa &\\propto c&\\\\\n",
        "\\kappa &= \\Lambda_{\\rm m} c&\\\\\n",
        "\\Lambda_{\\rm m} &= \\dfrac{\\kappa}{c}&\n",
        "\\end{align*}\n",
        "$\\Lambda_{\\rm }$ := モル伝導率(${\\rm S\\ cm^2\\ mol^{-1}}$)\n",
        "\n",
        "> 教科書 p57 の 図4.2 で $c^{1/2}-\\Lambda_{\\rm m}$ の関係を確認してください."
      ]
    },
    {
      "cell_type": "code",
      "metadata": {
        "id": "I7_3lQp_hVJ9",
        "colab_type": "code",
        "colab": {}
      },
      "source": [
        ""
      ],
      "execution_count": 0,
      "outputs": []
    }
  ]
}