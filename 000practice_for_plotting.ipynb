{
  "nbformat": 4,
  "nbformat_minor": 0,
  "metadata": {
    "colab": {
      "name": "000practice_for_plotting",
      "provenance": [],
      "authorship_tag": "ABX9TyO6Msxs20wFyIa5bEWaUfXj",
      "include_colab_link": true
    },
    "kernelspec": {
      "name": "python3",
      "display_name": "Python 3"
    }
  },
  "cells": [
    {
      "cell_type": "markdown",
      "metadata": {
        "id": "view-in-github",
        "colab_type": "text"
      },
      "source": [
        "<a href=\"https://colab.research.google.com/github/kzhkAKT/ErgyMtrlScience/blob/master/000practice_for_plotting.ipynb\" target=\"_parent\"><img src=\"https://colab.research.google.com/assets/colab-badge.svg\" alt=\"Open In Colab\"/></a>"
      ]
    },
    {
      "cell_type": "code",
      "metadata": {
        "id": "DxJHagJ_gWx-",
        "colab_type": "code",
        "colab": {}
      },
      "source": [
        "#@title グラプ描画の練習です(この枠をクリック+右側に現れた再生ボタンを押してください)\n",
        "%matplotlib inline\n",
        "import matplotlib.pyplot as plt\n",
        "import numpy as np\n",
        "x = np.linspace(0, 10, 100)\n",
        "\n",
        "fig = plt.figure()\n",
        "plt.plot(x, np.sin(x), '-')\n",
        "plt.plot(x, np.cos(x), '--');"
      ],
      "execution_count": 0,
      "outputs": []
    },
    {
      "cell_type": "markdown",
      "metadata": {
        "id": "Rl5dOhx1gi0q",
        "colab_type": "text"
      },
      "source": [
        "[reference:Visualization with Matplotlib](https://colab.research.google.com/github/jakevdp/PythonDataScienceHandbook/blob/master/notebooks/04.00-Introduction-To-Matplotlib.ipynb#scrollTo=5fH23TQvf0n9)"
      ]
    }
  ]
}