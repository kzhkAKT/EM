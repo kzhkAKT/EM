{
  "nbformat": 4,
  "nbformat_minor": 0,
  "metadata": {
    "colab": {
      "name": "2SC_008_EM",
      "provenance": [],
      "collapsed_sections": [],
      "toc_visible": true,
      "authorship_tag": "ABX9TyPvxDPjKMQx4ziM/vMLgGFK",
      "include_colab_link": true
    },
    "kernelspec": {
      "name": "python3",
      "display_name": "Python 3"
    }
  },
  "cells": [
    {
      "cell_type": "markdown",
      "metadata": {
        "id": "view-in-github",
        "colab_type": "text"
      },
      "source": [
        "<a href=\"https://colab.research.google.com/github/kzhkAKT/ErgyMtrlScience/blob/draft/2SC_008_EM.ipynb\" target=\"_parent\"><img src=\"https://colab.research.google.com/assets/colab-badge.svg\" alt=\"Open In Colab\"/></a>"
      ]
    },
    {
      "cell_type": "markdown",
      "metadata": {
        "id": "6-HMF65RA-i4",
        "colab_type": "text"
      },
      "source": [
        "# Basic Josephson Junctions"
      ]
    },
    {
      "cell_type": "markdown",
      "metadata": {
        "id": "ECf5gQxrgbPX",
        "colab_type": "text"
      },
      "source": [
        "## Introduction"
      ]
    },
    {
      "cell_type": "code",
      "metadata": {
        "id": "ObpJvGuQMBIH",
        "colab_type": "code",
        "cellView": "form",
        "colab": {
          "base_uri": "https://localhost:8080/",
          "height": 355
        },
        "outputId": "0e224302-3f50-4481-ee67-a94397846248"
      },
      "source": [
        "#@title (general) Current–voltage characteristic\n",
        "%%svg\n",
        "https://upload.wikimedia.org/wikipedia/commons/d/d7/FourIVcurves.svg"
      ],
      "execution_count": null,
      "outputs": [
        {
          "output_type": "display_data",
          "data": {
            "text/plain": [
              "<IPython.core.display.SVG object>"
            ],
            "image/svg+xml": "<svg height=\"314.33374\" id=\"svg2\" inkscape:version=\"0.48.2 r9819\" sodipodi:docname=\"FourIVcurves2.svg\" version=\"1.1\" width=\"1536.3828\" xmlns=\"http://www.w3.org/2000/svg\" xmlns:cc=\"http://creativecommons.org/ns#\" xmlns:dc=\"http://purl.org/dc/elements/1.1/\" xmlns:inkscape=\"http://www.inkscape.org/namespaces/inkscape\" xmlns:rdf=\"http://www.w3.org/1999/02/22-rdf-syntax-ns#\" xmlns:sodipodi=\"http://sodipodi.sourceforge.net/DTD/sodipodi-0.dtd\" xmlns:svg=\"http://www.w3.org/2000/svg\">\n  <defs id=\"defs4\">\n    <marker id=\"Arrow2Lend\" inkscape:stockid=\"Arrow2Lend\" orient=\"auto\" refX=\"0\" refY=\"0\" style=\"overflow:visible\">\n      <path d=\"M 8.7185878,4.0337352 -2.2072895,0.01601326 8.7185884,-4.0017078 c -1.7454984,2.3720609 -1.7354408,5.6174519 -6e-7,8.035443 z\" id=\"path3781\" inkscape:connector-curvature=\"0\" style=\"font-size:12px;fill-rule:evenodd;stroke-width:0.625;stroke-linejoin:round\" transform=\"matrix(-1.1,0,0,-1.1,-1.1,0)\"/>\n    </marker>\n    <marker id=\"Arrow2Lstart\" inkscape:stockid=\"Arrow2Lstart\" orient=\"auto\" refX=\"0\" refY=\"0\" style=\"overflow:visible\">\n      <path d=\"M 8.7185878,4.0337352 -2.2072895,0.01601326 8.7185884,-4.0017078 c -1.7454984,2.3720609 -1.7354408,5.6174519 -6e-7,8.035443 z\" id=\"path3778\" inkscape:connector-curvature=\"0\" style=\"font-size:12px;fill-rule:evenodd;stroke-width:0.625;stroke-linejoin:round\" transform=\"matrix(1.1,0,0,1.1,1.1,0)\"/>\n    </marker>\n    <marker id=\"Arrow2Lstart-1\" inkscape:stockid=\"Arrow2Lstart\" orient=\"auto\" refX=\"0\" refY=\"0\" style=\"overflow:visible\">\n      <path d=\"M 8.7185878,4.0337352 -2.2072895,0.01601326 8.7185884,-4.0017078 c -1.7454984,2.3720609 -1.7354408,5.6174519 -6e-7,8.035443 z\" id=\"path3778-7\" inkscape:connector-curvature=\"0\" style=\"font-size:12px;fill-rule:evenodd;stroke-width:0.625;stroke-linejoin:round\" transform=\"matrix(1.1,0,0,1.1,1.1,0)\"/>\n    </marker>\n    <marker id=\"Arrow2Lend-4\" inkscape:stockid=\"Arrow2Lend\" orient=\"auto\" refX=\"0\" refY=\"0\" style=\"overflow:visible\">\n      <path d=\"M 8.7185878,4.0337352 -2.2072895,0.01601326 8.7185884,-4.0017078 c -1.7454984,2.3720609 -1.7354408,5.6174519 -6e-7,8.035443 z\" id=\"path3781-0\" inkscape:connector-curvature=\"0\" style=\"font-size:12px;fill-rule:evenodd;stroke-width:0.625;stroke-linejoin:round\" transform=\"matrix(-1.1,0,0,-1.1,-1.1,0)\"/>\n    </marker>\n    <marker id=\"Arrow2Lstart-6\" inkscape:stockid=\"Arrow2Lstart\" orient=\"auto\" refX=\"0\" refY=\"0\" style=\"overflow:visible\">\n      <path d=\"M 8.7185878,4.0337352 -2.2072895,0.01601326 8.7185884,-4.0017078 c -1.7454984,2.3720609 -1.7354408,5.6174519 -6e-7,8.035443 z\" id=\"path3778-6\" inkscape:connector-curvature=\"0\" style=\"font-size:12px;fill-rule:evenodd;stroke-width:0.625;stroke-linejoin:round\" transform=\"matrix(1.1,0,0,1.1,1.1,0)\"/>\n    </marker>\n    <marker id=\"Arrow2Lend-6\" inkscape:stockid=\"Arrow2Lend\" orient=\"auto\" refX=\"0\" refY=\"0\" style=\"overflow:visible\">\n      <path d=\"M 8.7185878,4.0337352 -2.2072895,0.01601326 8.7185884,-4.0017078 c -1.7454984,2.3720609 -1.7354408,5.6174519 -6e-7,8.035443 z\" id=\"path3781-4\" inkscape:connector-curvature=\"0\" style=\"font-size:12px;fill-rule:evenodd;stroke-width:0.625;stroke-linejoin:round\" transform=\"matrix(-1.1,0,0,-1.1,-1.1,0)\"/>\n    </marker>\n    <marker id=\"marker4623\" inkscape:stockid=\"Arrow2Lstart\" orient=\"auto\" refX=\"0\" refY=\"0\" style=\"overflow:visible\">\n      <path d=\"M 8.7185878,4.0337352 -2.2072895,0.01601326 8.7185884,-4.0017078 c -1.7454984,2.3720609 -1.7354408,5.6174519 -6e-7,8.035443 z\" id=\"path4625\" inkscape:connector-curvature=\"0\" style=\"font-size:12px;fill-rule:evenodd;stroke-width:0.625;stroke-linejoin:round\" transform=\"matrix(1.1,0,0,1.1,1.1,0)\"/>\n    </marker>\n    <marker id=\"marker4627\" inkscape:stockid=\"Arrow2Lend\" orient=\"auto\" refX=\"0\" refY=\"0\" style=\"overflow:visible\">\n      <path d=\"M 8.7185878,4.0337352 -2.2072895,0.01601326 8.7185884,-4.0017078 c -1.7454984,2.3720609 -1.7354408,5.6174519 -6e-7,8.035443 z\" id=\"path4629\" inkscape:connector-curvature=\"0\" style=\"font-size:12px;fill-rule:evenodd;stroke-width:0.625;stroke-linejoin:round\" transform=\"matrix(-1.1,0,0,-1.1,-1.1,0)\"/>\n    </marker>\n    <marker id=\"Arrow2Lstart-64\" inkscape:stockid=\"Arrow2Lstart\" orient=\"auto\" refX=\"0\" refY=\"0\" style=\"overflow:visible\">\n      <path d=\"M 8.7185878,4.0337352 -2.2072895,0.01601326 8.7185884,-4.0017078 c -1.7454984,2.3720609 -1.7354408,5.6174519 -6e-7,8.035443 z\" id=\"path3778-3\" inkscape:connector-curvature=\"0\" style=\"font-size:12px;fill-rule:evenodd;stroke-width:0.625;stroke-linejoin:round\" transform=\"matrix(1.1,0,0,1.1,1.1,0)\"/>\n    </marker>\n    <marker id=\"Arrow2Lend-7\" inkscape:stockid=\"Arrow2Lend\" orient=\"auto\" refX=\"0\" refY=\"0\" style=\"overflow:visible\">\n      <path d=\"M 8.7185878,4.0337352 -2.2072895,0.01601326 8.7185884,-4.0017078 c -1.7454984,2.3720609 -1.7354408,5.6174519 -6e-7,8.035443 z\" id=\"path3781-3\" inkscape:connector-curvature=\"0\" style=\"font-size:12px;fill-rule:evenodd;stroke-width:0.625;stroke-linejoin:round\" transform=\"matrix(-1.1,0,0,-1.1,-1.1,0)\"/>\n    </marker>\n    <marker id=\"marker4623-8\" inkscape:stockid=\"Arrow2Lstart\" orient=\"auto\" refX=\"0\" refY=\"0\" style=\"overflow:visible\">\n      <path d=\"M 8.7185878,4.0337352 -2.2072895,0.01601326 8.7185884,-4.0017078 c -1.7454984,2.3720609 -1.7354408,5.6174519 -6e-7,8.035443 z\" id=\"path4625-1\" inkscape:connector-curvature=\"0\" style=\"font-size:12px;fill-rule:evenodd;stroke-width:0.625;stroke-linejoin:round\" transform=\"matrix(1.1,0,0,1.1,1.1,0)\"/>\n    </marker>\n    <marker id=\"marker4627-6\" inkscape:stockid=\"Arrow2Lend\" orient=\"auto\" refX=\"0\" refY=\"0\" style=\"overflow:visible\">\n      <path d=\"M 8.7185878,4.0337352 -2.2072895,0.01601326 8.7185884,-4.0017078 c -1.7454984,2.3720609 -1.7354408,5.6174519 -6e-7,8.035443 z\" id=\"path4629-4\" inkscape:connector-curvature=\"0\" style=\"font-size:12px;fill-rule:evenodd;stroke-width:0.625;stroke-linejoin:round\" transform=\"matrix(-1.1,0,0,-1.1,-1.1,0)\"/>\n    </marker>\n    <marker id=\"Arrow2Lstart-4\" inkscape:stockid=\"Arrow2Lstart\" orient=\"auto\" refX=\"0\" refY=\"0\" style=\"overflow:visible\">\n      <path d=\"M 8.7185878,4.0337352 -2.2072895,0.01601326 8.7185884,-4.0017078 c -1.7454984,2.3720609 -1.7354408,5.6174519 -6e-7,8.035443 z\" id=\"path3778-1\" inkscape:connector-curvature=\"0\" style=\"font-size:12px;fill-rule:evenodd;stroke-width:0.625;stroke-linejoin:round\" transform=\"matrix(1.1,0,0,1.1,1.1,0)\"/>\n    </marker>\n    <marker id=\"Arrow2Lend-0\" inkscape:stockid=\"Arrow2Lend\" orient=\"auto\" refX=\"0\" refY=\"0\" style=\"overflow:visible\">\n      <path d=\"M 8.7185878,4.0337352 -2.2072895,0.01601326 8.7185884,-4.0017078 c -1.7454984,2.3720609 -1.7354408,5.6174519 -6e-7,8.035443 z\" id=\"path3781-05\" inkscape:connector-curvature=\"0\" style=\"font-size:12px;fill-rule:evenodd;stroke-width:0.625;stroke-linejoin:round\" transform=\"matrix(-1.1,0,0,-1.1,-1.1,0)\"/>\n    </marker>\n    <marker id=\"marker4623-5\" inkscape:stockid=\"Arrow2Lstart\" orient=\"auto\" refX=\"0\" refY=\"0\" style=\"overflow:visible\">\n      <path d=\"M 8.7185878,4.0337352 -2.2072895,0.01601326 8.7185884,-4.0017078 c -1.7454984,2.3720609 -1.7354408,5.6174519 -6e-7,8.035443 z\" id=\"path4625-3\" inkscape:connector-curvature=\"0\" style=\"font-size:12px;fill-rule:evenodd;stroke-width:0.625;stroke-linejoin:round\" transform=\"matrix(1.1,0,0,1.1,1.1,0)\"/>\n    </marker>\n    <marker id=\"marker4627-62\" inkscape:stockid=\"Arrow2Lend\" orient=\"auto\" refX=\"0\" refY=\"0\" style=\"overflow:visible\">\n      <path d=\"M 8.7185878,4.0337352 -2.2072895,0.01601326 8.7185884,-4.0017078 c -1.7454984,2.3720609 -1.7354408,5.6174519 -6e-7,8.035443 z\" id=\"path4629-1\" inkscape:connector-curvature=\"0\" style=\"font-size:12px;fill-rule:evenodd;stroke-width:0.625;stroke-linejoin:round\" transform=\"matrix(-1.1,0,0,-1.1,-1.1,0)\"/>\n    </marker>\n  </defs>\n  <sodipodi:namedview bordercolor=\"#666666\" borderopacity=\"1.0\" fit-margin-bottom=\"15\" fit-margin-left=\"15\" fit-margin-right=\"15\" fit-margin-top=\"10\" id=\"base\" inkscape:current-layer=\"layer1\" inkscape:cx=\"462.07329\" inkscape:cy=\"131.11917\" inkscape:document-units=\"px\" inkscape:pageopacity=\"0.0\" inkscape:pageshadow=\"2\" inkscape:window-height=\"1018\" inkscape:window-maximized=\"1\" inkscape:window-width=\"1920\" inkscape:window-x=\"-8\" inkscape:window-y=\"-8\" inkscape:zoom=\"0.77850966\" pagecolor=\"#ffffff\" showgrid=\"false\"/>\n  <metadata id=\"metadata7\">\n    <rdf:RDF>\n      <cc:Work rdf:about=\"\">\n        <dc:format>image/svg+xml</dc:format>\n        <dc:type rdf:resource=\"http://purl.org/dc/dcmitype/StillImage\"/>\n        <dc:title/>\n      </cc:Work>\n    </rdf:RDF>\n  </metadata>\n  <g id=\"layer1\" inkscape:groupmode=\"layer\" inkscape:label=\"Layer 1\" transform=\"translate(-19.483871,-19.351036)\">\n    <path d=\"m 49.861752,188.5373 321.383828,0\" id=\"path2985\" inkscape:connector-curvature=\"0\" style=\"fill:none;stroke:#000000;stroke-width:2;stroke-linecap:butt;stroke-linejoin:miter;stroke-miterlimit:4;stroke-opacity:1;stroke-dasharray:none;marker-start:none;marker-mid:none;marker-end:url(#Arrow2Lend)\"/>\n    <path d=\"m 214.51612,291.18687 0,-192.225603\" id=\"path2985-9\" inkscape:connector-curvature=\"0\" style=\"fill:none;stroke:#000000;stroke-width:2;stroke-linecap:butt;stroke-linejoin:miter;stroke-miterlimit:4;stroke-opacity:1;stroke-dasharray:none;marker-start:none;marker-mid:none;marker-end:url(#Arrow2Lend)\"/>\n    <text id=\"text4599\" sodipodi:linespacing=\"125%\" style=\"font-size:40px;font-style:normal;font-variant:normal;font-weight:normal;font-stretch:normal;line-height:125%;letter-spacing:0px;word-spacing:0px;fill:#000000;fill-opacity:1;stroke:none;font-family:Arial;-inkscape-font-specification:Arial\" x=\"353.22577\" xml:space=\"preserve\" y=\"228.16864\"><tspan id=\"tspan4601\" sodipodi:role=\"line\" style=\"font-style:oblique;-inkscape-font-specification:Arial Oblique\" x=\"353.22577\" y=\"228.16864\">V</tspan></text>\n    <text id=\"text4603\" sodipodi:linespacing=\"125%\" style=\"font-size:40px;font-style:normal;font-variant:normal;font-weight:normal;font-stretch:normal;line-height:125%;letter-spacing:0px;word-spacing:0px;fill:#000000;fill-opacity:1;stroke:none;font-family:Arial;-inkscape-font-specification:Arial\" x=\"185.48387\" xml:space=\"preserve\" y=\"112.0396\"><tspan id=\"tspan4605\" sodipodi:role=\"line\" style=\"font-style:oblique;-inkscape-font-specification:Arial Oblique\" x=\"185.48387\" y=\"112.0396\">I</tspan></text>\n    <rect height=\"240.32259\" id=\"rect4607\" style=\"color:#000000;fill:none;stroke:#000000;stroke-width:2;stroke-miterlimit:4;stroke-opacity:1;stroke-dasharray:none;marker:none;visibility:visible;display:inline;overflow:visible;enable-background:accumulate\" width=\"353.92685\" x=\"35.483871\" y=\"74.942825\"/>\n    <path d=\"m 432.57575,190.95665 321.38383,0\" id=\"path2985-2\" inkscape:connector-curvature=\"0\" style=\"fill:none;stroke:#000000;stroke-width:2;stroke-linecap:butt;stroke-linejoin:miter;stroke-miterlimit:4;stroke-opacity:1;stroke-dasharray:none;marker-start:none;marker-mid:none;marker-end:url(#Arrow2Lend)\"/>\n    <path d=\"m 597.23012,293.60622 0,-192.2256\" id=\"path2985-9-8\" inkscape:connector-curvature=\"0\" style=\"fill:none;stroke:#000000;stroke-width:2;stroke-linecap:butt;stroke-linejoin:miter;stroke-miterlimit:4;stroke-opacity:1;stroke-dasharray:none;marker-start:none;marker-mid:none;marker-end:url(#Arrow2Lend)\"/>\n    <text id=\"text4599-7\" sodipodi:linespacing=\"125%\" style=\"font-size:40px;font-style:normal;font-variant:normal;font-weight:normal;font-stretch:normal;line-height:125%;letter-spacing:0px;word-spacing:0px;fill:#000000;fill-opacity:1;stroke:none;font-family:Arial;-inkscape-font-specification:Arial\" x=\"735.93976\" xml:space=\"preserve\" y=\"230.588\"><tspan id=\"tspan4601-5\" sodipodi:role=\"line\" style=\"font-style:oblique;-inkscape-font-specification:Arial Oblique\" x=\"735.93976\" y=\"230.588\">V</tspan></text>\n    <text id=\"text4603-0\" sodipodi:linespacing=\"125%\" style=\"font-size:40px;font-style:normal;font-variant:normal;font-weight:normal;font-stretch:normal;line-height:125%;letter-spacing:0px;word-spacing:0px;fill:#000000;fill-opacity:1;stroke:none;font-family:Arial;-inkscape-font-specification:Arial\" x=\"568.19788\" xml:space=\"preserve\" y=\"114.45895\"><tspan id=\"tspan4605-7\" sodipodi:role=\"line\" style=\"font-style:oblique;-inkscape-font-specification:Arial Oblique\" x=\"568.19788\" y=\"114.45895\">I</tspan></text>\n    <rect height=\"240.32259\" id=\"rect4607-8\" style=\"color:#000000;fill:none;stroke:#000000;stroke-width:2;stroke-miterlimit:4;stroke-opacity:1;stroke-dasharray:none;marker:none;visibility:visible;display:inline;overflow:visible;enable-background:accumulate\" width=\"353.92685\" x=\"418.19788\" y=\"77.362183\"/>\n    <path d=\"m 816.44672,190.95665 321.38378,0\" id=\"path2985-6\" inkscape:connector-curvature=\"0\" style=\"fill:none;stroke:#000000;stroke-width:2;stroke-linecap:butt;stroke-linejoin:miter;stroke-miterlimit:4;stroke-opacity:1;stroke-dasharray:none;marker-start:none;marker-mid:none;marker-end:url(#Arrow2Lend)\"/>\n    <path d=\"m 981.10108,293.60622 0,-192.2256\" id=\"path2985-9-9\" inkscape:connector-curvature=\"0\" style=\"fill:none;stroke:#000000;stroke-width:2;stroke-linecap:butt;stroke-linejoin:miter;stroke-miterlimit:4;stroke-opacity:1;stroke-dasharray:none;marker-start:none;marker-mid:none;marker-end:url(#Arrow2Lend)\"/>\n    <text id=\"text4599-6\" sodipodi:linespacing=\"125%\" style=\"font-size:40px;font-style:normal;font-variant:normal;font-weight:normal;font-stretch:normal;line-height:125%;letter-spacing:0px;word-spacing:0px;fill:#000000;fill-opacity:1;stroke:none;font-family:Arial;-inkscape-font-specification:Arial\" x=\"1119.8108\" xml:space=\"preserve\" y=\"230.588\"><tspan id=\"tspan4601-7\" sodipodi:role=\"line\" style=\"font-style:oblique;-inkscape-font-specification:Arial Oblique\" x=\"1119.8108\" y=\"230.588\">V</tspan></text>\n    <text id=\"text4603-9\" sodipodi:linespacing=\"125%\" style=\"font-size:40px;font-style:normal;font-variant:normal;font-weight:normal;font-stretch:normal;line-height:125%;letter-spacing:0px;word-spacing:0px;fill:#000000;fill-opacity:1;stroke:none;font-family:Arial;-inkscape-font-specification:Arial\" x=\"952.06885\" xml:space=\"preserve\" y=\"114.45895\"><tspan id=\"tspan4605-1\" sodipodi:role=\"line\" style=\"font-style:oblique;-inkscape-font-specification:Arial Oblique\" x=\"952.06885\" y=\"114.45895\">I</tspan></text>\n    <rect height=\"240.32259\" id=\"rect4607-6\" style=\"color:#000000;fill:none;stroke:#000000;stroke-width:2;stroke-miterlimit:4;stroke-opacity:1;stroke-dasharray:none;marker:none;visibility:visible;display:inline;overflow:visible;enable-background:accumulate\" width=\"353.92685\" x=\"802.06885\" y=\"77.362175\"/>\n    <path d=\"m 1200.3177,190.95665 321.3838,0\" id=\"path2985-1\" inkscape:connector-curvature=\"0\" style=\"fill:none;stroke:#000000;stroke-width:2;stroke-linecap:butt;stroke-linejoin:miter;stroke-miterlimit:4;stroke-opacity:1;stroke-dasharray:none;marker-start:none;marker-mid:none;marker-end:url(#Arrow2Lend)\"/>\n    <path d=\"m 1364.9721,293.60622 0,-192.2256\" id=\"path2985-9-7\" inkscape:connector-curvature=\"0\" style=\"fill:none;stroke:#000000;stroke-width:2;stroke-linecap:butt;stroke-linejoin:miter;stroke-miterlimit:4;stroke-opacity:1;stroke-dasharray:none;marker-start:none;marker-mid:none;marker-end:url(#Arrow2Lend)\"/>\n    <text id=\"text4599-1\" sodipodi:linespacing=\"125%\" style=\"font-size:40px;font-style:normal;font-variant:normal;font-weight:normal;font-stretch:normal;line-height:125%;letter-spacing:0px;word-spacing:0px;fill:#000000;fill-opacity:1;stroke:none;font-family:Arial;-inkscape-font-specification:Arial\" x=\"1503.6816\" xml:space=\"preserve\" y=\"230.588\"><tspan id=\"tspan4601-4\" sodipodi:role=\"line\" style=\"font-style:oblique;-inkscape-font-specification:Arial Oblique\" x=\"1503.6816\" y=\"230.588\">V</tspan></text>\n    <text id=\"text4603-4\" sodipodi:linespacing=\"125%\" style=\"font-size:40px;font-style:normal;font-variant:normal;font-weight:normal;font-stretch:normal;line-height:125%;letter-spacing:0px;word-spacing:0px;fill:#000000;fill-opacity:1;stroke:none;font-family:Arial;-inkscape-font-specification:Arial\" x=\"1335.9398\" xml:space=\"preserve\" y=\"114.45895\"><tspan id=\"tspan4605-0\" sodipodi:role=\"line\" style=\"font-style:oblique;-inkscape-font-specification:Arial Oblique\" x=\"1335.9398\" y=\"114.45895\">I</tspan></text>\n    <rect height=\"240.32259\" id=\"rect4607-4\" style=\"color:#000000;fill:none;stroke:#000000;stroke-width:2;stroke-miterlimit:4;stroke-opacity:1;stroke-dasharray:none;marker:none;visibility:visible;display:inline;overflow:visible;enable-background:accumulate\" width=\"353.92685\" x=\"1185.9398\" y=\"77.362183\"/>\n    <text id=\"text4743\" sodipodi:linespacing=\"125%\" style=\"font-size:40px;font-style:normal;font-variant:normal;font-weight:normal;font-stretch:normal;line-height:125%;letter-spacing:0px;word-spacing:0px;fill:#000000;fill-opacity:1;stroke:none;font-family:Arial;-inkscape-font-specification:Arial\" x=\"61.419353\" xml:space=\"preserve\" y=\"57.983849\"><tspan id=\"tspan4745\" sodipodi:role=\"line\" x=\"61.419353\" y=\"57.983849\">Large resistance</tspan></text>\n    <text id=\"text4743-7\" sodipodi:linespacing=\"125%\" style=\"font-size:40px;font-style:normal;font-variant:normal;font-weight:normal;font-stretch:normal;line-height:125%;letter-spacing:0px;word-spacing:0px;fill:#000000;fill-opacity:1;stroke:none;font-family:Arial;-inkscape-font-specification:Arial\" x=\"435.40625\" xml:space=\"preserve\" y=\"62.192833\"><tspan id=\"tspan4745-8\" sodipodi:role=\"line\" x=\"435.40625\" y=\"62.192833\">Small resistance</tspan></text>\n    <text id=\"text4743-7-7\" sodipodi:linespacing=\"125%\" style=\"font-size:40px;font-style:normal;font-variant:normal;font-weight:normal;font-stretch:normal;line-height:125%;letter-spacing:0px;word-spacing:0px;fill:#000000;fill-opacity:1;stroke:none;font-family:Arial;-inkscape-font-specification:Arial\" x=\"925.6861\" xml:space=\"preserve\" y=\"61.958458\"><tspan id=\"tspan4745-8-2\" sodipodi:role=\"line\" x=\"925.6861\" y=\"61.958458\">Diode</tspan></text>\n    <text id=\"text4743-7-7-4\" sodipodi:linespacing=\"125%\" style=\"font-size:40px;font-style:normal;font-variant:normal;font-weight:normal;font-stretch:normal;line-height:125%;letter-spacing:0px;word-spacing:0px;fill:#000000;fill-opacity:1;stroke:none;font-family:Arial;-inkscape-font-specification:Arial\" x=\"1299.1857\" xml:space=\"preserve\" y=\"57.983849\"><tspan id=\"tspan4745-8-2-4\" sodipodi:role=\"line\" x=\"1299.1857\" y=\"57.983849\">Battery</tspan></text>\n    <path d=\"M 46.774194,219.87336 340.32258,163.42175\" id=\"path4810\" inkscape:connector-curvature=\"0\" style=\"fill:none;stroke:#b1007f;stroke-width:6;stroke-linecap:butt;stroke-linejoin:miter;stroke-miterlimit:4;stroke-opacity:1;stroke-dasharray:none\" transform=\"translate(19.483871,-3.9305305)\"/>\n    <path d=\"M 541.48372,287.52362 649.16146,102.42653\" id=\"path4810-9\" inkscape:connector-curvature=\"0\" style=\"fill:none;stroke:#b1007f;stroke-width:6;stroke-linecap:butt;stroke-linejoin:miter;stroke-miterlimit:4;stroke-opacity:1;stroke-dasharray:none\"/>\n    <path d=\"m 831.88256,200.08205 c 0,0 93.2724,-2.59418 138.5607,-5.57428 13.0433,-0.85829 25.9218,-9.03024 34.24204,-19.11182 15.1205,-18.32154 22.2971,-67.6877 22.2971,-67.6877\" id=\"path4834\" inkscape:connector-curvature=\"0\" sodipodi:nodetypes=\"cssc\" style=\"fill:none;stroke:#b1007f;stroke-width:6;stroke-linecap:butt;stroke-linejoin:miter;stroke-miterlimit:4;stroke-opacity:1;stroke-dasharray:none\"/>\n    <path d=\"M 1434.9679,284.9377 1452.029,99.840599\" id=\"path4810-9-4\" inkscape:connector-curvature=\"0\" style=\"fill:none;stroke:#b1007f;stroke-width:6;stroke-linecap:butt;stroke-linejoin:miter;stroke-miterlimit:4;stroke-opacity:1;stroke-dasharray:none\"/>\n  </g>\n</svg>"
          },
          "metadata": {
            "tags": []
          }
        }
      ]
    },
    {
      "cell_type": "code",
      "metadata": {
        "id": "V9Sf-v91CSMw",
        "colab_type": "code",
        "cellView": "form",
        "colab": {
          "base_uri": "https://localhost:8080/",
          "height": 336
        },
        "outputId": "1b8b6d5e-0b1c-4ecc-89d7-e9e42807901e"
      },
      "source": [
        "#@title Current–voltage characteristic of JJ 1/2\n",
        "%%html\n",
        "<iframe width=\"560\" height=\"315\" src=\"https://www.youtube-nocookie.com/embed/-0M6g2kjdCw\" frameborder=\"0\" allow=\"accelerometer; autoplay; encrypted-media; gyroscope; picture-in-picture\" allowfullscreen></iframe>"
      ],
      "execution_count": null,
      "outputs": [
        {
          "output_type": "display_data",
          "data": {
            "text/html": [
              "<iframe width=\"560\" height=\"315\" src=\"https://www.youtube-nocookie.com/embed/-0M6g2kjdCw\" frameborder=\"0\" allow=\"accelerometer; autoplay; encrypted-media; gyroscope; picture-in-picture\" allowfullscreen></iframe>"
            ],
            "text/plain": [
              "<IPython.core.display.HTML object>"
            ]
          },
          "metadata": {
            "tags": []
          }
        }
      ]
    },
    {
      "cell_type": "code",
      "metadata": {
        "id": "KMMsnzORMqP2",
        "colab_type": "code",
        "cellView": "form",
        "colab": {
          "base_uri": "https://localhost:8080/",
          "height": 336
        },
        "outputId": "d5906d51-5cd8-407e-ad32-1d13f705eb40"
      },
      "source": [
        "#@title Current–voltage characteristic of JJ 2/2\n",
        "%%html\n",
        "<iframe width=\"560\" height=\"315\" src=\"https://www.youtube-nocookie.com/embed/cAYLvSymPzE\" frameborder=\"0\" allow=\"accelerometer; autoplay; encrypted-media; gyroscope; picture-in-picture\" allowfullscreen></iframe>"
      ],
      "execution_count": null,
      "outputs": [
        {
          "output_type": "display_data",
          "data": {
            "text/html": [
              "<iframe width=\"560\" height=\"315\" src=\"https://www.youtube-nocookie.com/embed/cAYLvSymPzE\" frameborder=\"0\" allow=\"accelerometer; autoplay; encrypted-media; gyroscope; picture-in-picture\" allowfullscreen></iframe>"
            ],
            "text/plain": [
              "<IPython.core.display.HTML object>"
            ]
          },
          "metadata": {
            "tags": []
          }
        }
      ]
    },
    {
      "cell_type": "markdown",
      "metadata": {
        "colab_type": "text",
        "id": "Ocv30BLHm2Hc"
      },
      "source": [
        "<img src=\"http://drive.google.com/uc?export=view&id=18k9CYXiIl2OTqgOv7tmOXkridxY0Wi8f\" width=\"500\"/>"
      ]
    },
    {
      "cell_type": "markdown",
      "metadata": {
        "id": "Eg4Xlcz6ZlBW",
        "colab_type": "text"
      },
      "source": [
        "### Supercurrent Equation\n",
        "\\begin{align*}\n",
        "\\Lambda\\vec{J}_{\\rm s} \\left( \\vec{r}, t \\right)\n",
        "&= -\\left(\n",
        "  \\vec{A}(\\vec{r},t) - \\dfrac{\\hbar}{q^*} \\nabla \\theta(\\vec{r},t) \n",
        "\\right)&\\\\\n",
        "&=-\\left(\n",
        "  \\vec{A}(\\vec{r},t) - \\dfrac{\\hbar}{-2e} \\nabla \\theta(\\vec{r},t) \n",
        "\\right),&\n",
        "\\end{align*}"
      ]
    },
    {
      "cell_type": "markdown",
      "metadata": {
        "id": "8iP3X72GbfkS",
        "colab_type": "text"
      },
      "source": [
        "\\begin{align*}\n",
        "\\vec{J}_{\\rm s} \\left( \\vec{r}, t \\right)\n",
        "&= -\\dfrac{1}{\\Lambda}\\left(\n",
        "  \\vec{A}(\\vec{r},t) + \\dfrac{\\Phi_0}{2\\pi} \\nabla \\theta(\\vec{r},t).\n",
        "\\right)&\n",
        "\\end{align*}"
      ]
    },
    {
      "cell_type": "markdown",
      "metadata": {
        "id": "Gi3wTA67alS7",
        "colab_type": "text"
      },
      "source": [
        "#### Phase relation\n",
        "\\begin{align*}\n",
        "- \\hbar \\dfrac{\\partial \\theta }{\\partial t} = \\frac{1}{2n^*}\\Lambda {\\vec{J}_{\\rm s}}^2 \n",
        "+ q^* \\phi.\n",
        "\\end{align*}"
      ]
    },
    {
      "cell_type": "markdown",
      "metadata": {
        "colab_type": "text",
        "id": "HiFG5ZsFbBD1"
      },
      "source": [
        "\\begin{align*}\n",
        "\\dfrac{\\partial \\theta }{\\partial t} \\left( \\vec{r}, t \\right)\n",
        "&=\n",
        "-\\dfrac{1}{h}\n",
        "\\left[ \\frac{\\Lambda {\\vec{J}_{\\rm s}}^2 }{2n^*}\n",
        "+ q^* \\phi\\left( \\vec{r}, t \\right)\n",
        "\\right].\n",
        "\\end{align*}"
      ]
    },
    {
      "cell_type": "markdown",
      "metadata": {
        "id": "1lJ4YQEdbt0b",
        "colab_type": "text"
      },
      "source": [
        "#### penetration length $\\lambda$\n",
        "\\begin{align*}\n",
        "\\Lambda = \\mu_0 \\lambda^2 &= \\dfrac{m^*}{n^*\\  (q^*)^2}.&\n",
        "\\end{align*}"
      ]
    },
    {
      "cell_type": "markdown",
      "metadata": {
        "id": "CxbnXxl2jJoS",
        "colab_type": "text"
      },
      "source": [
        "## Josephson Tunneling"
      ]
    },
    {
      "cell_type": "markdown",
      "metadata": {
        "id": "Qxaw3kgdmbNj",
        "colab_type": "text"
      },
      "source": [
        "<img src=\"http://drive.google.com/uc?export=view&id=1q4q35fS6pXMd_RmOThKuxituxof1_uRb\" width=\"650\"/>"
      ]
    },
    {
      "cell_type": "markdown",
      "metadata": {
        "id": "HHNCi1u0nOQd",
        "colab_type": "text"
      },
      "source": [
        "$\\require{cancel}$\n",
        "### Boundary condition"
      ]
    },
    {
      "cell_type": "markdown",
      "metadata": {
        "colab_type": "text",
        "id": "aiSszp6cnXPz"
      },
      "source": [
        "1$^{\\rm st}$ condition\n",
        "\\begin{align*}\n",
        "\\vec{J}_{\\rm s} \\left( \\pm a, t \\right)\n",
        "&= -\\dfrac{1}{\\Lambda}\\left(\n",
        "  \\bcancel{\\vec{A}(\\vec{r},t)} + \\dfrac{\\Phi_0}{2\\pi} \\nabla \\theta(\\pm a,t)\n",
        "\\right)&\\\\\n",
        "&= -\\dfrac{1}{\\Lambda} \\dfrac{\\Phi_0}{2\\pi} \\nabla \\theta(\\pm a,t) \n",
        "\\equiv \\vec{J_0}\n",
        "\\end{align*}"
      ]
    },
    {
      "cell_type": "markdown",
      "metadata": {
        "colab_type": "text",
        "id": "CIMTK-TRpb_y"
      },
      "source": [
        "2$^{\\rm nd}$ condition\n",
        "\\begin{align*}\n",
        "\\dfrac{\\partial \\theta }{\\partial t} \\left( \\pm a, t \\right)\n",
        "&=\n",
        "-\\dfrac{1}{h}\n",
        "\\left[ \\frac{\\Lambda {\\vec{J}_{\\rm s}}^2 }{2n^*}\n",
        "+ \\bcancel{q^* \\phi\\left( \\pm a, t \\right)}\n",
        "\\right]&\\\\\n",
        "&=\n",
        "-\\dfrac{1}{h}\n",
        "\\left( \\frac{\\Lambda {\\vec{J}_{\\rm s}}^2 }{2n^*}\\right)\n",
        "=\n",
        "-\\dfrac{1}{h}\n",
        "\\left(  \\frac{ \\left(\\frac{m^*}{n^*\\  (q^*)^2}\\right)\\left(q^* n^* \\vec{v}_{s}\\right)^2 }{2n^*}\\right)\n",
        "\\equiv \\dfrac{\\mathcal{E_0}}{\\hbar}\n",
        "\\end{align*}\n",
        ", where $\\mathcal{E} = \\frac{m\\vec{v}_s^2}{2}$."
      ]
    },
    {
      "cell_type": "markdown",
      "metadata": {
        "colab_type": "text",
        "id": "_vJuyD5DmuJs"
      },
      "source": [
        "<img src=\"http://drive.google.com/uc?export=view&id=1zxrwJUrfipM6EpEhEcSeU1M4nlp4CgtQ\" width=\"600\"/>"
      ]
    },
    {
      "cell_type": "markdown",
      "metadata": {
        "id": "Q4Xf_yd6f-m2",
        "colab_type": "text"
      },
      "source": [
        "### The macroscopic wave function\n",
        "\\begin{align*}\n",
        "\\Psi \\left(\\vec{r}, t\\right) \n",
        "= \\Psi \\left(\\vec{r}\\right) e^{-i\\frac{\\mathcal{E_0}t}{\\hbar}} \n",
        "\\end{align*}\n"
      ]
    },
    {
      "cell_type": "markdown",
      "metadata": {
        "id": "UR8eO722fufb",
        "colab_type": "text"
      },
      "source": [
        "### Schrodinger equation with conditions for $\\vec{r}$\n",
        "\n",
        "\\begin{align*}\n",
        "- \\dfrac{\\hbar^2}{2m^*} \\nabla^2 \\Psi(\\vec{r})\n",
        "+\n",
        "V_0 \\Psi(\\vec{r})\n",
        "=\n",
        "\\mathcal{E}_0 \\Psi(\\vec{r}), \n",
        "\\qquad\n",
        "{\\rm for }\\quad \\left| x \\right| \\leqq a.\n",
        "\\end{align*}\n",
        "\n"
      ]
    },
    {
      "cell_type": "markdown",
      "metadata": {
        "id": "BpciXL27iB1H",
        "colab_type": "text"
      },
      "source": [
        "Assuming only direction $x$,\n",
        "\\begin{align*}\n",
        "- \\dfrac{\\hbar^2}{2m^*} \\left(\\dfrac{\\partial }{\\partial x}\\right)^2\n",
        " \\Psi(x)\n",
        "&=\n",
        "\\left( \\mathcal{E}_0 - V_0 \\right) \\Psi(x), \n",
        "\\end{align*}\n",
        "in the region, $\\left| x \\right| \\leqq a$:\n",
        "\\begin{align*}\n",
        "\\dfrac{\\hbar^2}{2m^*} \\left(\\dfrac{\\partial }{\\partial x}\\right)^2 \\Psi(x)\n",
        "&=\n",
        "\\left( V_0 - \\mathcal{E}_0 \\right) \\Psi(x)&\\\\\n",
        "\\dfrac{\\partial^2 \\Psi(x)}{\\partial x^2} \n",
        "&=\n",
        "\\zeta^2 \\Psi(x)&\n",
        "\\end{align*}\n",
        ",where $\\zeta$, *the decay length*, is defined as\n",
        "\\begin{align*}\n",
        "\\zeta\n",
        "\\equiv\n",
        "\\sqrt{\\dfrac{\\hbar^2}{2m^*\\left( V_0 - \\mathcal{E} \\right)}}\n",
        "\\end{align*}"
      ]
    },
    {
      "cell_type": "markdown",
      "metadata": {
        "id": "Jo2Be4Hgk30i",
        "colab_type": "text"
      },
      "source": [
        "### The supercurrent density, $\\vec{J}_{\\rm s}$\n",
        "\n",
        "Recall the supercurrent density without a external $\\vec{B}$:\n",
        "\\begin{align*}\n",
        "\\vec{J}_{\\rm s} \n",
        "= \\dfrac{q^*}{m^*} {\\rm Re} \\left\\{ \\Psi^* \\dfrac{\\hbar}{i}  \\Psi \\right\\}.\n",
        "\\end{align*}"
      ]
    },
    {
      "cell_type": "markdown",
      "metadata": {
        "id": "AVVZTBMwlrwq",
        "colab_type": "text"
      },
      "source": [
        "Substituting the solved wave function in to $\\vec{J}_{\\rm s}$:\n",
        "\\begin{align*}\n",
        "\\vec{J}_{\\rm s} = \\dfrac{q^*\\hbar}{m^*\\zeta} {\\rm Im}\\{C_1^*C_2\\}\n",
        "\\end{align*}"
      ]
    },
    {
      "cell_type": "markdown",
      "metadata": {
        "id": "cSv0_97enP52",
        "colab_type": "text"
      },
      "source": [
        "### $\\vec{J}_{\\rm s}$ with the boundary condition"
      ]
    },
    {
      "cell_type": "markdown",
      "metadata": {
        "colab_type": "text",
        "id": "RS_yEH0toV7_"
      },
      "source": [
        "<img src=\"http://drive.google.com/uc?export=view&id=1zxrwJUrfipM6EpEhEcSeU1M4nlp4CgtQ\" width=\"600\"/>"
      ]
    },
    {
      "cell_type": "markdown",
      "metadata": {
        "id": "b-Wtu7ZPoYTn",
        "colab_type": "text"
      },
      "source": [
        "We take \n",
        "\\begin{align*}\n",
        "\\Psi \\left( \\pm a \\right) \n",
        "&=\n",
        "\\begin{cases}\n",
        "\\sqrt{n_1^*} e^{i \\theta_1}&\\\\\n",
        "\\sqrt{n_2^*} e^{i \\theta_2}&\\\\\n",
        "\\end{cases}.\n",
        "\\end{align*}\n",
        "Then $C_1, C_2$ can be solved as\n",
        "\\begin{align*}\n",
        "C_1 \n",
        "&=\n",
        "\\dfrac{\\sqrt{n_1^*} e^{i \\theta_1}+\\sqrt{n_2^*} e^{i \\theta_2}}\n",
        "{2 \\cosh ( a/\\zeta )}&\\\\\n",
        "C_2 \n",
        "&=\n",
        "\\dfrac{\\sqrt{n_1^*} e^{i \\theta_1}-\\sqrt{n_2^*} e^{i \\theta_2}}\n",
        "{2 \\sinh ( a/\\zeta )}&\\\\\n",
        "\\end{align*}"
      ]
    },
    {
      "cell_type": "markdown",
      "metadata": {
        "id": "AmNUEWNPq74X",
        "colab_type": "text"
      },
      "source": [
        "The supercurrent density can be expressed as\n",
        "\\begin{align*}\n",
        "\\vec{J}_{\\rm s} &= \\vec{J}_{\\rm c}  \\sin\\left(\\theta_1 -\\theta_2 \\right),&\n",
        "\\end{align*}\n",
        "where $\\vec{J}_c$ is known as teh critical current density of the junction,  \n",
        "and its magnitude is given by\n",
        "\\begin{align*}\n",
        "\\vec{J}_c \n",
        "=\n",
        "- \\dfrac{q^* \\hbar}{m^* \\zeta}\n",
        "\\dfrac{\\sqrt{n_1^* n_2^*}}\n",
        "{2 \\sinh(a/\\zeta)\\cosh(a/\\zeta)}\n",
        "=\n",
        "-\\dfrac{(-2e)\\hbar\\sqrt{n_1/2 \\cdot n_2/2}}{2m\\zeta \\sinh(2a/\\zeta)}\n",
        "=\n",
        "\\dfrac{e\\hbar\\sqrt{n_1 n_2}}{2m\\zeta \\sinh(2a/\\zeta)}\n",
        "\\end{align*}"
      ]
    },
    {
      "cell_type": "markdown",
      "metadata": {
        "id": "Gp_RtrwmwU4C",
        "colab_type": "text"
      },
      "source": [
        "This equation shows that\n",
        "> the supercurrent through the junction varies sinusoidally with the phase difference $\\theta_1 - \\theta_2$ accross the junction in the absence of any scalar and vector potential."
      ]
    }
  ]
}