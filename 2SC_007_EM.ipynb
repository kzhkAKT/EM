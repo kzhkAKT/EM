{
  "nbformat": 4,
  "nbformat_minor": 0,
  "metadata": {
    "colab": {
      "name": "2SC_007_EM",
      "provenance": [],
      "collapsed_sections": [],
      "authorship_tag": "ABX9TyPxaYgE9vMwrHYBnmsSqiKO",
      "include_colab_link": true
    },
    "kernelspec": {
      "name": "python3",
      "display_name": "Python 3"
    }
  },
  "cells": [
    {
      "cell_type": "markdown",
      "metadata": {
        "id": "view-in-github",
        "colab_type": "text"
      },
      "source": [
        "<a href=\"https://colab.research.google.com/github/kzhkAKT/ErgyMtrlScience/blob/draft/2SC_007_EM.ipynb\" target=\"_parent\"><img src=\"https://colab.research.google.com/assets/colab-badge.svg\" alt=\"Open In Colab\"/></a>"
      ]
    },
    {
      "cell_type": "markdown",
      "metadata": {
        "id": "9Mi_elCzlm3u",
        "colab_type": "text"
      },
      "source": [
        "# Flux quanta\n"
      ]
    },
    {
      "cell_type": "markdown",
      "metadata": {
        "id": "A8SU-W8qRiWG",
        "colab_type": "text"
      },
      "source": [
        "Recall $\\Lambda \\vec{J}_s$ with $\\vec{A}, \\theta$\n",
        "\\begin{align*}\n",
        "\\Lambda\\vec{J}_{\\rm S} \n",
        "&= -\\left(\n",
        "  \\vec{A}(\\vec{r},t) - \\dfrac{\\hbar}{q^*} \\nabla \\theta(\\vec{r},t) \n",
        "\\right).\n",
        "\\end{align*}\n",
        "\n",
        "We are going to sum up the equation in a closed path, $C$, as if in a superconductor ring."
      ]
    },
    {
      "cell_type": "markdown",
      "metadata": {
        "id": "J2RDIxcaOsbg",
        "colab_type": "text"
      },
      "source": [
        "![https://en.wikipedia.org/wiki/Persistent_current](https://upload.wikimedia.org/wikipedia/commons/c/c3/Persistent_Current_Ring.png)"
      ]
    },
    {
      "cell_type": "markdown",
      "metadata": {
        "id": "Ym1f84E8O6yq",
        "colab_type": "text"
      },
      "source": [
        "With the help of Stokes's theorem:\n",
        "\\begin{align*}\n",
        "\\oint_{C} \\vec{A} \\cdot {\\rm d} \\vec{\\ell}\n",
        "=\n",
        "\\int_{S} \\left(\\nabla \\times \\vec{A} \\right) \\cdot {\\rm d} \\vec{s}\n",
        "=\n",
        "\\int_{S} \\vec{B} \\cdot {\\rm d} \\vec{s}.\n",
        "\\end{align*}"
      ]
    },
    {
      "cell_type": "markdown",
      "metadata": {
        "id": "YfK8OyRXPvUT",
        "colab_type": "text"
      },
      "source": [
        "We obtain\n",
        "\\begin{align*}\n",
        "\\oint_C \\left(\\Lambda\\vec{J}_{\\rm S} \\right) \\cdot {\\rm d} \\ell\n",
        "+\n",
        "\\int_S \\vec{B}\\cdot {\\rm d} \\vec{s}\n",
        "&=\n",
        "\\dfrac{\\hbar}{q^*} \\oint_C \\nabla \\theta \\cdot {\\rm d} \\vec{\\ell}.\n",
        "\\end{align*}"
      ]
    },
    {
      "cell_type": "markdown",
      "metadata": {
        "id": "hV1uSt6CfgVx",
        "colab_type": "text"
      },
      "source": [
        "The line integral in the LHS can be expressed that\n",
        "\\begin{align*}\n",
        "\\int_{\\vec{r}_{\\rm a}}^{\\vec{r}_{\\rm b}}  \\nabla \\theta \\cdot {\\rm d} \\vec{\\ell}\n",
        "=\n",
        "\\int_{\\vec{r}_{\\rm a}}^{\\vec{r}_{\\rm b}} \n",
        "\\left(\n",
        "  \\dfrac{{\\rm d}\\theta}{{\\rm d}x},\n",
        "  \\dfrac{{\\rm d}\\theta}{{\\rm d}y},\n",
        "  \\dfrac{{\\rm d}\\theta}{{\\rm d}z}  \n",
        "\\right)\n",
        " \\cdot\n",
        " \\left( dx, dy, dz \\right)\n",
        "= \\int_{\\vec{r}_{\\rm a}}^{\\vec{r}_{\\rm b}} {\\rm d} \\theta\n",
        "=\n",
        "\\theta\\left(\\vec{r}_{\\rm b},t\\right)\n",
        "-\n",
        "\\theta\\left(\\vec{r}_{\\rm a},t\\right).\n",
        "\\end{align*}"
      ]
    },
    {
      "cell_type": "markdown",
      "metadata": {
        "id": "DszqNbJug3lq",
        "colab_type": "text"
      },
      "source": [
        "In a macroscpic wave function, $\\Psi$, there exist an *infinite number* of possible values of the phase, $\\theta$, since for integer values of $n$:\n",
        "\\begin{align*}\n",
        "  \\Psi(\\vec{r}, t) \n",
        "  = \\sqrt{n^*(\\vec{r}, t)}\\ e^{i\\theta}\n",
        "  = \\sqrt{n^*(\\vec{r}, t)}\\ e^{\\left(i\\theta_p + 2\\pi n\\right)}\n",
        "=\n",
        "\\begin{cases}\n",
        "  &\\sqrt{n^*(\\vec{r}, t)}\\ e^{\\left(i\\theta_p + 2\\pi n_{\\rm a}\\right)}&\\\\\n",
        "  &\\sqrt{n^*(\\vec{r}, t)}\\ e^{\\left(i\\theta_p + 2\\pi n_{\\rm b}\\right)}&\n",
        "\\end{cases},\n",
        "\\end{align*}\n",
        "where $\\theta_p$ is *principal value andd  $n_{\\rm a} \\neq n_{\\rm b}$."
      ]
    },
    {
      "cell_type": "markdown",
      "metadata": {
        "id": "vkNFh-9Hjexx",
        "colab_type": "text"
      },
      "source": [
        "Here we excute the circular integral for the phase part wht the conditon of $\\vec{r}_{\\rm b} \\to \\vec{r}_{\\rm a} $:\n",
        "\\begin{align*}\n",
        "\\oint_C \\nabla \\theta \\cdot {\\rm d} \\vec{\\ell}\n",
        "=\n",
        "\\lim_{{r}_{\\rm b} \\to \\vec{r}_{\\rm a}}\n",
        "\\ \\int_{\\vec{r}_{\\rm a}}^{\\vec{r}_{\\rm b}}\n",
        "\\nabla \\theta \\cdot {\\rm d} \\vec{\\ell}\n",
        "=\n",
        "\\lim_{{r}_{\\rm b} \\to \\vec{r}_{\\rm a}}\n",
        "\\left(\n",
        "\\theta\\left(\\vec{r}_{\\rm b},t\\right)\n",
        "-\n",
        "\\theta\\left(\\vec{r}_{\\rm a},t\\right) \n",
        "\\right)\n",
        "= 2\\pi n.\n",
        "\\end{align*}"
      ]
    },
    {
      "cell_type": "markdown",
      "metadata": {
        "colab_type": "text",
        "id": "6Oi6QJI-lCCc"
      },
      "source": [
        "The circular integral can be summrized that\n",
        "\\begin{align*}\n",
        "\\oint_C \\left(\\Lambda\\vec{J}_{\\rm S} \\right) \\cdot {\\rm d} \\ell\n",
        "+\n",
        "\\int_S \\vec{B}\\cdot {\\rm d} \\vec{s}\n",
        "&=\n",
        "\\dfrac{\\hbar}{q^*} \\cdot  2 \\pi n\n",
        "=\n",
        "\\dfrac{\\frac{h}{2\\pi}}{q^*} \\cdot  2 \\pi n = n \\dfrac{h}{q^*}&\\\\\n",
        "\\oint_C \\left(\\Lambda\\vec{J}_{\\rm S} \\right) \\cdot {\\rm d} \\ell\n",
        "+\n",
        "\\int_S \\vec{B}\\cdot {\\rm d} \\vec{s}\n",
        "&= \n",
        "n \\Psi_0,&\n",
        "\\end{align*}\n",
        "where $\\Psi_0$ is called *flux quanta*."
      ]
    },
    {
      "cell_type": "markdown",
      "metadata": {
        "id": "lxlVelL3l-52",
        "colab_type": "text"
      },
      "source": [
        "This relation shows that a superconducting closed path, $C$, can accept *digital* flux quanta, $n\\Phi_0$."
      ]
    },
    {
      "cell_type": "markdown",
      "metadata": {
        "id": "oa5MsLXvm0pT",
        "colab_type": "text"
      },
      "source": [
        "Recall Cooper pair, $q^*= - 2e$, and apply it to a flux quanta:\n",
        "\\begin{align*}\n",
        "\\Psi_0 =\\dfrac{\\hbar}{|q^*|}= \\dfrac{h}{2e} = 2.07 \\times 10^{-15}\\ {\\rm T.m^2},\n",
        "\\end{align*}\n",
        ",$1\\ {\\rm T.m^2}= 1 \\ {\\rm Wb/m^2.m^2}= 1\\ {\\rm Wb}$."
      ]
    },
    {
      "cell_type": "markdown",
      "metadata": {
        "id": "j7FSJsrcoJ1u",
        "colab_type": "text"
      },
      "source": [
        "This value of a flux quanta is already calculated in our assignment.  \n",
        "The value is also measure in 1964: www.doi.org/10.1103/PhysRevLett.7.43"
      ]
    }
  ]
}