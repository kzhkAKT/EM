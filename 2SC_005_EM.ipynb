{
  "nbformat": 4,
  "nbformat_minor": 0,
  "metadata": {
    "colab": {
      "name": "2SC_005_EM",
      "provenance": [],
      "collapsed_sections": [],
      "authorship_tag": "ABX9TyN8UQbSQnuYdZ4/kgOK0uPq",
      "include_colab_link": true
    },
    "kernelspec": {
      "name": "python3",
      "display_name": "Python 3"
    }
  },
  "cells": [
    {
      "cell_type": "markdown",
      "metadata": {
        "id": "view-in-github",
        "colab_type": "text"
      },
      "source": [
        "<a href=\"https://colab.research.google.com/github/kzhkAKT/ErgyMtrlScience/blob/draft/2SC_005_EM.ipynb\" target=\"_parent\"><img src=\"https://colab.research.google.com/assets/colab-badge.svg\" alt=\"Open In Colab\"/></a>"
      ]
    },
    {
      "cell_type": "markdown",
      "metadata": {
        "id": "b6eurjap5TnS",
        "colab_type": "text"
      },
      "source": [
        "<!-- sec 5.3 -->\n",
        "## Probability currents"
      ]
    },
    {
      "cell_type": "code",
      "metadata": {
        "id": "TktBMgNvv_xA",
        "colab_type": "code",
        "cellView": "form",
        "colab": {
          "base_uri": "https://localhost:8080/",
          "height": 336
        },
        "outputId": "2fba0e02-75d0-46b5-b214-ffa8fc66cb5b"
      },
      "source": [
        "#@title One electron double slit experiment by Akira Tonomura\n",
        "%%html\n",
        "<iframe width=\"560\" height=\"315\" src=\"https://www.youtube-nocookie.com/embed/jvO0P5-SMxk\" frameborder=\"0\" allow=\"accelerometer; autoplay; encrypted-media; gyroscope; picture-in-picture\" allowfullscreen></iframe>"
      ],
      "execution_count": null,
      "outputs": [
        {
          "output_type": "display_data",
          "data": {
            "text/html": [
              "<iframe width=\"560\" height=\"315\" src=\"https://www.youtube-nocookie.com/embed/jvO0P5-SMxk\" frameborder=\"0\" allow=\"accelerometer; autoplay; encrypted-media; gyroscope; picture-in-picture\" allowfullscreen></iframe>"
            ],
            "text/plain": [
              "<IPython.core.display.HTML object>"
            ]
          },
          "metadata": {
            "tags": []
          }
        }
      ]
    },
    {
      "cell_type": "markdown",
      "metadata": {
        "id": "uxOs4td35oXQ",
        "colab_type": "text"
      },
      "source": [
        "Sicne an electron can be detected one by one arbitrary, we need to express such a randomness.\n",
        "\n",
        "Max Born hypothesized in 1927 that\n",
        "\\begin{align*}\n",
        "\\mathcal{P}(\\vec{r},t) \n",
        "\\equiv\n",
        "\\left| \\psi(\\vec{r},t)  \\right|^2\n",
        "=\n",
        "\\psi^*(\\vec{r},t) \\ \\psi(\\vec{r},t),\n",
        "\\end{align*}\n",
        "where $\\mathcal{P}$ is the function describing the probability of the location of the particle in space at a certain time."
      ]
    },
    {
      "cell_type": "markdown",
      "metadata": {
        "id": "D-dx-ykz6_7B",
        "colab_type": "text"
      },
      "source": [
        "We can find a particle in a certain point, so $\\mathcal{P}$ must satisfy the normal condition:\n",
        "\\begin{align*}\n",
        "\\int {\\rm d} \\vec{r}\\  \\mathcal{P}(\\vec{r},t) \n",
        "=\n",
        "\\int {\\rm d} \\vec{r}\\ \\psi^*(\\vec{r},t) \\ \\psi(\\vec{r},t)\n",
        "=\n",
        "1\n",
        "\\end{align*}"
      ]
    },
    {
      "cell_type": "markdown",
      "metadata": {
        "id": "HvH7qWwt77w3",
        "colab_type": "text"
      },
      "source": [
        "### the time differential relation of $\\mathcal{P}$\n",
        "\n",
        "\\begin{align*}\n",
        "i \\ \\hbar \\dfrac{\\partial  \\psi }{\\partial t}\n",
        "&=\n",
        "-  \\dfrac{\\hbar}{2m} \\nabla^2 \\psi  + V(\\vec{r}) \\psi.&\n",
        "\\end{align*}\n",
        "\n",
        "Multiplign $\\psi^*$ from left\n",
        "\\begin{align*}\n",
        "i \\psi^*\\ \\hbar \\dfrac{\\partial  \\psi }{\\partial t}\n",
        "&=\n",
        "-  \\psi^* \\dfrac{\\hbar}{2m} \\nabla^2 \\psi  + V(\\vec{r}) \\psi^* \\psi.&\n",
        "\\end{align*}\n",
        "\n",
        "As same as on conplex conjuggate of Schrodinger's equation with $\\psi$:\n",
        "\\begin{align*}\n",
        "-i \\psi\\ \\hbar \\dfrac{\\partial  \\psi^* }{\\partial t}\n",
        "&=\n",
        "-  \\psi \\dfrac{\\hbar}{2m} \\nabla^2 \\psi^*  + V(\\vec{r}) \\psi \\psi^*.&\n",
        "\\end{align*}\n",
        "\n",
        "We can obtain\n",
        "\\begin{align*}\n",
        "i \\hbar \\dfrac{\\partial}{\\partial t}(\\psi \\psi^*) \n",
        "=\n",
        "-\\dfrac{\\hbar^2}{2m}\n",
        "\\left(\n",
        "  \\psi^*\\nabla^2\\psi - \\psi\\nabla^2\\psi*\n",
        "\\right).\n",
        "\\end{align*}\n",
        "By using vector analysis\n",
        "\\begin{align*}\n",
        "i \\hbar \\dfrac{\\partial}{\\partial t}(\\psi \\psi^*) \n",
        "=\n",
        "-\\dfrac{\\hbar^2}{2m}\n",
        "\\left[\n",
        "  \\nabla \\left(\n",
        "  \\psi^*\\nabla\\psi - \\psi\\nabla\\psi*\n",
        "\\right)\n",
        "\\right].\n",
        "\\end{align*}\n",
        "\n",
        "\n"
      ]
    },
    {
      "cell_type": "markdown",
      "metadata": {
        "id": "4qUwx39CWrP-",
        "colab_type": "text"
      },
      "source": [
        "The time derivative of $\\mathcal{P}$ can be written as\n",
        "\\begin{align*}\n",
        "\\dfrac{\\partial}{\\partial t} \\mathcal{P} \n",
        "&= \\dfrac{\\partial}{\\partial t}(\\psi \\psi^*) &\\\\\n",
        "&= - \\nabla \\dfrac{1}{m}\n",
        "\\left[\n",
        "  {\\rm Re}\\left(\n",
        "    \\psi^* \\dfrac{\\hbar}{i}\\nabla\n",
        "    \\psi\n",
        "  \\right)\n",
        "\\right]\n",
        "= - \\nabla\n",
        "\\left[\n",
        "  {\\rm Re}\\left(\n",
        "    \\psi^* \\left(\\dfrac{\\vec{p}}{m}\\right) \\nabla\n",
        "    \\psi\n",
        "  \\right)\n",
        "\\right]&\\\\\n",
        "\\dfrac{\\partial}{\\partial t} \\mathcal{P} &\\sim\n",
        "- \\nabla\n",
        "\\left[\n",
        "  {\\rm Re}\\left(\n",
        "    \\psi^* \\left({\\vec{v}}\\right) \\nabla\n",
        "    \\psi\n",
        "  \\right)\n",
        "\\right]\n",
        "\\end{align*}"
      ]
    },
    {
      "cell_type": "markdown",
      "metadata": {
        "id": "OPxi2EUKZYHH",
        "colab_type": "text"
      },
      "source": [
        "Here the prabability currents is defined as\n",
        "\\begin{align*}\n",
        "\\vec{J}_{\\mathcal{P}}&=\n",
        "  {\\rm Re}\\left(\n",
        "    \\psi^* \\dfrac{\\hbar}{im} \\nabla\n",
        "    \\psi\n",
        "  \\right)& \\vec{p} \\to \\dfrac{\\hbar}{i}\\nabla&\\\\\n",
        "  &=\n",
        "  {\\rm Re}\\left(\n",
        "    \\psi^* \\left(\\dfrac{\\vec{p}}{m}\\right) \\nabla\n",
        "    \\psi\n",
        "  \\right) \\sim \\vec{v}_{\\rm classical}&.\n",
        "\\end{align*}\n",
        "\n",
        "The time derivative of $\\mathcal{P}$ is expressed with the prabability currents as\n",
        "\\begin{align*}\n",
        "\\dfrac{\\partial}{\\partial t} \\mathcal{P} = - \\nabla \\cdot \\vec{J}_{\\mathcal{P}}.&\n",
        "\\end{align*}\n",
        "\n",
        "This looks like a \"conservation of proberbility\"."
      ]
    },
    {
      "cell_type": "markdown",
      "metadata": {
        "id": "steFhu7F3jVw",
        "colab_type": "text"
      },
      "source": [
        "In classical mechanics, if we treat $\\mathcal{P}$ as $\\rho$, we obtain\n",
        "and $\\vec{J}_{\\mathcal{P}}$ as $\\vec{v}_{\\rm classical}$,\n",
        "\\begin{align*}\n",
        "&\\dfrac{\\partial}{\\partial t} \\rho = - \\nabla \\cdot \\vec{J}_{\\mathcal{P}},&\\\\\n",
        "&\\dfrac{\\partial \\rho}{\\partial t}\n",
        "+\n",
        "\\nabla \\cdot \\vec{v}_{\\rm clss}=0.&\n",
        "\\end{align*}\n",
        "\n",
        "*Only Mathematically,* \n",
        "this form is similar to \"charge conservation\" in electromagnetism,   \n",
        "\"continuity equation\" in fluid dynamics, and \"conservation of energy\" in energy and heat dynamics.\n"
      ]
    },
    {
      "cell_type": "markdown",
      "metadata": {
        "id": "X_WlL3MO9GWw",
        "colab_type": "text"
      },
      "source": [
        "Since $\\vec{J}_\\mathcal{P}$ has an analogy to $\\vec{v}= \\dfrac{\\vec{p}}{m}$, and its divergence is proportional to $-\\dot{\\mathcal{P}}= - |\\psi|^2$,  \n",
        "we can derive Schoredinger equation in a magnetic field.\n",
        "\n",
        "We have learnt with a wave function $\\psi$:\n",
        "\\begin{align*}\n",
        "  \\dfrac{{\\rm d} \\vec{p}} {{\\rm d} t} &= - \\nabla V,&\\\\\n",
        "  \\vec{p} \\to \\dfrac{\\hbar}{i} \\nabla ,&\n",
        "  \\qquad \\mathcal{E} \\to i \\hbar \\dfrac{\\partial }{\\partial t}.&\n",
        "\\end{align*}\n",
        "If we find *a generalized $\\vec{p}$* and *its generalized potential $V$* in an electromagnetic field for superconductor,  \n",
        "we can transfer quantum state by using the above two relation."
      ]
    },
    {
      "cell_type": "markdown",
      "metadata": {
        "id": "ulApH8N4cM97",
        "colab_type": "text"
      },
      "source": [
        "## the quantum form of Lorentz's law\n",
        "\n",
        "We start by from the classical equation of motion for particle of chage $q$ in an electromagnetic field in Lorentz's law:\n",
        "\\begin{align*}\n",
        "m \\dfrac{{\\rm d} \\vec{v}}{{\\rm d} t}\n",
        "=\n",
        "q\n",
        "\\left( \\vec{E}\n",
        "+\n",
        "\\left(\n",
        "  \\vec{v}\\times\\vec{B}\\right)\n",
        "\\right).\n",
        "\\end{align*}\n",
        "\n",
        "We want to express $\\vec{E}$ and $\\vec{B}=\\mu \\vec{H}$ in terms of potentials."
      ]
    },
    {
      "cell_type": "markdown",
      "metadata": {
        "id": "0akci060fN32",
        "colab_type": "text"
      },
      "source": [
        "### Vector potential: $\\vec{A}$\n",
        "\n",
        "Gauss's law for magnetism is given\n",
        "\\begin{align*}\n",
        "  \\nabla \\cdot \\vec{B} = 0,\n",
        "\\end{align*}\n",
        "where there is no monopole. By using vector identity:\n",
        "\\begin{align*}\n",
        "  \\nabla\n",
        "  \\cdot \n",
        "  \\left(\n",
        "    \\nabla\\times \\vec{\\rm C}  \n",
        "  \\right) =0.\n",
        "\\end{align*}\n",
        "Now we can write down $\\vec{B}$ as:\n",
        "\\begin{align*}\n",
        "\\vec{B} &= \\nabla \\times \\vec{A},&\n",
        "\\end{align*}\n",
        "where $A$ is *a vector potential*\n",
        "\n"
      ]
    },
    {
      "cell_type": "markdown",
      "metadata": {
        "id": "y7ebK_b3g_7z",
        "colab_type": "text"
      },
      "source": [
        "### Scalar potential: $\\phi$\n",
        "\n",
        "We can substitute $\\vec{B} = \\nabla\\times\\vec{A}$ into Maxwell–Faraday equation:\n",
        "\\begin{align*}\n",
        "\\nabla\\times \\vec{E}\n",
        "&= - \\dfrac{\\partial \\vec{B}}{\\partial t}\n",
        "= - \\dfrac{\\partial}{\\partial t} \\left( \\nabla \\times \\vec{A}\\right)\n",
        "= - \\nabla \\times \\left( \\dfrac{\\partial}{\\partial t} \\vec{A}\\right)&\\\\\n",
        "&\\nabla\\times\n",
        "\\left(\n",
        "  \\vec{E} + \\dfrac{\\partial}{\\partial t} \\vec{A}\n",
        "\\right) = 0.&\n",
        "\\end{align*}\n",
        "From the vector identity:\n",
        "\\begin{align*}\n",
        "  \\nabla \\times \\left(  \\nabla f \\right) =0,\n",
        "\\end{align*}\n",
        "we can obtain that\n",
        "\\begin{align*}\n",
        "&\\nabla \\times\\left(\n",
        "  \\vec{E}\n",
        "  + \\dfrac{\\partial}{\\partial t} \\vec{A}\n",
        "  + \\nabla \\phi\n",
        "\\right) = 0,&\\\\\n",
        "\\vec{E} &= - \\dfrac{\\partial}{\\partial t} \\vec{A} - \\nabla \\phi,&\n",
        "\\end{align*}\n",
        "where $\\phi$ is a *scalar potential*."
      ]
    },
    {
      "cell_type": "markdown",
      "metadata": {
        "id": "e-DWOsjske6R",
        "colab_type": "text"
      },
      "source": [
        "### canonical relation with $\\phi, \\vec{A}$\n",
        "\n",
        "We can rewrite the Lorntz's law with $\\phi, \\vec{A}$,\n",
        "\\begin{align*}\n",
        "m \\dfrac{{\\rm d} \\vec{v}}{{\\rm d} t}\n",
        "=\n",
        "-q\n",
        "\\left( \\nabla \\phi\n",
        "+\n",
        "\\dfrac{\\partial}{\\partial t} \\vec{A}\n",
        "-\n",
        "\\vec{v}\n",
        "\\left(\n",
        "  \\vec{v}\\times\\vec{A}\\right)\n",
        "\\right).\n",
        "\\end{align*}\n",
        "\n",
        "Since time derivertive of $\\vec{A}=\\vec{A}\\left(\\vec{r}, t\\right)$ is written as\n",
        "\\begin{align*}\n",
        "\\dfrac{{\\rm d} \\vec{A}}{{\\rm d} t}\n",
        "=\n",
        "\\dfrac{\\partial \\vec{A}}{\\partial t}\n",
        "+\n",
        "\\left(\n",
        "  \\vec{v} \\cdot \\nabla\n",
        "\\right)\n",
        "\\vec{A},\n",
        "\\end{align*}\n",
        "\n"
      ]
    },
    {
      "cell_type": "markdown",
      "metadata": {
        "id": "4An3_gHwnAAT",
        "colab_type": "text"
      },
      "source": [
        "the Lorentz's law becomes\n",
        "\\begin{align*}\n",
        "\\dfrac{{\\rm d}}{{\\rm d} t}\n",
        "\\left(m\\vec{v} + q \\vec{A}\\right)\n",
        "=\n",
        "-q\n",
        "\\left[ \\nabla \\phi\n",
        "- \\left( \\vec{v}\\cdot\\nabla \\vec{A} \\right)\n",
        "- \\vec{v}\n",
        "  \\left(\n",
        "    \\vec{v}\\times\\vec{A}\\right)\n",
        "  \\right],\n",
        "\\end{align*}\n",
        "this relation is close to our desired form."
      ]
    },
    {
      "cell_type": "markdown",
      "metadata": {
        "id": "t5lh25qLn-u_",
        "colab_type": "text"
      },
      "source": [
        "Now we could define the canonical momentum as\n",
        "\\begin{align*}\n",
        "\\vec{p} &= m\\vec{v} + q\\vec{A}.&\n",
        "\\end{align*}\n",
        "To verify this, we have to the right hand side with the gradient form of scalar functions."
      ]
    },
    {
      "cell_type": "markdown",
      "metadata": {
        "id": "wuBWFaEwpZ5W",
        "colab_type": "text"
      },
      "source": [
        "#### the generalized scalar potential\n",
        "We thus transform the equation in terms of the canonical momentum:\n",
        "\\begin{align*}\n",
        "\\dfrac{{\\rm d} \\vec{p}}{{\\rm d} t}\n",
        "=&\n",
        "-q\\nabla\\phi\n",
        "+ \\dfrac{q}{m}  \\left( \\vec{p}\\cdot\\nabla \\vec{A} \\right)\n",
        "- \\dfrac{q^2}{m}\\left( \\vec{A}\\cdot\\nabla\\right) \\vec{A}&\\\\\n",
        "&\n",
        "+ \\dfrac{q}{m}\\vec{p}\\left(\\nabla \\times\\vec{A}\\right)\n",
        "- \\dfrac{q^2}{m} \\vec{A}\\times \\left( \\nabla \\times \\vec{A} \\right)\n",
        "\\end{align*}"
      ]
    },
    {
      "cell_type": "markdown",
      "metadata": {
        "id": "F6n6cyiFs8kw",
        "colab_type": "text"
      },
      "source": [
        "Using the vector identities\n",
        "\\begin{align*}\n",
        "\\vec{\\rm C} \\times \\left( \\nabla \\times \\vec{\\rm D}\\right)\n",
        "=\n",
        "\\nabla\\left( \\vec{\\rm C} \\cdot \\vec{\\rm D} \\right) \n",
        "- \\left( \\vec{\\rm C} \\cdot \\nabla\\right)\\vec{\\rm D}\n",
        "- \\left( \\vec{\\rm D} \\cdot \\nabla\\right)\\vec{\\rm C}\n",
        "- \\vec{\\rm D} \\times \\left( \\nabla \\times \\vec{\\rm C}\\right)\n",
        "\\end{align*}\n",
        "and then\n",
        "\\begin{align*}\n",
        "\\vec{\\rm C} \\times \\left( \\nabla \\times \\vec{\\rm C}\\right)\n",
        "=\n",
        "\\dfrac{1}{2} \\nabla \\left( \\vec{\\rm C} \\cdot \\vec{\\rm C} \\right) \n",
        "-\n",
        "\\left( \\vec{\\rm C} \\cdot \\nabla\\right)\\vec{\\rm C}.\n",
        "\\end{align*}\n"
      ]
    },
    {
      "cell_type": "markdown",
      "metadata": {
        "colab_type": "text",
        "id": "OytFb2AyusTs"
      },
      "source": [
        "$\\require{cancel}$\n",
        "Now we can rewrite the canonical relation as\n",
        "\\begin{align*}\n",
        "\\dfrac{{\\rm d} \\vec{p}}{{\\rm d} t}\n",
        "=&\n",
        "-q\\nabla\\phi\n",
        "+ \\dfrac{q}{m} \\nabla \\left( \\vec{p}\\cdot\\vec{A} \\right)\n",
        "- \\dfrac{q^2}{2m} \\nabla \\left( \\vec{A}\\cdot \\vec{A} \\right)&\\\\\n",
        "&\n",
        "\\cancelto{0}{- \\dfrac{q}{m}\\left(\\vec{A}\\cdot \\nabla\\right)\\vec{p}\n",
        "- \\dfrac{q}{m} \\vec{A}\\times \\left( {\\nabla \\times \\vec{p}} \\right)},&\n",
        "\\end{align*}\n",
        "where this cancelation is because of the independence of $(\\vec{r}, \\vec{p})$ spatially."
      ]
    },
    {
      "cell_type": "markdown",
      "metadata": {
        "id": "0XsYmUICPph9",
        "colab_type": "text"
      },
      "source": [
        "Then we obtain\n",
        "\\begin{align*}\n",
        "\\dfrac{{\\rm d} \\vec{p}}{{\\rm d} t}\n",
        "=&\n",
        "-\\nabla\\left(\n",
        "q \\phi\n",
        "- \\dfrac{q}{m} \\vec{p}\\cdot\\vec{A} \n",
        "+ \\dfrac{q^2}{2m} \\vec{A}\\cdot \\vec{A}\n",
        "\\right).&\n",
        "\\end{align*}\n",
        "In a similar manner, teh genaralized potential of the problem can be written\n",
        "\\begin{align*}\n",
        "V\n",
        "=&\n",
        "q \\phi\n",
        "- \\dfrac{q}{m} \\vec{p}\\cdot\\vec{A} \n",
        "+ \\dfrac{q^2}{2m} \\vec{A}\\cdot \\vec{A}&\n",
        "\\end{align*}"
      ]
    },
    {
      "cell_type": "markdown",
      "metadata": {
        "id": "WgChCt6pQQAk",
        "colab_type": "text"
      },
      "source": [
        "### The total energy as a Hamiltonian\n",
        "\n",
        "The total energy can be expressed as\n",
        "\\begin{align*}\n",
        "\\mathcal{E} \n",
        "&=\n",
        "\\dfrac{\\vec{p}\\cdot\\vec{p}}{2m} \n",
        "+ \\left( q \\phi - \\dfrac{q}{m} \\vec{p}\\cdot\\vec{A} + \\dfrac{q^2}{2m} \\vec{A}\\cdot \\vec{A}\n",
        "  \\right)&\\\\\n",
        "&=\\frac{1}{2m} \\left(\\vec{p} -q\\vec{A}\\right)\\cdot \\left(\\vec{p} -q\\vec{A}\\right)\n",
        "+\n",
        "q \\phi.&\n",
        "\\end{align*}\n",
        "\n",
        "Recall the Einstain-de Broglie relation with wave function $\\psi$, we can formulate the quantum form of Lorentz' law as\n",
        "\\begin{align*}\n",
        "i \\hbar \\dfrac{\\partial \\psi}{\\partial t}\n",
        "&=\\frac{1}{2m} \\left(\\dfrac{\\hbar}{i} \\nabla -q\\vec{A}\\right)^2 \\psi \n",
        "+\n",
        "q \\phi\\ \\psi.&\n",
        "\\end{align*}\n",
        "\n",
        "By using the genaralized momentum, the probability of a charge quantum particle in an electromagnetic field can be written as\n",
        "\\begin{align*}\n",
        "\\vec{J}_{\\mathcal{P}} \n",
        "&=\n",
        "{\\rm Re}\\left\\{\n",
        "  \\psi^*\\dfrac{1}{m}{\\left(\n",
        "    \\vec{p} - q\\vec{A}\n",
        "    \\right)}\\psi\n",
        "    \\right\\} &\\\\\n",
        "&=\n",
        "{\\rm Re}\\left\\{\n",
        "  \\psi^*{\\left(\n",
        "    \\dfrac{\\hbar}{im} \\nabla - \\dfrac{q}{m}\\vec{A}\n",
        "    \\right)}\\psi\n",
        "    \\right\\} &\n",
        "\\end{align*}\n"
      ]
    }
  ]
}