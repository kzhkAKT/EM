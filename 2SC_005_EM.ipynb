{
  "nbformat": 4,
  "nbformat_minor": 0,
  "metadata": {
    "colab": {
      "name": "2SC_005_EM",
      "provenance": [],
      "collapsed_sections": [],
      "authorship_tag": "ABX9TyO+3k2EE4I+BdqVyHCJwwIz",
      "include_colab_link": true
    },
    "kernelspec": {
      "name": "python3",
      "display_name": "Python 3"
    }
  },
  "cells": [
    {
      "cell_type": "markdown",
      "metadata": {
        "id": "view-in-github",
        "colab_type": "text"
      },
      "source": [
        "<a href=\"https://colab.research.google.com/github/kzhkAKT/ErgyMtrlScience/blob/master/2SC_005_EM.ipynb\" target=\"_parent\"><img src=\"https://colab.research.google.com/assets/colab-badge.svg\" alt=\"Open In Colab\"/></a>"
      ]
    },
    {
      "cell_type": "markdown",
      "metadata": {
        "id": "b6eurjap5TnS",
        "colab_type": "text"
      },
      "source": [
        "<!-- sec 5.3 -->\n",
        "## Probability currents"
      ]
    },
    {
      "cell_type": "code",
      "metadata": {
        "id": "TktBMgNvv_xA",
        "colab_type": "code",
        "cellView": "form",
        "colab": {
          "base_uri": "https://localhost:8080/",
          "height": 336
        },
        "outputId": "2fba0e02-75d0-46b5-b214-ffa8fc66cb5b"
      },
      "source": [
        "#@title One electron double slit experiment by Akira Tonomura\n",
        "%%html\n",
        "<iframe width=\"560\" height=\"315\" src=\"https://www.youtube-nocookie.com/embed/jvO0P5-SMxk\" frameborder=\"0\" allow=\"accelerometer; autoplay; encrypted-media; gyroscope; picture-in-picture\" allowfullscreen></iframe>"
      ],
      "execution_count": null,
      "outputs": [
        {
          "output_type": "display_data",
          "data": {
            "text/html": [
              "<iframe width=\"560\" height=\"315\" src=\"https://www.youtube-nocookie.com/embed/jvO0P5-SMxk\" frameborder=\"0\" allow=\"accelerometer; autoplay; encrypted-media; gyroscope; picture-in-picture\" allowfullscreen></iframe>"
            ],
            "text/plain": [
              "<IPython.core.display.HTML object>"
            ]
          },
          "metadata": {
            "tags": []
          }
        }
      ]
    },
    {
      "cell_type": "markdown",
      "metadata": {
        "id": "uxOs4td35oXQ",
        "colab_type": "text"
      },
      "source": [
        "Sicne an electron can be detected one by one arbitrary, we need to express such a randomness.\n",
        "\n",
        "Max Born hypothesized in 1927 that\n",
        "\\begin{align*}\n",
        "\\mathcal{P}(\\vec{r},t) \n",
        "\\equiv\n",
        "\\left| \\psi(\\vec{r},t)  \\right|^2\n",
        "=\n",
        "\\psi^*(\\vec{r},t) \\ \\psi(\\vec{r},t),\n",
        "\\end{align*}\n",
        "where $\\mathcal{P}$ is the function describing the probability of the location of the particle in space at a certain time."
      ]
    },
    {
      "cell_type": "markdown",
      "metadata": {
        "id": "D-dx-ykz6_7B",
        "colab_type": "text"
      },
      "source": [
        "We can find a particle in a certain point, so $\\mathcal{P}$ must satisfy the normal condition:\n",
        "\\begin{align*}\n",
        "\\int {\\rm d} \\vec{r}\\  \\mathcal{P}(\\vec{r},t) \n",
        "=\n",
        "\\int {\\rm d} \\vec{r}\\ \\psi^*(\\vec{r},t) \\ \\psi(\\vec{r},t)\n",
        "=\n",
        "1\n",
        "\\end{align*}"
      ]
    },
    {
      "cell_type": "markdown",
      "metadata": {
        "id": "HvH7qWwt77w3",
        "colab_type": "text"
      },
      "source": [
        "### he time differential relation of $\\mathcal{P}$\n",
        "\n",
        "\\begin{align*}\n",
        "i \\ \\hbar \\dfrac{\\partial  \\psi }{\\partial t}\n",
        "&=\n",
        "-  \\dfrac{\\hbar}{2m} \\nabla^2 \\psi  + V(\\vec{r}) \\psi.&\n",
        "\\end{align*}\n",
        "\n",
        "Multiplign $\\psi^*$ from left\n",
        "\\begin{align*}\n",
        "i \\psi^*\\ \\hbar \\dfrac{\\partial  \\psi }{\\partial t}\n",
        "&=\n",
        "-  \\psi^* \\dfrac{\\hbar}{2m} \\nabla^2 \\psi  + V(\\vec{r}) \\psi^* \\psi.&\n",
        "\\end{align*}\n",
        "\n",
        "As same as on conplex conjuggate of Schrodinger's equation with $\\psi$:\n",
        "\\begin{align*}\n",
        "-i \\psi\\ \\hbar \\dfrac{\\partial  \\psi^* }{\\partial t}\n",
        "&=\n",
        "-  \\psi \\dfrac{\\hbar}{2m} \\nabla^2 \\psi^*  + V(\\vec{r}) \\psi \\psi^*.&\n",
        "\\end{align*}\n",
        "\n",
        "We can obtain\n",
        "\\begin{align*}\n",
        "i \\hbar \\dfrac{\\partial}{\\partial t}(\\psi \\psi^*) \n",
        "=\n",
        "-\\dfrac{\\hbar^2}{2m}\n",
        "\\left(\n",
        "  \\psi^*\\nabla^2\\psi - \\psi\\nabla^2\\psi*\n",
        "\\right).\n",
        "\\end{align*}\n",
        "By using vector analysis\n",
        "\\begin{align*}\n",
        "i \\hbar \\dfrac{\\partial}{\\partial t}(\\psi \\psi^*) \n",
        "=\n",
        "-\\dfrac{\\hbar^2}{2m}\n",
        "\\left[\n",
        "  \\nabla \\left(\n",
        "  \\psi^*\\nabla\\psi - \\psi\\nabla\\psi*\n",
        "\\right)\n",
        "\\right]\n",
        "\\end{align*}\n",
        "\n",
        "\n",
        "\n"
      ]
    }
  ]
}