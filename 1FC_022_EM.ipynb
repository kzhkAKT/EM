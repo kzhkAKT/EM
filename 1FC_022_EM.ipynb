{
  "nbformat": 4,
  "nbformat_minor": 0,
  "metadata": {
    "colab": {
      "name": "1FC_022_EM",
      "provenance": [],
      "collapsed_sections": [],
      "toc_visible": true,
      "authorship_tag": "ABX9TyNHUPYnusXzVzYV/FnfES/i",
      "include_colab_link": true
    },
    "kernelspec": {
      "name": "python3",
      "display_name": "Python 3"
    }
  },
  "cells": [
    {
      "cell_type": "markdown",
      "metadata": {
        "id": "view-in-github",
        "colab_type": "text"
      },
      "source": [
        "<a href=\"https://colab.research.google.com/github/kzhkAKT/ErgyMtrlScience/blob/draft/1FC_022_EM.ipynb\" target=\"_parent\"><img src=\"https://colab.research.google.com/assets/colab-badge.svg\" alt=\"Open In Colab\"/></a>"
      ]
    },
    {
      "cell_type": "markdown",
      "metadata": {
        "id": "p4MK6W41krIR",
        "colab_type": "text"
      },
      "source": [
        "# 化学変化とエネルギー\n",
        "\n"
      ]
    },
    {
      "cell_type": "markdown",
      "metadata": {
        "id": "WzlBiH5oktXn",
        "colab_type": "text"
      },
      "source": [
        "## 化学変化とエネルギーの出入り\n",
        "\n",
        "<!-- 活量で再定義\n",
        "$\\Delta H^\\circ, \\Delta S^\\circ, \\Delta G^\\circ$ の \"${}^\\circ$\" の意味\n",
        "\n",
        "- 標準状態: 25℃, 1 atm\n",
        "- phase\n",
        "-g := gas, l:= liquid, s := solid, aq := aqueous solution\n",
        "-->\n",
        "[熱化学データ表,NIST-JANAF Thermochemical Tables](https://janaf.nist.gov/)"
      ]
    },
    {
      "cell_type": "markdown",
      "metadata": {
        "id": "Sd8e44pDkywj",
        "colab_type": "text"
      },
      "source": [
        "$\\require{mhchem}$\n",
        "### エンタルピー変化, enthalpy change: $\\Delta H^\\circ$\n",
        "\n",
        "化学反応によって, 原系から生成系へに変化する時に生成消滅する total energy\n",
        "\n",
        "$$\n",
        "\\ce{H_2(g) + \\dfrac{1}{2} O_2(g) \\to H_2O(l)}\n",
        "$$\n",
        "\n",
        "> Q [NIST-JANAF TT](https://janaf.nist.gov/) を利用し, 標準状態における$\\ce{H2O(g)}$ 生成エンタルピー変化 $\\Delta H^\\circ$ を求めよ.\n",
        "\n",
        "<!--\n",
        "$$\n",
        "\\ce{H_2(g) + \\dfrac{1}{2} O_2(g) \\to H_2O(l)}\n",
        "\\qquad\n",
        "\\Delta H^\\circ= {\\rm -286 kJ}\n",
        "$$\n",
        "-->"
      ]
    },
    {
      "cell_type": "markdown",
      "metadata": {
        "id": "zeEAbKClk1wn",
        "colab_type": "text"
      },
      "source": [
        "### エントロピー変化, entropy change\n",
        "\n"
      ]
    },
    {
      "cell_type": "code",
      "metadata": {
        "id": "wPkDABQ3c40E",
        "colab_type": "code",
        "cellView": "form",
        "outputId": "7a4414b2-dff3-48b9-c7a6-c13ae01ad5a2",
        "colab": {
          "base_uri": "https://localhost:8080/",
          "height": 625
        }
      },
      "source": [
        "#@title 熱拡散\n",
        "%%html\n",
        "<iframe src=\"https://phet.colorado.edu/sims/html/diffusion/latest/diffusion_en.html\" width=\"800\" height=\"600\" scrolling=\"no\" allowfullscreen></iframe>"
      ],
      "execution_count": 0,
      "outputs": [
        {
          "output_type": "display_data",
          "data": {
            "text/html": [
              "<iframe src=\"https://phet.colorado.edu/sims/html/diffusion/latest/diffusion_en.html\" width=\"800\" height=\"600\" scrolling=\"no\" allowfullscreen></iframe>"
            ],
            "text/plain": [
              "<IPython.core.display.HTML object>"
            ]
          },
          "metadata": {
            "tags": []
          }
        }
      ]
    },
    {
      "cell_type": "markdown",
      "metadata": {
        "id": "HyNtFnzGdTL4",
        "colab_type": "text"
      },
      "source": [
        "#### エントロピーの熱力学的な定義と熱力学第2法則\n",
        "\n",
        "$\\Delta S := \\dfrac{\\delta Q}{T}$\n",
        "\n",
        "先ほどのシミュレーションで, 高温熱源 $T_{\\rm H}$ から低温熱源$T_{\\rm L} $ への熱の移動 $\\delta Q (>0)$ を考えてみよう. \n",
        "\n",
        "|エントロピー変化||\n",
        "|--|--|\n",
        "| 高温熱源 | $\\Delta S_{\\rm H} = \\dfrac{-\\delta Q}{T_{\\rm H}}$|  \n",
        "| 低温熱源 | $\\Delta S_{\\rm L} = \\dfrac{+\\delta Q}{T_{\\rm L}}$|\n",
        "| 全体| $\\Delta S_{\\rm total}=\\Delta S_{\\rm H} +\\Delta S_{\\rm L} > 0$ |\n",
        "\n",
        "> Q. 上の $\\Delta S_{\\rm total}$ が正になることを示してください.\n",
        "\n",
        "この表と自然現象として $\\delta Q < 0$ は起こり得ないことを考えると\n",
        "\n",
        "> 熱拡散では $\\Delta S>0$ で, $S_{\\rm fin}>S_{\\rm int}$ となり, 系全体のエントピーは常に増加する\n",
        "\n",
        "といえます. また, エントロピーの定義に従えば $\\delta Q = T \\Delta S$ で,  \n",
        "$\\Delta S>0$ でエントロピー変化が増加のときは $\\delta Q>0$,   \n",
        "$\\Delta S<0$ でエントロピー変化が減少のときは $\\delta Q<0$となります.\n",
        "\n"
      ]
    },
    {
      "cell_type": "markdown",
      "metadata": {
        "id": "iQkyQ-omn2_-",
        "colab_type": "text"
      },
      "source": [
        "これを踏まえて水の燃焼反応について考えてみましょう.\n",
        "$\\require{mhchem}$\n",
        "\\begin{align*}\n",
        "\\ce{H_2(g) + \\dfrac{1}{2} O_2(g) \\to H_2O(l)}\n",
        "\\end{align*}\n",
        "\n",
        "この燃焼反応によって生じた水は, はじめは水分子として空間に漂っているはずです. これを一箇所に集め液体にするには, 拡散の度合いを下げる必要があります($\\Delta S<0$). そのためには $\\delta Q = T \\Delta S$ の分だけ, 漂う水分子がエネルギーを吸収する($-\\delta Q$)必要があります."
      ]
    },
    {
      "cell_type": "markdown",
      "metadata": {
        "colab_type": "text",
        "id": "XhUMiKFrlBQo"
      },
      "source": [
        "### ギブスエネルギー変化, Gibbs free energy\n",
        "\n",
        "これまでの議論を数式で整理すると\n",
        "> \\begin{align*}\n",
        "\\Delta H^\\circ - \\delta Q\n",
        "\\end{align*}\n",
        "\n",
        "これが化学反応で取り出せる正味のエネルギーと言っていいでしょう.  \n",
        "これをエントロピー変化の定義に従って整理すると\n",
        "\\begin{align*}\n",
        "\\Delta G^\\circ = \\Delta H^\\circ - T\\Delta S^\\circ\n",
        "\\end{align*}\n",
        "を **ギプスエネルギーの変化** $\\Delta G^\\circ$ といいます.\n"
      ]
    },
    {
      "cell_type": "code",
      "metadata": {
        "id": "QLtLjusC1sEm",
        "colab_type": "code",
        "cellView": "form",
        "outputId": "f5011da2-2899-4cca-9a16-77f37c895e3a",
        "colab": {
          "base_uri": "https://localhost:8080/",
          "height": 336
        }
      },
      "source": [
        "#@title 温度差をもつ水素の燃焼\n",
        "%%html\n",
        "<iframe width=\"560\" height=\"315\" src=\"https://www.youtube-nocookie.com/embed/z7-8gxAXXbU\" frameborder=\"0\" allow=\"accelerometer; autoplay; encrypted-media; gyroscope; picture-in-picture\" allowfullscreen></iframe>"
      ],
      "execution_count": 0,
      "outputs": [
        {
          "output_type": "display_data",
          "data": {
            "text/html": [
              "<iframe width=\"560\" height=\"315\" src=\"https://www.youtube-nocookie.com/embed/z7-8gxAXXbU\" frameborder=\"0\" allow=\"accelerometer; autoplay; encrypted-media; gyroscope; picture-in-picture\" allowfullscreen></iframe>"
            ],
            "text/plain": [
              "<IPython.core.display.HTML object>"
            ]
          },
          "metadata": {
            "tags": []
          }
        }
      ]
    },
    {
      "cell_type": "markdown",
      "metadata": {
        "id": "qX8HuDlfLJQu",
        "colab_type": "text"
      },
      "source": [
        "#### $\\Delta G^\\circ$ でみる吸熱変化: \n",
        "\n",
        "$\\require{mhchem}$\n",
        "\n",
        "硝酸アンモニウムの水への溶解反応"
      ]
    },
    {
      "cell_type": "code",
      "metadata": {
        "id": "g8GJhjzJLD-H",
        "colab_type": "code",
        "cellView": "form",
        "outputId": "5005be76-7778-4041-8c2f-934fcf91e2b1",
        "colab": {
          "base_uri": "https://localhost:8080/",
          "height": 336
        }
      },
      "source": [
        "#@title \n",
        "%%html\n",
        "<iframe width=\"560\" height=\"315\" src=\"https://www.youtube.com/embed/CBOcz8pRAlY\" frameborder=\"0\" allow=\"accelerometer; autoplay; encrypted-media; gyroscope; picture-in-picture\" allowfullscreen></iframe>"
      ],
      "execution_count": 0,
      "outputs": [
        {
          "output_type": "display_data",
          "data": {
            "text/html": [
              "<iframe width=\"560\" height=\"315\" src=\"https://www.youtube.com/embed/CBOcz8pRAlY\" frameborder=\"0\" allow=\"accelerometer; autoplay; encrypted-media; gyroscope; picture-in-picture\" allowfullscreen></iframe>"
            ],
            "text/plain": [
              "<IPython.core.display.HTML object>"
            ]
          },
          "metadata": {
            "tags": []
          }
        }
      ]
    },
    {
      "cell_type": "markdown",
      "metadata": {
        "id": "z0ogM0b6qna4",
        "colab_type": "text"
      },
      "source": [
        "\n",
        "\n",
        "\\begin{align*}\n",
        "\\ce{NH4NO3(s) \\to NH4^+ (aq) + NO3^- (aq)}\n",
        "\\end{align*}\n",
        "\n",
        "を利用し, この反応の $\\Delta H^\\circ, \\Delta S^\\circ$ を\n",
        "- [Standand Enthalpies of Formation & Standard Entropies of Common Compounds](http://www.mrbigler.com/misc/energy-of-formation.PDF)\n",
        "\n",
        "を利用して求め, ${\\rm 25 C^\\circ}$における $\\Delta G^\\circ$ をもとめよ.\n",
        "\n",
        "ヒント:\n",
        "\\begin{align*}\n",
        "\\Delta H^\\circ \n",
        "&= \\left(\n",
        "  \\Delta H^\\circ_{\\ce{NH4^+}} +  \\Delta H^\\circ_{\\ce{NO3^-}}\n",
        "\\right)  - \\Delta H^\\circ_{\\ce{NH4NO3}}  &\\\\\n",
        "\\Delta S^\\circ \n",
        "&= \\left(\n",
        "  \\Delta S^\\circ_{\\ce{NH4^+}} +  \\Delta S^\\circ_{\\ce{NO3^-}}\n",
        "\\right)  - \\Delta S^\\circ_{\\ce{NH4NO3}}  &\\\\\n",
        "\\Delta G^\\circ &= \\Delta H^\\circ - T\\Delta S^\\circ \n",
        "\\qquad \\text{at }&\n",
        "\\end{align*}\n",
        "\n",
        "<!--\n",
        "\\begin{align*}\n",
        "\\Delta H^\\circ &= {\\rm +27.3 kJ/mol} >0&\\\\\n",
        "- T\\Delta S^\\circ &= {\\rm -31.5 kJ/mol}&\\\\\n",
        "\\Delta G^\\circ &= \\Delta H^\\circ - T\\Delta S^\\circ&\n",
        "\\end{align*}\n",
        "-->\n"
      ]
    },
    {
      "cell_type": "markdown",
      "metadata": {
        "id": "01oUVE0HLzKv",
        "colab_type": "text"
      },
      "source": [
        "\n",
        "- $\\Delta G^\\circ$ < 0: exothermic\n",
        "- $\\Delta G^\\circ$ > 0: endothermic"
      ]
    }
  ]
}