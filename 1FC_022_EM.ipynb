{
  "nbformat": 4,
  "nbformat_minor": 0,
  "metadata": {
    "colab": {
      "name": "1FC_022_EM",
      "provenance": [],
      "collapsed_sections": [],
      "toc_visible": true,
      "authorship_tag": "ABX9TyOylHRiILnAL1uW3gMSs55m",
      "include_colab_link": true
    },
    "kernelspec": {
      "name": "python3",
      "display_name": "Python 3"
    }
  },
  "cells": [
    {
      "cell_type": "markdown",
      "metadata": {
        "id": "view-in-github",
        "colab_type": "text"
      },
      "source": [
        "<a href=\"https://colab.research.google.com/github/kzhkAKT/ErgyMtrlScience/blob/draft/1FC_022_EM.ipynb\" target=\"_parent\"><img src=\"https://colab.research.google.com/assets/colab-badge.svg\" alt=\"Open In Colab\"/></a>"
      ]
    },
    {
      "cell_type": "markdown",
      "metadata": {
        "id": "p4MK6W41krIR",
        "colab_type": "text"
      },
      "source": [
        "# 化学変化とエネルギー\n",
        "\n"
      ]
    },
    {
      "cell_type": "markdown",
      "metadata": {
        "id": "WzlBiH5oktXn",
        "colab_type": "text"
      },
      "source": [
        "## 化学変化とエネルギーの出入り\n",
        "\n",
        "<!-- 活量で再定義\n",
        "$\\Delta H^\\circ, \\Delta S^\\circ, \\Delta G^\\circ$ の \"${}^\\circ$\" の意味\n",
        "\n",
        "- 標準状態: 25℃, 1 atm\n",
        "- phase\n",
        "-g := gas, l:= liquid, s := solid, aq := aqueous solution\n",
        "-->\n",
        "[熱化学データ表,NIST-JANAF Thermochemical Tables](https://janaf.nist.gov/)"
      ]
    },
    {
      "cell_type": "markdown",
      "metadata": {
        "id": "Sd8e44pDkywj",
        "colab_type": "text"
      },
      "source": [
        "$\\require{mhchem}$\n",
        "### エンタルピー変化, enthalpy change: $\\Delta H^\\circ$\n",
        "\n",
        "化学反応によって, 原系から生成系へに変化する時に生成消滅する total energy\n",
        "\n",
        "$$\n",
        "\\ce{H_2(g) + \\dfrac{1}{2} O_2(g) \\to H_2O(l)}\n",
        "$$\n",
        "\n",
        "> Q [NIST-JANAF TT](https://janaf.nist.gov/) を利用し, 標準状態における$\\ce{H2O(g)}$ 生成エンタルピー変化 $\\Delta H^\\circ$ を求めよ.\n",
        "\n",
        "<!--\n",
        "$$\n",
        "\\ce{H_2(g) + \\dfrac{1}{2} O_2(g) \\to H_2O(l)}\n",
        "\\qquad\n",
        "\\Delta H^\\circ= {\\rm -286 kJ}\n",
        "$$\n",
        "-->"
      ]
    },
    {
      "cell_type": "markdown",
      "metadata": {
        "id": "zeEAbKClk1wn",
        "colab_type": "text"
      },
      "source": [
        "### エントロピー変化, entropy change\n",
        "\n"
      ]
    },
    {
      "cell_type": "code",
      "metadata": {
        "id": "wPkDABQ3c40E",
        "colab_type": "code",
        "cellView": "form",
        "outputId": "7a4414b2-dff3-48b9-c7a6-c13ae01ad5a2",
        "colab": {
          "base_uri": "https://localhost:8080/",
          "height": 625
        }
      },
      "source": [
        "#@title 熱拡散\n",
        "%%html\n",
        "<iframe src=\"https://phet.colorado.edu/sims/html/diffusion/latest/diffusion_en.html\" width=\"800\" height=\"600\" scrolling=\"no\" allowfullscreen></iframe>"
      ],
      "execution_count": 0,
      "outputs": [
        {
          "output_type": "display_data",
          "data": {
            "text/html": [
              "<iframe src=\"https://phet.colorado.edu/sims/html/diffusion/latest/diffusion_en.html\" width=\"800\" height=\"600\" scrolling=\"no\" allowfullscreen></iframe>"
            ],
            "text/plain": [
              "<IPython.core.display.HTML object>"
            ]
          },
          "metadata": {
            "tags": []
          }
        }
      ]
    },
    {
      "cell_type": "markdown",
      "metadata": {
        "id": "HyNtFnzGdTL4",
        "colab_type": "text"
      },
      "source": [
        "#### エントロピーの熱力学的な定義と熱力学第2法則\n",
        "\n",
        "$\\Delta S := \\dfrac{\\delta Q}{T}$\n",
        "\n",
        "先ほどのシミュレーションで, 高温熱源 $T_{\\rm H}$ から低温熱源$T_{\\rm L} $ への熱の移動 $\\delta Q (>0)$ を考えてみよう. \n",
        "\n",
        "|エントロピー変化||\n",
        "|--|--|\n",
        "| 高温熱源 | $\\Delta S_{\\rm H} = \\dfrac{-\\delta Q}{T_{\\rm H}}$|  \n",
        "| 低温熱源 | $\\Delta S_{\\rm L} = \\dfrac{+\\delta Q}{T_{\\rm L}}$|\n",
        "| 全体| $\\Delta S_{\\rm total}=\\Delta S_{\\rm H} +\\Delta S_{\\rm L} > 0$ |\n",
        "\n",
        "> Q. 上の $\\Delta S_{\\rm total}$ が正になることを示してください.\n",
        "\n",
        "この表と自然現象として $\\delta Q < 0$ は起こり得ないことを考えると\n",
        "\n",
        "> 熱拡散では $\\Delta S>0$ で, $S_{\\rm fin}>S_{\\rm int}$ となり, 系全体のエントピーは常に増加する\n",
        "\n",
        "といえます. また, エントロピーの定義に従えば $\\delta Q = T \\Delta S$ で,  \n",
        "$\\Delta S>0$ でエントロピー変化が増加のときは $\\delta Q>0$,   \n",
        "$\\Delta S<0$ でエントロピー変化が減少のときは $\\delta Q<0$となります.\n",
        "\n"
      ]
    },
    {
      "cell_type": "markdown",
      "metadata": {
        "id": "iQkyQ-omn2_-",
        "colab_type": "text"
      },
      "source": [
        "これを踏まえて水の燃焼反応について考えてみましょう.\n",
        "$\\require{mhchem}$\n",
        "\\begin{align*}\n",
        "\\ce{H_2(g) + \\dfrac{1}{2} O_2(g) \\to H_2O(l)}\n",
        "\\end{align*}\n",
        "\n",
        "この燃焼反応によって生じた水は, はじめは水分子として空間に漂っているはずです. これを一箇所に集め液体にするには, 拡散の度合いを下げる必要があります($\\Delta S<0$). そのためには $\\delta Q = T \\Delta S$ の分だけ, 漂う水分子がエネルギーを吸収する($-\\delta Q$)必要があります."
      ]
    },
    {
      "cell_type": "markdown",
      "metadata": {
        "id": "NqJiY7ZhHJOG",
        "colab_type": "text"
      },
      "source": [
        "#### 理想気体におけるエントロピー変化\n",
        "\n",
        "この部分は板書します"
      ]
    },
    {
      "cell_type": "markdown",
      "metadata": {
        "colab_type": "text",
        "id": "XhUMiKFrlBQo"
      },
      "source": [
        "### ギブスエネルギー変化, Gibbs free energy\n",
        "\n",
        "これまでの議論を数式で整理すると\n",
        "> \\begin{align*}\n",
        "\\Delta H^\\circ - \\delta Q\n",
        "\\end{align*}\n",
        "\n",
        "これが化学反応で取り出せる正味のエネルギーと言っていいでしょう.  \n",
        "これをエントロピー変化の定義に従って整理すると\n",
        "\\begin{align*}\n",
        "\\Delta G^\\circ = \\Delta H^\\circ - T\\Delta S^\\circ\n",
        "\\end{align*}\n",
        "を **ギプスエネルギーの変化** $\\Delta G^\\circ$ といいます.\n"
      ]
    },
    {
      "cell_type": "code",
      "metadata": {
        "id": "QLtLjusC1sEm",
        "colab_type": "code",
        "cellView": "form",
        "outputId": "f5011da2-2899-4cca-9a16-77f37c895e3a",
        "colab": {
          "base_uri": "https://localhost:8080/",
          "height": 336
        }
      },
      "source": [
        "#@title 温度差をもつ水素の燃焼\n",
        "%%html\n",
        "<iframe width=\"560\" height=\"315\" src=\"https://www.youtube-nocookie.com/embed/z7-8gxAXXbU\" frameborder=\"0\" allow=\"accelerometer; autoplay; encrypted-media; gyroscope; picture-in-picture\" allowfullscreen></iframe>"
      ],
      "execution_count": 0,
      "outputs": [
        {
          "output_type": "display_data",
          "data": {
            "text/html": [
              "<iframe width=\"560\" height=\"315\" src=\"https://www.youtube-nocookie.com/embed/z7-8gxAXXbU\" frameborder=\"0\" allow=\"accelerometer; autoplay; encrypted-media; gyroscope; picture-in-picture\" allowfullscreen></iframe>"
            ],
            "text/plain": [
              "<IPython.core.display.HTML object>"
            ]
          },
          "metadata": {
            "tags": []
          }
        }
      ]
    },
    {
      "cell_type": "markdown",
      "metadata": {
        "id": "qX8HuDlfLJQu",
        "colab_type": "text"
      },
      "source": [
        "#### $\\Delta G^\\circ$ でみる吸熱変化: \n",
        "\n",
        "$\\require{mhchem}$\n",
        "\n",
        "硝酸アンモニウムの水への溶解反応"
      ]
    },
    {
      "cell_type": "code",
      "metadata": {
        "id": "g8GJhjzJLD-H",
        "colab_type": "code",
        "cellView": "form",
        "outputId": "5005be76-7778-4041-8c2f-934fcf91e2b1",
        "colab": {
          "base_uri": "https://localhost:8080/",
          "height": 336
        }
      },
      "source": [
        "#@title \n",
        "%%html\n",
        "<iframe width=\"560\" height=\"315\" src=\"https://www.youtube.com/embed/CBOcz8pRAlY\" frameborder=\"0\" allow=\"accelerometer; autoplay; encrypted-media; gyroscope; picture-in-picture\" allowfullscreen></iframe>"
      ],
      "execution_count": 0,
      "outputs": [
        {
          "output_type": "display_data",
          "data": {
            "text/html": [
              "<iframe width=\"560\" height=\"315\" src=\"https://www.youtube.com/embed/CBOcz8pRAlY\" frameborder=\"0\" allow=\"accelerometer; autoplay; encrypted-media; gyroscope; picture-in-picture\" allowfullscreen></iframe>"
            ],
            "text/plain": [
              "<IPython.core.display.HTML object>"
            ]
          },
          "metadata": {
            "tags": []
          }
        }
      ]
    },
    {
      "cell_type": "markdown",
      "metadata": {
        "id": "z0ogM0b6qna4",
        "colab_type": "text"
      },
      "source": [
        "\n",
        "\n",
        "\\begin{align*}\n",
        "\\ce{NH4NO3(s) \\to NH4^+ (aq) + NO3^- (aq)}\n",
        "\\end{align*}\n",
        "\n",
        "を利用し, この反応の $\\Delta H^\\circ, \\Delta S^\\circ$ を\n",
        "- [Standand Enthalpies of Formation & Standard Entropies of Common Compounds](http://www.mrbigler.com/misc/energy-of-formation.PDF)\n",
        "\n",
        "を利用して求め, ${\\rm 25 C^\\circ}$における $\\Delta G^\\circ$ をもとめよ.\n",
        "\n",
        "ヒント:\n",
        "\\begin{align*}\n",
        "\\Delta H^\\circ \n",
        "&= \\left(\n",
        "  \\Delta H^\\circ_{\\ce{NH4^+}} +  \\Delta H^\\circ_{\\ce{NO3^-}}\n",
        "\\right)  - \\Delta H^\\circ_{\\ce{NH4NO3}}  &\\\\\n",
        "\\Delta S^\\circ \n",
        "&= \\left(\n",
        "  \\Delta S^\\circ_{\\ce{NH4^+}} +  \\Delta S^\\circ_{\\ce{NO3^-}}\n",
        "\\right)  - \\Delta S^\\circ_{\\ce{NH4NO3}}  &\\\\\n",
        "\\Delta G^\\circ &= \\Delta H^\\circ - T\\Delta S^\\circ \n",
        "\\qquad \\text{at }&\n",
        "\\end{align*}\n",
        "\n",
        "<!--\n",
        "\\begin{align*}\n",
        "\\Delta H^\\circ &= {\\rm +27.3 kJ/mol} >0&\\\\\n",
        "- T\\Delta S^\\circ &= {\\rm -31.5 kJ/mol}&\\\\\n",
        "\\Delta G^\\circ &= \\Delta H^\\circ - T\\Delta S^\\circ&\n",
        "\\end{align*}\n",
        "-->\n"
      ]
    },
    {
      "cell_type": "markdown",
      "metadata": {
        "id": "01oUVE0HLzKv",
        "colab_type": "text"
      },
      "source": [
        "\n",
        "- $\\Delta G^\\circ$ < 0: exothermic\n",
        "- $\\Delta G^\\circ$ > 0: endothermic"
      ]
    },
    {
      "cell_type": "markdown",
      "metadata": {
        "id": "D0l7Dd0RrYak",
        "colab_type": "text"
      },
      "source": [
        "#### 化学 $\\to$ 電気エネルギー変換\n",
        "\n",
        "$\\require{mhchem}$\n",
        "\\begin{align*}\n",
        "\\ce{H_2(g) + 1/2O_2(g) &\\to H_2O(l)&}\\\\\n",
        "\\ce{H_2 \\qquad &\\to 2H+ + 2e-&}\n",
        "\\quad\\text{the oxdation reaction}\\\\\n",
        "\\ce{1/2O_2 + 2H+ + 2e- &\\to H2O&}\n",
        "\\quad\\text{the reduction reaction}\n",
        "\\end{align*}"
      ]
    },
    {
      "cell_type": "code",
      "metadata": {
        "id": "epJ201COnC1N",
        "colab_type": "code",
        "outputId": "c89852df-030c-4bc9-9b7b-c73416193fc6",
        "colab": {
          "base_uri": "https://localhost:8080/",
          "height": 591
        }
      },
      "source": [
        "#@title 燃料電池の基本構成(酸性電解質)\n",
        "%%svg\n",
        "https://upload.wikimedia.org/wikipedia/commons/9/90/Solid_oxide_fuel_cell_protonic.svg"
      ],
      "execution_count": 0,
      "outputs": [
        {
          "output_type": "display_data",
          "data": {
            "text/plain": [
              "<IPython.core.display.SVG object>"
            ],
            "image/svg+xml": "<svg enable-background=\"new 0 0 508 570\" height=\"570px\" id=\"Layer_2\" version=\"1.1\" viewBox=\"0 0 508 570\" width=\"508px\" x=\"0px\" xml:space=\"preserve\" xmlns=\"http://www.w3.org/2000/svg\" xmlns:xlink=\"http://www.w3.org/1999/xlink\" y=\"0px\">\n<rect fill=\"#FFFFFF\" height=\"570\" width=\"508\" x=\"0\" y=\"0\"/>\n<rect fill=\"#CCCCCC\" height=\"359\" width=\"76\" x=\"224.6\" y=\"131\"/>\n<rect fill=\"#E6E6E6\" height=\"359\" width=\"38\" x=\"300.6\" y=\"131\"/>\n<rect fill=\"#E6E6E6\" height=\"359\" width=\"38\" x=\"186.6\" y=\"131\"/>\n<line fill=\"none\" stroke=\"#000000\" stroke-width=\"1.5\" x1=\"81.6\" x2=\"443.6\" y1=\"131\" y2=\"131\"/>\n<line fill=\"none\" stroke=\"#000000\" stroke-width=\"1.5\" x1=\"81.6\" x2=\"443.6\" y1=\"490\" y2=\"490\"/>\n<polyline fill=\"none\" points=\"81.6,438.5 130.6,438.5 130.6,182.5 81.6,182.5 \" stroke=\"#000000\" stroke-width=\"1.5\"/>\n<polyline fill=\"none\" points=\"443.6,182.5 394.6,182.5 394.6,438.5 443.6,438.5 \" stroke=\"#000000\" stroke-width=\"1.5\"/>\n<g>\n\t<g>\n\t\t<line fill=\"none\" stroke=\"#000000\" stroke-width=\"1.5\" x1=\"186.6\" x2=\"186.6\" y1=\"131\" y2=\"490\"/>\n\t\t<line fill=\"none\" stroke=\"#000000\" stroke-width=\"1.5\" x1=\"224.6\" x2=\"224.6\" y1=\"131\" y2=\"490\"/>\n\t</g>\n\t<g>\n\t\t<line fill=\"none\" stroke=\"#000000\" stroke-width=\"1.5\" x1=\"300.6\" x2=\"300.6\" y1=\"131\" y2=\"490\"/>\n\t\t<line fill=\"none\" stroke=\"#000000\" stroke-width=\"1.5\" x1=\"338.6\" x2=\"338.6\" y1=\"131\" y2=\"490\"/>\n\t</g>\n</g>\n<g>\n\t<g>\n\t\t<circle cx=\"262.8\" cy=\"70.6\" fill=\"none\" r=\"22.28\" stroke=\"#000000\" stroke-width=\"1.5\"/>\n\t\t<path d=\"M242.25,79.25c1.29,2.851,3.02,4.82,5.13,4.82    c7.7,0,10.26-26.03,5.13-26.03s-2.56,26.03,5.13,26.03c7.7,0,10.271-26.03,5.13-26.03c-5.14,0-2.569,26.03,5.13,26.03    c7.7,0,10.261-26.03,5.13-26.03c-5.13,0-2.569,26.03,5.131,26.03c1.93,0,3.529-1.63,4.77-4.07\" fill=\"none\" stroke=\"#000000\" stroke-width=\"1.5\"/>\n\t</g>\n\t<polyline fill=\"none\" points=\"282.95,80 324.15,80 324.15,131  \" stroke=\"#000000\" stroke-width=\"1.5\"/>\n\t<polyline fill=\"none\" points=\"242.25,79.25 201.05,79.25 201.05,130.25  \" stroke=\"#000000\" stroke-width=\"1.5\"/>\n</g>\n<polygon fill=\"#FF4000\" points=\"211.94,153.84 204.67,136.28 197.41,153.84 201.53,153.84 201.53,176.67   207.82,176.67 207.82,153.84 \" stroke=\"#000000\"/>\n<polygon fill=\"#FF4000\" points=\"211.94,231.84 204.67,214.28 197.41,231.84 201.53,231.84 201.53,254.67   207.82,254.67 207.82,231.84 \" stroke=\"#000000\"/>\n<polygon fill=\"#FF4000\" points=\"311.74,196.45 319.01,214 326.27,196.45 322.16,196.45 322.16,173.62   315.86,173.62 315.86,196.45 \" stroke=\"#000000\"/>\n<polygon fill=\"#FF4000\" points=\"305.74,116.45 313.01,134 320.27,116.45 316.16,116.45 316.16,93.62 309.86,93.62   309.86,116.45 \" stroke=\"#000000\"/>\n<polygon fill=\"#FF4000\" points=\"219,76.29 236.56,69.03 219,61.77 219,65.88 196.17,65.88 196.17,72.18 219,72.18   \" stroke=\"#000000\"/>\n<polygon fill=\"#FFBF00\" points=\"112.3,167.75 134.2,158.68 112.3,149.62 112.3,154.75   83.81,154.75 83.81,162.61 112.3,162.61 \" stroke=\"#000000\" stroke-width=\"1.2476\"/>\n<polygon fill=\"#61E1FF\" points=\"414.05,136.62 392.14,145.68 414.05,154.75 414.05,149.61   442.53,149.61 442.53,141.75 414.05,141.75 \" stroke=\"#000000\" stroke-width=\"1.2476\"/>\n<polygon fill=\"#61E1FF\" points=\"428.619,462.41 450.53,453.35 428.619,444.29   428.619,449.42 400.14,449.42 400.14,457.28 428.619,457.28 \" stroke=\"#000000\" stroke-width=\"1.2476\"/>\n<polygon fill=\"#FFBF00\" points=\"99.71,455.29 77.81,464.35 99.71,473.41 99.71,468.28   128.19,468.28 128.19,460.421 99.71,460.421 \" stroke=\"#000000\" stroke-width=\"1.2476\"/>\n<polygon fill=\"#00A0C6\" points=\"428.624,472.091 400.145,472.091 400.145,479.94   428.624,479.94 428.624,485.08 450.525,476.01 428.624,466.95 \" stroke=\"#000000\" stroke-width=\"1.2476\"/>\n<polygon fill=\"#FFBF00\" points=\"191.98,280.41 209.53,271.35 191.98,262.29 191.98,267.42   169.15,267.42 169.15,275.28 191.98,275.28 \" stroke=\"#000000\" stroke-width=\"1.117\"/>\n<polygon fill=\"#FFBF00\" points=\"191.98,323.75 209.53,314.68 191.98,305.62 191.98,310.75   169.15,310.75 169.15,318.61 191.98,318.61 \" stroke=\"#000000\" stroke-width=\"1.117\"/>\n<polygon fill=\"#61E1FF\" points=\"330.03,288.95 312.48,298.01 330.03,307.08 330.03,301.94   352.86,301.94 352.86,294.09 330.03,294.09 \" stroke=\"#000000\" stroke-width=\"1.117\"/>\n<g>\n\t<polygon fill=\"#00A0C6\" points=\"348.979,352.091 326.15,352.091 326.15,359.94    348.979,359.94 348.979,365.08 366.53,356.01 348.979,346.95  \" stroke=\"#000000\" stroke-width=\"1.117\"/>\n\t<polygon fill=\"#00A0C6\" points=\"348.979,378.091 326.15,378.091 326.15,385.94    348.979,385.94 348.979,391.08 366.53,382.01 348.979,372.95  \" stroke=\"#000000\" stroke-width=\"1.117\"/>\n</g>\n<text font-family=\"'Verdana'\" font-size=\"24\" transform=\"matrix(1 0 0 1 203.7644 116.6716)\">e</text>\n<text font-family=\"'Verdana'\" font-size=\"16\" transform=\"matrix(1 0 0 1 218.0642 104.6716)\">–</text>\n<text font-family=\"'Verdana'\" font-size=\"24\" transform=\"matrix(1 0 0 1 195.0974 204.0037)\">e</text>\n<text font-family=\"'Verdana'\" font-size=\"16\" transform=\"matrix(1 0 0 1 209.3977 192.0037)\">–</text>\n<text font-family=\"'Verdana'\" font-size=\"24\" transform=\"matrix(1 0 0 1 308.7659 161.3376)\">e</text>\n<text font-family=\"'Verdana'\" font-size=\"16\" transform=\"matrix(1 0 0 1 323.0647 149.3376)\">–</text>\n<text font-family=\"'Verdana'\" font-size=\"24\" transform=\"matrix(1 0 0 1 308.7659 245.3376)\">e</text>\n<text font-family=\"'Verdana'\" font-size=\"16\" transform=\"matrix(1 0 0 1 323.0647 233.3376)\">–</text>\n<text font-family=\"'Verdana'\" font-size=\"24\" transform=\"matrix(1 0 0 1 250.6736 265.3376)\">H</text>\n<text font-family=\"'Verdana'\" font-size=\"16\" transform=\"matrix(1 0 0 1 269.5637 253.3376)\">+</text>\n<text font-family=\"'Verdana'\" font-size=\"24\" transform=\"matrix(1 0 0 1 250.6736 354.0027)\">H</text>\n<text font-family=\"'Verdana'\" font-size=\"16\" transform=\"matrix(1 0 0 1 269.5637 342.0027)\">+</text>\n<text font-family=\"'Verdana'\" font-size=\"24\" transform=\"matrix(1 0 0 1 400.4885 380.0027)\">Unused</text>\n<text font-family=\"'Verdana'\" font-size=\"24\" transform=\"matrix(1 0 0 1 409.1682 404.0027)\">Gases</text>\n<text font-family=\"'Verdana'\" font-size=\"24\" transform=\"matrix(1 0 0 1 423.5686 428.0027)\">Out</text>\n<text font-family=\"'Verdana'\" font-size=\"24\" transform=\"matrix(1 0 0 1 35.074 392.0027)\">Excess</text>\n<text font-family=\"'Verdana'\" font-size=\"24\" transform=\"matrix(1 0 0 1 24.2439 416.0027)\">   Fuel</text>\n<text font-family=\"'Verdana'\" font-size=\"24\" transform=\"matrix(1 0 0 1 122.2976 526.0037)\">Anode</text>\n<text font-family=\"'Verdana'\" font-size=\"24\" transform=\"matrix(1 0 0 1 330.8538 526.0037)\">Cathode</text>\n<text font-family=\"'Verdana'\" font-size=\"24\" transform=\"matrix(1 0 0 1 200.3181 549.3376)\">Electrolyte</text>\n<text font-family=\"'Verdana'\" font-size=\"24\" transform=\"matrix(1 0 0 1 170.4236 38.6716)\">Electric Current</text>\n<text font-family=\"'Verdana'\" font-size=\"24\" transform=\"matrix(1 0 0 1 373.8538 122.6697)\">Air In</text>\n<text font-family=\"'Verdana'\" font-size=\"24\" transform=\"matrix(1 0 0 1 76.8738 122.6697)\">Fuel In</text>\n<text font-family=\"'Verdana'\" font-size=\"24\" transform=\"matrix(1 0 0 1 342.7551 425.3376)\">H</text>\n<text font-family=\"'Verdana'\" font-size=\"16\" transform=\"matrix(1 0 0 1 360.7952 429.3376)\">2</text>\n<text font-family=\"'Verdana'\" font-size=\"24\" transform=\"matrix(1 0 0 1 370.9651 425.3376)\">O</text>\n<text font-family=\"'Verdana'\" font-size=\"24\" transform=\"matrix(1 0 0 1 146.5613 298.0027)\">H</text>\n<text font-family=\"'Verdana'\" font-size=\"16\" transform=\"matrix(1 0 0 1 164.6013 302.0027)\">2</text>\n<text font-family=\"'Verdana'\" font-size=\"24\" transform=\"matrix(1 0 0 1 346.1311 333.3376)\">O</text>\n<text font-family=\"'Verdana'\" font-size=\"16\" transform=\"matrix(1 0 0 1 365.0217 337.3376)\">2</text>\n<line fill=\"none\" stroke=\"#000000\" stroke-width=\"1.5\" x1=\"196.67\" x2=\"190\" y1=\"490\" y2=\"507.341\"/>\n<line fill=\"none\" stroke=\"#000000\" stroke-width=\"1.5\" x1=\"326.55\" x2=\"333.22\" y1=\"490\" y2=\"507.341\"/>\n<line fill=\"none\" stroke=\"#000000\" stroke-width=\"1.5\" x1=\"261.33\" x2=\"261.33\" y1=\"490\" y2=\"524.671\"/>\n<polygon fill=\"#00A0C6\" points=\"414.81,161.555 392.909,170.615 414.81,179.685   414.81,174.545 443.289,174.545 443.289,166.696 414.81,166.696 \" stroke=\"#000000\" stroke-width=\"1.2476\"/>\n<text font-family=\"'Verdana'\" font-size=\"24\" transform=\"matrix(1 0 0 1 403.9944 212.28)\">H</text>\n<text font-family=\"'Verdana'\" font-size=\"16\" transform=\"matrix(1 0 0 1 422.0344 216.28)\">2</text>\n<text font-family=\"'Verdana'\" font-size=\"24\" transform=\"matrix(1 0 0 1 432.2043 212.28)\">O</text>\n</svg>"
          },
          "metadata": {
            "tags": []
          }
        }
      ]
    },
    {
      "cell_type": "markdown",
      "metadata": {
        "id": "LSYDgX4smqHE",
        "colab_type": "text"
      },
      "source": [
        "\n",
        "\n",
        "系の外部に取り出せる化学反応による仕事\n",
        "\\begin{align*}\n",
        "W_{\\rm out} \\leqq - \\Delta G^\\circ\n",
        "\\end{align*}\n",
        "が電気的な仕事\n",
        "\\begin{align*}\n",
        "W_{\\rm elec} = q \\cdot E^\\circ\n",
        "\\end{align*}\n",
        "に(全て)変換されると考えると, 水の燃焼反応では\n",
        "$$\n",
        "\\ce{H2:e-}={\\rm 1 mol:2 mol}\n",
        "$$\n",
        "で, 外部回路に取り出した電子の物質量 $n=2$を電荷に変換するために Faraday 定数\n",
        "$$\n",
        "\\mathcal{F} = e \\cdot N_A = {\\rm 96485.33212\\ C/mol} \n",
        "\\sim {\\rm 96500\\ C/mol} \n",
        "$$\n",
        "を用いると, $q = n \\mathcal{F}$ の電荷が外部抵抗で仕事をしたことになる.\n",
        "\n",
        "これより得られる電圧(起電力) $E^\\circ$ は\n",
        "$$\n",
        "E^\\circ \\leqq - \\dfrac{\\Delta G^\\circ}{n\\mathcal{F}}\n",
        "$$\n",
        "で得られる.\n",
        "\n",
        "> Q 水の燃焼反応(${\\rm 25 {}^\\circ C}$)から取り出せる(理想的な)起電力を求めて下さい. \n",
        "\n",
        "[NIST-JANAF TT](https://janaf.nist.gov/) \n",
        "\n"
      ]
    },
    {
      "cell_type": "code",
      "metadata": {
        "id": "1pp8_BQHog1E",
        "colab_type": "code",
        "colab": {}
      },
      "source": [
        ""
      ],
      "execution_count": 0,
      "outputs": []
    }
  ]
}