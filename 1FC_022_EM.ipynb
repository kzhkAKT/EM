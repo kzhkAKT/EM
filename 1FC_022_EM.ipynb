{
  "nbformat": 4,
  "nbformat_minor": 0,
  "metadata": {
    "colab": {
      "name": "1FC_022_EM.ipynb",
      "provenance": [],
      "collapsed_sections": [],
      "toc_visible": true,
      "authorship_tag": "ABX9TyOJ8sNvyecbMWsl9fg9yss9",
      "include_colab_link": true
    },
    "kernelspec": {
      "name": "python3",
      "display_name": "Python 3"
    }
  },
  "cells": [
    {
      "cell_type": "markdown",
      "metadata": {
        "id": "view-in-github",
        "colab_type": "text"
      },
      "source": [
        "<a href=\"https://colab.research.google.com/github/kzhkAKT/ErgyMtrlScience/blob/draft/1FC_022_EM.ipynb\" target=\"_parent\"><img src=\"https://colab.research.google.com/assets/colab-badge.svg\" alt=\"Open In Colab\"/></a>"
      ]
    },
    {
      "cell_type": "markdown",
      "metadata": {
        "id": "p4MK6W41krIR",
        "colab_type": "text"
      },
      "source": [
        "# 化学変化とエネルギー\n",
        "\n"
      ]
    },
    {
      "cell_type": "markdown",
      "metadata": {
        "id": "WzlBiH5oktXn",
        "colab_type": "text"
      },
      "source": [
        "## 化学変化とエネルギーの出入り\n",
        "\n",
        "- 標準状態: 25℃, 1 atm\n",
        "- phase\n",
        "-g := gas, l:= liquid, s := solid, aq := aqueous solution\n",
        "\n",
        "[熱化学データ表,NIST-JANAF Thermochemical Tables](https://janaf.nist.gov/)"
      ]
    },
    {
      "cell_type": "markdown",
      "metadata": {
        "id": "Sd8e44pDkywj",
        "colab_type": "text"
      },
      "source": [
        "$\\require{mhchem}$\n",
        "### エンタルピー変化, enthalpy change: $\\Delta H^\\circ$\n",
        "\n",
        "$$\n",
        "\\ce{H_2(g) + \\dfrac{1}{2} O_2(g) \\to H_2O(l)}\n",
        "$$\n",
        "\n",
        "> Q NIST-JANAF TT を利用し, 標準状態における$\\ce{H2O(g)}$ 生成エンタルピー変化 $\\Delta H^\\circ$ を求めよ.\n",
        "\n",
        "<!--\n",
        "$$\n",
        "\\ce{H_2(g) + \\dfrac{1}{2} O_2(g) \\to H_2O(l)}\n",
        "\\qquad\n",
        "\\Delta H^\\circ= {\\rm -286 kJ}\n",
        "$$\n",
        "-->\n"
      ]
    },
    {
      "cell_type": "markdown",
      "metadata": {
        "id": "zeEAbKClk1wn",
        "colab_type": "text"
      },
      "source": [
        "### エントロピー変化, entropy change"
      ]
    },
    {
      "cell_type": "markdown",
      "metadata": {
        "colab_type": "text",
        "id": "XhUMiKFrlBQo"
      },
      "source": [
        "### ギブスのエネルギー変化, Gibbs free energy"
      ]
    },
    {
      "cell_type": "code",
      "metadata": {
        "id": "B_R0OQW4lE0S",
        "colab_type": "code",
        "colab": {}
      },
      "source": [
        ""
      ],
      "execution_count": 0,
      "outputs": []
    }
  ]
}