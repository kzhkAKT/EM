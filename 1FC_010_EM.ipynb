{
  "nbformat": 4,
  "nbformat_minor": 0,
  "metadata": {
    "colab": {
      "name": "1FC_010_EM",
      "provenance": [],
      "toc_visible": true,
      "authorship_tag": "ABX9TyPn/RdpkgLSPAug4TVc4kov",
      "include_colab_link": true
    },
    "kernelspec": {
      "name": "python3",
      "display_name": "Python 3"
    }
  },
  "cells": [
    {
      "cell_type": "markdown",
      "metadata": {
        "id": "view-in-github",
        "colab_type": "text"
      },
      "source": [
        "<a href=\"https://colab.research.google.com/github/kzhkAKT/ErgyMtrlScience/blob/draft/1FC_010_EM.ipynb\" target=\"_parent\"><img src=\"https://colab.research.google.com/assets/colab-badge.svg\" alt=\"Open In Colab\"/></a>"
      ]
    },
    {
      "cell_type": "markdown",
      "metadata": {
        "id": "Tp3ZcHG1EBId",
        "colab_type": "text"
      },
      "source": [
        "# 燃料電池"
      ]
    },
    {
      "cell_type": "markdown",
      "metadata": {
        "id": "sJmPq5lAEDtK",
        "colab_type": "text"
      },
      "source": [
        "## アルカリ形燃料電池\n",
        "\n",
        "アルカリ電解質形燃料電池, Alkaline fuel cell\n",
        "\n",
        "![https://doi.org/10.1186/2043-7129-1-16](https://media.springernature.com/full/springer-static/image/art%3A10.1186%2F2043-7129-1-16/MediaObjects/40508_2013_Article_16_Fig2_HTML.jpg?as=webp)\n",
        "\n",
        "![https://commons.wikimedia.org/wiki/File:Apollo_SM_fuel_cell.jpg](https://upload.wikimedia.org/wikipedia/commons/thumb/8/81/Apollo_SM_fuel_cell.jpg/400px-Apollo_SM_fuel_cell.jpg)"
      ]
    },
    {
      "cell_type": "markdown",
      "metadata": {
        "id": "GmQfBE9cH99W",
        "colab_type": "text"
      },
      "source": [
        "## リン酸形燃料電池\n",
        "\n",
        "Phosphoric acid fuel cell (PFC)"
      ]
    },
    {
      "cell_type": "code",
      "metadata": {
        "id": "LnX5NrzkIAbX",
        "colab_type": "code",
        "colab": {
          "base_uri": "https://localhost:8080/",
          "height": 551
        },
        "cellView": "form",
        "outputId": "e0a3b886-811b-4fd7-f649-6619557c0d7e"
      },
      "source": [
        "#@title PFC\n",
        "%%svg\n",
        "https://upload.wikimedia.org/wikipedia/commons/6/63/Proton_Exchange_Fuel_Cell_Diagram.svg"
      ],
      "execution_count": 2,
      "outputs": [
        {
          "output_type": "display_data",
          "data": {
            "text/plain": [
              "<IPython.core.display.SVG object>"
            ],
            "image/svg+xml": "<svg height=\"530\" id=\"Layer_2\" inkscape:version=\"0.91 r13725\" sodipodi:docname=\"Proton_Exchange_Fuel_Cell.svg\" style=\"overflow:visible\" version=\"1.1\" viewBox=\"0 0 499.99999 530\" width=\"500\" xml:space=\"preserve\" xmlns=\"http://www.w3.org/2000/svg\" xmlns:cc=\"http://creativecommons.org/ns#\" xmlns:dc=\"http://purl.org/dc/elements/1.1/\" xmlns:inkscape=\"http://www.inkscape.org/namespaces/inkscape\" xmlns:rdf=\"http://www.w3.org/1999/02/22-rdf-syntax-ns#\" xmlns:sodipodi=\"http://sodipodi.sourceforge.net/DTD/sodipodi-0.dtd\" xmlns:svg=\"http://www.w3.org/2000/svg\"><metadata id=\"metadata169\"><rdf:RDF><cc:Work rdf:about=\"\"><dc:format>image/svg+xml</dc:format><dc:type rdf:resource=\"http://purl.org/dc/dcmitype/StillImage\"/><dc:title/></cc:Work></rdf:RDF></metadata><defs id=\"defs167\"/><sodipodi:namedview bordercolor=\"#666666\" borderopacity=\"1\" fit-margin-bottom=\"0\" fit-margin-left=\"0\" fit-margin-right=\"0\" fit-margin-top=\"0\" gridtolerance=\"10\" guidetolerance=\"10\" id=\"namedview165\" inkscape:current-layer=\"Layer_2\" inkscape:cx=\"499.50404\" inkscape:cy=\"183.68738\" inkscape:pageopacity=\"1\" inkscape:pageshadow=\"2\" inkscape:window-height=\"837\" inkscape:window-maximized=\"1\" inkscape:window-width=\"1600\" inkscape:window-x=\"-8\" inkscape:window-y=\"-8\" inkscape:zoom=\"1.6561403\" objecttolerance=\"10\" pagecolor=\"#ffffff\" showgrid=\"false\"/><rect height=\"359\" id=\"rect5\" style=\"fill:#cccccc\" width=\"76\" x=\"200.60493\" y=\"106.63381\"/><rect height=\"359\" id=\"rect7\" style=\"fill:#e6e6e6\" width=\"38\" x=\"276.60492\" y=\"106.63381\"/><rect height=\"359\" id=\"rect9\" style=\"fill:#e6e6e6\" width=\"38\" x=\"162.60493\" y=\"106.63381\"/><line id=\"line11\" style=\"fill:none;stroke:#000000;stroke-width:1.5\" x1=\"57.604919\" x2=\"419.60492\" y1=\"106.63381\" y2=\"106.63381\"/><line id=\"line13\" style=\"fill:none;stroke:#000000;stroke-width:1.5\" x1=\"57.604919\" x2=\"419.60492\" y1=\"465.63382\" y2=\"465.63382\"/><polyline id=\"polyline15\" points=\"81.6,438.5 130.6,438.5 130.6,182.5 81.6,182.5 \" style=\"fill:none;stroke:#000000;stroke-width:1.5\" transform=\"translate(-23.995067,-24.366172)\"/><polyline id=\"polyline17\" points=\"443.6,182.5 394.6,182.5 394.6,438.5 443.6,438.5 \" style=\"fill:none;stroke:#000000;stroke-width:1.5\" transform=\"translate(-23.995067,-24.366172)\"/><g id=\"g19\" transform=\"translate(-23.995067,-24.366172)\"><g id=\"g21\"><line id=\"line23\" style=\"fill:none;stroke:#000000;stroke-width:1.5\" x1=\"186.60001\" x2=\"186.60001\" y1=\"131\" y2=\"490\"/><line id=\"line25\" style=\"fill:none;stroke:#000000;stroke-width:1.5\" x1=\"224.60001\" x2=\"224.60001\" y1=\"131\" y2=\"490\"/></g><g id=\"g27\"><line id=\"line29\" style=\"fill:none;stroke:#000000;stroke-width:1.5\" x1=\"300.60001\" x2=\"300.60001\" y1=\"131\" y2=\"490\"/><line id=\"line31\" style=\"fill:none;stroke:#000000;stroke-width:1.5\" x1=\"338.60001\" x2=\"338.60001\" y1=\"131\" y2=\"490\"/></g></g><g id=\"g33\" transform=\"translate(-23.995067,-24.366172)\"><g id=\"g35\"><circle cx=\"262.79999\" cy=\"70.599998\" id=\"circle37\" r=\"22.280001\" style=\"fill:none;stroke:#000000;stroke-width:1.5\"/><path d=\"m 242.25,79.25 c 1.29,2.85 3.02,4.82 5.13,4.82 7.7,0 10.26,-26.03 5.13,-26.03 -5.13,0 -2.56,26.03 5.13,26.03 7.7,0 10.27,-26.03 5.13,-26.03 -5.14,0 -2.57,26.03 5.13,26.03 7.7,0 10.26,-26.03 5.13,-26.03 -5.13,0 -2.57,26.03 5.13,26.03 1.93,0 3.53,-1.63 4.77,-4.07\" id=\"path39\" inkscape:connector-curvature=\"0\" style=\"fill:none;stroke:#000000;stroke-width:1.5\"/></g><polyline id=\"polyline41\" points=\"282.95,80 324.15,80 324.15,131  \" style=\"fill:none;stroke:#000000;stroke-width:1.5\"/><polyline id=\"polyline43\" points=\"242.25,79.25 201.05,79.25 201.05,130.25  \" style=\"fill:none;stroke:#000000;stroke-width:1.5\"/></g><polygon id=\"polygon45\" points=\"211.94,153.84 204.67,136.28 197.41,153.84 201.53,153.84 201.53,176.67 207.82,176.67 207.82,153.84 \" style=\"fill:#ff4000;stroke:#000000\" transform=\"translate(-23.995067,-24.366172)\"/><polygon id=\"polygon47\" points=\"211.94,231.84 204.67,214.28 197.41,231.84 201.53,231.84 201.53,254.67 207.82,254.67 207.82,231.84 \" style=\"fill:#ff4000;stroke:#000000\" transform=\"translate(-23.995067,-24.366172)\"/><polygon id=\"polygon49\" points=\"311.74,196.45 319.01,214 326.27,196.45 322.16,196.45 322.16,173.62 315.86,173.62 315.86,196.45 \" style=\"fill:#ff4000;stroke:#000000\" transform=\"translate(-23.995067,-24.366172)\"/><polygon id=\"polygon51\" points=\"305.74,116.45 313.01,134 320.27,116.45 316.16,116.45 316.16,93.62 309.86,93.62 309.86,116.45 \" style=\"fill:#ff4000;stroke:#000000\" transform=\"translate(-23.995067,-24.366172)\"/><polygon id=\"polygon53\" points=\"219,76.29 236.56,69.03 219,61.77 219,65.88 196.17,65.88 196.17,72.18 219,72.18 \" style=\"fill:#ff4000;stroke:#000000\" transform=\"translate(-23.995067,-24.366172)\"/><polygon id=\"polygon55\" points=\"112.3,167.75 134.2,158.68 112.3,149.62 112.3,154.75 83.81,154.75 83.81,162.61 112.3,162.61 \" style=\"fill:#ffbf00;stroke:#000000;stroke-width:1.24759996\" transform=\"translate(-23.995067,-24.366172)\"/><polygon id=\"polygon57\" points=\"413.05,149.62 391.14,158.68 413.05,167.75 413.05,162.61 441.53,162.61 441.53,154.75 413.05,154.75 \" style=\"fill:#61e1ff;stroke:#000000;stroke-width:1.24759996\" transform=\"translate(-23.995067,-24.366172)\"/><polygon id=\"polygon59\" points=\"449.53,462.68 427.62,453.62 427.62,458.75 399.14,458.75 399.14,466.61 427.62,466.61 427.62,471.74 \" style=\"fill:#61e1ff;stroke:#000000;stroke-width:1.24759996\" transform=\"translate(-23.995067,-33.759307)\"/><polygon id=\"polygon61\" points=\"99.71,447.42 99.71,442.29 77.81,451.35 99.71,460.41 99.71,455.28 128.19,455.28 128.19,447.42 \" style=\"fill:#ffbf00;stroke:#000000;stroke-width:1.24759996\" transform=\"translate(-23.995067,-12.366172)\"/><polygon id=\"polygon63\" points=\"128.19,472.09 99.71,472.09 99.71,466.95 77.81,476.01 99.71,485.08 99.71,479.94 128.19,479.94 \" style=\"fill:#00a0c6;stroke:#000000;stroke-width:1.24759996\" transform=\"matrix(-1,0,0,1,503.3789,-25.923062)\"/><polygon id=\"polygon65\" points=\"191.98,280.41 209.53,271.35 191.98,262.29 191.98,267.42 169.15,267.42 169.15,275.28 191.98,275.28 \" style=\"fill:#ffbf00;stroke:#000000;stroke-width:1.11699998\" transform=\"translate(-23.995067,-24.366172)\"/><polygon id=\"polygon67\" points=\"191.98,323.75 209.53,314.68 191.98,305.62 191.98,310.75 169.15,310.75 169.15,318.61 191.98,318.61 \" style=\"fill:#ffbf00;stroke:#000000;stroke-width:1.11699998\" transform=\"translate(-23.995067,-24.366172)\"/><polygon id=\"polygon69\" points=\"330.03,288.95 312.48,298.01 330.03,307.08 330.03,301.94 352.86,301.94 352.86,294.09 330.03,294.09 \" style=\"fill:#61e1ff;stroke:#000000;stroke-width:1.11699998\" transform=\"translate(-23.995067,-24.366172)\"/><polygon id=\"polygon71\" points=\"186.7,359.08 186.7,353.94 209.53,353.94 209.53,346.09 186.7,346.09 186.7,340.95 169.15,350.01 \" style=\"fill:#00a0c6;stroke:#000000;stroke-width:1.11699998\" transform=\"matrix(-1,0,0,1,507.73229,-17.534801)\"/><polygon id=\"polygon73\" points=\"186.7,385.08 186.7,379.94 209.53,379.94 209.53,372.09 186.7,372.09 186.7,366.95 169.15,376.01 \" style=\"fill:#00a0c6;stroke:#000000;stroke-width:1.11699998\" transform=\"matrix(-1,0,0,1,507.73229,-17.534801)\"/><text id=\"text75\" x=\"179.76953\" y=\"92.304718\"><tspan id=\"tspan77\" style=\"font-style:normal;font-variant:normal;font-weight:normal;font-stretch:normal;font-size:25px;font-family:sans-serif;-inkscape-font-specification:sans-serif\" x=\"179.76953\" y=\"92.304718\">e<tspan dy=\"-9.0572033\" id=\"tspan4372\" style=\"font-size:16.25px\">−</tspan></tspan></text>\n<text id=\"text81\" x=\"171.10263\" y=\"179.63773\"><tspan dy=\"0\" id=\"tspan83\" style=\"font-style:normal;font-variant:normal;font-weight:normal;font-stretch:normal;font-size:25px;font-family:sans-serif;-inkscape-font-specification:sans-serif\" x=\"171.10263\" y=\"179.63773\">e<tspan dy=\"-9.0572033\" id=\"tspan4370\" style=\"font-size:16.25px\">−</tspan></tspan></text>\n<text id=\"text87\" x=\"284.77054\" y=\"136.97072\"><tspan id=\"tspan89\" style=\"font-style:normal;font-variant:normal;font-weight:normal;font-stretch:normal;font-size:25px;font-family:sans-serif;-inkscape-font-specification:sans-serif\" x=\"284.77054\" y=\"136.97072\">e<tspan dy=\"-9.0572033\" id=\"tspan4368\" style=\"font-size:16.25px\">−</tspan></tspan></text>\n<text id=\"text93\" x=\"284.77054\" y=\"220.97072\"><tspan id=\"tspan95\" style=\"font-style:normal;font-variant:normal;font-weight:normal;font-stretch:normal;font-size:25px;font-family:sans-serif;-inkscape-font-specification:sans-serif\" x=\"284.77054\" y=\"220.97072\">e<tspan dy=\"-9.0572033\" id=\"tspan4382\" style=\"font-size:16.25px\">−</tspan></tspan></text>\n<text id=\"text99\" x=\"226.67873\" y=\"240.97072\"><tspan id=\"tspan101\" style=\"font-style:normal;font-variant:normal;font-weight:normal;font-stretch:normal;font-size:25px;font-family:sans-serif;-inkscape-font-specification:sans-serif\" x=\"226.67873\" y=\"240.97072\">H<tspan dy=\"-8.5392122\" id=\"tspan4380\" style=\"font-size:16.25px\">+</tspan></tspan></text>\n<text id=\"text105\" x=\"226.67873\" y=\"329.63672\"><tspan id=\"tspan107\" style=\"font-style:normal;font-variant:normal;font-weight:normal;font-stretch:normal;font-size:25px;font-family:sans-serif;-inkscape-font-specification:sans-serif\" x=\"226.67873\" y=\"329.63672\">H<tspan dy=\"-8.5392122\" id=\"tspan4378\" style=\"font-size:16.25px\">+</tspan></tspan></text>\n<text id=\"text127\" style=\"font-size:24px;font-family:'Bitstream Vera Sans', Verdana, sans-serif\" x=\"98.302826\" y=\"501.63672\"><tspan id=\"tspan4364\" style=\"font-style:normal;font-variant:normal;font-weight:normal;font-stretch:normal;font-size:25px;font-family:sans-serif;-inkscape-font-specification:sans-serif\">Anode</tspan></text>\n<text id=\"text129\" style=\"font-size:24px;font-family:'Bitstream Vera Sans', Verdana, sans-serif\" x=\"306.85843\" y=\"501.63672\"><tspan id=\"tspan4348\" style=\"font-style:normal;font-variant:normal;font-weight:normal;font-stretch:normal;font-size:25px;font-family:sans-serif;-inkscape-font-specification:sans-serif\">Cathode</tspan></text>\n<text id=\"text131\" style=\"font-size:24px;font-family:'Bitstream Vera Sans', Verdana, sans-serif\" x=\"176.32333\" y=\"524.9707\"><tspan id=\"tspan4346\" style=\"font-style:normal;font-variant:normal;font-weight:normal;font-stretch:normal;font-size:25px;font-family:sans-serif;-inkscape-font-specification:sans-serif\">Electrolyte</tspan></text>\n<text id=\"text139\" x=\"316.91669\" y=\"390.70114\"><tspan dy=\"0 0 -6.038136\" id=\"tspan141\" style=\"font-style:normal;font-variant:normal;font-weight:normal;font-stretch:normal;font-size:25px;font-family:sans-serif;-inkscape-font-specification:sans-serif\" x=\"316.91669\" y=\"390.70114\">H<tspan dy=\"6.038136\" id=\"tspan4388\" style=\"font-size:16.25px\">2</tspan>O</tspan></text>\n<text id=\"text147\" x=\"122.56644\" y=\"273.63672\"><tspan id=\"tspan149\" style=\"font-style:normal;font-variant:normal;font-weight:normal;font-stretch:normal;font-size:25px;font-family:sans-serif;-inkscape-font-specification:sans-serif\" x=\"122.56644\" y=\"273.63672\">H<tspan dy=\"6.038136\" id=\"tspan4384\" style=\"font-size:16.25px\">2</tspan></tspan></text>\n<text id=\"text153\" x=\"322.13672\" y=\"308.97073\"><tspan id=\"tspan155\" style=\"font-style:normal;font-variant:normal;font-weight:normal;font-stretch:normal;font-size:25px;font-family:sans-serif;-inkscape-font-specification:sans-serif\" x=\"322.13672\" y=\"308.97073\">O<tspan dy=\"6.038136\" id=\"tspan4386\" style=\"font-size:16.25px\">2</tspan></tspan></text>\n<line id=\"line159\" style=\"fill:none;stroke:#000000;stroke-width:1.5\" x1=\"172.67493\" x2=\"166.00493\" y1=\"465.63382\" y2=\"482.97382\"/><line id=\"line161\" style=\"fill:none;stroke:#000000;stroke-width:1.5\" x1=\"302.55493\" x2=\"309.22491\" y1=\"465.63382\" y2=\"482.97382\"/><line id=\"line163\" style=\"fill:none;stroke:#000000;stroke-width:1.5\" x1=\"237.33492\" x2=\"237.33492\" y1=\"465.63382\" y2=\"500.3038\"/><text id=\"text4315\" sodipodi:linespacing=\"125%\" style=\"font-style:normal;font-weight:normal;font-size:25px;line-height:125%;font-family:sans-serif;text-align:center;letter-spacing:0px;word-spacing:0px;text-anchor:middle;fill:#000000;fill-opacity:1;stroke:none;stroke-width:1px;stroke-linecap:butt;stroke-linejoin:miter;stroke-opacity:1\" x=\"50.561523\" xml:space=\"preserve\" y=\"373.99564\"><tspan id=\"tspan4317\" sodipodi:role=\"line\" x=\"50.561523\" y=\"373.99564\">Excess</tspan><tspan id=\"tspan4319\" sodipodi:role=\"line\" x=\"50.561523\" y=\"405.24564\">fuel out</tspan></text>\n<text id=\"text4321\" sodipodi:linespacing=\"125%\" style=\"font-style:normal;font-weight:normal;font-size:25px;line-height:125%;font-family:sans-serif;letter-spacing:0px;word-spacing:0px;fill:#000000;fill-opacity:1;stroke:none;stroke-width:1px;stroke-linecap:butt;stroke-linejoin:miter;stroke-opacity:1\" x=\"36.633362\" xml:space=\"preserve\" y=\"101.59473\"><tspan id=\"tspan4323\" sodipodi:role=\"line\" x=\"36.633362\" y=\"101.59473\">Fuel in</tspan></text>\n<text id=\"text4325\" sodipodi:linespacing=\"125%\" style=\"font-style:normal;font-weight:normal;font-size:25px;line-height:125%;font-family:sans-serif;letter-spacing:0px;word-spacing:0px;fill:#000000;fill-opacity:1;stroke:none;stroke-width:1px;stroke-linecap:butt;stroke-linejoin:miter;stroke-opacity:1\" x=\"375.64014\" xml:space=\"preserve\" y=\"101.59473\"><tspan id=\"tspan4327\" sodipodi:role=\"line\" x=\"375.64014\" y=\"101.59473\">Air in</tspan></text>\n<text id=\"text4329\" sodipodi:linespacing=\"125%\" style=\"font-style:normal;font-weight:normal;font-size:40px;line-height:125%;font-family:sans-serif;letter-spacing:0px;word-spacing:0px;fill:#000000;fill-opacity:1;stroke:none;stroke-width:1px;stroke-linecap:butt;stroke-linejoin:miter;stroke-opacity:1\" x=\"237.66786\" xml:space=\"preserve\" y=\"19.618286\"><tspan id=\"tspan4331\" sodipodi:role=\"line\" style=\"font-size:25px;text-align:center;text-anchor:middle\" x=\"237.66786\" y=\"19.618286\">Electric current</tspan></text>\n<text id=\"text4333\" sodipodi:linespacing=\"125%\" style=\"font-style:normal;font-weight:normal;font-size:40px;line-height:125%;font-family:sans-serif;text-align:center;letter-spacing:0px;word-spacing:0px;text-anchor:middle;fill:#000000;fill-opacity:1;stroke:none;stroke-width:1px;stroke-linecap:butt;stroke-linejoin:miter;stroke-opacity:1\" x=\"436.95923\" xml:space=\"preserve\" y=\"340.69269\"><tspan id=\"tspan4335\" sodipodi:role=\"line\" style=\"font-size:25px\" x=\"436.95923\" y=\"340.69269\">Unused</tspan><tspan id=\"tspan4337\" sodipodi:role=\"line\" style=\"font-size:25px\" x=\"436.95923\" y=\"371.94269\">air, water,</tspan><tspan id=\"tspan4339\" sodipodi:role=\"line\" style=\"font-size:25px\" x=\"436.95923\" y=\"403.19269\">and heat</tspan></text>\n</svg>"
          },
          "metadata": {
            "tags": []
          }
        }
      ]
    },
    {
      "cell_type": "markdown",
      "metadata": {
        "id": "maTGF7l6JUWa",
        "colab_type": "text"
      },
      "source": [
        "![https://commons.wikimedia.org/wiki/File:PureCell_System_400_CEP.jpg](https://upload.wikimedia.org/wikipedia/commons/thumb/2/2f/PureCell_System_400_CEP.jpg/640px-PureCell_System_400_CEP.jpg)"
      ]
    },
    {
      "cell_type": "markdown",
      "metadata": {
        "id": "wg8lFyx6JjGU",
        "colab_type": "text"
      },
      "source": [
        "## 固体高分子型燃料電池\n",
        "polymer electrolyte fuel cell (PEFC)\n",
        "\n",
        "![https://en.wikipedia.org/wiki/Proton-exchange_membrane_fuel_cell](https://upload.wikimedia.org/wikipedia/commons/c/ce/Pem.fuelcell2.gif)"
      ]
    },
    {
      "cell_type": "markdown",
      "metadata": {
        "id": "2lmC7DNMKOJD",
        "colab_type": "text"
      },
      "source": [
        "## 溶解炭酸塩形燃料電池\n",
        "\n",
        "Molten carbonate fuel cell (MCFC)\n",
        "\n",
        "![https://en.wikipedia.org/wiki/Molten_carbonate_fuel_cell](https://upload.wikimedia.org/wikipedia/commons/0/0b/Fcell_diagram_molten_carbonate.gif)"
      ]
    }
  ]
}