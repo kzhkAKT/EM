{
  "nbformat": 4,
  "nbformat_minor": 0,
  "metadata": {
    "colab": {
      "name": "2SC_000_EM",
      "provenance": [],
      "collapsed_sections": [],
      "authorship_tag": "ABX9TyMGYP8kyegmZCYIAHOO1doX",
      "include_colab_link": true
    },
    "kernelspec": {
      "name": "python3",
      "display_name": "Python 3"
    }
  },
  "cells": [
    {
      "cell_type": "markdown",
      "metadata": {
        "id": "view-in-github",
        "colab_type": "text"
      },
      "source": [
        "<a href=\"https://colab.research.google.com/github/kzhkAKT/ErgyMtrlScience/blob/draft/2SC_000_EM.ipynb\" target=\"_parent\"><img src=\"https://colab.research.google.com/assets/colab-badge.svg\" alt=\"Open In Colab\"/></a>"
      ]
    },
    {
      "cell_type": "markdown",
      "metadata": {
        "id": "XA_kEFyIy2Yv",
        "colab_type": "text"
      },
      "source": [
        "# 超伝導"
      ]
    },
    {
      "cell_type": "markdown",
      "metadata": {
        "id": "er37OwgBw_wq",
        "colab_type": "text"
      },
      "source": [
        "## 基礎原理の歴史\n",
        "\n",
        "https://history.aip.org/exhibits/mod/superconductivity/02.html"
      ]
    },
    {
      "cell_type": "markdown",
      "metadata": {
        "id": "bsV2fSIFxHTm",
        "colab_type": "text"
      },
      "source": [
        "## リニア新幹線"
      ]
    },
    {
      "cell_type": "code",
      "metadata": {
        "id": "M17Ja0L_0WOI",
        "colab_type": "code",
        "colab": {
          "base_uri": "https://localhost:8080/",
          "height": 336
        },
        "cellView": "form",
        "outputId": "94fdfaa8-3672-4d7c-983d-5f54c4cef504"
      },
      "source": [
        "#@title 磁気浮上\n",
        "%%html\n",
        "<iframe width=\"560\" height=\"315\" src=\"https://www.youtube-nocookie.com/embed/zPqEEZa2Gis\" frameborder=\"0\" allow=\"accelerometer; autoplay; encrypted-media; gyroscope; picture-in-picture\" allowfullscreen></iframe>"
      ],
      "execution_count": null,
      "outputs": [
        {
          "output_type": "display_data",
          "data": {
            "text/html": [
              "<iframe width=\"560\" height=\"315\" src=\"https://www.youtube-nocookie.com/embed/zPqEEZa2Gis\" frameborder=\"0\" allow=\"accelerometer; autoplay; encrypted-media; gyroscope; picture-in-picture\" allowfullscreen></iframe>"
            ],
            "text/plain": [
              "<IPython.core.display.HTML object>"
            ]
          },
          "metadata": {
            "tags": []
          }
        }
      ]
    },
    {
      "cell_type": "markdown",
      "metadata": {
        "id": "_apD-lJx2TBL",
        "colab_type": "text"
      },
      "source": [
        "## 低温技術\n",
        "\n",
        "https://www.jps.or.jp/information/2019/12/helium.php\n",
        "\n",
        "https://physicstoday.scitation.org/do/10.1063/PT.6.2.20200605a/full/\n",
        "\n",
        "### 事故症例\n",
        "\n",
        "http://tsuyu.cocolog-nifty.com/blog/2012/07/post-c6dd.html\n",
        "\n",
        "https://www.sankei.com/west/news/150707/wst1507070047-n1.html\n",
        "\n"
      ]
    }
  ]
}