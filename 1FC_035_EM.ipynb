{
  "nbformat": 4,
  "nbformat_minor": 0,
  "metadata": {
    "colab": {
      "name": "1FC_035_EM",
      "provenance": [],
      "authorship_tag": "ABX9TyMKlGHlzWZSKlt/I/pRsXJt",
      "include_colab_link": true
    },
    "kernelspec": {
      "name": "python3",
      "display_name": "Python 3"
    }
  },
  "cells": [
    {
      "cell_type": "markdown",
      "metadata": {
        "id": "view-in-github",
        "colab_type": "text"
      },
      "source": [
        "<a href=\"https://colab.research.google.com/github/kzhkAKT/ErgyMtrlScience/blob/master/1FC_035_EM.ipynb\" target=\"_parent\"><img src=\"https://colab.research.google.com/assets/colab-badge.svg\" alt=\"Open In Colab\"/></a>"
      ]
    },
    {
      "cell_type": "markdown",
      "metadata": {
        "id": "5_Mbq8IJax1y",
        "colab_type": "text"
      },
      "source": [
        "# 電極電位"
      ]
    },
    {
      "cell_type": "markdown",
      "metadata": {
        "id": "PCNpduEfa04G",
        "colab_type": "text"
      },
      "source": [
        "## ネルンストの式\n",
        "$\\require{mhchem}$\n",
        "\n",
        "$E^\\circ$ は 活量 $a=1$ の基準状態でした. $a\\neq 1$ では $\\tilde{\\mu}$ を利用し, 次のような酸化体 P,Q と 還元体 X,Y が n mol の電子授受を生じる平衡を考えます. このとき反応で生じる電圧を $E$ とすると\n",
        "\\begin{align*}\n",
        "p\\ce{P} + q\\ce{Q} + n\\ce{e- &<=>}  x\\ce{X} + y\\ce{Y}&\\\\\n",
        "p\\tilde{\\mu_{\\ce{P}}} + q\\tilde{\\mu_{\\ce{Q}}} + (-n\\mathcal{F}) E \n",
        "&= x\\tilde{\\mu_{\\ce{X}}} + y\\tilde{\\mu_{\\ce{Y}}}&\\\\\n",
        "\\end{align*}\n",
        "へ\n",
        "\\begin{align*}\n",
        "\\tilde{\\mu}_{\\ce{P,Q,X,Y}} &= \\mu^\\circ_{\\ce{P,Q,X,Y}} + RT \\ln a_{(\\ce{P,Q,X,Y})} + z\\mathcal{F}E&\n",
        "\\end{align*}\n",
        "を代入すると\n",
        "\\begin{align*}\n",
        "n \\mathcal{F} E &=\n",
        "(-x\\tilde{\\mu}^\\circ_{\\ce{X}}\n",
        "-y\\tilde{\\mu}^\\circ_{\\ce{Y}}\n",
        "+p\\tilde{\\mu}^\\circ_{\\ce{P}}\n",
        "+p\\tilde{\\mu}^\\circ_{\\ce{P}})\n",
        "+ RT \\ln \\dfrac{a_{\\ce{P}}^p \\cdot a_{\\ce{Q}}^q}\n",
        "{a_{\\ce{X}}^x \\cdot a_{\\ce{Y}}^y} &\\\\\n",
        "&= n \\mathcal{F}E^\\circ + RT \\ln \\dfrac{a_{\\ce{P}}^p \\cdot a_{\\ce{Q}}^q}\n",
        "{a_{\\ce{X}}^x \\cdot a_{\\ce{Y}}^y}&\n",
        "\\end{align*}\n",
        "この式を **ネルンストの式** といいます. $E^\\circ$ は標準電極電位を定義にしたがい決めました.\n",
        "\n",
        "25℃(298.15K) では\n",
        "\\begin{align*}\n",
        "E &= E^\\circ \n",
        "+ \\dfrac{RT}{n\\mathcal{F}} \\ln \\dfrac{a_{\\ce{P}}^p \\cdot a_{\\ce{Q}}^q}\n",
        "{a_{\\ce{X}}^x \\cdot a_{\\ce{Y}}^y}&\\\\\n",
        "&= E^\\circ + \n",
        "(0.059/n)\n",
        "\\log_{10} \\dfrac{a_{\\ce{P}}^p \\cdot a_{\\ce{Q}}^q}\n",
        "{a_{\\ce{X}}^x \\cdot a_{\\ce{Y}}^y}&\n",
        "\\end{align*}\n",
        "となります. また, 次のような酸化体 O と還元体 R の電子授受平衡であれば\n",
        "\\begin{align*}\n",
        "\\ce{O} + n \\ce{e- <=> R}&\n",
        "\\end{align*}\n",
        "\\begin{align*}\n",
        "E &= E^\\circ + \n",
        "(0.059/n)\n",
        "\\log_{10} \\dfrac{a_{\\ce{O}}}{a_{\\ce{R}}}&\n",
        "\\end{align*}\n",
        "\n"
      ]
    },
    {
      "cell_type": "markdown",
      "metadata": {
        "id": "QTuSKfYUgxX-",
        "colab_type": "text"
      },
      "source": [
        "### 適用例\n",
        "\n",
        ">> この適応例を課題として出題します"
      ]
    }
  ]
}