{
  "nbformat": 4,
  "nbformat_minor": 0,
  "metadata": {
    "colab": {
      "name": "1FC_035_EM",
      "provenance": [],
      "authorship_tag": "ABX9TyNz/sxEjCyTBiJ3L7zujKS1",
      "include_colab_link": true
    },
    "kernelspec": {
      "name": "python3",
      "display_name": "Python 3"
    }
  },
  "cells": [
    {
      "cell_type": "markdown",
      "metadata": {
        "id": "view-in-github",
        "colab_type": "text"
      },
      "source": [
        "<a href=\"https://colab.research.google.com/github/kzhkAKT/ErgyMtrlScience/blob/draft/1FC_035_EM.ipynb\" target=\"_parent\"><img src=\"https://colab.research.google.com/assets/colab-badge.svg\" alt=\"Open In Colab\"/></a>"
      ]
    },
    {
      "cell_type": "markdown",
      "metadata": {
        "id": "5_Mbq8IJax1y"
      },
      "source": [
        "# 電極電位"
      ]
    },
    {
      "cell_type": "markdown",
      "metadata": {
        "id": "PCNpduEfa04G"
      },
      "source": [
        "## ネルンストの式\n",
        "$\\require{mhchem}$\n",
        "\n",
        "$E^\\circ$ は 活量 $a=1$ の基準状態でした. $a\\neq 1$ では $\\tilde{\\mu}$ を利用し, 次のような酸化体 P,Q と 還元体 X,Y が n mol の電子授受を生じる平衡を考えます. このとき反応で生じる電圧を $E$ とすると\n",
        "\\begin{align*}\n",
        "p\\ce{P} + q\\ce{Q} + n\\ce{e- &<=>}  x\\ce{X} + y\\ce{Y}&\\\\\n",
        "p\\tilde{\\mu_{\\ce{P}}} + q\\tilde{\\mu_{\\ce{Q}}} + (-n\\mathcal{F}) E \n",
        "&= x\\tilde{\\mu_{\\ce{X}}} + y\\tilde{\\mu_{\\ce{Y}}}&\\\\\n",
        "\\end{align*}\n",
        "へ\n",
        "\\begin{align*}\n",
        "\\tilde{\\mu}_{\\ce{P,Q,X,Y}} &= \\mu^\\circ_{\\ce{P,Q,X,Y}} + RT \\ln a_{(\\ce{P,Q,X,Y})} &\n",
        "\\end{align*}\n",
        "を代入すると\n",
        "\\begin{align*}\n",
        "n \\mathcal{F} E &=\n",
        "(-x\\tilde{\\mu}^\\circ_{\\ce{X}}\n",
        "-y\\tilde{\\mu}^\\circ_{\\ce{Y}}\n",
        "+p\\tilde{\\mu}^\\circ_{\\ce{P}}\n",
        "+p\\tilde{\\mu}^\\circ_{\\ce{P}})\n",
        "+ RT \\ln \\dfrac{a_{\\ce{P}}^p \\cdot a_{\\ce{Q}}^q}\n",
        "{a_{\\ce{X}}^x \\cdot a_{\\ce{Y}}^y} &\\\\\n",
        "&= n \\mathcal{F}E^\\circ + RT \\ln \\dfrac{a_{\\ce{P}}^p \\cdot a_{\\ce{Q}}^q}\n",
        "{a_{\\ce{X}}^x \\cdot a_{\\ce{Y}}^y}&\n",
        "\\end{align*}\n",
        "この式を **ネルンストの式** といいます. $E^\\circ$ は標準電極電位を定義にしたがい決めました.\n",
        "\n",
        "25℃(298.15K) では\n",
        "\\begin{align*}\n",
        "E &= E^\\circ \n",
        "+ \\dfrac{RT}{n\\mathcal{F}} \\ln \\dfrac{a_{\\ce{P}}^p \\cdot a_{\\ce{Q}}^q}\n",
        "{a_{\\ce{X}}^x \\cdot a_{\\ce{Y}}^y}&\\\\\n",
        "&= E^\\circ + \n",
        "(0.059/n)\n",
        "\\log_{10} \\dfrac{a_{\\ce{P}}^p \\cdot a_{\\ce{Q}}^q}\n",
        "{a_{\\ce{X}}^x \\cdot a_{\\ce{Y}}^y}&\n",
        "\\end{align*}\n",
        "となります. また, 次のような酸化体 O と還元体 R の電子授受平衡であれば\n",
        "\\begin{align*}\n",
        "\\ce{O} + n \\ce{e- <=> R}&\n",
        "\\end{align*}\n",
        "\\begin{align*}\n",
        "E &= E^\\circ + \n",
        "(0.059/n)\n",
        "\\log_{10} \\dfrac{a_{\\ce{O}}}{a_{\\ce{R}}}&\n",
        "\\end{align*}\n",
        "\n"
      ]
    },
    {
      "cell_type": "markdown",
      "metadata": {
        "id": "Zo4OHBMvDaZd"
      },
      "source": [
        "### 適用例 $\\ce{O2/H2O}$系と $\\ce{H+/H2}$系と\n",
        "\n"
      ]
    },
    {
      "cell_type": "markdown",
      "metadata": {
        "id": "QTuSKfYUgxX-"
      },
      "source": [
        "\n",
        "\n",
        "$\\require{cancel}$\n",
        "#### 酸性電解質での燃料電池\n",
        "酸性電解質での燃料電池の反応は次の平衡反応から得られる.\n",
        "\\begin{align*}\n",
        "\\ce{2H+ + 2e- & <=> H2 }& E^\\circ= {\\rm \\pm 0\\ V} vs. {\\rm SHE} &\\\\\n",
        "\\ce{1/2O2 + 2H+ + 2e- & <=> H2O }& E^\\circ= {\\rm + 1.23\\ V} vs. {\\rm SHE} &\n",
        "\\end{align*}\n",
        "\n",
        "また第一式は電位低く, SHEの標準状態では $a_{\\ce{H2}}={\\rm 1 atm}$ であることから\n",
        "\\begin{align*}\n",
        "E(\\ce{H+/H2})\n",
        "&= \\pm 0 + (0.059/2)\\log_{10}\n",
        "\\dfrac{{[\\ce{H+}]^2}}\n",
        "{\\cancelto{1}{[\\ce{H2}]}}　&\\\\\n",
        "&= -(0.059) \\ce{pH}\n",
        "\\end{align*}\n",
        "\n",
        "第2式が平衡反応が燃料電池の起電力を与えるので, 第二式をネルンストの式に適応すると\n",
        "\\begin{align*}\n",
        "E(\\ce{O2,H+/H2O})\n",
        "&= + 1.23 + (0.059/2)\\log_{10}\n",
        "\\dfrac{\\cancelto{1}{[\\ce{O2}]^{1/2}}[\\ce{H+}]^2}\n",
        "{\\cancelto{1}{[\\ce{H2O}]}}&\\\\\n",
        "&= + 1.23 - (0.059)\\left( -\\log_{10} [\\ce{H+}] \\right)&\\\\\n",
        "&= + 1.23 - (0.059)\\ \\ce{pH}&\n",
        "\\end{align*}\n",
        "\n",
        "\n",
        " "
      ]
    },
    {
      "cell_type": "markdown",
      "metadata": {
        "id": "10oiVbf9kptz"
      },
      "source": [
        "#### アルカリ性電解質での燃料電池\n",
        "\\require{cancel}\n",
        "アルカリ電解質での燃料電池の反応は次の平衡反応から得られる.\n",
        "\\begin{align*}\n",
        "\\ce{1/2O2 + H2O + 2e- & <=> 2OH- }& E^\\circ= {\\rm +0.40\\ V} vs. {\\rm SHE} &\\\\\n",
        "\\ce{2H2O + 2e- &<=> H2 + 2OH- }& E^\\circ= \\cancel{{\\rm -0.83 V}} vs. {\\rm SHE} &\n",
        "\\end{align*}\n",
        "\n",
        "第一式は, \n",
        "\\begin{align*}\n",
        "E(\\ce{O2,H2O/OH-})\n",
        "&= + 0.40 \n",
        "+ (0.059/2) \\log_{10}\n",
        "\\dfrac{\\cancelto{1}{[\\ce{O2}]^{1/2}}\\cancelto{1}{[\\ce{H2O}]}}\n",
        "{[\\ce{OH-}]^2}&\\\\\n",
        "&= + 0.40 - (0.059) \\log_{10} [\\ce{OH-}] &\\\\\n",
        "&= + 0.40 + (0.059) \\ce{pOH}&\n",
        "\\end{align*}\n",
        "\n",
        "第二式は, \n",
        "\\begin{align*}\n",
        "E(\\ce{H2O/H2,OH-})\n",
        "&= - 0.83 \n",
        "+ (0.059/2) \\log_{10} \\dfrac{\\cancelto{1}{[\\ce{H2O}]^2}}\n",
        "{\\cancelto{1}{[\\ce{H2}]}[\\ce{OH-}]^2}&\\\\\n",
        "&= - 0.83 \n",
        "- (0.059) \\log_{10} [\\ce{OH-}]&\\\\\n",
        "&= - 0.83 + (0.059) \\ce{pOH}&\n",
        "\\end{align*}\n",
        " \n",
        "\n"
      ]
    },
    {
      "cell_type": "markdown",
      "metadata": {
        "id": "jNswtaR4DSlo"
      },
      "source": [
        "### 電位\b-pH図\n",
        "\n",
        "酸性電解質/アルカリ性電解質の燃料電池を\n",
        "> $\\qquad \\ce{pH +pOH = 14}$\n",
        "を用いてまとめたものが 教科書 p51 図3.11 です.  \n",
        "ただし, 電位差の正の方向をグラフの上むきにとったものが一般的な図になります.\n",
        "\n",
        "#### 電位-pH図の例\n",
        "\n",
        "- [水浄化フォーラム －処理技術と維持管理－](http://water-solutions.jp/tech_basic-2/oxidation-reduction/el_potential-ph/)"
      ]
    }
  ]
}