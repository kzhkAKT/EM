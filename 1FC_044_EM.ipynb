{
  "nbformat": 4,
  "nbformat_minor": 0,
  "metadata": {
    "colab": {
      "name": "1FC_044_EM",
      "provenance": [],
      "collapsed_sections": [],
      "authorship_tag": "ABX9TyNTfbZWENyPBH/ydVLvUoIF",
      "include_colab_link": true
    },
    "kernelspec": {
      "name": "python3",
      "display_name": "Python 3"
    }
  },
  "cells": [
    {
      "cell_type": "markdown",
      "metadata": {
        "id": "view-in-github",
        "colab_type": "text"
      },
      "source": [
        "<a href=\"https://colab.research.google.com/github/kzhkAKT/ErgyMtrlScience/blob/master/1FC_044_EM.ipynb\" target=\"_parent\"><img src=\"https://colab.research.google.com/assets/colab-badge.svg\" alt=\"Open In Colab\"/></a>"
      ]
    },
    {
      "cell_type": "markdown",
      "metadata": {
        "id": "CUZfUBC0i-bj",
        "colab_type": "text"
      },
      "source": [
        "# 電解質"
      ]
    },
    {
      "cell_type": "markdown",
      "metadata": {
        "id": "6N8N91o4jBKs",
        "colab_type": "text"
      },
      "source": [
        "## イオンの拡散係数\n",
        "\n",
        "Einstein–Smoluchowski relation を利用すると,   \n",
        "単位電場あたりの力 $f_e/E$ が働くときには, 拡散係数 $D\\ {\\rm (m^2/s)}$ は\n",
        "\\begin{align*}\n",
        "D &= \\dfrac{u}{f_e/E} k_{\\rm B}T\n",
        "=\\dfrac{u}{z e}\\dfrac{R}{N_{\\rm A}}T\n",
        "=\\dfrac{uR}{z \\mathcal{F}} T&\\\\\n",
        "&=\\dfrac{u}{ze} k_{\\rm B} T = \\dfrac{k_{\\rm B} T}{6\\pi \\eta a}\n",
        "\\end{align*}\n",
        "(この関係式は, Fick's laws of diffusion と free energy, F の極値を利用すれば導出可能です)\n",
        "\n",
        "\n",
        "上式を利用し, イオンのモル伝導率 $\\lambda= z u \\mathcal{F}$ を整理すると\n",
        "\\begin{align*}\n",
        "\\lambda &= z \\dfrac{z\\mathcal{F}D}{R T} \\mathcal{F}&\\\\\n",
        "&= \\dfrac{z^2 D \\mathcal{F}^2}{RT}\n",
        "\\end{align*}\n",
        "\n",
        "無限希釈における cation と anion の拡散係数を $D_\\pm^\\circ$ として,  \n",
        "電解質の極限モル濃度 $\\Lambda_{\\rm m}^\\circ$ を表現すると\n",
        "\\begin{align*}\n",
        "\\Lambda_{\\rm m}^\\circ\n",
        "&= {\\nu_+}\\lambda^\\circ_+ \n",
        "+\n",
        "{\\nu_-} \\lambda^\\circ_-&\\\\\n",
        "&= \\left( \\nu_+ z_+^2 D_+^\\circ \n",
        "+\n",
        "\\nu_- z_-^2 D_-^\\circ\\right) \\dfrac{\\mathcal{F}^2}{RT}\n",
        "\\end{align*}\n",
        "\n",
        "ここで\n",
        "\\begin{align*}\n",
        "\\Lambda_{\\rm m} &\\to \\Lambda_{\\rm m}^\\circ&\\\\\n",
        "\\dfrac{\\Lambda_{\\rm m}^\\circ}{D} \n",
        "&= \\left(\\cdots\\right)\\dfrac{N_{\\rm A}}{6 \\pi \\eta a }&\\\\\n",
        "\\eta \\Lambda^\\circ_{\\rm m} &= \\left( \\cdots \\right) \\dfrac{N_{\\rm A}}{6 D \\pi a}&\\\\\n",
        "\\eta \\Lambda_{\\rm m} &\\sim \\eta \\Lambda^\\circ_{\\rm m} = const.&\n",
        "\\end{align*}\n",
        "と近似できることが可能で,\n",
        ">> $\\qquad \\eta \\Lambda_{\\rm m}=$一定\n",
        "\n",
        "を **ワルデンの規則** (経験則,1906yr)といいます.  \n",
        "(上の考察のように無限希釈ではよく成り立ちます)\n",
        "\n"
      ]
    },
    {
      "cell_type": "markdown",
      "metadata": {
        "id": "cvqw9x_CM2-2",
        "colab_type": "text"
      },
      "source": [
        "$\\require{mhchem}$\n",
        "#### ストークス半径\n",
        "\n",
        "教科書 p57 表4.3 で $\\ce{Li+, Na+}$ の極限モル濃度を比較してください.\n",
        "\n",
        "![第９章　イオンの水溶液, 物質の構造と機能('90)](https://info.ouj.ac.jp/~hamada/TextLib/kk/chap9/Figure/Cs909f03.jpg)\n",
        "\n",
        "[Determination of the molecular mass and dimensions of membrane proteins by size exclusion chromatography, DOI:10.1016/j.ymeth.2008.10.020](https://www.researchgate.net/figure/Relationship-between-Stokes-radii-and-the-number-of-detergent-molecules-bound-to-Aac3p_fig4_23415439)"
      ]
    },
    {
      "cell_type": "markdown",
      "metadata": {
        "id": "JM0BtGBWn5W_",
        "colab_type": "text"
      },
      "source": [
        "### Grotthuss mechanism\n",
        "\n",
        "proton jumping\n",
        "\n",
        "![https://en.wikipedia.org/wiki/Grotthuss_mechanism](https://upload.wikimedia.org/wikipedia/commons/d/d3/Proton_Zundel.gif)"
      ]
    }
  ]
}