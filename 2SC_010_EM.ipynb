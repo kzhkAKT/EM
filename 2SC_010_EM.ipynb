{
  "nbformat": 4,
  "nbformat_minor": 0,
  "metadata": {
    "colab": {
      "name": "2SC_010_EM",
      "provenance": [],
      "authorship_tag": "ABX9TyMULu58Xl5V++XKbax1JEnj",
      "include_colab_link": true
    },
    "kernelspec": {
      "name": "python3",
      "display_name": "Python 3"
    }
  },
  "cells": [
    {
      "cell_type": "markdown",
      "metadata": {
        "id": "view-in-github",
        "colab_type": "text"
      },
      "source": [
        "<a href=\"https://colab.research.google.com/github/kzhkAKT/ErgyMtrlScience/blob/draft/2SC_010_EM.ipynb\" target=\"_parent\"><img src=\"https://colab.research.google.com/assets/colab-badge.svg\" alt=\"Open In Colab\"/></a>"
      ]
    },
    {
      "cell_type": "markdown",
      "metadata": {
        "id": "7iGTxDajrB1L",
        "colab_type": "text"
      },
      "source": [
        "# The ac Josephson effect"
      ]
    },
    {
      "cell_type": "markdown",
      "metadata": {
        "id": "AM5m-EQwrPjH",
        "colab_type": "text"
      },
      "source": [
        "## Basic Lumped Junctions"
      ]
    },
    {
      "cell_type": "markdown",
      "metadata": {
        "id": "MngGPGwnyYnb",
        "colab_type": "text"
      },
      "source": [
        "<img src=\"http://drive.google.com/uc?export=view&id=1yI-7QULgLPVgSRhmo5r-KxDHfA_gp10B\" width=\"700\"/>"
      ]
    },
    {
      "cell_type": "markdown",
      "metadata": {
        "id": "GAqDzWu7y-XJ",
        "colab_type": "text"
      },
      "source": [
        "A **basic lumped junction** has a current:\n",
        "\\begin{align*}\n",
        "i = \\int \\vec{J}\\cdot {\\rm d}\\vec{S}.\n",
        "\\end{align*}"
      ]
    },
    {
      "cell_type": "markdown",
      "metadata": {
        "id": "QwQ5QyPJzmnu",
        "colab_type": "text"
      },
      "source": [
        "By using an analogy to $\\vec{J}_{\\rm s}$, the current can be rewritten as\n",
        "\\begin{align*}\n",
        "i = I_c \\sin\\varphi(t),\n",
        "\\end{align*}\n",
        "and the gauge-invariant phase difference is still given by\n",
        "\\begin{align*}\n",
        "\\varphi(t) = \\theta_1(t) - \\theta_2(t)\n",
        " - \\dfrac{2\\pi}{\\Phi_0} \\int_1^2 \\vec{A}(\\vec{r},t)\\cdot {\\rm d}\\vec{\\ell}.\n",
        "\\end{align*}"
      ]
    },
    {
      "cell_type": "markdown",
      "metadata": {
        "id": "e1i4a7iN097v",
        "colab_type": "text"
      },
      "source": [
        "With the help of the Josephson voltage-phase relation\n",
        "\\begin{align*}\n",
        "\\dfrac{{\\rm d}\\varphi}{{\\rm d}t} = \\dfrac{2\\pi}{\\Phi_0} v,\n",
        "\\end{align*}\n",
        "where $v$ is the voltage drop accross the junction."
      ]
    },
    {
      "cell_type": "markdown",
      "metadata": {
        "id": "k4GXWJCs3wCW",
        "colab_type": "text"
      },
      "source": [
        "### Joule energy in the junction"
      ]
    },
    {
      "cell_type": "markdown",
      "metadata": {
        "id": "ACjiGDJL4OM3",
        "colab_type": "text"
      },
      "source": [
        "\\begin{align*}\n",
        "W_J &= \\int_0^{t_0} \\ i v \\ {\\rm d} t&\\\\\n",
        "& = \\int_0^{t_0}\\left( I_c \\sin \\varphi'\\right)\n",
        "\\left( \\dfrac{\\Phi_0}{2\\pi} \\right) \\dfrac{{\\rm d}\\varphi}{{\\rm d}t} \\ {\\rm d}t&\\\\\n",
        "&=\\dfrac{\\Phi_0 I_c}{2\\pi} \\int_{0}^{\\varphi} \\sin \\varphi' {\\rm d}\\varphi'\n",
        "=\\dfrac{\\Phi_0 I_c}{2\\pi}\\left( - \\cos \\varphi' |_{0}^{\\varphi'} \\right).&\n",
        "\\end{align*}"
      ]
    },
    {
      "cell_type": "markdown",
      "metadata": {
        "id": "1mAAPdHW_HUb",
        "colab_type": "text"
      },
      "source": [
        "\\begin{align*}\n",
        "W_J = W_{J_0} - \\dfrac{\\Phi_0 I_c}{2\\pi} \\cos \\varphi,\n",
        "\\end{align*}\n",
        "where $W_{J_0}=\\frac{\\Phi_0 I_c}{2\\pi}$ is a constant."
      ]
    },
    {
      "cell_type": "markdown",
      "metadata": {
        "id": "jFFYaznCAA5h",
        "colab_type": "text"
      },
      "source": [
        "Then,"
      ]
    },
    {
      "cell_type": "markdown",
      "metadata": {
        "id": "Ab4BtsYr_pe7",
        "colab_type": "text"
      },
      "source": [
        "\\begin{align*}\n",
        "\\dfrac{i}{I_c} &= \\sin\\varphi(t),&\\\\\n",
        "\\dfrac{W_J - W_{J_0}}{\\Phi_0 I_c/2\\pi} &=  \\cos \\varphi(t).&\n",
        "\\end{align*}"
      ]
    },
    {
      "cell_type": "markdown",
      "metadata": {
        "colab_type": "text",
        "id": "fJ9sYoP8yj9p"
      },
      "source": [
        "<img src=\"http://drive.google.com/uc?export=view&id=1Q4ipwdNYzSRSp6q_7aUjOx0papMpPskw\" width=\"650\"/>"
      ]
    },
    {
      "cell_type": "markdown",
      "metadata": {
        "colab_type": "text",
        "id": "Ngs2g07oAeTo"
      },
      "source": [
        "$\\require{cancel}$\n",
        "Now we integrate the time derivative of the phase relation with a constant $v=V_0$.\n",
        "\\begin{align*}\n",
        "\\int_0^{t}\\dfrac{{\\rm d}\\varphi}{{\\rm d}t} \\ {\\rm d} t\n",
        "&= \\int_0^{t} \\dfrac{2\\pi}{\\Phi_0} \\cancelto{V_0}{v} \\ {\\rm d} t&\\\\\n",
        "\\varphi(t) - \\varphi(0) &= \\dfrac{2\\pi}{\\Phi_0} V_0 t.&\n",
        "\\end{align*}\n"
      ]
    },
    {
      "cell_type": "markdown",
      "metadata": {
        "id": "R2i9Wx0ZBaIT",
        "colab_type": "text"
      },
      "source": [
        "Consequently, using the current-phase relationship of $i$, we see that an ac current\n",
        "\\begin{align*}\n",
        "i &= I_c \\sin\\left[ \\dfrac{2\\pi}{\\Phi_0} V_0 t + \\varphi(0)\\right]&\\\\\n",
        "&= I_c \\sin\\left[ 2\\pi f_{J}t + \\varphi(0) \\right]\n",
        "\\end{align*}\n",
        "develops accross the junction."
      ]
    },
    {
      "cell_type": "markdown",
      "metadata": {
        "id": "3b2pG1qkCprP",
        "colab_type": "text"
      },
      "source": [
        "This effect is know as the **ac Josephson effect** and $f_{J}$ is the **Josephson frequency**, given by\n",
        "\\begin{align*}\n",
        "f_{J} = \\dfrac{V_0}{\\Phi_0} = \\dfrac{2e}{h} V_0 = 483.6\\times 10^{12} V_0 \\ ({\\rm Hz})\n",
        "\\end{align*}"
      ]
    }
  ]
}