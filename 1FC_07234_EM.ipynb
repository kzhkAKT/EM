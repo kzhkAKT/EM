{
  "nbformat": 4,
  "nbformat_minor": 0,
  "metadata": {
    "colab": {
      "name": "1FC_07234_EM",
      "provenance": [],
      "toc_visible": true,
      "authorship_tag": "ABX9TyMtinCm+lG6k1mD78ra8jCg",
      "include_colab_link": true
    },
    "kernelspec": {
      "name": "python3",
      "display_name": "Python 3"
    }
  },
  "cells": [
    {
      "cell_type": "markdown",
      "metadata": {
        "id": "view-in-github",
        "colab_type": "text"
      },
      "source": [
        "<a href=\"https://colab.research.google.com/github/kzhkAKT/ErgyMtrlScience/blob/draft/1FC_07234_EM.ipynb\" target=\"_parent\"><img src=\"https://colab.research.google.com/assets/colab-badge.svg\" alt=\"Open In Colab\"/></a>"
      ]
    },
    {
      "cell_type": "markdown",
      "metadata": {
        "id": "HRHbWj89XyHM",
        "colab_type": "text"
      },
      "source": [
        "#実用電池の概要"
      ]
    },
    {
      "cell_type": "markdown",
      "metadata": {
        "id": "p77SocS8X2fo",
        "colab_type": "text"
      },
      "source": [
        "## 電池の基本構成\n",
        "\n",
        "[電池の構造と反応式（例）,一般社団法人電池工業会](http://www.baj.or.jp/knowledge/structure.html)\n",
        "\n",
        "1. 負極\n",
        "1. 正極\n",
        "1. 電解質\n",
        "1. 容器\n",
        "1. セパレータ\n",
        "1. 外部回路\n",
        "\n",
        "+ 導電補助材 + 結着剤\n",
        "+ 集電体\n",
        "+ セパレーター ~ 多孔質材料: 紙, 化学繊維, 高分子"
      ]
    },
    {
      "cell_type": "markdown",
      "metadata": {
        "id": "A20s9PU_7MxI",
        "colab_type": "text"
      },
      "source": [
        "## 非容量とエネルギー密度\n",
        "\n",
        "### 電気量(容量)\n",
        "+ ${\\rm C}$ クーロン\n",
        "+ ${\\rm Ah}$ アンペア アワー ~ ${\\rm A \\cdot h = Cs^{-1} \\cdot 1 h = 60^2 C}$ \n",
        "\n",
        "$\\require{mhchem}$\n",
        "### 比容量\n",
        "\\begin{align*}\n",
        "\\dfrac{n_{z} \\mathcal{F}}{60^2 \\cdot M \\times 10^{-3}} \\quad {\\rm Ah}\n",
        "\\end{align*}\n",
        "\n",
        "### エネルギー\n",
        "+ ${\\rm C}$ ジュール ~ $Q\\cdot U$\n",
        "+ ${\\rm Wh}$ ワットアワー ~ ${\\rm W \\cdot h = Js^{-1} \\cdot 1 h = 60^2 J}$\n",
        "\n",
        "### [理論]質量(重量)エネルギー密度\n",
        "\n",
        "\\begin{align*}\n",
        "\\dfrac{QU}{M} \\quad {\\rm J\\ kg^{-1}, Wh\\ kg^{-1}}\n",
        "\\end{align*}\n",
        "\n",
        "理論質量エネルギー密度は反応式からの見えられる\n",
        "\n",
        "\n",
        "\n"
      ]
    },
    {
      "cell_type": "markdown",
      "metadata": {
        "id": "PHDSelqOBAKC",
        "colab_type": "text"
      },
      "source": [
        "[高エネルギー密度蓄電池の構築を目指して, 産業技術総合研究所](https://www.aist.go.jp/Portals/0/resource_images/aist_j/aistinfo/aist_today/vol09_08/vol09_08_p08_p09.pdf)"
      ]
    },
    {
      "cell_type": "markdown",
      "metadata": {
        "id": "-eZypRlZBeWo",
        "colab_type": "text"
      },
      "source": [
        "## 電池の使用上の注意\n",
        "\n",
        "教科書 p121 の図\n",
        "\n",
        "[安全で正しい使い方, 一般社団法人電池工業会](http://www.baj.or.jp/safety/safety22.html)\n",
        "\n",
        " \n",
        "[アルカリボタン電池を直列で使用する際の安全に関するお願い, 2019年1月17日](http://www.baj.or.jp/frombaj/19.html)\n",
        "\n",
        "## 番外編\n",
        "\n",
        "化石燃料 と 電池\n",
        "\n",
        "https://www.nies.go.jp/social/traffic/pdf/7-2.pdf\n"
      ]
    }
  ]
}