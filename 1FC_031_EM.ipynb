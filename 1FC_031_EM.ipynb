{
  "nbformat": 4,
  "nbformat_minor": 0,
  "metadata": {
    "colab": {
      "name": "1FC_031_EM",
      "provenance": [],
      "authorship_tag": "ABX9TyNT+wk9WChcw9cEESJsx5WJ",
      "include_colab_link": true
    },
    "kernelspec": {
      "name": "python3",
      "display_name": "Python 3"
    }
  },
  "cells": [
    {
      "cell_type": "markdown",
      "metadata": {
        "id": "view-in-github",
        "colab_type": "text"
      },
      "source": [
        "<a href=\"https://colab.research.google.com/github/kzhkAKT/ErgyMtrlScience/blob/draft/1FC_031_EM.ipynb\" target=\"_parent\"><img src=\"https://colab.research.google.com/assets/colab-badge.svg\" alt=\"Open In Colab\"/></a>"
      ]
    },
    {
      "cell_type": "markdown",
      "metadata": {
        "id": "1V5KO2F-ZoNI",
        "colab_type": "text"
      },
      "source": [
        "# 電位とは"
      ]
    },
    {
      "cell_type": "markdown",
      "metadata": {
        "id": "hB5ZR4BvZlqv",
        "colab_type": "text"
      },
      "source": [
        "# 電極電位\n",
        "$\\require{mhchem}$\n",
        "\n",
        "\\begin{align*}\n",
        "\\ce{Zn + 2OH- \\to Zn(OH)2 + 2e-} \\qquad E^\\circ = {\\rm -1.25 V}\n",
        "\\end{align*}\n",
        "\n",
        "$E^\\circ = {\\rm -1.25 V}$ とは?"
      ]
    },
    {
      "cell_type": "markdown",
      "metadata": {
        "id": "Er7AZQOqbiEL",
        "colab_type": "text"
      },
      "source": [
        "### 電位と電位差\n",
        "\n",
        "燃料電池の反応(酸性電解液)\n",
        "\\begin{align*}\n",
        "&\\ce{H2 \\to 2H+ + 2e-}&\\\\\n",
        "&\\ce{1/2O2 + 2H+ + 2e- \\to H2O}&\n",
        "\\end{align*}\n",
        "では, $n_e=z=2$ と$\\Delta_r G^\\circ={\\rm -273\\ kJ}$ から, 起電力は ${\\rm 1.23\\ V}$.\n",
        "この起電力を **電位の差** と捉えるため\n",
        "\\begin{align*}\n",
        "&\\ce{2H+ + 2e- <=> H2}&\\\\\n",
        "&\\ce{1/2O2 + 2H+ + 2e- <=> H2O}&\n",
        "\\end{align*}\n",
        "と分けて考え\n",
        "> 二つの電子授受平衡反応の間に, 電極電位として${\\rm 1.23\\ V}$ 差が生じている\n",
        "\n",
        "* 電極電位差に相当するものが,  $\\Delta_{\\rm f} G^\\circ$"
      ]
    },
    {
      "cell_type": "markdown",
      "metadata": {
        "id": "COgLvaKKehvR",
        "colab_type": "text"
      },
      "source": [
        "### 自発変化と電位\n",
        "\n",
        "電気エネルギー\n",
        "> \\begin{align*}\n",
        "U &= Q \\cdot V&\\\\\n",
        "\\epsilon &= q E&\n",
        "\\end{align*}"
      ]
    },
    {
      "cell_type": "code",
      "metadata": {
        "id": "9XF9xSnpaMeE",
        "colab_type": "code",
        "cellView": "form",
        "outputId": "d4bed31c-04e0-400d-933b-2e91dc6b40cf",
        "colab": {
          "base_uri": "https://localhost:8080/",
          "height": 284
        }
      },
      "source": [
        "#@title sopntaneous reaction:ε-E \n",
        "%%svg\n",
        "<svg xmlns=\"http://www.w3.org/2000/svg\" xmlns:xlink=\"http://www.w3.org/1999/xlink\" version=\"1.1\" width=\"441px\" viewBox=\"-0.5 -0.5 441 263\" content=\"&lt;mxfile host=&quot;www.draw.io&quot; modified=&quot;2020-06-03T04:50:45.897Z&quot; agent=&quot;5.0 (Macintosh; Intel Mac OS X 10_10_5) AppleWebKit/537.36 (KHTML, like Gecko) Chrome/83.0.4103.61 Safari/537.36&quot; etag=&quot;PmwGehf2wPpvcfZxqhK8&quot; version=&quot;13.1.12&quot; type=&quot;google&quot;&gt;&lt;diagram id=&quot;CzV_nv0xv4kslDsghHYD&quot; name=&quot;Page-1&quot;&gt;7Vldb5swFP01PFIZ8xH6WNLsQ1qnaZW2vTrgEGsEM9tpk/76mWADBtI0bYi2ZU+BY3Ns33vusQOWO11t3jNULO9ogjMLgmRjubcWhA50PflTIluFAHBdISkjicIa4J48Yd1RoWuSYG50FJRmghQmGNM8x7EwMMQYfTS7LWhmjlqgFPeA+xhlffQ7ScSyQkM4afAPmKRLPbITqPWtkO6sVsKXKKGPLcidWe6UUSqqq9VmirMyejou1XPv9rTWE2M4Fy954Pbbj6+f4ygX15N57jv84908shXLA8rWasFqsmKrI4Dz5KYMpLzLaS7BaClWmbxz5GXVGye9IDazcuq1SpVgusKCbWWXxyaavorQshVIjTGcIUEeTHqkkprWdPUIXyiRA0OgFAg9xaP0B0NgUnC6ZjFWT7Wj1yHywgNEArEUix6RvGgtu4F2yTkmUUOZCjIZrWhBdxNdoLhqCH6tS01FclSWEtQA8iotf7F+kq8Ljdkak7NrwS20GkbDXZFIBXxCc1n9hjxQRtJcXsdSDZhJ4AEzQWR13aiGFUmSkiNimJMnNN/xAXlflIHchdaPLP9WLVP5A/TqOZSEeGOoQ1mBImsKsC3K/cXQV6rKuK6V1ypSO+C1+QRdLDgeRTLwwmrbO1Vt94hGrm33qETFGeKcxH9XrhxohtgHr8xVlwgG582Vt9eGSdczj/ZlazqzIn+v5dYw+bdt2B0WqmIHV8B13beJcnzv9UeUyexNChkyEi6LRjzrL8NZ/4P9JjyV33TPfWf2m2CvkI63F3hZxzn/WR+xwVUIfXPfP4n0bCcwWJ0Ow3imMzmdVuz/SmntOKETTEwXOJFSQoPV1rzjSyUckMqRR85uWrhg9Gf9kgT+BZuE2zlLuq/dJLpE3pk3CWfor55R+U1edaWXDTbf5e9GdnDCYtO3AV7IXijHdM133SrOOdPtcyRkeW/7DRdlH+EB+wBOZ6Ox33h+1f7hm65kn2+r0a9nL9tAPHCg7l/8BgIccKKxDWToFcQpDCSnuX3IRHAmq47RbMsJvyjfcMCweJsTKhjHOCZd3zjBuUPeNt8yqu7NJyF39hs=&lt;/diagram&gt;&lt;/mxfile&gt;\" onclick=\"(function(svg){var src=window.event.target||window.event.srcElement;while (src!=null&amp;&amp;src.nodeName.toLowerCase()!='a'){src=src.parentNode;}if(src==null){if(svg.wnd!=null&amp;&amp;!svg.wnd.closed){svg.wnd.focus();}else{var r=function(evt){if(evt.data=='ready'&amp;&amp;evt.source==svg.wnd){svg.wnd.postMessage(decodeURIComponent(svg.getAttribute('content')),'*');window.removeEventListener('message',r);}};window.addEventListener('message',r);svg.wnd=window.open('https://www.draw.io/?client=1&amp;lightbox=1&amp;edit=_blank');}}})(this);\" style=\"cursor:pointer;max-width:100%;max-height:263px;\"><defs/><g><path d=\"M 127 33 L 367 33\" fill=\"none\" stroke=\"#000000\" stroke-miterlimit=\"10\" pointer-events=\"stroke\"/><g transform=\"translate(-0.5 -0.5)\"><switch><foreignObject style=\"overflow: visible; text-align: left;\" pointer-events=\"none\" width=\"100%\" height=\"100%\" requiredFeatures=\"http://www.w3.org/TR/SVG11/feature#Extensibility\"><div xmlns=\"http://www.w3.org/1999/xhtml\" style=\"display: flex; align-items: unsafe center; justify-content: unsafe center; width: 1px; height: 1px; padding-top: 54px; margin-left: 248px;\"><div style=\"box-sizing: border-box; font-size: 0; text-align: center; \"><div style=\"display: inline-block; font-size: 24px; font-family: Helvetica; color: #000000; line-height: 1.2; pointer-events: all; background-color: #ffffff; white-space: nowrap; \"><font face=\"Georgia\">e<sup>-</sup></font></div></div></div></foreignObject><text x=\"248\" y=\"61\" fill=\"#000000\" font-family=\"Helvetica\" font-size=\"24px\" text-anchor=\"middle\">e-</text></switch></g><path d=\"M 127 233 L 367 233\" fill=\"none\" stroke=\"#000000\" stroke-miterlimit=\"10\" pointer-events=\"stroke\"/><path d=\"M 7 253 L 7 19.37\" fill=\"none\" stroke=\"#000000\" stroke-miterlimit=\"10\" pointer-events=\"stroke\"/><path d=\"M 7 14.12 L 10.5 21.12 L 7 19.37 L 3.5 21.12 Z\" fill=\"#000000\" stroke=\"#000000\" stroke-miterlimit=\"10\" pointer-events=\"all\"/><g transform=\"translate(-0.5 -0.5)\"><switch><foreignObject style=\"overflow: visible; text-align: left;\" pointer-events=\"none\" width=\"100%\" height=\"100%\" requiredFeatures=\"http://www.w3.org/TR/SVG11/feature#Extensibility\"><div xmlns=\"http://www.w3.org/1999/xhtml\" style=\"display: flex; align-items: unsafe center; justify-content: unsafe center; width: 1px; height: 1px; padding-top: 130px; margin-left: 8px;\"><div style=\"box-sizing: border-box; font-size: 0; text-align: center; \"><div style=\"display: inline-block; font-size: 24px; font-family: Helvetica; color: #000000; line-height: 1.2; pointer-events: all; background-color: #ffffff; white-space: nowrap; \"><i><font face=\"Georgia\">ε</font></i></div></div></div></foreignObject><text x=\"8\" y=\"137\" fill=\"#000000\" font-family=\"Helvetica\" font-size=\"24px\" text-anchor=\"middle\">ε</text></switch></g><path d=\"M 67 246.63 L 67 19.37\" fill=\"none\" stroke=\"#000000\" stroke-miterlimit=\"10\" pointer-events=\"stroke\"/><path d=\"M 67 251.88 L 63.5 244.88 L 67 246.63 L 70.5 244.88 Z\" fill=\"#000000\" stroke=\"#000000\" stroke-miterlimit=\"10\" pointer-events=\"all\"/><path d=\"M 67 14.12 L 70.5 21.12 L 67 19.37 L 63.5 21.12 Z\" fill=\"#000000\" stroke=\"#000000\" stroke-miterlimit=\"10\" pointer-events=\"all\"/><g transform=\"translate(-0.5 -0.5)\"><switch><foreignObject style=\"overflow: visible; text-align: left;\" pointer-events=\"none\" width=\"100%\" height=\"100%\" requiredFeatures=\"http://www.w3.org/TR/SVG11/feature#Extensibility\"><div xmlns=\"http://www.w3.org/1999/xhtml\" style=\"display: flex; align-items: unsafe center; justify-content: unsafe center; width: 1px; height: 1px; padding-top: 133px; margin-left: 67px;\"><div style=\"box-sizing: border-box; font-size: 0; text-align: center; \"><div style=\"display: inline-block; font-size: 24px; font-family: Helvetica; color: #000000; line-height: 1.2; pointer-events: all; background-color: #ffffff; white-space: nowrap; \"><i><font face=\"Georgia\">E</font></i></div></div></div></foreignObject><text x=\"67\" y=\"140\" fill=\"#000000\" font-family=\"Helvetica\" font-size=\"24px\" text-anchor=\"middle\">E</text></switch></g><g transform=\"translate(-0.5 -0.5)\"><switch><foreignObject style=\"overflow: visible; text-align: left;\" pointer-events=\"none\" width=\"100%\" height=\"100%\" requiredFeatures=\"http://www.w3.org/TR/SVG11/feature#Extensibility\"><div xmlns=\"http://www.w3.org/1999/xhtml\" style=\"display: flex; align-items: unsafe center; justify-content: unsafe center; width: 1px; height: 1px; padding-top: 244px; margin-left: 48px;\"><div style=\"box-sizing: border-box; font-size: 0; text-align: center; \"><div style=\"display: inline-block; font-size: 24px; font-family: Helvetica; color: #000000; line-height: 1.2; pointer-events: all; background-color: #ffffff; white-space: nowrap; \"><font face=\"Georgia\">+</font></div></div></div></foreignObject><text x=\"48\" y=\"251\" fill=\"#000000\" font-family=\"Helvetica\" font-size=\"24px\" text-anchor=\"middle\">+</text></switch></g><g transform=\"translate(-0.5 -0.5)\"><switch><foreignObject style=\"overflow: visible; text-align: left;\" pointer-events=\"none\" width=\"100%\" height=\"100%\" requiredFeatures=\"http://www.w3.org/TR/SVG11/feature#Extensibility\"><div xmlns=\"http://www.w3.org/1999/xhtml\" style=\"display: flex; align-items: unsafe center; justify-content: unsafe center; width: 1px; height: 1px; padding-top: 14px; margin-left: 48px;\"><div style=\"box-sizing: border-box; font-size: 0; text-align: center; \"><div style=\"display: inline-block; font-size: 24px; font-family: Helvetica; color: #000000; line-height: 1.2; pointer-events: all; background-color: #ffffff; white-space: nowrap; \"><font face=\"Georgia\">-</font></div></div></div></foreignObject><text x=\"48\" y=\"21\" fill=\"#000000\" font-family=\"Helvetica\" font-size=\"24px\" text-anchor=\"middle\">-</text></switch></g><path d=\"M 207 53 L 207 204.76\" fill=\"none\" stroke=\"#000000\" stroke-width=\"2\" stroke-miterlimit=\"10\" pointer-events=\"stroke\"/><path d=\"M 207 210.76 L 203 202.76 L 207 204.76 L 211 202.76 Z\" fill=\"#000000\" stroke=\"#000000\" stroke-width=\"2\" stroke-miterlimit=\"10\" pointer-events=\"all\"/><g transform=\"translate(-0.5 -0.5)\"><switch><foreignObject style=\"overflow: visible; text-align: left;\" pointer-events=\"none\" width=\"100%\" height=\"100%\" requiredFeatures=\"http://www.w3.org/TR/SVG11/feature#Extensibility\"><div xmlns=\"http://www.w3.org/1999/xhtml\" style=\"display: flex; align-items: unsafe center; justify-content: unsafe center; width: 1px; height: 1px; padding-top: 124px; margin-left: 148px;\"><div style=\"box-sizing: border-box; font-size: 0; text-align: center; \"><div style=\"display: inline-block; font-size: 24px; font-family: Helvetica; color: #000000; line-height: 1.2; pointer-events: all; background-color: #ffffff; white-space: nowrap; \"><font style=\"font-size: 18px\">spontaneous:<br />battery<br /></font></div></div></div></foreignObject><text x=\"148\" y=\"131\" fill=\"#000000\" font-family=\"Helvetica\" font-size=\"24px\" text-anchor=\"middle\">spontaneous:...</text></switch></g><path d=\"M 287 213 L 287 61.24\" fill=\"none\" stroke=\"#000000\" stroke-width=\"2\" stroke-miterlimit=\"10\" pointer-events=\"stroke\"/><path d=\"M 287 55.24 L 291 63.24 L 287 61.24 L 283 63.24 Z\" fill=\"#000000\" stroke=\"#000000\" stroke-width=\"2\" stroke-miterlimit=\"10\" pointer-events=\"all\"/><g transform=\"translate(-0.5 -0.5)\"><switch><foreignObject style=\"overflow: visible; text-align: left;\" pointer-events=\"none\" width=\"100%\" height=\"100%\" requiredFeatures=\"http://www.w3.org/TR/SVG11/feature#Extensibility\"><div xmlns=\"http://www.w3.org/1999/xhtml\" style=\"display: flex; align-items: unsafe center; justify-content: unsafe center; width: 1px; height: 1px; padding-top: 124px; margin-left: 368px;\"><div style=\"box-sizing: border-box; font-size: 0; text-align: center; \"><div style=\"display: inline-block; font-size: 24px; font-family: Helvetica; color: #000000; line-height: 1.2; pointer-events: all; background-color: #ffffff; white-space: nowrap; \"><font style=\"font-size: 18px\">non-spontaneous:<br />electrolysis</font></div></div></div></foreignObject><text x=\"368\" y=\"131\" fill=\"#000000\" font-family=\"Helvetica\" font-size=\"24px\" text-anchor=\"middle\">non-spontaneous:...</text></switch></g></g><switch><g requiredFeatures=\"http://www.w3.org/TR/SVG11/feature#Extensibility\"/><a transform=\"translate(0,-5)\" xlink:href=\"https://desk.draw.io/support/solutions/articles/16000042487\" target=\"_blank\"><text text-anchor=\"middle\" font-size=\"10px\" x=\"50%\" y=\"100%\">Viewer does not support full SVG 1.1</text></a></switch></svg>"
      ],
      "execution_count": 0,
      "outputs": [
        {
          "output_type": "display_data",
          "data": {
            "text/plain": [
              "<IPython.core.display.SVG object>"
            ],
            "image/svg+xml": "<svg content=\"&lt;mxfile host=&quot;www.draw.io&quot; modified=&quot;2020-06-03T04:50:45.897Z&quot; agent=&quot;5.0 (Macintosh; Intel Mac OS X 10_10_5) AppleWebKit/537.36 (KHTML, like Gecko) Chrome/83.0.4103.61 Safari/537.36&quot; etag=&quot;PmwGehf2wPpvcfZxqhK8&quot; version=&quot;13.1.12&quot; type=&quot;google&quot;&gt;&lt;diagram id=&quot;CzV_nv0xv4kslDsghHYD&quot; name=&quot;Page-1&quot;&gt;7Vldb5swFP01PFIZ8xH6WNLsQ1qnaZW2vTrgEGsEM9tpk/76mWADBtI0bYi2ZU+BY3Ns33vusQOWO11t3jNULO9ogjMLgmRjubcWhA50PflTIluFAHBdISkjicIa4J48Yd1RoWuSYG50FJRmghQmGNM8x7EwMMQYfTS7LWhmjlqgFPeA+xhlffQ7ScSyQkM4afAPmKRLPbITqPWtkO6sVsKXKKGPLcidWe6UUSqqq9VmirMyejou1XPv9rTWE2M4Fy954Pbbj6+f4ygX15N57jv84908shXLA8rWasFqsmKrI4Dz5KYMpLzLaS7BaClWmbxz5GXVGye9IDazcuq1SpVgusKCbWWXxyaavorQshVIjTGcIUEeTHqkkprWdPUIXyiRA0OgFAg9xaP0B0NgUnC6ZjFWT7Wj1yHywgNEArEUix6RvGgtu4F2yTkmUUOZCjIZrWhBdxNdoLhqCH6tS01FclSWEtQA8iotf7F+kq8Ljdkak7NrwS20GkbDXZFIBXxCc1n9hjxQRtJcXsdSDZhJ4AEzQWR13aiGFUmSkiNimJMnNN/xAXlflIHchdaPLP9WLVP5A/TqOZSEeGOoQ1mBImsKsC3K/cXQV6rKuK6V1ypSO+C1+QRdLDgeRTLwwmrbO1Vt94hGrm33qETFGeKcxH9XrhxohtgHr8xVlwgG582Vt9eGSdczj/ZlazqzIn+v5dYw+bdt2B0WqmIHV8B13beJcnzv9UeUyexNChkyEi6LRjzrL8NZ/4P9JjyV33TPfWf2m2CvkI63F3hZxzn/WR+xwVUIfXPfP4n0bCcwWJ0Ow3imMzmdVuz/SmntOKETTEwXOJFSQoPV1rzjSyUckMqRR85uWrhg9Gf9kgT+BZuE2zlLuq/dJLpE3pk3CWfor55R+U1edaWXDTbf5e9GdnDCYtO3AV7IXijHdM133SrOOdPtcyRkeW/7DRdlH+EB+wBOZ6Ox33h+1f7hm65kn2+r0a9nL9tAPHCg7l/8BgIccKKxDWToFcQpDCSnuX3IRHAmq47RbMsJvyjfcMCweJsTKhjHOCZd3zjBuUPeNt8yqu7NJyF39hs=&lt;/diagram&gt;&lt;/mxfile&gt;\" onclick=\"(function(svg){var src=window.event.target||window.event.srcElement;while (src!=null&amp;&amp;src.nodeName.toLowerCase()!='a'){src=src.parentNode;}if(src==null){if(svg.wnd!=null&amp;&amp;!svg.wnd.closed){svg.wnd.focus();}else{var r=function(evt){if(evt.data=='ready'&amp;&amp;evt.source==svg.wnd){svg.wnd.postMessage(decodeURIComponent(svg.getAttribute('content')),'*');window.removeEventListener('message',r);}};window.addEventListener('message',r);svg.wnd=window.open('https://www.draw.io/?client=1&amp;lightbox=1&amp;edit=_blank');}}})(this);\" style=\"cursor:pointer;max-width:100%;max-height:263px;\" version=\"1.1\" viewBox=\"-0.5 -0.5 441 263\" width=\"441px\" xmlns=\"http://www.w3.org/2000/svg\" xmlns:xlink=\"http://www.w3.org/1999/xlink\"><defs/><g><path d=\"M 127 33 L 367 33\" fill=\"none\" pointer-events=\"stroke\" stroke=\"#000000\" stroke-miterlimit=\"10\"/><g transform=\"translate(-0.5 -0.5)\"><switch><foreignObject height=\"100%\" pointer-events=\"none\" requiredFeatures=\"http://www.w3.org/TR/SVG11/feature#Extensibility\" style=\"overflow: visible; text-align: left;\" width=\"100%\"><div style=\"display: flex; align-items: unsafe center; justify-content: unsafe center; width: 1px; height: 1px; padding-top: 54px; margin-left: 248px;\" xmlns=\"http://www.w3.org/1999/xhtml\"><div style=\"box-sizing: border-box; font-size: 0; text-align: center; \"><div style=\"display: inline-block; font-size: 24px; font-family: Helvetica; color: #000000; line-height: 1.2; pointer-events: all; background-color: #ffffff; white-space: nowrap; \"><font face=\"Georgia\">e<sup>-</sup></font></div></div></div></foreignObject><text fill=\"#000000\" font-family=\"Helvetica\" font-size=\"24px\" text-anchor=\"middle\" x=\"248\" y=\"61\">e-</text></switch></g><path d=\"M 127 233 L 367 233\" fill=\"none\" pointer-events=\"stroke\" stroke=\"#000000\" stroke-miterlimit=\"10\"/><path d=\"M 7 253 L 7 19.37\" fill=\"none\" pointer-events=\"stroke\" stroke=\"#000000\" stroke-miterlimit=\"10\"/><path d=\"M 7 14.12 L 10.5 21.12 L 7 19.37 L 3.5 21.12 Z\" fill=\"#000000\" pointer-events=\"all\" stroke=\"#000000\" stroke-miterlimit=\"10\"/><g transform=\"translate(-0.5 -0.5)\"><switch><foreignObject height=\"100%\" pointer-events=\"none\" requiredFeatures=\"http://www.w3.org/TR/SVG11/feature#Extensibility\" style=\"overflow: visible; text-align: left;\" width=\"100%\"><div style=\"display: flex; align-items: unsafe center; justify-content: unsafe center; width: 1px; height: 1px; padding-top: 130px; margin-left: 8px;\" xmlns=\"http://www.w3.org/1999/xhtml\"><div style=\"box-sizing: border-box; font-size: 0; text-align: center; \"><div style=\"display: inline-block; font-size: 24px; font-family: Helvetica; color: #000000; line-height: 1.2; pointer-events: all; background-color: #ffffff; white-space: nowrap; \"><i><font face=\"Georgia\">ε</font></i></div></div></div></foreignObject><text fill=\"#000000\" font-family=\"Helvetica\" font-size=\"24px\" text-anchor=\"middle\" x=\"8\" y=\"137\">ε</text></switch></g><path d=\"M 67 246.63 L 67 19.37\" fill=\"none\" pointer-events=\"stroke\" stroke=\"#000000\" stroke-miterlimit=\"10\"/><path d=\"M 67 251.88 L 63.5 244.88 L 67 246.63 L 70.5 244.88 Z\" fill=\"#000000\" pointer-events=\"all\" stroke=\"#000000\" stroke-miterlimit=\"10\"/><path d=\"M 67 14.12 L 70.5 21.12 L 67 19.37 L 63.5 21.12 Z\" fill=\"#000000\" pointer-events=\"all\" stroke=\"#000000\" stroke-miterlimit=\"10\"/><g transform=\"translate(-0.5 -0.5)\"><switch><foreignObject height=\"100%\" pointer-events=\"none\" requiredFeatures=\"http://www.w3.org/TR/SVG11/feature#Extensibility\" style=\"overflow: visible; text-align: left;\" width=\"100%\"><div style=\"display: flex; align-items: unsafe center; justify-content: unsafe center; width: 1px; height: 1px; padding-top: 133px; margin-left: 67px;\" xmlns=\"http://www.w3.org/1999/xhtml\"><div style=\"box-sizing: border-box; font-size: 0; text-align: center; \"><div style=\"display: inline-block; font-size: 24px; font-family: Helvetica; color: #000000; line-height: 1.2; pointer-events: all; background-color: #ffffff; white-space: nowrap; \"><i><font face=\"Georgia\">E</font></i></div></div></div></foreignObject><text fill=\"#000000\" font-family=\"Helvetica\" font-size=\"24px\" text-anchor=\"middle\" x=\"67\" y=\"140\">E</text></switch></g><g transform=\"translate(-0.5 -0.5)\"><switch><foreignObject height=\"100%\" pointer-events=\"none\" requiredFeatures=\"http://www.w3.org/TR/SVG11/feature#Extensibility\" style=\"overflow: visible; text-align: left;\" width=\"100%\"><div style=\"display: flex; align-items: unsafe center; justify-content: unsafe center; width: 1px; height: 1px; padding-top: 244px; margin-left: 48px;\" xmlns=\"http://www.w3.org/1999/xhtml\"><div style=\"box-sizing: border-box; font-size: 0; text-align: center; \"><div style=\"display: inline-block; font-size: 24px; font-family: Helvetica; color: #000000; line-height: 1.2; pointer-events: all; background-color: #ffffff; white-space: nowrap; \"><font face=\"Georgia\">+</font></div></div></div></foreignObject><text fill=\"#000000\" font-family=\"Helvetica\" font-size=\"24px\" text-anchor=\"middle\" x=\"48\" y=\"251\">+</text></switch></g><g transform=\"translate(-0.5 -0.5)\"><switch><foreignObject height=\"100%\" pointer-events=\"none\" requiredFeatures=\"http://www.w3.org/TR/SVG11/feature#Extensibility\" style=\"overflow: visible; text-align: left;\" width=\"100%\"><div style=\"display: flex; align-items: unsafe center; justify-content: unsafe center; width: 1px; height: 1px; padding-top: 14px; margin-left: 48px;\" xmlns=\"http://www.w3.org/1999/xhtml\"><div style=\"box-sizing: border-box; font-size: 0; text-align: center; \"><div style=\"display: inline-block; font-size: 24px; font-family: Helvetica; color: #000000; line-height: 1.2; pointer-events: all; background-color: #ffffff; white-space: nowrap; \"><font face=\"Georgia\">-</font></div></div></div></foreignObject><text fill=\"#000000\" font-family=\"Helvetica\" font-size=\"24px\" text-anchor=\"middle\" x=\"48\" y=\"21\">-</text></switch></g><path d=\"M 207 53 L 207 204.76\" fill=\"none\" pointer-events=\"stroke\" stroke=\"#000000\" stroke-miterlimit=\"10\" stroke-width=\"2\"/><path d=\"M 207 210.76 L 203 202.76 L 207 204.76 L 211 202.76 Z\" fill=\"#000000\" pointer-events=\"all\" stroke=\"#000000\" stroke-miterlimit=\"10\" stroke-width=\"2\"/><g transform=\"translate(-0.5 -0.5)\"><switch><foreignObject height=\"100%\" pointer-events=\"none\" requiredFeatures=\"http://www.w3.org/TR/SVG11/feature#Extensibility\" style=\"overflow: visible; text-align: left;\" width=\"100%\"><div style=\"display: flex; align-items: unsafe center; justify-content: unsafe center; width: 1px; height: 1px; padding-top: 124px; margin-left: 148px;\" xmlns=\"http://www.w3.org/1999/xhtml\"><div style=\"box-sizing: border-box; font-size: 0; text-align: center; \"><div style=\"display: inline-block; font-size: 24px; font-family: Helvetica; color: #000000; line-height: 1.2; pointer-events: all; background-color: #ffffff; white-space: nowrap; \"><font style=\"font-size: 18px\">spontaneous:<br/>battery<br/></font></div></div></div></foreignObject><text fill=\"#000000\" font-family=\"Helvetica\" font-size=\"24px\" text-anchor=\"middle\" x=\"148\" y=\"131\">spontaneous:...</text></switch></g><path d=\"M 287 213 L 287 61.24\" fill=\"none\" pointer-events=\"stroke\" stroke=\"#000000\" stroke-miterlimit=\"10\" stroke-width=\"2\"/><path d=\"M 287 55.24 L 291 63.24 L 287 61.24 L 283 63.24 Z\" fill=\"#000000\" pointer-events=\"all\" stroke=\"#000000\" stroke-miterlimit=\"10\" stroke-width=\"2\"/><g transform=\"translate(-0.5 -0.5)\"><switch><foreignObject height=\"100%\" pointer-events=\"none\" requiredFeatures=\"http://www.w3.org/TR/SVG11/feature#Extensibility\" style=\"overflow: visible; text-align: left;\" width=\"100%\"><div style=\"display: flex; align-items: unsafe center; justify-content: unsafe center; width: 1px; height: 1px; padding-top: 124px; margin-left: 368px;\" xmlns=\"http://www.w3.org/1999/xhtml\"><div style=\"box-sizing: border-box; font-size: 0; text-align: center; \"><div style=\"display: inline-block; font-size: 24px; font-family: Helvetica; color: #000000; line-height: 1.2; pointer-events: all; background-color: #ffffff; white-space: nowrap; \"><font style=\"font-size: 18px\">non-spontaneous:<br/>electrolysis</font></div></div></div></foreignObject><text fill=\"#000000\" font-family=\"Helvetica\" font-size=\"24px\" text-anchor=\"middle\" x=\"368\" y=\"131\">non-spontaneous:...</text></switch></g></g><switch><g requiredFeatures=\"http://www.w3.org/TR/SVG11/feature#Extensibility\"/><a target=\"_blank\" transform=\"translate(0,-5)\" xlink:href=\"https://desk.draw.io/support/solutions/articles/16000042487\"><text font-size=\"10px\" text-anchor=\"middle\" x=\"50%\" y=\"100%\">Viewer does not support full SVG 1.1</text></a></switch></svg>"
          },
          "metadata": {
            "tags": []
          }
        }
      ]
    },
    {
      "cell_type": "markdown",
      "metadata": {
        "id": "YaYjmt4vhe3M",
        "colab_type": "text"
      },
      "source": [
        "### 電気化学ポテンシャル\n",
        "\n",
        "化学ポテンシャル\n",
        "> \\begin{align*}\n",
        "\\mu &= \\mu^\\circ + RT \\ln a&\n",
        "\\end{align*}\n",
        "\n",
        "に, 電位 $E$ と 電子物質量 $z$ の影響を加味し,  \n",
        "**電気化学ポテンシャル** を次のように定義する\n",
        ">> \\begin{align*}\n",
        "\\tilde{\\mu} &= \\mu^\\circ + RT \\ln a + z\\mathcal{F}E&\n",
        "\\end{align*}\n",
        "ファラデー定数: $\\mathcal{F}=e\\cdot N_{\\rm A}$."
      ]
    }
  ]
}