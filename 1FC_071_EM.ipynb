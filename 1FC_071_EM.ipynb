{
  "nbformat": 4,
  "nbformat_minor": 0,
  "metadata": {
    "colab": {
      "name": "1FC_071_EM",
      "provenance": [],
      "collapsed_sections": [],
      "authorship_tag": "ABX9TyPSPBdGd/XI653kUTZp/o/f",
      "include_colab_link": true
    },
    "kernelspec": {
      "name": "python3",
      "display_name": "Python 3"
    }
  },
  "cells": [
    {
      "cell_type": "markdown",
      "metadata": {
        "id": "view-in-github",
        "colab_type": "text"
      },
      "source": [
        "<a href=\"https://colab.research.google.com/github/kzhkAKT/ErgyMtrlScience/blob/draft/1FC_071_EM.ipynb\" target=\"_parent\"><img src=\"https://colab.research.google.com/assets/colab-badge.svg\" alt=\"Open In Colab\"/></a>"
      ]
    },
    {
      "cell_type": "markdown",
      "metadata": {
        "id": "uoqwDBKUTAZW",
        "colab_type": "text"
      },
      "source": [
        "# 実用電池の概要"
      ]
    },
    {
      "cell_type": "markdown",
      "metadata": {
        "id": "1yloYfrCTEoL",
        "colab_type": "text"
      },
      "source": [
        "## 実用電池の種類\n",
        "\n",
        "![一般社団法人　電池工業会](http://www.baj.or.jp/knowledge/images/type01.gif)\n",
        "\n",
        "[一般社団法人電池工業会より](http://www.baj.or.jp/knowledge/type.html)"
      ]
    },
    {
      "cell_type": "markdown",
      "metadata": {
        "id": "zPbNMB7Tia9X",
        "colab_type": "text"
      },
      "source": [
        "### 一次電池\n",
        "\n",
        "使い切り"
      ]
    },
    {
      "cell_type": "markdown",
      "metadata": {
        "id": "2X99AoqIjcn8",
        "colab_type": "text"
      },
      "source": [
        "#### マンガン乾電池\n",
        "[Zinc/carbon batteries](https://www.doitpoms.ac.uk/tlplib/batteries/batteries_zn_c.php)\n",
        "\n",
        "![https://en.wikipedia.org/wiki/Zinc%E2%80%93carbon_battery](https://upload.wikimedia.org/wikipedia/commons/2/20/Zincbattery_%281%29.png)\n"
      ]
    },
    {
      "cell_type": "markdown",
      "metadata": {
        "colab_type": "text",
        "id": "D0TqOuz_jez2"
      },
      "source": [
        "#### アルカリマンガン乾電池\n",
        "\n",
        "[Alkaline/manganese oxide batteries](https://www.doitpoms.ac.uk/tlplib/batteries/batteries_alkaline_mno.php)\n",
        "\n",
        "![DoITPoMS, University of Cambridge](https://www.doitpoms.ac.uk/tlplib/batteries/figures/Alkaline_manganese_dioxide.png)"
      ]
    },
    {
      "cell_type": "markdown",
      "metadata": {
        "id": "Ztey5WiIn_w8",
        "colab_type": "text"
      },
      "source": [
        "#### 空気-亜鉛電池\n",
        "\n",
        "[Zinc–air battery](https://en.wikipedia.org/wiki/Zinc%E2%80%93air_battery)\n",
        "\n",
        "![https://en.wikipedia.org/wiki/Zinc%E2%80%93air_battery](https://upload.wikimedia.org/wikipedia/commons/thumb/f/fd/Zinc_air_cell_2.jpg/320px-Zinc_air_cell_2.jpg)"
      ]
    },
    {
      "cell_type": "code",
      "metadata": {
        "id": "Kx2tRVmRpYl7",
        "colab_type": "code",
        "colab": {
          "base_uri": "https://localhost:8080/",
          "height": 336
        },
        "cellView": "form",
        "outputId": "8de27a9e-1e94-48f1-87c3-007e373c3cdd"
      },
      "source": [
        "#@title How does a Zinc Air\n",
        "%%html\n",
        "<iframe width=\"560\" height=\"315\" src=\"https://www.youtube-nocookie.com/embed/-kpqQHekBUo\" frameborder=\"0\" allow=\"accelerometer; autoplay; encrypted-media; gyroscope; picture-in-picture\" allowfullscreen></iframe>"
      ],
      "execution_count": 15,
      "outputs": [
        {
          "output_type": "display_data",
          "data": {
            "text/html": [
              "<iframe width=\"560\" height=\"315\" src=\"https://www.youtube-nocookie.com/embed/-kpqQHekBUo\" frameborder=\"0\" allow=\"accelerometer; autoplay; encrypted-media; gyroscope; picture-in-picture\" allowfullscreen></iframe>"
            ],
            "text/plain": [
              "<IPython.core.display.HTML object>"
            ]
          },
          "metadata": {
            "tags": []
          }
        }
      ]
    },
    {
      "cell_type": "markdown",
      "metadata": {
        "id": "UaMIKjkYqRgx",
        "colab_type": "text"
      },
      "source": [
        "#### 二酸化マンガン-リチウム一次電池 ~ リチウム電池\n",
        "\n",
        "\n",
        "\n",
        "<img src=\"https://upload.wikimedia.org/wikipedia/commons/4/4d/Battery-lithium-cr2032.jpg\" width=\"200\">\n"
      ]
    },
    {
      "cell_type": "code",
      "metadata": {
        "id": "v7ZINsXqrh5U",
        "colab_type": "code",
        "colab": {
          "base_uri": "https://localhost:8080/",
          "height": 336
        },
        "cellView": "form",
        "outputId": "b31df1a1-bed4-4f8a-dc11-4557c2e16304"
      },
      "source": [
        "#@title リチウム電池の使用用途\n",
        "%%html\n",
        "<iframe width=\"560\" height=\"315\" src=\"https://www.youtube-nocookie.com/embed/brBqQIS_6J4\" frameborder=\"0\" allow=\"accelerometer; autoplay; encrypted-media; gyroscope; picture-in-picture\" allowfullscreen></iframe>"
      ],
      "execution_count": 18,
      "outputs": [
        {
          "output_type": "display_data",
          "data": {
            "text/html": [
              "<iframe width=\"560\" height=\"315\" src=\"https://www.youtube-nocookie.com/embed/brBqQIS_6J4\" frameborder=\"0\" allow=\"accelerometer; autoplay; encrypted-media; gyroscope; picture-in-picture\" allowfullscreen></iframe>"
            ],
            "text/plain": [
              "<IPython.core.display.HTML object>"
            ]
          },
          "metadata": {
            "tags": []
          }
        }
      ]
    },
    {
      "cell_type": "markdown",
      "metadata": {
        "id": "Dp-SEmk4uGCE",
        "colab_type": "text"
      },
      "source": [
        "$\\require{mhchem}$\n",
        "#### フッ化黒鉛リチウム電池 ~ $\\ce{Li/(CF)_n}$\n",
        "https://news.panasonic.com/jp/topics/2015/38891.html"
      ]
    },
    {
      "cell_type": "markdown",
      "metadata": {
        "colab_type": "text",
        "id": "QxOFzAmUie3g"
      },
      "source": [
        "### 二次電池"
      ]
    },
    {
      "cell_type": "markdown",
      "metadata": {
        "id": "5OUfu9sCCfBY",
        "colab_type": "text"
      },
      "source": [
        "#### 鉛蓄電池\n",
        "\n",
        "![https://en.wikipedia.org/wiki/Lead%E2%80%93acid_battery](https://upload.wikimedia.org/wikipedia/commons/thumb/e/ee/Photo-CarBattery.jpg/251px-Photo-CarBattery.jpg)\n",
        "\n",
        "##### バイポーラ型蓄電池\n",
        "- https://eetimes.jp/ee/articles/2006/10/news036.html\n",
        "- [再生エネ活用の本命「バイポーラ型蓄電池」\n",
        "リチウムイオン電池比でトータルコスト1/2実用化へ](https://www.furukawa.co.jp/release/2020/ene_20200609.html\n",
        ")\n",
        "![実用化困難とされた「バイポーラ型蓄電池」を量産へ](https://image.itmedia.co.jp/ee/articles/2006/10/jnn200609furukawa04.png)"
      ]
    },
    {
      "cell_type": "markdown",
      "metadata": {
        "colab_type": "text",
        "id": "0hSqfFWyDv4T"
      },
      "source": [
        "#### ニッケル-カドミウム蓄電池\n",
        "\n",
        "![https://en.wikipedia.org/wiki/Nickel%E2%80%93cadmium_battery](https://upload.wikimedia.org/wikipedia/commons/thumb/d/dc/9.6V_Ni-Cd_Battery.jpg/179px-9.6V_Ni-Cd_Battery.jpg)"
      ]
    },
    {
      "cell_type": "markdown",
      "metadata": {
        "colab_type": "text",
        "id": "TgQICxaBDwm7"
      },
      "source": [
        "#### ニッケル-金属水素化物蓄電池\n",
        "![Nickel–metal hydride battery](https://upload.wikimedia.org/wikipedia/commons/thumb/e/ef/Eneloop_6420.jpg/240px-Eneloop_6420.jpg)"
      ]
    },
    {
      "cell_type": "markdown",
      "metadata": {
        "colab_type": "text",
        "id": "n3HLQcscDw06"
      },
      "source": [
        "#### ナトリウム・硫黄電池\n",
        "\n",
        "NAS電池\n",
        "\n",
        "[水素混焼とNAS電池を活用、電力の自己託送で広域エリアのCO2削減](https://www.itmedia.co.jp/smartjapan/articles/2006/05/news086.html)\n",
        "\n",
        "\n",
        "\n",
        "![納入したNAS電池　出典：日本ガイシ](https://image.itmedia.co.jp/smartjapan/articles/2006/05/rk_2006_ad01.png)\n",
        "\n",
        "\n",
        "![納入したNAS電池　出典：安藤ハザマ](https://image.itmedia.co.jp/smartjapan/articles/2006/05/rk_2006_ad02.png)"
      ]
    },
    {
      "cell_type": "markdown",
      "metadata": {
        "colab_type": "text",
        "id": "PED_62AdDxMq"
      },
      "source": [
        "#### (バナジウム)レドックス・フロー電池"
      ]
    },
    {
      "cell_type": "code",
      "metadata": {
        "id": "pkDeCD29RI-2",
        "colab_type": "code",
        "colab": {
          "base_uri": "https://localhost:8080/",
          "height": 336
        },
        "cellView": "form",
        "outputId": "71b2a24a-451a-4865-ef9c-97d11e71e271"
      },
      "source": [
        "#@title 原理説明\n",
        "%%html\n",
        "<iframe width=\"560\" height=\"315\" src=\"https://www.youtube-nocookie.com/embed/qQEbJQhADTU\" frameborder=\"0\" allow=\"accelerometer; autoplay; encrypted-media; gyroscope; picture-in-picture\" allowfullscreen></iframe>"
      ],
      "execution_count": 26,
      "outputs": [
        {
          "output_type": "display_data",
          "data": {
            "text/html": [
              "<iframe width=\"560\" height=\"315\" src=\"https://www.youtube-nocookie.com/embed/qQEbJQhADTU\" frameborder=\"0\" allow=\"accelerometer; autoplay; encrypted-media; gyroscope; picture-in-picture\" allowfullscreen></iframe>"
            ],
            "text/plain": [
              "<IPython.core.display.HTML object>"
            ]
          },
          "metadata": {
            "tags": []
          }
        }
      ]
    },
    {
      "cell_type": "code",
      "metadata": {
        "id": "7ok1mBtpWbmF",
        "colab_type": "code",
        "colab": {
          "base_uri": "https://localhost:8080/",
          "height": 336
        },
        "cellView": "form",
        "outputId": "2f8943a0-fd19-4783-8ff8-540810693e10"
      },
      "source": [
        "#@title 実際の動作\n",
        "%%html\n",
        "<iframe width=\"560\" height=\"315\" src=\"https://www.youtube-nocookie.com/embed/u1TYDh8QRIc?start=413\" frameborder=\"0\" allow=\"accelerometer; autoplay; encrypted-media; gyroscope; picture-in-picture\" allowfullscreen></iframe>"
      ],
      "execution_count": 27,
      "outputs": [
        {
          "output_type": "display_data",
          "data": {
            "text/html": [
              "<iframe width=\"560\" height=\"315\" src=\"https://www.youtube-nocookie.com/embed/u1TYDh8QRIc?start=413\" frameborder=\"0\" allow=\"accelerometer; autoplay; encrypted-media; gyroscope; picture-in-picture\" allowfullscreen></iframe>"
            ],
            "text/plain": [
              "<IPython.core.display.HTML object>"
            ]
          },
          "metadata": {
            "tags": []
          }
        }
      ]
    },
    {
      "cell_type": "markdown",
      "metadata": {
        "colab_type": "text",
        "id": "HTfe8GLkie9z"
      },
      "source": [
        "### 燃料電池\n",
        "各論で触れます"
      ]
    }
  ]
}