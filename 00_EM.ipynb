{
  "nbformat": 4,
  "nbformat_minor": 0,
  "metadata": {
    "colab": {
      "name": "00_EM",
      "provenance": [],
      "collapsed_sections": [],
      "authorship_tag": "ABX9TyPd69jmKaC6TsQsDcgpCEyt",
      "include_colab_link": true
    },
    "kernelspec": {
      "name": "python3",
      "display_name": "Python 3"
    }
  },
  "cells": [
    {
      "cell_type": "markdown",
      "metadata": {
        "id": "view-in-github",
        "colab_type": "text"
      },
      "source": [
        "<a href=\"https://colab.research.google.com/github/kzhkAKT/EM/blob/master/00_EM.ipynb\" target=\"_parent\"><img src=\"https://colab.research.google.com/assets/colab-badge.svg\" alt=\"Open In Colab\"/></a>"
      ]
    },
    {
      "cell_type": "markdown",
      "metadata": {
        "id": "QPRRGmcAxMAp",
        "colab_type": "text"
      },
      "source": [
        "$\\require{mhchem}$\n",
        "$\\require{cancel}$\n",
        "# エネルギー材料科学\n",
        "<!--https://mhchem.github.io/MathJax-mhchem/-->\n",
        "## シラバス\n",
        "- [1S](https://syllabus.kosen-k.go.jp/Pages/PublicSubjects?school_id=08&department_id=41&year=2020&lang=ja) \n",
        "- [1K](https://syllabus.kosen-k.go.jp/Pages/PublicSyllabus?school_id=08&department_id=42&subject_id=0001&year=2015&lang=ja)"
      ]
    },
    {
      "cell_type": "markdown",
      "metadata": {
        "id": "hg-Nv4RdH1ne",
        "colab_type": "text"
      },
      "source": [
        "## Topics from Green Energy\n",
        "\n",
        "### 燃料電池\n",
        "> $\\ce{ H2 + 1/2 O2 -> H2O }$\n",
        "\n",
        "- 電気化学の基礎・俯瞰的知識の習得  \n",
        "- 燃料電池の理想効率の導出・圧力及び温度効果\n",
        "\n",
        "### 超伝導\n",
        "\n",
        "- 超電導出現メカニズムの現象論的な理解  \n",
        "- 量子論の初歩を用いた, 古典的現象論の導出\n",
        "\n",
        "## 評価\n",
        "\n",
        "> 合格点は 60点\n",
        "\n",
        "1. 試験(70%) \n",
        "2. レポート(30%)\n",
        "\n",
        ">> 最後のアンケートもお願いします.\n",
        "\n",
        "## 課題出題と連絡方法\n",
        "1. {s,k}*@gm.akita-nct.ac.jp を利用します\n",
        "2. https://classroom.google.com/ class-code: m5awv6t\n",
        "3. 担当教員 kzhk@gm.akita-nct.ac.jp"
      ]
    }
  ]
}