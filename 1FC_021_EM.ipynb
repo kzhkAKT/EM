{
  "nbformat": 4,
  "nbformat_minor": 0,
  "metadata": {
    "colab": {
      "name": "1FC_021_EM.ipynb",
      "provenance": [],
      "toc_visible": true,
      "authorship_tag": "ABX9TyMMMRqevgVLSrCFxAUBRymR",
      "include_colab_link": true
    },
    "kernelspec": {
      "name": "python3",
      "display_name": "Python 3"
    }
  },
  "cells": [
    {
      "cell_type": "markdown",
      "metadata": {
        "id": "view-in-github",
        "colab_type": "text"
      },
      "source": [
        "<a href=\"https://colab.research.google.com/github/kzhkAKT/ErgyMtrlScience/blob/draft/1FC_021_EM.ipynb\" target=\"_parent\"><img src=\"https://colab.research.google.com/assets/colab-badge.svg\" alt=\"Open In Colab\"/></a>"
      ]
    },
    {
      "cell_type": "markdown",
      "metadata": {
        "id": "2UKaAfgEFnY2",
        "colab_type": "text"
      },
      "source": [
        "# 化学変化とエネルギー\n"
      ]
    },
    {
      "cell_type": "markdown",
      "metadata": {
        "id": "5nR9PylUFrVt",
        "colab_type": "text"
      },
      "source": [
        "## エネルギー変換"
      ]
    },
    {
      "cell_type": "markdown",
      "metadata": {
        "id": "sk20CiPmEH1S",
        "colab_type": "text"
      },
      "source": [
        "\n",
        "\n",
        "### エネルギーの6形態\n",
        "\n",
        "![エネルギーのいろいろな形態と相互変換](https://info.ouj.ac.jp/~hamada/TextLib/rm/chap14/Figure/Cr99ef01.jpg)\n",
        "\n",
        "\n",
        "\n"
      ]
    },
    {
      "cell_type": "markdown",
      "metadata": {
        "id": "gvFbctUrFxkt",
        "colab_type": "text"
      },
      "source": [
        "### 自発変化と非自発変化"
      ]
    },
    {
      "cell_type": "code",
      "metadata": {
        "id": "5n3qPo0j_nFy",
        "colab_type": "code",
        "outputId": "ed086af7-f5ab-49bd-9bff-e5490159d8ed",
        "colab": {
          "base_uri": "https://localhost:8080/",
          "height": 222
        },
        "cellView": "both"
      },
      "source": [
        "#@title (Potential) Energy diagram\n",
        "%%svg\n",
        "<svg xmlns=\"http://www.w3.org/2000/svg\" xmlns:xlink=\"http://www.w3.org/1999/xlink\" version=\"1.1\" width=\"302px\" viewBox=\"-0.5 -0.5 302 201\" content=\"&lt;mxfile host=&quot;www.draw.io&quot; modified=&quot;2020-05-18T12:13:23.189Z&quot; agent=&quot;5.0 (Macintosh; Intel Mac OS X 10_15_4) AppleWebKit/537.36 (KHTML, like Gecko) Chrome/81.0.4044.138 Safari/537.36&quot; etag=&quot;e2yMkTHfoOYMTwpPEkJ4&quot; version=&quot;13.1.1&quot; type=&quot;google&quot;&gt;&lt;diagram id=&quot;GKjGW7c3z-M3sMcN3VVB&quot; name=&quot;Page-1&quot;&gt;5VjLjpswFP0alq3ABpIskwzNSG3VUbOo1J0DDlgCjIzzYL6+l2DCwzPNo8mozGyQfbCv8Tn3+IGB58l+IUgWfecBjQ1kBnsDPxgIjTGGZwkUFWDjUQWEggUVZDXAkj1TBZoK3bCA5p2GkvNYsqwL+jxNqS87GBGC77rN1jzujpqRkGrA0iexjv5igYzUtNCowR8pC6N6ZMudVG8SUjdWM8kjEvBdC8KegeeCc1mVkv2cxiV3NS9Vvy+vvD1+mKCpPKfDeO0sUPH755PrRfMpWfxgXyefVJQtiTdqwupjZVEzQNNgWhIJtZSnAM4imcRQs6BYtaaBRmLzVdZxrpAjlCdUigKa7Bo2HcVQ1CKyxgSNiWTbbniiRA2P4Y4jPHEGAyNT5Z/lqjhFr16HyPlG+FT1arPXC2SbJwJJIkIqtUBQaE27gQ7iXCAU+mBCYXQjobRAdxYKXySUH5M8Zz4IlMN3SR0ekoToRhL2A72118aahF5KRVjoQoIW38gKdryOUCRmYVqqCLpQAcCWCslgT5mqFwkLgjLGTNCcPZPVIZ4J9ayc0mGSzsxwHo6ilwHovqOL2vBU52abaafD6wmq54iKbn42nQ756N9yo27C1+uc3kUt+0rDDchZ2O45y7rSWf1A1uhtnTXRtIKdCoBlxlNJUso3uYHcGNibrQSUwrKUCe7TPH8f7rNPuc+ycVfr/91/ln408dKAy4iKBIz2IVRz0dgdlmqOJtp1Hhz4yor6R43+gnjuytoPpC3Rd15ZLf0m5+3flwmdUyZ0Rtawji6uptkjZLimFjAo7ycU2UieV/9drL/pdoZn6w79u3J96mh52n7B0/37QlubDvWX8jzSeI5hyRo+zd2T+vG+1aIZ34ZmqDY/qqrsb/72Ye8P&lt;/diagram&gt;&lt;/mxfile&gt;\" onclick=\"(function(svg){var src=window.event.target||window.event.srcElement;while (src!=null&amp;&amp;src.nodeName.toLowerCase()!='a'){src=src.parentNode;}if(src==null){if(svg.wnd!=null&amp;&amp;!svg.wnd.closed){svg.wnd.focus();}else{var r=function(evt){if(evt.data=='ready'&amp;&amp;evt.source==svg.wnd){svg.wnd.postMessage(decodeURIComponent(svg.getAttribute('content')),'*');window.removeEventListener('message',r);}};window.addEventListener('message',r);svg.wnd=window.open('https://www.draw.io/?client=1&amp;lightbox=1&amp;edit=_blank');}}})(this);\" style=\"cursor:pointer;max-width:100%;max-height:201px;\"><defs/><g><path d=\"M 60 20 L 300 20\" fill=\"none\" stroke=\"#000000\" stroke-miterlimit=\"10\" pointer-events=\"stroke\"/><path d=\"M 60 180 L 300 180\" fill=\"none\" stroke=\"#000000\" stroke-miterlimit=\"10\" pointer-events=\"stroke\"/><path d=\"M 20 173.63 L 20 26.37\" fill=\"none\" stroke=\"#000000\" stroke-miterlimit=\"10\" pointer-events=\"stroke\"/><path d=\"M 20 178.88 L 16.5 171.88 L 20 173.63 L 23.5 171.88 Z\" fill=\"#000000\" stroke=\"#000000\" stroke-miterlimit=\"10\" pointer-events=\"all\"/><path d=\"M 20 21.12 L 23.5 28.12 L 20 26.37 L 16.5 28.12 Z\" fill=\"#000000\" stroke=\"#000000\" stroke-miterlimit=\"10\" pointer-events=\"all\"/><g transform=\"translate(-0.5 -0.5)\"><switch><foreignObject style=\"overflow: visible; text-align: left;\" pointer-events=\"none\" width=\"100%\" height=\"100%\" requiredFeatures=\"http://www.w3.org/TR/SVG11/feature#Extensibility\"><div xmlns=\"http://www.w3.org/1999/xhtml\" style=\"display: flex; align-items: unsafe center; justify-content: unsafe center; width: 1px; height: 1px; padding-top: 97px; margin-left: 19px;\"><div style=\"box-sizing: border-box; font-size: 0; text-align: center; \"><div style=\"display: inline-block; font-size: 11px; font-family: Helvetica; color: #000000; line-height: 1.2; pointer-events: all; background-color: #ffffff; white-space: nowrap; \">Energy</div></div></div></foreignObject><text x=\"19\" y=\"100\" fill=\"#000000\" font-family=\"Helvetica\" font-size=\"11px\" text-anchor=\"middle\">Energy</text></switch></g><path d=\"M 240 170 L 240 36.37\" fill=\"none\" stroke=\"#000000\" stroke-miterlimit=\"10\" pointer-events=\"stroke\"/><path d=\"M 240 31.12 L 243.5 38.12 L 240 36.37 L 236.5 38.12 Z\" fill=\"#000000\" stroke=\"#000000\" stroke-miterlimit=\"10\" pointer-events=\"all\"/><g transform=\"translate(-0.5 -0.5)\"><switch><foreignObject style=\"overflow: visible; text-align: left;\" pointer-events=\"none\" width=\"100%\" height=\"100%\" requiredFeatures=\"http://www.w3.org/TR/SVG11/feature#Extensibility\"><div xmlns=\"http://www.w3.org/1999/xhtml\" style=\"display: flex; align-items: unsafe center; justify-content: unsafe center; width: 1px; height: 1px; padding-top: 100px; margin-left: 238px;\"><div style=\"box-sizing: border-box; font-size: 0; text-align: center; \"><div style=\"display: inline-block; font-size: 11px; font-family: Helvetica; color: #000000; line-height: 1.2; pointer-events: all; background-color: #ffffff; white-space: nowrap; \">non Spontaneous<br />process</div></div></div></foreignObject><text x=\"238\" y=\"103\" fill=\"#000000\" font-family=\"Helvetica\" font-size=\"11px\" text-anchor=\"middle\">non Spontaneous...</text></switch></g><g transform=\"translate(-0.5 -0.5)\"><switch><foreignObject style=\"overflow: visible; text-align: left;\" pointer-events=\"none\" width=\"100%\" height=\"100%\" requiredFeatures=\"http://www.w3.org/TR/SVG11/feature#Extensibility\"><div xmlns=\"http://www.w3.org/1999/xhtml\" style=\"display: flex; align-items: unsafe center; justify-content: unsafe center; width: 1px; height: 1px; padding-top: 57px; margin-left: 238px;\"><div style=\"box-sizing: border-box; font-size: 0; text-align: center; \"><div style=\"display: inline-block; font-size: 11px; font-family: Helvetica; color: #000000; line-height: 1.2; pointer-events: all; background-color: #ffffff; white-space: nowrap; \">Endothermic</div></div></div></foreignObject><text x=\"238\" y=\"60\" fill=\"#000000\" font-family=\"Helvetica\" font-size=\"11px\" text-anchor=\"middle\">Endothermic</text></switch></g><path d=\"M 120 30 L 120 163.63\" fill=\"none\" stroke=\"#000000\" stroke-miterlimit=\"10\" pointer-events=\"stroke\"/><path d=\"M 120 168.88 L 116.5 161.88 L 120 163.63 L 123.5 161.88 Z\" fill=\"#000000\" stroke=\"#000000\" stroke-miterlimit=\"10\" pointer-events=\"all\"/><g transform=\"translate(-0.5 -0.5)\"><switch><foreignObject style=\"overflow: visible; text-align: left;\" pointer-events=\"none\" width=\"100%\" height=\"100%\" requiredFeatures=\"http://www.w3.org/TR/SVG11/feature#Extensibility\"><div xmlns=\"http://www.w3.org/1999/xhtml\" style=\"display: flex; align-items: unsafe center; justify-content: unsafe center; width: 1px; height: 1px; padding-top: 100px; margin-left: 120px;\"><div style=\"box-sizing: border-box; font-size: 0; text-align: center; \"><div style=\"display: inline-block; font-size: 11px; font-family: Helvetica; color: #000000; line-height: 1.2; pointer-events: all; background-color: #ffffff; white-space: nowrap; \">Spontaneous<br />process</div></div></div></foreignObject><text x=\"120\" y=\"103\" fill=\"#000000\" font-family=\"Helvetica\" font-size=\"11px\" text-anchor=\"middle\">Spontaneou...</text></switch></g><g transform=\"translate(-0.5 -0.5)\"><switch><foreignObject style=\"overflow: visible; text-align: left;\" pointer-events=\"none\" width=\"100%\" height=\"100%\" requiredFeatures=\"http://www.w3.org/TR/SVG11/feature#Extensibility\"><div xmlns=\"http://www.w3.org/1999/xhtml\" style=\"display: flex; align-items: unsafe center; justify-content: unsafe center; width: 1px; height: 1px; padding-top: 147px; margin-left: 123px;\"><div style=\"box-sizing: border-box; font-size: 0; text-align: center; \"><div style=\"display: inline-block; font-size: 11px; font-family: Helvetica; color: #000000; line-height: 1.2; pointer-events: all; background-color: #ffffff; white-space: nowrap; \">Exothermic</div></div></div></foreignObject><text x=\"123\" y=\"150\" fill=\"#000000\" font-family=\"Helvetica\" font-size=\"11px\" text-anchor=\"middle\">Exothermic</text></switch></g><rect x=\"0\" y=\"0\" width=\"40\" height=\"20\" fill=\"none\" stroke=\"none\" pointer-events=\"all\"/><g transform=\"translate(-0.5 -0.5)\"><switch><foreignObject style=\"overflow: visible; text-align: left;\" pointer-events=\"none\" width=\"100%\" height=\"100%\" requiredFeatures=\"http://www.w3.org/TR/SVG11/feature#Extensibility\"><div xmlns=\"http://www.w3.org/1999/xhtml\" style=\"display: flex; align-items: unsafe center; justify-content: unsafe center; width: 1px; height: 1px; padding-top: 10px; margin-left: 20px;\"><div style=\"box-sizing: border-box; font-size: 0; text-align: center; \"><div style=\"display: inline-block; font-size: 12px; font-family: Helvetica; color: #000000; line-height: 1.2; pointer-events: all; white-space: nowrap; \">High</div></div></div></foreignObject><text x=\"20\" y=\"14\" fill=\"#000000\" font-family=\"Helvetica\" font-size=\"12px\" text-anchor=\"middle\">High</text></switch></g><rect x=\"5\" y=\"180\" width=\"30\" height=\"20\" fill=\"none\" stroke=\"none\" pointer-events=\"all\"/><g transform=\"translate(-0.5 -0.5)\"><switch><foreignObject style=\"overflow: visible; text-align: left;\" pointer-events=\"none\" width=\"100%\" height=\"100%\" requiredFeatures=\"http://www.w3.org/TR/SVG11/feature#Extensibility\"><div xmlns=\"http://www.w3.org/1999/xhtml\" style=\"display: flex; align-items: unsafe center; justify-content: unsafe center; width: 1px; height: 1px; padding-top: 190px; margin-left: 20px;\"><div style=\"box-sizing: border-box; font-size: 0; text-align: center; \"><div style=\"display: inline-block; font-size: 12px; font-family: Helvetica; color: #000000; line-height: 1.2; pointer-events: all; white-space: nowrap; \">low</div></div></div></foreignObject><text x=\"20\" y=\"194\" fill=\"#000000\" font-family=\"Helvetica\" font-size=\"12px\" text-anchor=\"middle\">low</text></switch></g></g><switch><g requiredFeatures=\"http://www.w3.org/TR/SVG11/feature#Extensibility\"/><a transform=\"translate(0,-5)\" xlink:href=\"https://desk.draw.io/support/solutions/articles/16000042487\" target=\"_blank\"><text text-anchor=\"middle\" font-size=\"10px\" x=\"50%\" y=\"100%\">Viewer does not support full SVG 1.1</text></a></switch></svg>"
      ],
      "execution_count": 3,
      "outputs": [
        {
          "output_type": "display_data",
          "data": {
            "text/plain": [
              "<IPython.core.display.SVG object>"
            ],
            "image/svg+xml": "<svg content=\"&lt;mxfile host=&quot;www.draw.io&quot; modified=&quot;2020-05-18T12:13:23.189Z&quot; agent=&quot;5.0 (Macintosh; Intel Mac OS X 10_15_4) AppleWebKit/537.36 (KHTML, like Gecko) Chrome/81.0.4044.138 Safari/537.36&quot; etag=&quot;e2yMkTHfoOYMTwpPEkJ4&quot; version=&quot;13.1.1&quot; type=&quot;google&quot;&gt;&lt;diagram id=&quot;GKjGW7c3z-M3sMcN3VVB&quot; name=&quot;Page-1&quot;&gt;5VjLjpswFP0alq3ABpIskwzNSG3VUbOo1J0DDlgCjIzzYL6+l2DCwzPNo8mozGyQfbCv8Tn3+IGB58l+IUgWfecBjQ1kBnsDPxgIjTGGZwkUFWDjUQWEggUVZDXAkj1TBZoK3bCA5p2GkvNYsqwL+jxNqS87GBGC77rN1jzujpqRkGrA0iexjv5igYzUtNCowR8pC6N6ZMudVG8SUjdWM8kjEvBdC8KegeeCc1mVkv2cxiV3NS9Vvy+vvD1+mKCpPKfDeO0sUPH755PrRfMpWfxgXyefVJQtiTdqwupjZVEzQNNgWhIJtZSnAM4imcRQs6BYtaaBRmLzVdZxrpAjlCdUigKa7Bo2HcVQ1CKyxgSNiWTbbniiRA2P4Y4jPHEGAyNT5Z/lqjhFr16HyPlG+FT1arPXC2SbJwJJIkIqtUBQaE27gQ7iXCAU+mBCYXQjobRAdxYKXySUH5M8Zz4IlMN3SR0ekoToRhL2A72118aahF5KRVjoQoIW38gKdryOUCRmYVqqCLpQAcCWCslgT5mqFwkLgjLGTNCcPZPVIZ4J9ayc0mGSzsxwHo6ilwHovqOL2vBU52abaafD6wmq54iKbn42nQ756N9yo27C1+uc3kUt+0rDDchZ2O45y7rSWf1A1uhtnTXRtIKdCoBlxlNJUso3uYHcGNibrQSUwrKUCe7TPH8f7rNPuc+ycVfr/91/ln408dKAy4iKBIz2IVRz0dgdlmqOJtp1Hhz4yor6R43+gnjuytoPpC3Rd15ZLf0m5+3flwmdUyZ0Rtawji6uptkjZLimFjAo7ycU2UieV/9drL/pdoZn6w79u3J96mh52n7B0/37QlubDvWX8jzSeI5hyRo+zd2T+vG+1aIZ34ZmqDY/qqrsb/72Ye8P&lt;/diagram&gt;&lt;/mxfile&gt;\" onclick=\"(function(svg){var src=window.event.target||window.event.srcElement;while (src!=null&amp;&amp;src.nodeName.toLowerCase()!='a'){src=src.parentNode;}if(src==null){if(svg.wnd!=null&amp;&amp;!svg.wnd.closed){svg.wnd.focus();}else{var r=function(evt){if(evt.data=='ready'&amp;&amp;evt.source==svg.wnd){svg.wnd.postMessage(decodeURIComponent(svg.getAttribute('content')),'*');window.removeEventListener('message',r);}};window.addEventListener('message',r);svg.wnd=window.open('https://www.draw.io/?client=1&amp;lightbox=1&amp;edit=_blank');}}})(this);\" style=\"cursor:pointer;max-width:100%;max-height:201px;\" version=\"1.1\" viewBox=\"-0.5 -0.5 302 201\" width=\"302px\" xmlns=\"http://www.w3.org/2000/svg\" xmlns:xlink=\"http://www.w3.org/1999/xlink\"><defs/><g><path d=\"M 60 20 L 300 20\" fill=\"none\" pointer-events=\"stroke\" stroke=\"#000000\" stroke-miterlimit=\"10\"/><path d=\"M 60 180 L 300 180\" fill=\"none\" pointer-events=\"stroke\" stroke=\"#000000\" stroke-miterlimit=\"10\"/><path d=\"M 20 173.63 L 20 26.37\" fill=\"none\" pointer-events=\"stroke\" stroke=\"#000000\" stroke-miterlimit=\"10\"/><path d=\"M 20 178.88 L 16.5 171.88 L 20 173.63 L 23.5 171.88 Z\" fill=\"#000000\" pointer-events=\"all\" stroke=\"#000000\" stroke-miterlimit=\"10\"/><path d=\"M 20 21.12 L 23.5 28.12 L 20 26.37 L 16.5 28.12 Z\" fill=\"#000000\" pointer-events=\"all\" stroke=\"#000000\" stroke-miterlimit=\"10\"/><g transform=\"translate(-0.5 -0.5)\"><switch><foreignObject height=\"100%\" pointer-events=\"none\" requiredFeatures=\"http://www.w3.org/TR/SVG11/feature#Extensibility\" style=\"overflow: visible; text-align: left;\" width=\"100%\"><div style=\"display: flex; align-items: unsafe center; justify-content: unsafe center; width: 1px; height: 1px; padding-top: 97px; margin-left: 19px;\" xmlns=\"http://www.w3.org/1999/xhtml\"><div style=\"box-sizing: border-box; font-size: 0; text-align: center; \"><div style=\"display: inline-block; font-size: 11px; font-family: Helvetica; color: #000000; line-height: 1.2; pointer-events: all; background-color: #ffffff; white-space: nowrap; \">Energy</div></div></div></foreignObject><text fill=\"#000000\" font-family=\"Helvetica\" font-size=\"11px\" text-anchor=\"middle\" x=\"19\" y=\"100\">Energy</text></switch></g><path d=\"M 240 170 L 240 36.37\" fill=\"none\" pointer-events=\"stroke\" stroke=\"#000000\" stroke-miterlimit=\"10\"/><path d=\"M 240 31.12 L 243.5 38.12 L 240 36.37 L 236.5 38.12 Z\" fill=\"#000000\" pointer-events=\"all\" stroke=\"#000000\" stroke-miterlimit=\"10\"/><g transform=\"translate(-0.5 -0.5)\"><switch><foreignObject height=\"100%\" pointer-events=\"none\" requiredFeatures=\"http://www.w3.org/TR/SVG11/feature#Extensibility\" style=\"overflow: visible; text-align: left;\" width=\"100%\"><div style=\"display: flex; align-items: unsafe center; justify-content: unsafe center; width: 1px; height: 1px; padding-top: 100px; margin-left: 238px;\" xmlns=\"http://www.w3.org/1999/xhtml\"><div style=\"box-sizing: border-box; font-size: 0; text-align: center; \"><div style=\"display: inline-block; font-size: 11px; font-family: Helvetica; color: #000000; line-height: 1.2; pointer-events: all; background-color: #ffffff; white-space: nowrap; \">non Spontaneous<br/>process</div></div></div></foreignObject><text fill=\"#000000\" font-family=\"Helvetica\" font-size=\"11px\" text-anchor=\"middle\" x=\"238\" y=\"103\">non Spontaneous...</text></switch></g><g transform=\"translate(-0.5 -0.5)\"><switch><foreignObject height=\"100%\" pointer-events=\"none\" requiredFeatures=\"http://www.w3.org/TR/SVG11/feature#Extensibility\" style=\"overflow: visible; text-align: left;\" width=\"100%\"><div style=\"display: flex; align-items: unsafe center; justify-content: unsafe center; width: 1px; height: 1px; padding-top: 57px; margin-left: 238px;\" xmlns=\"http://www.w3.org/1999/xhtml\"><div style=\"box-sizing: border-box; font-size: 0; text-align: center; \"><div style=\"display: inline-block; font-size: 11px; font-family: Helvetica; color: #000000; line-height: 1.2; pointer-events: all; background-color: #ffffff; white-space: nowrap; \">Endothermic</div></div></div></foreignObject><text fill=\"#000000\" font-family=\"Helvetica\" font-size=\"11px\" text-anchor=\"middle\" x=\"238\" y=\"60\">Endothermic</text></switch></g><path d=\"M 120 30 L 120 163.63\" fill=\"none\" pointer-events=\"stroke\" stroke=\"#000000\" stroke-miterlimit=\"10\"/><path d=\"M 120 168.88 L 116.5 161.88 L 120 163.63 L 123.5 161.88 Z\" fill=\"#000000\" pointer-events=\"all\" stroke=\"#000000\" stroke-miterlimit=\"10\"/><g transform=\"translate(-0.5 -0.5)\"><switch><foreignObject height=\"100%\" pointer-events=\"none\" requiredFeatures=\"http://www.w3.org/TR/SVG11/feature#Extensibility\" style=\"overflow: visible; text-align: left;\" width=\"100%\"><div style=\"display: flex; align-items: unsafe center; justify-content: unsafe center; width: 1px; height: 1px; padding-top: 100px; margin-left: 120px;\" xmlns=\"http://www.w3.org/1999/xhtml\"><div style=\"box-sizing: border-box; font-size: 0; text-align: center; \"><div style=\"display: inline-block; font-size: 11px; font-family: Helvetica; color: #000000; line-height: 1.2; pointer-events: all; background-color: #ffffff; white-space: nowrap; \">Spontaneous<br/>process</div></div></div></foreignObject><text fill=\"#000000\" font-family=\"Helvetica\" font-size=\"11px\" text-anchor=\"middle\" x=\"120\" y=\"103\">Spontaneou...</text></switch></g><g transform=\"translate(-0.5 -0.5)\"><switch><foreignObject height=\"100%\" pointer-events=\"none\" requiredFeatures=\"http://www.w3.org/TR/SVG11/feature#Extensibility\" style=\"overflow: visible; text-align: left;\" width=\"100%\"><div style=\"display: flex; align-items: unsafe center; justify-content: unsafe center; width: 1px; height: 1px; padding-top: 147px; margin-left: 123px;\" xmlns=\"http://www.w3.org/1999/xhtml\"><div style=\"box-sizing: border-box; font-size: 0; text-align: center; \"><div style=\"display: inline-block; font-size: 11px; font-family: Helvetica; color: #000000; line-height: 1.2; pointer-events: all; background-color: #ffffff; white-space: nowrap; \">Exothermic</div></div></div></foreignObject><text fill=\"#000000\" font-family=\"Helvetica\" font-size=\"11px\" text-anchor=\"middle\" x=\"123\" y=\"150\">Exothermic</text></switch></g><rect fill=\"none\" height=\"20\" pointer-events=\"all\" stroke=\"none\" width=\"40\" x=\"0\" y=\"0\"/><g transform=\"translate(-0.5 -0.5)\"><switch><foreignObject height=\"100%\" pointer-events=\"none\" requiredFeatures=\"http://www.w3.org/TR/SVG11/feature#Extensibility\" style=\"overflow: visible; text-align: left;\" width=\"100%\"><div style=\"display: flex; align-items: unsafe center; justify-content: unsafe center; width: 1px; height: 1px; padding-top: 10px; margin-left: 20px;\" xmlns=\"http://www.w3.org/1999/xhtml\"><div style=\"box-sizing: border-box; font-size: 0; text-align: center; \"><div style=\"display: inline-block; font-size: 12px; font-family: Helvetica; color: #000000; line-height: 1.2; pointer-events: all; white-space: nowrap; \">High</div></div></div></foreignObject><text fill=\"#000000\" font-family=\"Helvetica\" font-size=\"12px\" text-anchor=\"middle\" x=\"20\" y=\"14\">High</text></switch></g><rect fill=\"none\" height=\"20\" pointer-events=\"all\" stroke=\"none\" width=\"30\" x=\"5\" y=\"180\"/><g transform=\"translate(-0.5 -0.5)\"><switch><foreignObject height=\"100%\" pointer-events=\"none\" requiredFeatures=\"http://www.w3.org/TR/SVG11/feature#Extensibility\" style=\"overflow: visible; text-align: left;\" width=\"100%\"><div style=\"display: flex; align-items: unsafe center; justify-content: unsafe center; width: 1px; height: 1px; padding-top: 190px; margin-left: 20px;\" xmlns=\"http://www.w3.org/1999/xhtml\"><div style=\"box-sizing: border-box; font-size: 0; text-align: center; \"><div style=\"display: inline-block; font-size: 12px; font-family: Helvetica; color: #000000; line-height: 1.2; pointer-events: all; white-space: nowrap; \">low</div></div></div></foreignObject><text fill=\"#000000\" font-family=\"Helvetica\" font-size=\"12px\" text-anchor=\"middle\" x=\"20\" y=\"194\">low</text></switch></g></g><switch><g requiredFeatures=\"http://www.w3.org/TR/SVG11/feature#Extensibility\"/><a target=\"_blank\" transform=\"translate(0,-5)\" xlink:href=\"https://desk.draw.io/support/solutions/articles/16000042487\"><text font-size=\"10px\" text-anchor=\"middle\" x=\"50%\" y=\"100%\">Viewer does not support full SVG 1.1</text></a></switch></svg>"
          },
          "metadata": {
            "tags": []
          }
        }
      ]
    },
    {
      "cell_type": "markdown",
      "metadata": {
        "id": "ujfF8dJ0jYyI",
        "colab_type": "text"
      },
      "source": [
        "### エネルギーの根源\n",
        "\n",
        "太陽(または宇宙)を原点としたエネルギー変換"
      ]
    }
  ]
}