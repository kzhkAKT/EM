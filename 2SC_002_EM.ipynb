{
  "nbformat": 4,
  "nbformat_minor": 0,
  "metadata": {
    "colab": {
      "name": "2SC_002_EM",
      "provenance": [],
      "collapsed_sections": [],
      "authorship_tag": "ABX9TyO5ZP6g8JA+wHGXlaysnrzz",
      "include_colab_link": true
    },
    "kernelspec": {
      "name": "python3",
      "display_name": "Python 3"
    }
  },
  "cells": [
    {
      "cell_type": "markdown",
      "metadata": {
        "id": "view-in-github",
        "colab_type": "text"
      },
      "source": [
        "<a href=\"https://colab.research.google.com/github/kzhkAKT/ErgyMtrlScience/blob/draft/2SC_002_EM.ipynb\" target=\"_parent\"><img src=\"https://colab.research.google.com/assets/colab-badge.svg\" alt=\"Open In Colab\"/></a>"
      ]
    },
    {
      "cell_type": "markdown",
      "metadata": {
        "id": "TVGLP-aImKrF",
        "colab_type": "text"
      },
      "source": [
        "# The first London equation\n",
        "\n",
        "[Fritz](https://en.wikipedia.org/wiki/Fritz_London) & [Heinz London](https://en.wikipedia.org/wiki/Heinz_London)\n",
        "\n"
      ]
    },
    {
      "cell_type": "markdown",
      "metadata": {
        "id": "7XHKkaIxoZix",
        "colab_type": "text"
      },
      "source": [
        "## velocity of electron in Classical model\n",
        "Equation of motion:\n",
        "\\begin{align*}\n",
        "m \\dfrac{{\\rm d} \\vec{v}}{{\\rm d} t} = \\vec{f}_{\\rm em} + \\vec{f}_{\\rm drag}\n",
        "\\end{align*}\n",
        "\n",
        "By using Lorrentz's law for an object of charge $a$:\n",
        "\\begin{align*}\n",
        "\\vec{f}_{\\rm em} = q \\left( \\vec{E} + \\left( \\vec{v} \\times \\vec{B}\\right) \\right)\n",
        "\\end{align*}\n",
        "\n",
        "- For simplicity in a superconductor, $\\vec{B} \\to 0$.\n",
        "- $\\vec{f}_{\\rm drag}$ is proportional to $\\vec{v}$.\n",
        "  - $\\qquad \\vec{f}_{\\rm drag} = -\\dfrac{m}{\\tau_{\\rm tr}} \\vec{v}$  \n",
        "  $\\tau_{\\rm tr}$: *scattering(or transport) time* as a mean time between collisions\n",
        "\n",
        "Here we derive\n",
        "\\begin{align*}\n",
        "m \\dfrac{{\\rm d} \\vec{v}}{{\\rm d} t} + \\dfrac{m}{\\tau_{\\rm tr}} \\vec{v}= q \\vec{E}.\n",
        "\\end{align*}\n",
        "\n",
        "Assuming $E=\\hat{E} \\exp{j\\omega t}$, as in the same direction, we find $v=\\hat{v} \\exp{j\\omega t}$, then:\n",
        "\\begin{align*}\n",
        "\\hat{v} &= \\left( \\dfrac{q\\tau_{\\rm tr}}{m}\\right) \\dfrac{1}{1 + j\\omega \\tau_{\\rm tr}}  \\hat{E},&\n",
        "\\end{align*}\n",
        "where $j$ is an *Imaginary unit*."
      ]
    },
    {
      "cell_type": "markdown",
      "metadata": {
        "id": "ljax8LlMtKdb",
        "colab_type": "text"
      },
      "source": [
        "## net current flowing\n",
        "\n",
        "\\begin{align*}\n",
        "\\vec{J} &= n q \\vec{v},&\n",
        "\\end{align*}\n",
        "where $n$ is *the nummber density* of carriers in the material in ${\\rm 1/m^3}$.\n",
        "\n",
        "By combination with the equation in fomer section,\n",
        "\\begin{align*}\n",
        "\\vec{J} &= \\sigma_{0} \\dfrac{1}{1 + j\\omega \\tau_{\\rm tr}}  \\vec{E}&\\\\\n",
        "&=\\sigma(\\omega) \\vec{E}&\n",
        "\\end{align*}\n",
        "where\n",
        "\\begin{align*}\n",
        "\\sigma(\\omega)&=\\sigma_{0} \\dfrac{1}{1 + j\\omega \\tau_{\\rm tr}},& \n",
        "\\sigma_{0} &\\equiv \\dfrac{nq^2\\tau_{\\rm tr}}{m}&,\n",
        "\\end{align*}\n",
        "as a frequency-independent quantity."
      ]
    },
    {
      "cell_type": "markdown",
      "metadata": {
        "id": "2xCBq2U6LpVn",
        "colab_type": "text"
      },
      "source": [
        "From this relation,\n",
        "\\begin{align*}\n",
        "\\tau_{\\rm tr} &= \\dfrac{m \\sigma_0}{n q^2}.&\n",
        "\\end{align*}\n",
        "We can estimate $\\tau_{\\rm tr}$ for cupper as a normal conductor:\n",
        "\\begin{align*}\n",
        "O(\\tau_{\\rm tr}) &\\sim 10^{-14},&\n",
        "\\end{align*}\n",
        "then;\n",
        "\\begin{align*}\n",
        "\\omega \\tau_{\\rm tr} << 1.\n",
        "\\end{align*}\n",
        "Hence,\n",
        "\\begin{align*}\n",
        "\\sigma(\\omega) \\sim \\sigma_0,\n",
        "\\end{align*}\n",
        "since $R \\propto 1/\\sigma_0$, energy may be lost."
      ]
    },
    {
      "cell_type": "markdown",
      "metadata": {
        "id": "zV5GMjb4PRe2",
        "colab_type": "text"
      },
      "source": [
        "## $\\omega\\tau_{\\rm tr }>>1$\n",
        "\n",
        "$\\sigma(\\omega)$ is NOT real number:\n",
        "\\begin{align*}\n",
        "\\sigma(\\omega) \\sim \\sigma_0 \\dfrac{1}{j\\omega \\tau_{\\rm tr}},\n",
        "\\end{align*}\n",
        "since $R$ can NOT be mesured, energy can be conserved."
      ]
    },
    {
      "cell_type": "markdown",
      "metadata": {
        "id": "zJAFECkMRO6x",
        "colab_type": "text"
      },
      "source": [
        "$\\require{cancel}$\n",
        "\n",
        "![Figure 2.20](http://drive.google.com/uc?export=view&id=1OS_uz7AEO5mhu31mfNGpKSH9FjyS8Ppw)\n",
        "### Analogy in LR circuit\n",
        "\n",
        "In order to calculate the admittance $Y(\\omega)$ of this lumped element model,\n",
        "\\begin{align*}\n",
        "&i = \\hat{i} e^{j\\omega t}, \\qquad\n",
        "v_R = R i, \\quad\n",
        "v_L = L \\dfrac{{\\rm d} i}{{\\rm d} t}&\\\\\n",
        "v &= v_R + v_L&\\\\\n",
        "&=(R + j \\omega L)i\n",
        "= R(1 + j \\omega \\cancelto{\\tau_{\\rm RL}}{\\dfrac{L}{R}})i&\\\\\n",
        "Y(\\omega) &= \\dfrac{i}{v}=\\left(\\dfrac{1}{R}\\right) \\dfrac{1}{1 + j\\omega \\tau_{RL}}&\n",
        "\\end{align*}"
      ]
    },
    {
      "cell_type": "markdown",
      "metadata": {
        "id": "1BJ3Qds8TDi3",
        "colab_type": "text"
      },
      "source": [
        "Now we find the following analogies:\n",
        "\\begin{align*}\n",
        "{R} &\\sim \\dfrac{1}{\\sigma_0} = \\dfrac{m}{nq^2\\tau_{\\rm tr}}&\\\\\n",
        "\\tau_{\\rm RL} &\\sim \\tau_{\\rm tr},&\n",
        "\\end{align*}\n",
        "and consequently\n",
        "\\begin{align*}\n",
        "L &\\sim \\dfrac{\\tau_{\\rm tr}}{\\sigma_0} = \\dfrac{m}{nq^2}&\n",
        "\\end{align*}"
      ]
    },
    {
      "cell_type": "markdown",
      "metadata": {
        "id": "Lh2ypKywU0og",
        "colab_type": "text"
      },
      "source": [
        "### $1/\\tau_{\\rm tr} << 1/\\tau_{\\rm em}$\n",
        "\n",
        "![Figure 2.22](http://drive.google.com/uc?export=view&id=1sNWFSDKYfe7j-cvsXMONwfHld9uXKvdD)\n",
        "\n",
        "- $\\tau_{\\rm tr}$ : transport time\n",
        "- $\\tau_{\\rm em}$ : *charge-relaxation* and *magnetic-diffusion* time by $\\vec{B}$ \n",
        "\n",
        "\\begin{align*}\n",
        "R &= \\dfrac{L}{\\tau_{\\rm tr}} \\to 0&\n",
        "\\end{align*}\n",
        "This means the model turn in to a perfect conductor, or superconductor. Now we assume the current density $\\vec{J}$ with a new carrier, the *superelectron*.\n",
        "\n",
        "![Figure 2.23](http://drive.google.com/uc?export=view&id=1tcvrh08olsucHwZyKhYmB2-IcJTTHTHj)\n",
        "\n",
        "\\begin{align*}\n",
        "L &\\sim \\dfrac{m^*}{n^*(q^*)^2}.&\n",
        "\\end{align*}\n",
        "\n",
        "Since $\\dfrac{L}{\\tau_{\\rm tr}}\\to 0$, then $\\tau_{\\rm tr}\\to \\infty$ on time scale:\n",
        "\n",
        "\\begin{align*}\n",
        "&m^* \\dfrac{\\partial \\vec{v}}{\\partial t} + \\cancelto{0}{\\dfrac{m^*}{\\tau_{\\rm tr}} \\vec{v}}= q^* \\vec{E},\n",
        "\\qquad\n",
        "\\vec{J} = n^* q^* \\vec{v}.\n",
        "&\\\\\n",
        "\\vec{E} &= \\dfrac{\\partial }{\\partial t} \n",
        "\\left( \\Lambda\\vec{J}\n",
        "  \\right),\n",
        "  \\qquad\n",
        "\\vec{\\Lambda} = {\\dfrac{m^*}{n^*(q^*)^2}}& \n",
        "\\end{align*}\n",
        "\n",
        "\n",
        "\n"
      ]
    },
    {
      "cell_type": "markdown",
      "metadata": {
        "id": "hb9fyyxIc9xB",
        "colab_type": "text"
      },
      "source": [
        "The last equation is called *the first London Equation*."
      ]
    }
  ]
}