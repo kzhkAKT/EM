{
  "nbformat": 4,
  "nbformat_minor": 0,
  "metadata": {
    "colab": {
      "name": "2SC_002_EM",
      "provenance": [],
      "collapsed_sections": [],
      "toc_visible": true,
      "authorship_tag": "ABX9TyOGJxXUHkxn4NfeHhqu8xIv",
      "include_colab_link": true
    },
    "kernelspec": {
      "name": "python3",
      "display_name": "Python 3"
    }
  },
  "cells": [
    {
      "cell_type": "markdown",
      "metadata": {
        "id": "view-in-github",
        "colab_type": "text"
      },
      "source": [
        "<a href=\"https://colab.research.google.com/github/kzhkAKT/ErgyMtrlScience/blob/draft/2SC_002_EM.ipynb\" target=\"_parent\"><img src=\"https://colab.research.google.com/assets/colab-badge.svg\" alt=\"Open In Colab\"/></a>"
      ]
    },
    {
      "cell_type": "markdown",
      "metadata": {
        "id": "TVGLP-aImKrF",
        "colab_type": "text"
      },
      "source": [
        "# The first London equation\n",
        "\n",
        "[Fritz](https://en.wikipedia.org/wiki/Fritz_London) & [Heinz London](https://en.wikipedia.org/wiki/Heinz_London)\n",
        "\n"
      ]
    },
    {
      "cell_type": "markdown",
      "metadata": {
        "id": "7XHKkaIxoZix",
        "colab_type": "text"
      },
      "source": [
        "## velocity of electron in Classical model\n",
        "Equation of motion:\n",
        "\\begin{align*}\n",
        "m \\dfrac{{\\rm d} \\vec{v}}{{\\rm d} t} = \\vec{f}_{\\rm em} + \\vec{f}_{\\rm drag}\n",
        "\\end{align*}\n",
        "\n",
        "By using Lorrentz's law for an object of charge $a$:\n",
        "\\begin{align*}\n",
        "\\vec{f}_{\\rm em} = q \\left( \\vec{E} + \\left( \\vec{v} \\times \\vec{B}\\right) \\right)\n",
        "\\end{align*}\n",
        "\n",
        "- For simplicity in a superconductor, $\\vec{B} \\to 0$.\n",
        "- $\\vec{f}_{\\rm drag}$ is proportional to $\\vec{v}$.\n",
        "  - $\\qquad \\vec{f}_{\\rm drag} = -\\dfrac{m}{\\tau_{\\rm tr}} \\vec{v}$  \n",
        "  $\\tau_{\\rm tr}$: *scattering(or transport) time* as a mean time between collisions\n",
        "\n",
        "Here we derive\n",
        "\\begin{align*}\n",
        "m \\dfrac{{\\rm d} \\vec{v}}{{\\rm d} t} + \\dfrac{m}{\\tau_{\\rm tr}} \\vec{v}= q \\vec{E}.\n",
        "\\end{align*}\n",
        "\n",
        "Assuming $E=\\hat{E} \\exp{j\\omega t}$, as in the same direction, we find $v=\\hat{v} \\exp{j\\omega t}$, then:\n",
        "\\begin{align*}\n",
        "\\hat{v} &= \\left( \\dfrac{q\\tau_{\\rm tr}}{m}\\right) \\dfrac{1}{1 + j\\omega \\tau_{\\rm tr}}  \\hat{E},&\n",
        "\\end{align*}\n",
        "where $j$ is an *Imaginary unit*."
      ]
    },
    {
      "cell_type": "markdown",
      "metadata": {
        "id": "ljax8LlMtKdb",
        "colab_type": "text"
      },
      "source": [
        "## net current flowing\n",
        "\n",
        "\\begin{align*}\n",
        "\\vec{J} &= n q \\vec{v},&\n",
        "\\end{align*}\n",
        "where $n$ is *the nummber density* of carriers in the material in ${\\rm 1/m^3}$.\n",
        "\n",
        "By combination with the equation in fomer section,\n",
        "\\begin{align*}\n",
        "\\vec{J} &= \\sigma_{0} \\dfrac{1}{1 + j\\omega \\tau_{\\rm tr}}  \\vec{E},&\n",
        "\\end{align*}\n",
        "where\n",
        "\\begin{align*}\n",
        "\\sigma_{0} &\\equiv \\dfrac{nq^2\\tau_{\\rm tr}}{m},\n",
        "\\end{align*}\n",
        "as a frequency-independent quantity."
      ]
    }
  ]
}