{
  "nbformat": 4,
  "nbformat_minor": 0,
  "metadata": {
    "colab": {
      "name": "2SC_009_EM",
      "provenance": [],
      "toc_visible": true,
      "authorship_tag": "ABX9TyNGpop6Tulk6/cL6P0OXAO3",
      "include_colab_link": true
    },
    "kernelspec": {
      "name": "python3",
      "display_name": "Python 3"
    }
  },
  "cells": [
    {
      "cell_type": "markdown",
      "metadata": {
        "id": "view-in-github",
        "colab_type": "text"
      },
      "source": [
        "<a href=\"https://colab.research.google.com/github/kzhkAKT/ErgyMtrlScience/blob/draft/2SC_009_EM.ipynb\" target=\"_parent\"><img src=\"https://colab.research.google.com/assets/colab-badge.svg\" alt=\"Open In Colab\"/></a>"
      ]
    },
    {
      "cell_type": "markdown",
      "metadata": {
        "id": "CH-JxUGDdDpB",
        "colab_type": "text"
      },
      "source": [
        "# Josephson voltage-pahse relaiton"
      ]
    },
    {
      "cell_type": "markdown",
      "metadata": {
        "id": "UaXf78YddIqk",
        "colab_type": "text"
      },
      "source": [
        "In the Josephson tunneling in $\\vec{B}=0$, we derive the Josephson current-phase relation as\n",
        "\\begin{align*}\n",
        "\\vec{J}_{\\rm s} &= \\vec{J}_{\\rm c}  \\sin\\left(\\theta_1 -\\theta_2 \\right),&\\\\\n",
        "\\vec{J}_{\\rm s} \\left(y,z\\right)\n",
        "&=\n",
        "\\vec{J}_c \\left(y,z \\right)\n",
        "\\sin\\left[ \\theta_1\\left( y,z,t \\right) - \\theta_2\\left(y,z, t\\right) \\right].\n",
        "\\end{align*}"
      ]
    },
    {
      "cell_type": "markdown",
      "metadata": {
        "id": "WehexzD9d-rE",
        "colab_type": "text"
      },
      "source": [
        "We can choose the magnetic vector potential to be written as\n",
        "\\begin{align*}\n",
        "\\vec{A} (\\vec{r},t) = - \\nabla \\chi  (\\vec{r},t)\n",
        "\\end{align*}\n",
        "to ensure that $\\vec{B} = 0$ in the junction, where $\\chi$ is an artitrary single-value function. ($\\vec{B} = \\nabla \\times \\vec{A}=0$)"
      ]
    },
    {
      "cell_type": "markdown",
      "metadata": {
        "id": "X-tDaatde-b2",
        "colab_type": "text"
      },
      "source": [
        "Now choose a new gauge\n",
        "\\begin{align*}\n",
        "\\vec{A'} (\\vec{r},t) = \\vec{A} (\\vec{r},t) + \\nabla \\chi  (\\vec{r},t) = 0\n",
        "\\end{align*}\n",
        "so that in this guage teh vector potential vainishes."
      ]
    },
    {
      "cell_type": "markdown",
      "metadata": {
        "id": "aWAVQAnZgNAc",
        "colab_type": "text"
      },
      "source": [
        "In the new guage, the current-phase is the same as the original:\n",
        "\\begin{align*}\n",
        "\\vec{J}_{\\rm s} &= \\vec{J}_{\\rm c}  \\sin\\left(\\theta_1' -\\theta_2' \\right).\n",
        "\\end{align*}"
      ]
    },
    {
      "cell_type": "markdown",
      "metadata": {
        "id": "dDUTfdT5g4C6",
        "colab_type": "text"
      },
      "source": [
        "The phase shif of Cooper pair between $\\vec{A}$ and $\\vec{A'}$ can be written as\n",
        "\\begin{align*}\n",
        "\\theta'&= \\theta + \\dfrac{q^*}{\\hbar} \\chi = \\theta + \\dfrac{-2e}{\\hbar} \\chi\n",
        "=\\theta - \\dfrac{2e}{\\hbar} &\\\\\n",
        "&= \\theta - \\dfrac{2\\pi}{\\Phi_0}\\chi.&\\\\\n",
        "\\end{align*}"
      ]
    },
    {
      "cell_type": "markdown",
      "metadata": {
        "id": "Ntn2BRWuigdi",
        "colab_type": "text"
      },
      "source": [
        "Therefore,\n",
        "\\begin{align*}\n",
        "\\theta'_1 -\\theta'_2 \n",
        "= \\theta_1 -\\theta_2\n",
        "- \\dfrac{2\\pi}{\\Phi_0}\\left( \\chi_1 -\\chi_2 \\right).\n",
        "\\end{align*}"
      ]
    },
    {
      "cell_type": "markdown",
      "metadata": {
        "id": "zxIxHuXki-9X",
        "colab_type": "text"
      },
      "source": [
        "In the RHS,\n",
        "\\begin{align*}\n",
        "\\chi_1 - \\chi_2 = - \\int_1^2 \\nabla \\chi \\cdot {\\rm d}\\vec{\\ell}\n",
        "= \\int_1^2 \\vec{A}(\\vec{r},t)\\cdot {\\rm d}\\vec{\\ell}&\n",
        "\\end{align*}"
      ]
    },
    {
      "cell_type": "markdown",
      "metadata": {
        "id": "3BrymhbrkUC0",
        "colab_type": "text"
      },
      "source": [
        "## the guage-invariant phase difference\n"
      ]
    },
    {
      "cell_type": "markdown",
      "metadata": {
        "id": "MCTddJvfksGj",
        "colab_type": "text"
      },
      "source": [
        "Here we rewrite taht\n",
        "\\begin{align*}\n",
        "\\vec{J}_{\\rm s} \\left(\\vec{r},t\\right)\n",
        "&=\n",
        "\\vec{J}_c \\left( y, z,t \\right)\n",
        "\\sin \\varphi\\left(y,z, t \\right),\n",
        "\\end{align*}\n",
        "where $\\varphi\\equiv\\theta_1'- \\theta_2'$."
      ]
    },
    {
      "cell_type": "markdown",
      "metadata": {
        "id": "hpUwO97zkT5C",
        "colab_type": "text"
      },
      "source": [
        "\\begin{align*}\n",
        "\\varphi\\left(y,z, t \\right)\n",
        "=\n",
        "\\theta_1\\left(y,z, t \\right) -\\theta_2\\left(y,z, t \\right)\n",
        "- \\dfrac{2\\pi}{\\Phi_0}\\int_1^2 \\vec{A}(\\vec{r},t)\\cdot {\\rm d}\\vec{\\ell}.\n",
        "\\end{align*}\n",
        "This is called *the guage-invariant phase difference*."
      ]
    },
    {
      "cell_type": "markdown",
      "metadata": {
        "id": "Gi3wTA67alS7",
        "colab_type": "text"
      },
      "source": [
        "Here we recall the phase relation\n",
        "\\begin{align*}\n",
        "- \\hbar \\dfrac{\\partial \\theta }{\\partial t} = \\frac{1}{2n^*}\\Lambda {\\vec{J}_{\\rm s}}^2 \n",
        "+ q^* \\phi,\n",
        "\\end{align*}\n",
        "and the boundary condition of the Josephson tunnelig circit:"
      ]
    },
    {
      "cell_type": "markdown",
      "metadata": {
        "colab_type": "text",
        "id": "HiFG5ZsFbBD1"
      },
      "source": [
        "\\begin{align*}\n",
        "\\dfrac{\\partial \\theta }{\\partial t} \\left( \\vec{r}, t \\right)\n",
        "&=\n",
        "-\\dfrac{1}{h}\n",
        "\\left[ \\frac{\\Lambda {\\vec{J}_{\\rm s}}^2 }{2n^*}\n",
        "+ q^* \\phi\\left( \\vec{r}, t \\right)\n",
        "\\right].\n",
        "\\end{align*}"
      ]
    },
    {
      "cell_type": "markdown",
      "metadata": {
        "id": "ECdBafJ5ndTF",
        "colab_type": "text"
      },
      "source": [
        "$\\require{cancel}$\n",
        "Between the junction, the time derivative the guage-invariant phase difference is\n",
        "\\begin{align*}\n",
        "\\dfrac{\\partial \\varphi }{\\partial t} \n",
        "=&\n",
        "-\\dfrac{1}{h}\n",
        "\\left( \n",
        "  \\cancelto{0}{\\dfrac{\\Lambda }{2n^*}\n",
        "   \\left[ {\\vec{J}_{\\rm s}}^2(-a) - {\\vec{J}_{\\rm s}}^2(+a) \\right]}\n",
        "  + \n",
        "  q^* \\left[\\phi\\left( -q, t \\right)  - \\phi\\left( +q, t \\right) \\right]\n",
        "\\right)&\\\\\n",
        "& \\quad -\\dfrac{2\\pi}{\\Phi_0}\n",
        "\\dfrac{\\partial }{\\partial t}\\int_1^2 \\vec{A}(\\vec{r},t)\\cdot {\\rm d}\\vec{\\ell}.\n",
        "\\end{align*}"
      ]
    },
    {
      "cell_type": "markdown",
      "metadata": {
        "id": "rEXe-8DXpIMI",
        "colab_type": "text"
      },
      "source": [
        "\\begin{align*}\n",
        "\\dfrac{\\partial \\varphi }{\\partial t} \n",
        "&= \\dfrac{2\\pi}{\\Phi_0}\n",
        "\\dfrac{\\partial }{\\partial t}\\int_1^2 \n",
        "\\left(-\\nabla \\phi -\\vec{A}(\\vec{r},t)\\right)\n",
        "\\cdot {\\rm d}\\vec{\\ell}&\\\\\n",
        "&= \\dfrac{2\\pi}{\\Phi_0} \\int_1^2 \\vec{E}(\\vec{r},t)\\cdot {\\rm d}\\vec{\\ell}.\n",
        "\\end{align*}\n",
        "The last relation is called as Josephson voltage-phase relation."
      ]
    }
  ]
}