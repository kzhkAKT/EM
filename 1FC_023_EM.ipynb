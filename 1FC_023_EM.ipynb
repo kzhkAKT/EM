{
  "nbformat": 4,
  "nbformat_minor": 0,
  "metadata": {
    "colab": {
      "name": "1FC_023_EM",
      "provenance": [],
      "collapsed_sections": [],
      "authorship_tag": "ABX9TyNQRh1DE2AVR210vBCCIvUp",
      "include_colab_link": true
    },
    "kernelspec": {
      "name": "python3",
      "display_name": "Python 3"
    }
  },
  "cells": [
    {
      "cell_type": "markdown",
      "metadata": {
        "id": "view-in-github",
        "colab_type": "text"
      },
      "source": [
        "<a href=\"https://colab.research.google.com/github/kzhkAKT/ErgyMtrlScience/blob/draft/1FC_023_EM.ipynb\" target=\"_parent\"><img src=\"https://colab.research.google.com/assets/colab-badge.svg\" alt=\"Open In Colab\"/></a>"
      ]
    },
    {
      "cell_type": "markdown",
      "metadata": {
        "id": "wZt8tmNjwfSq",
        "colab_type": "text"
      },
      "source": [
        "\n",
        "# 化学変化とエネルギー"
      ]
    },
    {
      "cell_type": "markdown",
      "metadata": {
        "id": "_jTO5hl7whlx",
        "colab_type": "text"
      },
      "source": [
        "## 標準生成ギブズエネルギー\n",
        "\n",
        "$\\require{mhchem}$\n",
        "- Standard Gibbs free energy of **f**ormation: $\\Delta_{\\rm f}G^\\circ$\n",
        "\n",
        "- 化学反応のギブズエネルギー変化: $\\Delta_{\\rm r} G^\\circ = \\Delta G^\\circ_{\\rm 生成系} - \\Delta G^\\circ_{\\rm 原系}$\n",
        "\n",
        "\n",
        "$\\Delta_{\\rm f} G^\\circ$ は $\\Delta_{\\rm r} G^\\circ$ の基本データ [NIST-JANAF TT](https://janaf.nist.gov/) \n",
        "\n",
        "### 化合物の $\\Delta_{\\rm f} G^\\circ$\n",
        "\n",
        "#### 記号 \"$\\circ$\" \n",
        "- 活量=1 (活量は後述) の基準状態にあることを示す.\n",
        "  - 気体の標準状態は圧力 ${\\rm 1 atm}$\n",
        "  - 溶液の標準状態はモル濃度  ${\\rm 1 molL^{-1}}$\n",
        "  - 固体や液体なら, 純物質が基準状態\n",
        "\n",
        "#### 鉛蓄電池\n",
        "\n",
        "\\begin{align*}\n",
        "\\ce{Pb(s) + PbO2(s) + 2H2SO4(aq)\n",
        "<=>\n",
        "2PbSO4(s) + 2H2O(l)}\n",
        "\\end{align*}\n",
        "\n",
        "> Q 上の式の左辺と右辺のそれぞれの $\\Delta_{\\rm f}G^\\circ$ を別紙を参考に求め, 反応がどちらに進むか考察せよ.\n",
        "\n",
        "> Q その際の(理想的な)起電力を求めよ."
      ]
    },
    {
      "cell_type": "code",
      "metadata": {
        "id": "a6ONB0dGw210",
        "colab_type": "code",
        "colab": {}
      },
      "source": [
        ""
      ],
      "execution_count": 0,
      "outputs": []
    }
  ]
}