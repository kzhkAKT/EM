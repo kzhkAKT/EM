{
  "nbformat": 4,
  "nbformat_minor": 0,
  "metadata": {
    "colab": {
      "name": "1FC_033_EM",
      "provenance": [],
      "authorship_tag": "ABX9TyNEh3FeeebGE0K9ynI0I2Vc",
      "include_colab_link": true
    },
    "kernelspec": {
      "name": "python3",
      "display_name": "Python 3"
    }
  },
  "cells": [
    {
      "cell_type": "markdown",
      "metadata": {
        "id": "view-in-github",
        "colab_type": "text"
      },
      "source": [
        "<a href=\"https://colab.research.google.com/github/kzhkAKT/ErgyMtrlScience/blob/draft/1FC_033_EM.ipynb\" target=\"_parent\"><img src=\"https://colab.research.google.com/assets/colab-badge.svg\" alt=\"Open In Colab\"/></a>"
      ]
    },
    {
      "cell_type": "markdown",
      "metadata": {
        "id": "eBr4Srj8zbO8",
        "colab_type": "text"
      },
      "source": [
        "#電極電位"
      ]
    },
    {
      "cell_type": "markdown",
      "metadata": {
        "id": "1IWw4i7lzh-e",
        "colab_type": "text"
      },
      "source": [
        "## 基準電極\n",
        "\n",
        "### 電気二重層\n",
        "\n",
        "<img src=\"https://kenkou888.com/img/%E9%9B%BB%E6%B0%97%E4%BA%8C%E9%87%8D%E5%B1%A4.jpg\" width=\"400\">\n",
        "\n",
        "[参考サイト:電気の情報サイト](https://kenkou888.com/denkikagaku/entry245.html)\n",
        "\n",
        "![wiki:Double_layer_(surface_science)](https://upload.wikimedia.org/wikipedia/commons/thumb/9/95/Double_Layer.png/553px-Double_Layer.png)\n",
        "\n",
        "\n",
        "<img src=\"https://kenkou888.com/img/%E9%9B%BB%E4%BD%8D%E5%88%86%E5%B8%83.jpg\" width=\"500\">\n"
      ]
    },
    {
      "cell_type": "markdown",
      "metadata": {
        "id": "AI7B4mHc3G0f",
        "colab_type": "text"
      },
      "source": [
        "$\\require{mhchem}$\n",
        "\n",
        "SHE\n",
        "\\begin{align*}\n",
        "\\ce{2H+ + 2e- <=> H2}\n",
        "\\end{align*}\n",
        "+ もっとも軽い元素で, Columb力も他の元素と比べて簡潔なため,   \n",
        "平衡反応が速やかに進み, 電気二重層の電圧変動を安定させる."
      ]
    },
    {
      "cell_type": "markdown",
      "metadata": {
        "id": "o18YpR_14Z3t",
        "colab_type": "text"
      },
      "source": [
        "### 実用の基準電極\n"
      ]
    },
    {
      "cell_type": "markdown",
      "metadata": {
        "id": "1yZwnKxm4f0v",
        "colab_type": "text"
      },
      "source": [
        "#### 銀-塩化銀電極 Ag-AgCl (Ag/AgCl)\n",
        "\\begin{align*}\n",
        "\\ce{AgCl + e- <=> Ag + Cl-}\n",
        "\\end{align*}\n",
        "![wikipedia:Reference electrode](https://upload.wikimedia.org/wikipedia/commons/thumb/4/4b/Ag-AgCl_Reference_Electrode.jpg/85px-Ag-AgCl_Reference_Electrode.jpg)"
      ]
    },
    {
      "cell_type": "markdown",
      "metadata": {
        "id": "-c3YNU8E5NZF",
        "colab_type": "text"
      },
      "source": [
        "#### 飽和カルメロ電極 (SCE)\n",
        "\n",
        "\\begin{align*}\n",
        "\\ce{Hg2Cl2 + 2e- <=> 2Hg + 2Cl-}\n",
        "\\end{align*}"
      ]
    },
    {
      "cell_type": "markdown",
      "metadata": {
        "id": "xrAGRLZR6Wud",
        "colab_type": "text"
      },
      "source": [
        "> Q 教科書 p42 の(基準電極)電位の換算を確認してください."
      ]
    }
  ]
}