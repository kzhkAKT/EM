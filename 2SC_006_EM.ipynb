{
  "nbformat": 4,
  "nbformat_minor": 0,
  "metadata": {
    "colab": {
      "name": "2SC_006_EM",
      "provenance": [],
      "authorship_tag": "ABX9TyPmqYGH003NT0UWk+uzFv0c",
      "include_colab_link": true
    },
    "kernelspec": {
      "name": "python3",
      "display_name": "Python 3"
    }
  },
  "cells": [
    {
      "cell_type": "markdown",
      "metadata": {
        "id": "view-in-github",
        "colab_type": "text"
      },
      "source": [
        "<a href=\"https://colab.research.google.com/github/kzhkAKT/ErgyMtrlScience/blob/draft/2SC_006_EM.ipynb\" target=\"_parent\"><img src=\"https://colab.research.google.com/assets/colab-badge.svg\" alt=\"Open In Colab\"/></a>"
      ]
    },
    {
      "cell_type": "markdown",
      "metadata": {
        "id": "JbGNEiA7WDlG",
        "colab_type": "text"
      },
      "source": [
        "# Macroscopic quantum currents\n",
        "Since we obtain a charged quantum particle in an electromagnetic field,  \n",
        "we apply the relation to the superelectrons, *Cooper pair*.\n",
        "\n",
        "## the central hypothesis\n",
        "> There exists a macroscopic quantum wavefunction, $\\Psi(\\vec{r}, t),$  \n",
        "that describes the behavior of the entire ensenble of superelectrons in the superconductor.\n",
        "\n",
        "Suppose that the entire ensenble of superelectrons satisfiis\n",
        "\n",
        "\\begin{align*}\n",
        "\\int {\\rm d}\\vec{r}\\  \\Psi^*(\\vec{r}, t)\\Psi(\\vec{r}, t) = N^*,\n",
        "\\end{align*}\n",
        "\n",
        "where $N^*$ is the total number of superelectrons with $\\Psi(\\vec{r}, t)$.\n",
        "\n",
        "\n"
      ]
    },
    {
      "cell_type": "markdown",
      "metadata": {
        "id": "2YbD6IDtZGs6",
        "colab_type": "text"
      },
      "source": [
        "### Local density\n",
        "From the relation of $N^*$, we can define the local density of superelectrons as\n",
        "\\begin{align*}\n",
        "\\Psi^*(\\vec{r}, t)\\Psi(\\vec{r}, t) = n^*(\\vec{r}, t)\n",
        "\\end{align*}"
      ]
    },
    {
      "cell_type": "markdown",
      "metadata": {
        "id": "mMZa3X5QZnUS",
        "colab_type": "text"
      },
      "source": [
        "### Analogy\n",
        "By applying the probability of a charge quantum particle in an electromagnetic field to superelectrons\n",
        "\\begin{align*}\n",
        "\\vec{J}_{\\mathcal{P}} \n",
        "&=\n",
        "q^*\n",
        "{\\rm Re}\\left\\{\n",
        "  \\Psi^*{\\left(\n",
        "    \\dfrac{\\hbar}{im} \\nabla - \\dfrac{q^*}{m^*}\\vec{A}\n",
        "    \\right)}\\Psi\n",
        "    \\right\\}. &\n",
        "\\end{align*}\n",
        "\n",
        "We also obtain a Schrodingerlike equation for the ensemble in an electromagnetic field:\n",
        "\\begin{align*}\n",
        "i \\hbar \\dfrac{\\partial }{\\partial t}\\Psi(\\vec{r},t)\n",
        "&=\\frac{1}{2m^*} \\left(\\dfrac{\\hbar}{i} \\nabla -q^*\\vec{A}(\\vec{r},t)\\right)^2 \\Psi(\\vec{r},t)\n",
        "+\n",
        "q^* \\phi(\\vec{r},t)\\ \\Psi(\\vec{v},t).&\n",
        "\\end{align*}"
      ]
    },
    {
      "cell_type": "markdown",
      "metadata": {
        "id": "mjqPAKaRcGD8",
        "colab_type": "text"
      },
      "source": [
        "### a general form of $\\Psi$\n",
        "\n",
        "$N^*$ and the Schrodingerlike equation suggest us that\n",
        "\\begin{align*}\n",
        "  \\Psi(\\vec{r}, t) =  \\sqrt{n^*(\\vec{r}, t)}\\ e^{i\\theta(\\vec{r}, t)}\n",
        "\\end{align*}"
      ]
    },
    {
      "cell_type": "markdown",
      "metadata": {
        "id": "0kGTZDiGiL4n",
        "colab_type": "text"
      },
      "source": [
        ""
      ]
    },
    {
      "cell_type": "markdown",
      "metadata": {
        "id": "dw6DoU7Lc8JS",
        "colab_type": "text"
      },
      "source": [
        "Applying this wave function to $J_{\\mathcal{P}}$\n",
        "\\begin{align*}\n",
        "\\vec{J}_{\\mathcal{P}_{\\rm S}} \n",
        "&=\n",
        "q^*\n",
        "{\\rm Re}\\left\\{\n",
        "  \\Psi^*{\\left(\n",
        "    \\dfrac{\\hbar}{im} \\nabla - \\dfrac{q^*}{m^*}\\vec{A}\n",
        "    \\right)}\\Psi\n",
        "    \\right\\}. &\\\\\n",
        "&= q^* n^*(\\vec{r},t)\n",
        "\\left(\n",
        "  \\dfrac{\\hbar}{m^*}\\nabla \\theta(\\vec{r},t) - \\dfrac{q^*}{m^*}\\vec{A}(\\vec{r},t)\n",
        "\\right)&\\\\\n",
        "&=\\vec{J}_{\\mathcal{P}_{\\rm S}}\\left( \\theta, \\vec{A} \\right)&\n",
        "\\end{align*}\n",
        "here we can define the local velocity associated with supercurrent, $\\vec{v}_{\\rm s}$\n",
        "\\begin{align*}\n",
        "  \\vec{v}_{\\rm s} \n",
        "  &\\equiv\n",
        "  \\dfrac{\\hbar}{m^*}\\nabla \\theta(\\vec{r},t) - \\dfrac{q^*}{m^*}\\vec{A}(\\vec{r},t).\n",
        "\\end{align*}\n",
        "\n",
        "Neither the phase $\\theta$ or the vector potential $\\vec{A}$ can be directoly determined from experiment."
      ]
    },
    {
      "cell_type": "markdown",
      "metadata": {
        "id": "WEKh7a5ggFI2",
        "colab_type": "text"
      },
      "source": [
        "### the concept of gauge invariant on $\\vec{A}$\n",
        "\n",
        "In vector identiry for any single-valued scalar field, $\\gamma$,\n",
        "\\begin{align*}\n",
        "\\nabla \\times \\left( \\nabla \\gamma \\right) = 0,\n",
        "\\end{align*}\n",
        "we know that for an arbitrary scalar function $\\chi$,\n",
        "\\begin{align*}\n",
        "\\vec{B} = \\nabla \\times \\vec{A} \n",
        "= \\nabla \\times \\left( \\vec{A} + \\nabla \\chi \\right)\n",
        "\\end{align*}"
      ]
    },
    {
      "cell_type": "markdown",
      "metadata": {
        "id": "hcfuGAUZhdD1",
        "colab_type": "text"
      },
      "source": [
        "So a new vector potential $\\vec{A'}$ can be writen mathematically\n",
        "\\begin{align*}\n",
        "\\vec{A'} \\equiv \\vec{A} + \\nabla \\chi.\n",
        "\\end{align*}\n",
        "\n",
        "In order to reduce the arbitrariness, we compaire $\\vec{A}, \\phi$ with $\\vec{A'}, \\phi'$ which give same $\\vec{E}:$\n",
        "\\begin{align*}\n",
        "&\\nabla \\times \\vec{E} \n",
        "= - \\dfrac{\\partial \\vec{B}}{\\partial t} \n",
        "= - \\dfrac{\\partial (\\nabla \\times \\vec{A} + 0)}{\\partial t}\n",
        "= - \\dfrac{\\partial \\nabla \\times ( \\vec{A} + \\nabla \\chi) }{\\partial t}\n",
        "= - \\dfrac{\\partial \\nabla \\times \\vec{A'} }{\\partial t},&\n",
        "\\end{align*}\n",
        "so\n",
        "\\begin{align*}\n",
        "\\vec{E}&= -\\dfrac{\\partial \\vec{A'}}{\\partial t} - \\nabla \\phi'&\\\\\n",
        "&= -\\dfrac{\\partial \\vec{A}}{\\partial t} - \\nabla \\phi,\\\\\n",
        "\\end{align*}\n",
        "then\n",
        "\\begin{align*}\n",
        "0 &= - \\nabla\\left\\{\\dfrac{\\partial\\chi}{\\partial t} \n",
        "-\\left(\n",
        "  \\phi' - \\phi\n",
        "  \\right)\\right\\}.\n",
        "\\end{align*}\n",
        "We can fix $\\phi'$ as\n",
        "\\begin{align*}\n",
        "\\phi' \\equiv \\phi - \\dfrac{\\partial\\chi}{\\partial t}.\n",
        "\\end{align*}"
      ]
    },
    {
      "cell_type": "markdown",
      "metadata": {
        "id": "aFS5g3Ys5gaV",
        "colab_type": "text"
      },
      "source": [
        "### Phase shift\n",
        "By using the new potential with its $\\Psi^*$, we can express the following relations:\n",
        "\\begin{align*}\n",
        "i \\hbar \\dfrac{\\partial }{\\partial t}\\Psi'(\\vec{r},t)\n",
        "&=\\frac{1}{2m^*} \\left(\\dfrac{\\hbar}{i} \\nabla -q^*\\vec{A}(\\vec{r},t)\\right)^2 \\Psi'(\\vec{r},t)\n",
        "+\n",
        "q^* \\phi'(\\vec{r},t)\\ \\Psi'(\\vec{v},t)&\\\\\n",
        "\\Psi'(\\vec{r}, t) &=  \\sqrt{n^*(\\vec{r}, t)}\\ e^{i\\theta'(\\vec{r}, t)},&\\\\\n",
        "\\end{align*}\n",
        "where\n",
        "\\begin{align*}\n",
        "&\\Psi^*(\\vec{r}, t)\\Psi(\\vec{r}, t)\n",
        "= \\Psi'^*(\\vec{r}, t)\\Psi'(\\vec{r}, t)\n",
        "= n^*(\\vec{r}, t),&\n",
        "\\end{align*}\n",
        "\n",
        "Moreover, $\\vec{J}_{\\rm s}$ can be rewritten as\n",
        "\\begin{align*}\n",
        "\\vec{J}_{\\mathcal{P}} \n",
        "&= q^* n^*(\\vec{r},t)\n",
        "\\left(\n",
        "  \\dfrac{\\hbar}{m^*}\\nabla \\theta'(\\vec{r},t) - \\dfrac{q^*}{m^*}\\vec{A'}(\\vec{r},t).\n",
        "\\right)&\n",
        "\\end{align*}\n",
        " \n",
        "\n"
      ]
    },
    {
      "cell_type": "markdown",
      "metadata": {
        "id": "AqPsiusT7ikU",
        "colab_type": "text"
      },
      "source": [
        "Though this renew $\\vec{J}_{\\rm s}$ is a kind of observable real number,\n",
        "it shall be same as the original:\n",
        "\\begin{align*}\n",
        "\\vec{J}_{\\mathcal{P}} \n",
        "&= q^* n^*(\\vec{r},t)\n",
        "\\left\\{\n",
        "  \\dfrac{\\hbar}{m^*}\\nabla \\theta'(\\vec{r},t) \n",
        "  - \\dfrac{q^*}{m^*}\n",
        "  \\left(\\vec{A}(\\vec{r},t) + \\nabla \\chi \\right).\n",
        "\\right\\}&\\\\\n",
        "&= q^* n^*(\\vec{r},t)\n",
        "\\left\\{\n",
        "  \\dfrac{\\hbar}{m^*}\n",
        "  \\nabla \\left(\\theta'(\\vec{r},t) - \\dfrac{q^*}{m^*}\\chi\\right)\n",
        "  - \\dfrac{q^*}{m^*}\n",
        "  \\vec{A}(\\vec{r},t)\n",
        "\\right\\},&\n",
        "\\end{align*}\n",
        "then\n",
        "\\begin{align*}\n",
        "\\theta' &=  \\theta + \\dfrac{q^*}{\\hbar} \\chi.&\n",
        "\\end{align*}"
      ]
    },
    {
      "cell_type": "markdown",
      "metadata": {
        "id": "n5Rt0i3Y9JSA",
        "colab_type": "text"
      },
      "source": [
        "Now we can express that\n",
        "\\begin{align*}\n",
        "\\Psi'(\\vec{r}, t) &= \\Psi(\\vec{r}, t)\\ e^{i(q^*/\\hbar)\\chi},&\\\\\n",
        "\\end{align*}"
      ]
    },
    {
      "cell_type": "markdown",
      "metadata": {
        "id": "sf9oiyUv9-6P",
        "colab_type": "text"
      },
      "source": [
        "### The second London equation\n",
        "\n",
        "the time evolution of $\\mathcal{P}_{\\rm S}$ can be written as\n",
        "\\begin{align*}\n",
        "\\nabla \\cdot \\vec{J}_{\\rm S}\n",
        "&= -\\dfrac{\\partial}{\\partial t} \\mathcal{P}_{\\rm S} \n",
        "= -\\dfrac{\\partial}{\\partial t} \\left(\\Psi'^*(\\vec{r}, t)\\Psi'(\\vec{r}, t)\\right)&\\\\\n",
        "&= -\\dfrac{\\partial}{\\partial t} \\left( q^* n^* \\right)\n",
        "= -\\dfrac{\\partial}{\\partial t} \\rho_{\\rm S}&.\n",
        "\\end{align*}\n",
        "\n",
        "Recall\n",
        "\\begin{align*}\n",
        "\\Lambda &= \\dfrac{m^*}{n^*\\  (q^*)^2},&\\\\\n",
        "\\vec{J}_{\\rm S} &= q^*n^*\\vec{v}_{\\rm S},&\\\\\n",
        "\\vec{v}_{\\rm S} \n",
        "  &\\equiv\n",
        "  \\dfrac{\\hbar}{m^*}\\nabla \\theta(\\vec{r},t) \n",
        "  - \\dfrac{q^*}{m^*}\\vec{A}(\\vec{r},t),&\n",
        "\\end{align*}\n",
        "we can obtain\n",
        "\\begin{align*}\n",
        "\\Lambda\\vec{J}_{\\rm S}\n",
        "&= -\\left(\n",
        "  \\vec{A}(\\vec{r},t) - \\dfrac{\\hbar}{q^*} \\nabla \\theta(\\vec{r},t) \n",
        "\\right).\n",
        "\\end{align*}\n"
      ]
    },
    {
      "cell_type": "markdown",
      "metadata": {
        "id": "ATXLteDaAyMS",
        "colab_type": "text"
      },
      "source": [
        "By taking the curl of this expression, we find\n",
        "\\begin{align*}\n",
        "\\nabla \\times \n",
        "\\left(\\Lambda\\vec{J}_{\\rm S} \\right)\n",
        "&=\n",
        "-\\nabla \\times \\vec{A} = - B,&\n",
        "\\end{align*}\n",
        "and the second London equation is recovered."
      ]
    },
    {
      "cell_type": "markdown",
      "metadata": {
        "id": "A8SU-W8qRiWG",
        "colab_type": "text"
      },
      "source": [
        "### The first London equation\n",
        "\n",
        "\\begin{align*}\n",
        "\\Lambda\\vec{J}_{\\rm S} \n",
        "&= -\\left(\n",
        "  \\vec{A}(\\vec{r},t) - \\dfrac{\\hbar}{q^*} \\nabla \\theta(\\vec{r},t) \n",
        "\\right).\n",
        "\\end{align*}\n",
        "We take the time-partical derivative with respect to the above equation:\n",
        "\\begin{align*}\n",
        "\\dfrac{\\partial \\Lambda\\vec{J}_{\\rm S} }{\\partial t}\n",
        "&= -\\left(\n",
        "  \\dfrac{\\partial \\vec{A}}{\\partial t}\n",
        "   -\n",
        "   \\dfrac{\\hbar}{q^*} \\nabla \\left(\\dfrac{\\partial \\theta }{\\partial t}\\right)\n",
        "\\right).\n",
        "\\end{align*}"
      ]
    },
    {
      "cell_type": "markdown",
      "metadata": {
        "id": "kIi8OV_SgjQG",
        "colab_type": "text"
      },
      "source": [
        "\b<!-- $\\left(\\frac{\\partial \\theta }{\\partial t}\\right)$\n",
        "$\\Psi(\\vec{r}, t) =  \\sqrt{n^*(\\vec{r}, t)}\\ e^{i\\theta(\\vec{r}, t)}$\n",
        "$n^*$ is constant in space and time.\n",
        "\\begin{align*}\n",
        "i \\hbar \\dfrac{\\partial }{\\partial t}\\Psi(\\vec{r},t)\n",
        "&=\\frac{1}{2m^*} \\left(\\dfrac{\\hbar}{i} \\nabla -q^*\\vec{A}(\\vec{r},t)\\right)^2 \\Psi(\\vec{r},t)\n",
        "+\n",
        "q^* \\phi(\\vec{r},t)\\ \\Psi(\\vec{v},t)&\n",
        "\\end{align*}\n",
        "\\begin{align*}\n",
        "\\dfrac{\\partial }{\\partial t}\\Psi(\\vec{r},t)\n",
        "=\\sqrt{n^*(\\vec{r}, t)} \\dfrac{\\partial }{\\partial t} e^{i\\theta(\\vec{r}, t)}\n",
        "= i \\dfrac{\\partial \\theta }{\\partial t} \\Psi(\\vec{r},t)&\n",
        "\\end{align*}\n",
        "-->"
      ]
    },
    {
      "cell_type": "markdown",
      "metadata": {
        "colab_type": "text",
        "id": "KQkinAPXqqHt"
      },
      "source": [
        "Here, we apply $\\Psi(\\vec{r}, t) \n",
        "=  \\sqrt{n^*(\\vec{r}, t)}\\ e^{i\\theta(\\vec{r}, t)}$ for Schrodinger equation, $n^*$ is constant in space and time:\n",
        "\\begin{align*}\n",
        "i \\hbar \\dfrac{\\partial }{\\partial t}\\Psi(\\vec{r},t)\n",
        "&=\\frac{1}{2m^*} \\left(\\dfrac{\\hbar}{i} \\nabla -q^*\\vec{A}(\\vec{r},t)\\right)^2 \\Psi(\\vec{r},t)\n",
        "+\n",
        "q^* \\phi(\\vec{r},t)\\ \\Psi(\\vec{v},t).&\n",
        "\\end{align*}\n"
      ]
    },
    {
      "cell_type": "markdown",
      "metadata": {
        "id": "jdoE_blGrnzm",
        "colab_type": "text"
      },
      "source": [
        "On one side, the LHS(left hand side)  can be calculated:\n",
        "\\begin{align*}\n",
        "i \\hbar \n",
        "\\dfrac{\\partial }{\\partial t}\\Psi(\\vec{r},t)\n",
        "=i \\hbar \\sqrt{n^*(\\vec{r}, t)} \\dfrac{\\partial }{\\partial t} e^{i\\theta(\\vec{r}, t)}\n",
        "= - \\hbar \\dfrac{\\partial \\theta }{\\partial t} \\Psi(\\vec{r},t)&\n",
        "\\end{align*}"
      ]
    },
    {
      "cell_type": "markdown",
      "metadata": {
        "id": "QusI1_PkrpRC",
        "colab_type": "text"
      },
      "source": [
        "On the other hand,\n",
        "$\\require{cancel}$\n",
        "\\begin{align*}\n",
        "\\left\\{\n",
        "  \\left(\\dfrac{\\hbar}{i} \\nabla -q^*\\vec{A}(\\vec{r},t)\\right)\\Psi(\\vec{r},t)\n",
        "  \\right\\}_{x}\n",
        "&=\n",
        "\\left(\\dfrac{\\hbar}{i} \\dfrac{\\partial }{\\partial x}-q^*\\vec{A}(\\vec{r},t)\\right)\n",
        "\\sqrt{n^*(\\vec{r}, t)}\\ e^{i\\theta(\\vec{r}, t)}&\\\\\n",
        "&=\\left(\\dfrac{\\hbar}{\\bcancel{i}} \\bcancel{i} \\dfrac{\\partial \\theta}{\\partial x}-q^*\\vec{A}(\\vec{r},t)\\right)\n",
        "\\sqrt{n^*(\\vec{r}, t)}\\ e^{i\\theta(\\vec{r}, t)}\n",
        "= \\left\\{\\left(\\hbar \\nabla\\theta-q^*\\vec{A}(\\vec{r},t)\\right)\n",
        "\\Psi(\\vec{r},t)\\right\\}_{x}\n",
        "\\end{align*}"
      ]
    },
    {
      "cell_type": "markdown",
      "metadata": {
        "id": "NYXlUTfUu4bm",
        "colab_type": "text"
      },
      "source": [
        "The RHS:\n",
        "\\begin{align*}\n",
        "&\\frac{1}{2m^*} \\left(\\dfrac{\\hbar}{i} \\nabla -q^*\\vec{A}(\\vec{r},t)\\right)^2 \\Psi(\\vec{r},t)\n",
        "+\n",
        "q^* \\phi(\\vec{r},t)\\ \\Psi(\\vec{r},t)&\\\\\n",
        "&=\\frac{m^*}{2 \\bcancel{\\left(q^*n^*(\\vec{r},t)\\right)^2}} \\bcancel{\\left(q^*n^*(\\vec{r},t)\\right)^2}\n",
        "\\left( \\dfrac{\\hbar}{m^*} \\nabla\\theta\n",
        "-\\dfrac{q^*}{m^*}\\vec{A}(\\vec{r},t)\\right)^2\\ \\Psi(\\vec{r},t)\n",
        "+ q^* \\phi(\\vec{r},t)\\ \\Psi(\\vec{r},t)&\\\\\n",
        "&=\n",
        "\\frac{1}{2n^*}\n",
        "\\frac{m^*}{n^*(q^*)^2}\n",
        "\\left(q^*n^*(\\vec{r},t)\\right)^2\n",
        "\\left( \\dfrac{\\hbar}{m^*} \\nabla\\theta\n",
        "-\\dfrac{q^*}{m^*}\\vec{A}(\\vec{r},t)\\right)^2 \\Psi(\\vec{r},t)\n",
        "+ q^* \\phi(\\vec{r},t)\\ \\Psi(\\vec{v},t)&\\\\\n",
        "&= \\frac{1}{2n^*}\\Lambda {\\vec{J}_{\\rm s}}^2 \\Psi(\\vec{r},t)\n",
        "+ q^* \\phi(\\vec{r},t)\\ \\Psi(\\vec{v},t).\n",
        "\\end{align*}"
      ]
    },
    {
      "cell_type": "markdown",
      "metadata": {
        "id": "zT3QuJfQyECh",
        "colab_type": "text"
      },
      "source": [
        "Comparing the both sides in the real part above, we obtain that\n",
        "\\begin{align*}\n",
        "- \\hbar \\dfrac{\\partial \\theta }{\\partial t} = \\frac{1}{2n^*}\\Lambda {\\vec{J}_{\\rm s}}^2 \n",
        "+ q^* \\phi.\n",
        "\\end{align*}\n",
        "This expression is known as the *energy-phase relationship*."
      ]
    },
    {
      "cell_type": "markdown",
      "metadata": {
        "id": "eea4FTdIzTnj",
        "colab_type": "text"
      },
      "source": [
        "We can subsitute the energy-phase relationship into the time-drivertive equation:\n",
        "\\begin{align*}\n",
        "\\dfrac{\\partial \\Lambda\\vec{J}_{\\rm S} }{\\partial t}\n",
        "&= -\\left(\n",
        "  \\dfrac{\\partial \\vec{A}}{\\partial t}\n",
        "   +\n",
        "   \\dfrac{1}{q^*} \\nabla \n",
        "   \\left(\n",
        "     \\frac{1}{2n^*}\\Lambda {\\vec{J}_{\\rm s}}^2 \n",
        "+ q^* \\phi\n",
        "   \\right)\n",
        "\\right)&\\\\\n",
        "&= -\\left(\n",
        "  \\dfrac{\\partial \\vec{A}}{\\partial t} + \\nabla \\phi\n",
        "  \\right)\n",
        "  -\n",
        "  \\dfrac{1}{n^*q^*} \\nabla \\left( \\dfrac{1}{2} \\Lambda {\\vec{J}_{\\rm s}}^2 \\right)\n",
        "  &\\\\\n",
        " \\dfrac{\\partial }{\\partial t} \\left( \\Lambda\\vec{J}_{\\rm S} \\right)\n",
        "  &= \\vec{E} -\n",
        "  \\dfrac{1}{n^*q^*} \\nabla \\left( \\dfrac{1}{2} \\Lambda {\\vec{J}_{\\rm s}}^2 \\right)\n",
        "\\end{align*}"
      ]
    },
    {
      "cell_type": "markdown",
      "metadata": {
        "id": "VWyx4CAR1PvN",
        "colab_type": "text"
      },
      "source": [
        "Recall the vector the identity:\n",
        "\\begin{align*}\n",
        "\\vec{\\rm C} \\times \\left( \\nabla \\times \\vec{\\rm C}\\right)\n",
        "=\n",
        "\\dfrac{1}{2} \\nabla \\left( \\vec{\\rm C} \\cdot \\vec{\\rm C} \\right) \n",
        "-\n",
        "\\left( \\vec{\\rm C} \\cdot \\nabla\\right)\\vec{\\rm C}.\n",
        "\\end{align*}"
      ]
    },
    {
      "cell_type": "markdown",
      "metadata": {
        "id": "kWkY-kxM2HPs",
        "colab_type": "text"
      },
      "source": [
        "\\begin{align*}\n",
        " \\dfrac{\\partial }{\\partial t} \\left( \\Lambda\\vec{J}_{\\rm S} \\right)\n",
        "  &= \\vec{E} -\n",
        "  \\dfrac{\\Lambda}{n^*q^*} \\nabla \n",
        "  \\left( \\dfrac{1}{2}  \\vec{J}_{\\rm s} \\cdot \\vec{J}_{\\rm s} \\right)&\\\\\n",
        "  &=\\vec{E} -\n",
        "  \\dfrac{\\Lambda}{n^*q^*} \n",
        "  \\left(\n",
        "    \\vec{J}_{\\rm s}  \\times (\\nabla \\times \\vec{J}_{\\rm s} )\n",
        "    +\n",
        "    (\\vec{J}_{\\rm s} \\cdot \\nabla)\\vec{J}_{\\rm s} \n",
        "    )\n",
        "    \\right)&\\\\\n",
        "  &=\\vec{E} -\n",
        "  \\dfrac{1}{n^*q^*} \n",
        "  \\left(\n",
        "    \\vec{J}_{\\rm s}  \\times \n",
        "    \\left(\n",
        "      \\cancelto{-\\vec{B}}{\\nabla \\times(\\Lambda\\vec{J}_{\\rm s})}\n",
        "    \\right)\n",
        "    +\n",
        "    (\\vec{J}_{\\rm s} \\cdot \\nabla)(\\Lambda\\vec{J}_{\\rm s} )\n",
        "    \\right)&\n",
        "\\end{align*}"
      ]
    },
    {
      "cell_type": "markdown",
      "metadata": {
        "id": "3oyUi5F95BQ6",
        "colab_type": "text"
      },
      "source": [
        "\\begin{align*}\n",
        " \\dfrac{\\partial }{\\partial t} \\left( \\Lambda\\vec{J}_{\\rm S} \\right)\n",
        " +\n",
        " \\dfrac{1}{n^*q^*} (\\vec{J}_{\\rm s} \\cdot \\nabla)(\\Lambda\\vec{J}_{\\rm s} )\n",
        " &=\n",
        " \\vec{E} +  \\dfrac{1}{n^*q^*} (\\vec{J}_{\\rm s}  \\times  \\vec{B})&\\\\\n",
        " \\dfrac{\\partial }{\\partial t} \\left( \\Lambda\\vec{J}_{\\rm S} \\right)\n",
        " +\n",
        "  \\left(\n",
        "    \\cancelto{\\vec{v}_{\\rm S}}{\\dfrac{\\vec{J}_{\\rm s}}{n^*q^*}} \\cdot \\nabla\n",
        "  \\right)\n",
        "  (\\Lambda\\vec{J}_{\\rm s} )\n",
        " &=\n",
        " \\vec{E} +  \\dfrac{1}{n^*q^*} (\\vec{J}_{\\rm s}  \\times  \\vec{B})&\\\\\n",
        " \\dfrac{\\partial }{\\partial t} \\left( \\Lambda\\vec{J}_{\\rm S} \\right)\n",
        " + \\vec{v}_{\\rm S} \\cdot \\nabla\n",
        "  (\\Lambda\\vec{J}_{\\rm s} )\n",
        "  &=\n",
        "  \\vec{E} +  \\dfrac{1}{n^*q^*} (\\vec{J}_{\\rm s}  \\times  \\vec{B})\n",
        "\\end{align*}"
      ]
    },
    {
      "cell_type": "markdown",
      "metadata": {
        "id": "nCpFOxD76JK0",
        "colab_type": "text"
      },
      "source": [
        "Recall \n",
        "\\begin{align*}\n",
        "\\dfrac{{\\rm d} \\vec{A}}{{\\rm d} t}\n",
        "=\n",
        "\\dfrac{\\partial \\vec{A}}{\\partial t}\n",
        "+\n",
        "\\left(\n",
        "  \\vec{v} \\cdot \\nabla\n",
        "\\right)\n",
        "\\vec{A},\n",
        "\\end{align*}"
      ]
    },
    {
      "cell_type": "markdown",
      "metadata": {
        "id": "nDFt6z-i6SnF",
        "colab_type": "text"
      },
      "source": [
        "Then,\n",
        "\\begin{align*}\n",
        "\\dfrac{{\\rm d}}{{\\rm d} t} ( \\Lambda \\vec{J}_{\\rm S} )\n",
        "  &=\n",
        "  \\vec{E} +  \\dfrac{1}{n^*q^*} (\\vec{J}_{\\rm s}  \\times  \\vec{B}),\n",
        "\\end{align*}\n",
        "By using the fact that $\\Lambda=\\frac{m^*}{n^*(q^*)^2}$ and  $\\vec{J}_{\\rm S} = n^* q^* \\vec{v}_{\\rm S}$, we find \n",
        "\\begin{align*}\n",
        "m^* \\dfrac{{\\rm d}\\ \\vec{v}_{\\rm S}}{{\\rm d} t} \n",
        "  &=\n",
        "  q^*\\vec{E} + q^* \\vec{v}_{\\rm s}  \\times  \\vec{B}.\n",
        "\\end{align*}"
      ]
    },
    {
      "cell_type": "markdown",
      "metadata": {
        "id": "3aIC7d5S7h2q",
        "colab_type": "text"
      },
      "source": [
        "> Thus we find that from Lorent's law and the second London equation, we obtain the nonlinear first London equation!"
      ]
    }
  ]
}