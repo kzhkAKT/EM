{
  "nbformat": 4,
  "nbformat_minor": 0,
  "metadata": {
    "colab": {
      "name": "2SC_006_EM",
      "provenance": [],
      "authorship_tag": "ABX9TyMDNOi9LJ+6nqTD954Pz9Sb",
      "include_colab_link": true
    },
    "kernelspec": {
      "name": "python3",
      "display_name": "Python 3"
    }
  },
  "cells": [
    {
      "cell_type": "markdown",
      "metadata": {
        "id": "view-in-github",
        "colab_type": "text"
      },
      "source": [
        "<a href=\"https://colab.research.google.com/github/kzhkAKT/ErgyMtrlScience/blob/draft/2SC_006_EM.ipynb\" target=\"_parent\"><img src=\"https://colab.research.google.com/assets/colab-badge.svg\" alt=\"Open In Colab\"/></a>"
      ]
    },
    {
      "cell_type": "markdown",
      "metadata": {
        "id": "JbGNEiA7WDlG",
        "colab_type": "text"
      },
      "source": [
        "# Macroscopic quantum currents\n",
        "Since we obtain a charged quantum particle in an electromagnetic field,  \n",
        "we apply the relation to the superelectrons, *Cooper pair*.\n",
        "\n",
        "## the central hypothesis\n",
        "> There exists a macroscopic quantum wavefunction, $\\Psi(\\vec{r}, t),$  \n",
        "that describes the behavior of the entire ensenble of superelectrons in the superconductor.\n",
        "\n",
        "Suppose that the entire ensenble of superelectrons satisfiis\n",
        "\n",
        "\\begin{align*}\n",
        "\\int {\\rm d}\\vec{r}\\  \\Psi^*(\\vec{r}, t)\\Psi(\\vec{r}, t) = N^*,\n",
        "\\end{align*}\n",
        "\n",
        "where $N^*$ is the total number of superelectrons with $\\Psi(\\vec{r}, t)$.\n",
        "\n",
        "\n"
      ]
    },
    {
      "cell_type": "markdown",
      "metadata": {
        "id": "2YbD6IDtZGs6",
        "colab_type": "text"
      },
      "source": [
        "### Local density\n",
        "From the relation of $N^*$, we can define the local density of superelectrons as\n",
        "\\begin{align*}\n",
        "\\Psi^*(\\vec{r}, t)\\Psi(\\vec{r}, t) = n^*(\\vec{r}, t)\n",
        "\\end{align*}"
      ]
    },
    {
      "cell_type": "markdown",
      "metadata": {
        "id": "mMZa3X5QZnUS",
        "colab_type": "text"
      },
      "source": [
        "### Analogy\n",
        "By applying the probability of a charge quantum particle in an electromagnetic field to superelectrons\n",
        "\\begin{align*}\n",
        "\\vec{J}_{\\mathcal{P}} \n",
        "&=\n",
        "q^*\n",
        "{\\rm Re}\\left\\{\n",
        "  \\Psi^*{\\left(\n",
        "    \\dfrac{\\hbar}{im} \\nabla - \\dfrac{q^*}{m^*}\\vec{A}\n",
        "    \\right)}\\Psi\n",
        "    \\right\\}. &\n",
        "\\end{align*}\n",
        "\n",
        "We also obtain a Schrodingerlike equation for the ensemble in an electromagnetic field:\n",
        "\\begin{align*}\n",
        "i \\hbar \\dfrac{\\partial }{\\partial t}\\Psi(\\vec{r},t)\n",
        "&=\\frac{1}{2m^*} \\left(\\dfrac{\\hbar}{i} \\nabla -q^*\\vec{A}(\\vec{r},t)\\right)^2 \\Psi(\\vec{r},t)\n",
        "+\n",
        "q^* \\phi(\\vec{r},t)\\ \\Psi(\\vec{v},t).&\n",
        "\\end{align*}"
      ]
    },
    {
      "cell_type": "markdown",
      "metadata": {
        "id": "mjqPAKaRcGD8",
        "colab_type": "text"
      },
      "source": [
        "### a general form of $\\Psi$\n",
        "\n",
        "$N^*$ and the Schrodingerlike equation suggest us that\n",
        "\\begin{align*}\n",
        "  \\Psi(\\vec{r}, t) =  \\sqrt{n^*(\\vec{r}, t)}\\ e^{i\\theta(\\vec{r}, t)}\n",
        "\\end{align*}"
      ]
    },
    {
      "cell_type": "markdown",
      "metadata": {
        "id": "dw6DoU7Lc8JS",
        "colab_type": "text"
      },
      "source": [
        "Applying this wave function to $J_{\\mathcal{P}}$\n",
        "\\begin{align*}\n",
        "\\vec{J}_{\\mathcal{P}_{\\rm S}} \n",
        "&=\n",
        "q^*\n",
        "{\\rm Re}\\left\\{\n",
        "  \\Psi^*{\\left(\n",
        "    \\dfrac{\\hbar}{im} \\nabla - \\dfrac{q^*}{m^*}\\vec{A}\n",
        "    \\right)}\\Psi\n",
        "    \\right\\}. &\\\\\n",
        "&= q^* n^*(\\vec{r},t)\n",
        "\\left(\n",
        "  \\dfrac{\\hbar}{m^*}\\nabla \\theta(\\vec{r},t) - \\dfrac{q^*}{m^*}\\vec{A}(\\vec{r},t)\n",
        "\\right)&\\\\\n",
        "&=\\vec{J}_{\\mathcal{P}_{\\rm S}}\\left( \\theta, \\vec{A} \\right)&\n",
        "\\end{align*}\n",
        "here we can define the local velocity associated with supercurrent, $\\vec{v}_{\\rm s}$\n",
        "\\begin{align*}\n",
        "  \\vec{v}_{\\rm s} \n",
        "  &\\equiv\n",
        "  \\dfrac{\\hbar}{m^*}\\nabla \\theta(\\vec{r},t) - \\dfrac{q^*}{m^*}\\vec{A}(\\vec{r},t).\n",
        "\\end{align*}\n",
        "\n",
        "Neither the phase $\\theta$ or the vector potential $\\vec{A}$ can be directoly determined from experiment."
      ]
    },
    {
      "cell_type": "markdown",
      "metadata": {
        "id": "WEKh7a5ggFI2",
        "colab_type": "text"
      },
      "source": [
        "### the concept of gauge invariant on $\\vec{A}$\n",
        "\n",
        "In vector identiry for any single-valued scalar field, $\\gamma$,\n",
        "\\begin{align*}\n",
        "\\nabla \\times \\left( \\nabla \\gamma \\right) = 0,\n",
        "\\end{align*}\n",
        "we know that for an arbitrary scalar function $\\chi$,\n",
        "\\begin{align*}\n",
        "\\vec{B} = \\nabla \\times \\vec{A} \n",
        "= \\nabla \\times \\left( \\vec{A} + \\nabla \\chi \\right)\n",
        "\\end{align*}"
      ]
    },
    {
      "cell_type": "markdown",
      "metadata": {
        "id": "hcfuGAUZhdD1",
        "colab_type": "text"
      },
      "source": [
        "So a new vector potential $\\vec{A'}$ can be writen mathematically\n",
        "\\begin{align*}\n",
        "\\vec{A'} \\equiv \\vec{A} + \\nabla \\chi.\n",
        "\\end{align*}\n",
        "\n",
        "In order to reduce the arbitrariness, we compaire $\\vec{A}, \\phi$ with $\\vec{A'}, \\phi'$ which give same $\\vec{E}:$\n",
        "\\begin{align*}\n",
        "&\\nabla \\times \\vec{E} \n",
        "= - \\dfrac{\\partial \\vec{B}}{\\partial t} \n",
        "= - \\dfrac{\\partial (\\nabla \\times \\vec{A} + 0)}{\\partial t}\n",
        "= - \\dfrac{\\partial \\nabla \\times ( \\vec{A} + \\nabla \\chi) }{\\partial t}\n",
        "= - \\dfrac{\\partial \\nabla \\times \\vec{A'} }{\\partial t},&\n",
        "\\end{align*}\n",
        "so\n",
        "\\begin{align*}\n",
        "\\vec{E}&= -\\dfrac{\\partial \\vec{A'}}{\\partial t} - \\nabla \\phi'&\\\\\n",
        "&= -\\dfrac{\\partial \\vec{A}}{\\partial t} - \\nabla \\phi,\\\\\n",
        "\\end{align*}\n",
        "then\n",
        "\\begin{align*}\n",
        "0 &= - \\nabla\\left\\{\\dfrac{\\partial\\chi}{\\partial t} \n",
        "-\\left(\n",
        "  \\phi' - \\phi\n",
        "  \\right)\\right\\}.\n",
        "\\end{align*}\n",
        "We can fix $\\phi'$ as\n",
        "\\begin{align*}\n",
        "\\phi' \\equiv \\phi - \\dfrac{\\partial\\chi}{\\partial t}.\n",
        "\\end{align*}"
      ]
    },
    {
      "cell_type": "markdown",
      "metadata": {
        "id": "aFS5g3Ys5gaV",
        "colab_type": "text"
      },
      "source": [
        "### Phase shift\n",
        "By using the new potential with its $\\Psi^*$, we can express the following relations:\n",
        "\\begin{align*}\n",
        "i \\hbar \\dfrac{\\partial }{\\partial t}\\Psi'(\\vec{r},t)\n",
        "&=\\frac{1}{2m^*} \\left(\\dfrac{\\hbar}{i} \\nabla -q^*\\vec{A}(\\vec{r},t)\\right)^2 \\Psi'(\\vec{r},t)\n",
        "+\n",
        "q^* \\phi'(\\vec{r},t)\\ \\Psi'(\\vec{v},t)&\\\\\n",
        "\\Psi'(\\vec{r}, t) &=  \\sqrt{n^*(\\vec{r}, t)}\\ e^{i\\theta'(\\vec{r}, t)},&\\\\\n",
        "\\end{align*}\n",
        "where\n",
        "\\begin{align*}\n",
        "&\\Psi^*(\\vec{r}, t)\\Psi(\\vec{r}, t)\n",
        "= \\Psi'^*(\\vec{r}, t)\\Psi'(\\vec{r}, t)\n",
        "= n^*(\\vec{r}, t),&\n",
        "\\end{align*}\n",
        "\n",
        "Moreover, $\\vec{J}_{\\rm s}$ can be rewritten as\n",
        "\\begin{align*}\n",
        "\\vec{J}_{\\mathcal{P}} \n",
        "&= q^* n^*(\\vec{r},t)\n",
        "\\left(\n",
        "  \\dfrac{\\hbar}{m^*}\\nabla \\theta'(\\vec{r},t) - \\dfrac{q^*}{m^*}\\vec{A'}(\\vec{r},t).\n",
        "\\right)&\n",
        "\\end{align*}\n",
        " \n",
        "\n"
      ]
    },
    {
      "cell_type": "markdown",
      "metadata": {
        "id": "AqPsiusT7ikU",
        "colab_type": "text"
      },
      "source": [
        "Though this renew $\\vec{J}_{\\rm s}$ is a kind of observable real number,\n",
        "it shall be same as the original:\n",
        "\\begin{align*}\n",
        "\\vec{J}_{\\mathcal{P}} \n",
        "&= q^* n^*(\\vec{r},t)\n",
        "\\left\\{\n",
        "  \\dfrac{\\hbar}{m^*}\\nabla \\theta'(\\vec{r},t) \n",
        "  - \\dfrac{q^*}{m^*}\n",
        "  \\left(\\vec{A}(\\vec{r},t) + \\nabla \\chi \\right).\n",
        "\\right\\}&\\\\\n",
        "&= q^* n^*(\\vec{r},t)\n",
        "\\left\\{\n",
        "  \\dfrac{\\hbar}{m^*}\n",
        "  \\nabla \\left(\\theta'(\\vec{r},t) - \\dfrac{q^*}{m^*}\\chi\\right)\n",
        "  - \\dfrac{q^*}{m^*}\n",
        "  \\vec{A}(\\vec{r},t)\n",
        "\\right\\},&\n",
        "\\end{align*}\n",
        "then\n",
        "\\begin{align*}\n",
        "\\theta' &=  \\theta + \\dfrac{q^*}{\\hbar} \\chi.&\n",
        "\\end{align*}"
      ]
    },
    {
      "cell_type": "markdown",
      "metadata": {
        "id": "n5Rt0i3Y9JSA",
        "colab_type": "text"
      },
      "source": [
        "Now we can express that\n",
        "\\begin{align*}\n",
        "\\Psi'(\\vec{r}, t) &= \\Psi(\\vec{r}, t)\\ e^{i(q^*/\\hbar)\\chi},&\\\\\n",
        "\\end{align*}"
      ]
    },
    {
      "cell_type": "markdown",
      "metadata": {
        "id": "sf9oiyUv9-6P",
        "colab_type": "text"
      },
      "source": [
        "### The second London equation\n",
        "\n",
        "the time evolution of $\\mathcal{P}_{\\rm s}$ can be written as\n",
        "\\begin{align*}\n",
        "\\nabla \\cdot \\vec{J}_{\\mathcal{P}_{\\rm s}}\n",
        "&= -\\dfrac{\\partial}{\\partial t} \\mathcal{P}_{\\rm S} \n",
        "= -\\dfrac{\\partial}{\\partial t} \\left(\\Psi'^*(\\vec{r}, t)\\Psi'(\\vec{r}, t)\\right)&\\\\\n",
        "&= -\\dfrac{\\partial}{\\partial t} \\left( q^* n^* \\right) = -\\dfrac{\\partial}{\\partial t} \\rho_s&.\n",
        "\\end{align*}\n",
        "\n",
        "Recall\n",
        "\\begin{align*}\n",
        "\\Lambda &= \\dfrac{m^*}{n^*\\  (q^*)^2},&\\\\\n",
        "\\vec{J}_{\\mathcal{P}_{\\rm S}} &= q^*n^*\\vec{v}_{\\rm s},&\\\\\n",
        "\\vec{v}_{\\rm s} \n",
        "  &\\equiv\n",
        "  \\dfrac{\\hbar}{m^*}\\nabla \\theta(\\vec{r},t) \n",
        "  - \\dfrac{q^*}{m^*}\\vec{A}(\\vec{r},t),&\n",
        "\\end{align*}\n",
        "we can obtain\n",
        "\\begin{align*}\n",
        "\\Lambda\\vec{J}_{\\mathcal{P}_{\\rm S}} \n",
        "&= -\\left(\n",
        "  \\vec{A}(\\vec{r},t) - \\dfrac{\\hbar}{q^*} \\nabla \\theta(\\vec{r},t) \n",
        "\\right).\n",
        "\\end{align*}\n"
      ]
    },
    {
      "cell_type": "markdown",
      "metadata": {
        "id": "ATXLteDaAyMS",
        "colab_type": "text"
      },
      "source": [
        "By taking the curl of this expression, we find\n",
        "\\begin{align*}\n",
        "\\nabla \\times \n",
        "\\left(\\Lambda\\vec{J}_{\\mathcal{P}_{\\rm S}} \\right)\n",
        "&=\n",
        "-\\nabla \\times \\vec{A} = - B,&\n",
        "\\end{align*}\n",
        "and the second London equation is recovered."
      ]
    },
    {
      "cell_type": "markdown",
      "metadata": {
        "id": "A8SU-W8qRiWG",
        "colab_type": "text"
      },
      "source": [
        "### The first London equation\n"
      ]
    }
  ]
}