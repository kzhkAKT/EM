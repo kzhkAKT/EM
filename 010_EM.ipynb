{
  "nbformat": 4,
  "nbformat_minor": 0,
  "metadata": {
    "colab": {
      "name": "01_EM",
      "provenance": [],
      "collapsed_sections": [],
      "toc_visible": true,
      "authorship_tag": "ABX9TyMWekgGErOCNKenGljZuiSf",
      "include_colab_link": true
    },
    "kernelspec": {
      "name": "python3",
      "display_name": "Python 3"
    }
  },
  "cells": [
    {
      "cell_type": "markdown",
      "metadata": {
        "id": "view-in-github",
        "colab_type": "text"
      },
      "source": [
        "<a href=\"https://colab.research.google.com/github/kzhkAKT/EM/blob/master/01_EM.ipynb\" target=\"_parent\"><img src=\"https://colab.research.google.com/assets/colab-badge.svg\" alt=\"Open In Colab\"/></a>"
      ]
    },
    {
      "cell_type": "markdown",
      "metadata": {
        "id": "Hg-Y8Hae_RNp",
        "colab_type": "text"
      },
      "source": [
        "# Green energy\n",
        "## SDGs ~ Sustainable Development Goals"
      ]
    },
    {
      "cell_type": "markdown",
      "metadata": {
        "id": "piYydwDj--rQ",
        "colab_type": "text"
      },
      "source": [
        "![代替テキスト](https://www.unic.or.jp/files/sdg_poster_ja.png)"
      ]
    },
    {
      "cell_type": "code",
      "metadata": {
        "id": "mLSUiabu0qaP",
        "colab_type": "code",
        "cellView": "form",
        "outputId": "2756cb3f-ecbc-42ca-c4b4-b25cddf6a8e7",
        "colab": {
          "base_uri": "https://localhost:8080/",
          "height": 336
        }
      },
      "source": [
        "#@title What is SDGs?\n",
        "%%html\n",
        "<iframe width=\"560\" height=\"315\" src=\"https://www.youtube-nocookie.com/embed/lnbFQ9zVwG8\" frameborder=\"0\" allow=\"accelerometer; autoplay; encrypted-media; gyroscope; picture-in-picture\" allowfullscreen></iframe>"
      ],
      "execution_count": 0,
      "outputs": [
        {
          "output_type": "display_data",
          "data": {
            "text/html": [
              "<iframe width=\"560\" height=\"315\" src=\"https://www.youtube-nocookie.com/embed/lnbFQ9zVwG8\" frameborder=\"0\" allow=\"accelerometer; autoplay; encrypted-media; gyroscope; picture-in-picture\" allowfullscreen></iframe>"
            ],
            "text/plain": [
              "<IPython.core.display.HTML object>"
            ]
          },
          "metadata": {
            "tags": []
          }
        }
      ]
    },
    {
      "cell_type": "markdown",
      "metadata": {
        "id": "7V-hhJngF9tC",
        "colab_type": "text"
      },
      "source": [
        "# 環境規制の紹介\n",
        "## 日本の規制\n",
        "\n",
        "- https://www.meti.go.jp/policy/chemical_management/kasinhou/about/about_index.html\n",
        "\n",
        "## 世界の規制\n",
        "\n",
        "### 経済産業省によるまとめ\n",
        "\n",
        "- https://www.jetro.go.jp/themetop/standards/\n",
        "\n",
        "\n",
        "### US and EU\n",
        "\n",
        "- https://www.epa.gov/enforcement/toxic-substances-control-act-tsca-and-federal-facilities\n",
        "\n",
        "- https://echa.europa.eu/web/guest/regulations/reach/legislation\n",
        "\n",
        "- https://ec.europa.eu/growth/single-market/european-standards/harmonised-standards/restriction-of-hazardous-substances_en\n",
        "\n",
        "- https://ec.europa.eu/environment/waste/weee/index_en.htm\n",
        "\n",
        "### 規制違反の例\n",
        "\n",
        "- https://www.sony.co.jp/SonyInfo/csr/news/2002/02.html\n",
        "- https://www.sgs.com/en/news/2019/04/safeguards-05619-eu-member-state-authorities-notify-a-large-number-of-rohs-and-pop-violations"
      ]
    }
  ]
}
