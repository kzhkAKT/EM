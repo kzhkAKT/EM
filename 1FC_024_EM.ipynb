{
  "nbformat": 4,
  "nbformat_minor": 0,
  "metadata": {
    "colab": {
      "name": "1FC_024_EM",
      "provenance": [],
      "toc_visible": true,
      "authorship_tag": "ABX9TyN1Nl180z8DmsYzWreNI785",
      "include_colab_link": true
    },
    "kernelspec": {
      "name": "python3",
      "display_name": "Python 3"
    }
  },
  "cells": [
    {
      "cell_type": "markdown",
      "metadata": {
        "id": "view-in-github",
        "colab_type": "text"
      },
      "source": [
        "<a href=\"https://colab.research.google.com/github/kzhkAKT/ErgyMtrlScience/blob/draft/1FC_024_EM.ipynb\" target=\"_parent\"><img src=\"https://colab.research.google.com/assets/colab-badge.svg\" alt=\"Open In Colab\"/></a>"
      ]
    },
    {
      "cell_type": "markdown",
      "metadata": {
        "id": "Z4_bnjz7Ykfb",
        "colab_type": "text"
      },
      "source": [
        "# 化学平衡, Chemical equilibrium\n",
        "$\\require{mhchem}$\n",
        "\n",
        "<img src=\"https://upload.wikimedia.org/wikipedia/commons/1/17/Balance_%C3%A0_tabac_1850.JPG\" width=\"300\">\n"
      ]
    },
    {
      "cell_type": "markdown",
      "metadata": {
        "id": "ZCVoTJkLUibi",
        "colab_type": "text"
      },
      "source": [
        "## つり合いの条件\n",
        "\n",
        "\\begin{align*}\n",
        " \\ce{n_{\\rm A}A +n_{\\rm B}B &\\to n_{\\rm C}C +n_{\\rm D}D}&\\\\\n",
        " \\Delta G^\\circ _{\\rm 原系}\n",
        " &= \\Delta G^\\circ_{\\rm 生成}&\n",
        "\\end{align*}"
      ]
    },
    {
      "cell_type": "markdown",
      "metadata": {
        "id": "xxAUBfbbW0DZ",
        "colab_type": "text"
      },
      "source": [
        "## 化学ポテンシャル"
      ]
    },
    {
      "cell_type": "markdown",
      "metadata": {
        "id": "EKwULku3d7To",
        "colab_type": "text"
      },
      "source": [
        "### 化学ポテンシャルの簡潔な導出\n",
        "\n",
        "$n$ mol の 理想気体が始状態(intial)から終状態(final)に変わるときの $\\Delta G_{\\rm f}$ を計算します."
      ]
    },
    {
      "cell_type": "markdown",
      "metadata": {
        "id": "QrdDov5o7z2j",
        "colab_type": "text"
      },
      "source": [
        "\\begin{align*}\n",
        "\\Delta G_{\\rm f}\n",
        "&= \\Delta G_{\\rm fin}-  \\Delta G_{\\rm int}&\\\\\n",
        "&= \\Delta H_{\\rm f}-  T \\Delta S_{\\rm f}\n",
        "= \\Delta H_{\\rm f}\n",
        "-\n",
        "T \\left(\\Delta S_{\\rm fin}-\\Delta S_{\\rm int}\\right)\n",
        "&\n",
        "\\end{align*}\n",
        "\n",
        "ここで前回導出した $\\Delta S_{\\rm fin}-\\Delta S_{\\rm int}$ を生活範囲かつ自然対数の温度での近似を考慮すると\n",
        "\\begin{align*}\n",
        "\\Delta S_{\\rm fin}-\\Delta S_{\\rm int}\n",
        "&= n C_v \\ln\\frac{T_{\\rm fin}}{T_{\\rm int}}\n",
        "+\n",
        "n R \\ln\\frac{V_{\\rm fin}}{V_{\\rm int}}&\\\\\n",
        "&\\approx\n",
        "n C_v \\ln\\frac{T_{\\rm fin}}{T_{\\rm int}}\n",
        "-\n",
        "nR \\ln\\frac{p_{\\rm fin}}{p_{\\rm int}}\n",
        "&\\\\\n",
        "&\\approx\n",
        "n C_v \\ln  \\frac{T_{\\rm fin}}{T_{\\rm int}}\n",
        "-\n",
        "n R \\ln\\frac{c_{\\rm fin}}{c_{\\rm int}}\n",
        "\\end{align*}\n"
      ]
    },
    {
      "cell_type": "markdown",
      "metadata": {
        "id": "zwsphjwcEICG",
        "colab_type": "text"
      },
      "source": [
        "これより\n",
        "\\begin{align*}\n",
        "\\Delta G_{\\rm f}\n",
        "&= \\Delta H_{\\rm f}\n",
        "-\n",
        "T\n",
        "\\left(\n",
        "n C_v \\ln\\frac{T_{\\rm fin}}{T_{\\rm int}}\n",
        "-\n",
        "nR \\ln\\frac{p_{\\rm fin}}{p_{\\rm int}}\n",
        "  \\right)\n",
        "= n \\left(\n",
        "  \\dfrac{\\Delta H_{\\rm f}}{n}\n",
        "  -\n",
        "   C_v T \\ln\\frac{T_{\\rm fin}}{T_{\\rm int}}\n",
        "   \\right)\n",
        "   +\n",
        "   nR T \\ln\\frac{p_{\\rm fin}}{p_{\\rm int}}\n",
        "&\\\\\n",
        "&=\\Delta H_{\\rm f}\n",
        "-\n",
        "T\n",
        "\\left(\n",
        "n C_v \\ln\\frac{T_{\\rm fin}}{T_{\\rm int}}\n",
        "-\n",
        "nR \\ln\\frac{C_{\\rm fin}}{_{\\rm int}}\n",
        "  \\right)\n",
        "= n \\left(\n",
        "  \\frac{\\Delta H_{\\rm f}}{n}\n",
        "  -\n",
        "   C_v T\\ln\\frac{T_{\\rm fin}}{T_{\\rm int}}\n",
        "   \\right)\n",
        "   +\n",
        "   nR T \\ln\\frac{c_{\\rm fin}}{c_{\\rm int}}\n",
        "&\n",
        "\\end{align*}\n"
      ]
    },
    {
      "cell_type": "markdown",
      "metadata": {
        "id": "UuQzKyGvQmTA",
        "colab_type": "text"
      },
      "source": [
        "ここで 外的要因(圧力$P$やモル濃度$C$)に依存しない括弧を $\\mu^\\circ$, molあたりのギブスの自由エネルギを$\\mu= \\frac{\\Delta G}{n}$ として導入すると\n",
        "\n",
        "\\begin{align*}\n",
        "\\mu\n",
        "&= \\mu^\\circ + RT \\ln{\\frac{p_{\\rm fin}}{p_{\\rm int}}}&\\\\\n",
        "&= \\mu^\\circ + RT \\ln{\\frac{c_{\\rm fin}}{c_{\\rm int}}}&\n",
        "\\end{align*}\n",
        "\n",
        "この $\\mu$ を物質量 1 mol あたりのギブスエネルギーを **化学ポテンシャル** といいます\n",
        ">  $\\qquad \\mu = \\mu^\\circ + R T \\ln \\alpha$\n",
        "\n",
        "ここで $\\alpha$ は活量と呼ばれます. 活量が 1 のとき\n",
        ">> $\\qquad \\mu^\\circ \\sim \\Delta G_{\\rm f}^\\circ$ となります."
      ]
    },
    {
      "cell_type": "markdown",
      "metadata": {
        "id": "RqaKZOjsUl18",
        "colab_type": "text"
      },
      "source": [
        "### 化学ポテンシャル $\\mu$ を利用したつり合いの条件\n",
        "\n",
        "\\begin{align*}\n",
        " \\ce{n_{\\rm A}A +n_{\\rm B}B &<=> n_{\\rm C}C +n_{\\rm D}D}&\\\\\n",
        " \\ce{n_{\\rm A}\\mu_{\\rm A} +n_{\\rm B} \\mu_{\\rm B} &\n",
        " =\n",
        " n_{\\rm C}\\mu_{\\rm C} +n_{\\rm D} \\mu_{\\rm D}}&\\\\\n",
        "\\end{align*}\n",
        "これを一般化すると\n",
        "\\begin{align*}\n",
        "  \\sum n_i \\mu_i(\\text{原\b系})\n",
        "  &=\n",
        "  \\sum n_i \\mu_i(\\text{生成系})&\n",
        "\\end{align*}"
      ]
    },
    {
      "cell_type": "markdown",
      "metadata": {
        "id": "r-ss5ugvW9Vc",
        "colab_type": "text"
      },
      "source": [
        "## 活量\n",
        "\n",
        "一般的な化学ポテンシャルで導入した第二項は, いずれも粒子の個数である物質量 $\bn$ mol に依存します. 化学変化で物質量が変化しても対応できるように活量 $\\alpha$ の意味を物質量に注目し再定義します。\n",
        "\n",
        "---\n",
        "\n",
        "いま閉鎖系(風船内等)で, 異なる物質の気体が $n_1, n_2, n_3, \\dots$ 閉じ込められています. 分圧 $P_i$ や分けたモル濃度 $c_i$は, 全体の物質量と注目する物質量 $n_i$ の比で求められます. そこで活量 $\\alpha$ を次のように定義します.\n",
        "\\begin{align*}\n",
        "\\alpha_i\n",
        "&= \\frac{n_i}{\\sum n_k}&\n",
        "\\end{align*}\n",
        "これは次のように変形すれば, 分圧力や分けたモル濃度として捉えることができます.\n",
        "\\begin{align*}\n",
        "\\alpha_i\n",
        "= \\frac{n_i}{\\sum n_k}&= \\frac{n_i/V}{\\sum n_k/V}\n",
        "= \\frac{c_i}{\\sum c_k}\n",
        "= \\frac{c_i}{1 {\\rm mol/L}}\n",
        "= c_i\n",
        "&\\\\\n",
        "&= \\frac{p_i V/RT}{\\sum p_k V/RT}\n",
        "= \\frac{p_i}{\\sum p_k}\n",
        "= \\frac{p_i}{ 1 {\\rm atm}} = p_i\n",
        "&\n",
        "\\end{align*}\n",
        "\n",
        "このように活量 $\\alpha$ は, 化学変化の元となる分子原子の個数に起源を持ちますが,\n",
        "個数を調べるのは現実的ではないので, 物理化学では次のように考えます.\n",
        "\n",
        "|状況/状態|そのときの活量|\n",
        "|--|--|\n",
        "|溶質| モル濃度 $c$ |\n",
        "|気体| 分圧 $p$|\n",
        "|溶媒| 薄い溶液なら $\\alpha=1$|\n",
        "|固体| 純粋な固体なら $\\alpha=1$|"
      ]
    },
    {
      "cell_type": "markdown",
      "metadata": {
        "id": "ncfgnu6ldKmF",
        "colab_type": "text"
      },
      "source": [
        "> Q. 化学ポテンシャル$\\mu$は溶質の濃度が10倍になると, 25℃ で何 ${\\rm kJmol^{-1}}$増えるか. "
      ]
    },
    {
      "cell_type": "markdown",
      "metadata": {
        "id": "hdaiN4BQmPVN",
        "colab_type": "text"
      },
      "source": [
        "## 平衡化のイメージ\n",
        "\n",
        "### 化学反応直前\n",
        "\n",
        "\\begin{align*}\n",
        "\\Delta_{\\rm r}G^\\circ \n",
        "=\n",
        "\\sum \\Delta_{\\rm f}G^\\circ_i(\\text{生成系})\n",
        "-\n",
        "\\sum \\Delta_{\\rm f}G^\\circ_j(\\text{原系})\n",
        "\\end{align*}\n",
        "\n",
        "+ $\\Delta_{\\rm r}G^\\circ$ の正負によって変化の向きと勢いがわかる\n",
        "+ $\\Delta_{\\rm r}G^\\circ<0$ のとき, **その差をゼロにするまで** 自発的な変化が起こる\n",
        "\n",
        "\n",
        "\n"
      ]
    }
  ]
}