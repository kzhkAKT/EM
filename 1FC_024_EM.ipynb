{
  "nbformat": 4,
  "nbformat_minor": 0,
  "metadata": {
    "colab": {
      "name": "1FC_024_EM",
      "provenance": [],
      "authorship_tag": "ABX9TyOMPZC+LbvlI19FETnDijeU",
      "include_colab_link": true
    },
    "kernelspec": {
      "name": "python3",
      "display_name": "Python 3"
    }
  },
  "cells": [
    {
      "cell_type": "markdown",
      "metadata": {
        "id": "view-in-github",
        "colab_type": "text"
      },
      "source": [
        "<a href=\"https://colab.research.google.com/github/kzhkAKT/ErgyMtrlScience/blob/draft/1FC_024_EM.ipynb\" target=\"_parent\"><img src=\"https://colab.research.google.com/assets/colab-badge.svg\" alt=\"Open In Colab\"/></a>"
      ]
    },
    {
      "cell_type": "markdown",
      "metadata": {
        "id": "Z4_bnjz7Ykfb",
        "colab_type": "text"
      },
      "source": [
        "# 化学平衡, Chemical equilibrium\n",
        "\n",
        "<img src=\"https://upload.wikimedia.org/wikipedia/commons/1/17/Balance_%C3%A0_tabac_1850.JPG\" width=\"300\">\n",
        "\n",
        "\n",
        "\\begin{align*}\n",
        " \\Delta G^\\circ _{\\rm 原系}\n",
        " = \\Delta G^\\circ_{\\rm 生成}\n",
        "\\end{align*}\n"
      ]
    },
    {
      "cell_type": "markdown",
      "metadata": {
        "id": "EKwULku3d7To",
        "colab_type": "text"
      },
      "source": [
        "### 化学ポテンシャルの簡潔な導出"
      ]
    },
    {
      "cell_type": "markdown",
      "metadata": {
        "id": "QrdDov5o7z2j",
        "colab_type": "text"
      },
      "source": [
        "\\begin{align*}\n",
        "\\Delta G_{\\rm r}\n",
        "&= \\Delta G_{\\rm fin}-  \\Delta G_{\\rm int}&\\\\\n",
        "&= \\Delta H_{\\rm r}-  T \\Delta S_{\\rm r}\n",
        "= \\Delta H_{\\rm r}\n",
        "-\n",
        "T \\left(\\Delta S_{\\rm fin}-\\Delta S_{\\rm int}\\right)\n",
        "&\n",
        "\\end{align*}\n",
        "\n",
        "ここで前回導出した $\\Delta S_{\\rm fin}-\\Delta S_{\\rm int}$ を生活範囲かつ自然対数の温度での近似を考慮すると\n",
        "\\begin{align*}\n",
        "\\Delta S_{\\rm fin}-\\Delta S_{\\rm int}\n",
        "&= n C_v \\ln\\frac{T_{\\rm fin}}{T_{\\rm int}}\n",
        "+\n",
        "n R \\ln\\frac{V_{\\rm fin}}{V_{\\rm int}}&\\\\\n",
        "&\\approx\n",
        "n C_v \\ln\\frac{T_{\\rm fin}}{T_{\\rm int}}\n",
        "-\n",
        "nR \\ln\\frac{P_{\\rm fin}}{P_{\\rm int}}\n",
        "&\\\\\n",
        "&\\approx\n",
        "n C_v \\ln  \\frac{T_{\\rm fin}}{T_{\\rm int}}\n",
        "-\n",
        "n R \\ln\\frac{C_{\\rm fin}}{C_{\\rm int}}\n",
        "\\end{align*}\n"
      ]
    },
    {
      "cell_type": "markdown",
      "metadata": {
        "id": "zwsphjwcEICG",
        "colab_type": "text"
      },
      "source": [
        "これより\n",
        "\\begin{align*}\n",
        "\\Delta G_{\\rm r}\n",
        "&= \\Delta H_{\\rm r}\n",
        "-\n",
        "T\n",
        "\\left(\n",
        "n C_v \\ln\\frac{T_{\\rm fin}}{T_{\\rm int}}\n",
        "-\n",
        "nR \\ln\\frac{P_{\\rm fin}}{P_{\\rm int}}\n",
        "  \\right)\n",
        "= n \\left(\n",
        "  \\dfrac{\\Delta H_{\\rm r}}{n}\n",
        "  -\n",
        "   C_v T \\ln\\frac{T_{\\rm fin}}{T_{\\rm int}}\n",
        "   \\right)\n",
        "   +\n",
        "   nR T \\ln\\frac{P_{\\rm fin}}{P_{\\rm int}}\n",
        "&\\\\\n",
        "&=\\Delta H_{\\rm r}\n",
        "-\n",
        "T\n",
        "\\left(\n",
        "n C_v \\ln\\frac{T_{\\rm fin}}{T_{\\rm int}}\n",
        "-\n",
        "nR \\ln\\frac{C_{\\rm fin}}{_{\\rm int}}\n",
        "  \\right)\n",
        "= n \\left(\n",
        "  \\frac{\\Delta H_{\\rm r}}{n}\n",
        "  -\n",
        "   C_v T\\ln\\frac{T_{\\rm fin}}{T_{\\rm int}}\n",
        "   \\right)\n",
        "   +\n",
        "   nR T \\ln\\frac{C_{\\rm fin}}{C_{\\rm int}}\n",
        "&\n",
        "\\end{align*}\n"
      ]
    }
  ]
}