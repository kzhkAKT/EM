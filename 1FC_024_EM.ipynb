{
  "nbformat": 4,
  "nbformat_minor": 0,
  "metadata": {
    "colab": {
      "name": "1FC_024_EM",
      "provenance": [],
      "authorship_tag": "ABX9TyNf4C+dIJ/7bJV80PeM0DQo",
      "include_colab_link": true
    },
    "kernelspec": {
      "name": "python3",
      "display_name": "Python 3"
    }
  },
  "cells": [
    {
      "cell_type": "markdown",
      "metadata": {
        "id": "view-in-github",
        "colab_type": "text"
      },
      "source": [
        "<a href=\"https://colab.research.google.com/github/kzhkAKT/ErgyMtrlScience/blob/draft/1FC_024_EM.ipynb\" target=\"_parent\"><img src=\"https://colab.research.google.com/assets/colab-badge.svg\" alt=\"Open In Colab\"/></a>"
      ]
    },
    {
      "cell_type": "markdown",
      "metadata": {
        "id": "Z4_bnjz7Ykfb",
        "colab_type": "text"
      },
      "source": [
        "# 化学平衡, Chemical equilibrium\n",
        "$\\require{mhchem}$\n",
        "\n",
        "<img src=\"https://upload.wikimedia.org/wikipedia/commons/1/17/Balance_%C3%A0_tabac_1850.JPG\" width=\"300\">\n"
      ]
    },
    {
      "cell_type": "markdown",
      "metadata": {
        "id": "ZCVoTJkLUibi",
        "colab_type": "text"
      },
      "source": [
        "## つり合いの条件\n",
        "\n",
        "\\begin{align*}\n",
        " \\ce{n_{\\rm A}A +n_{\\rm B}B &\\to n_{\\rm C}C +n_{\\rm D}D}&\\\\\n",
        " \\Delta G^\\circ _{\\rm 原系}\n",
        " &= \\Delta G^\\circ_{\\rm 生成}&\n",
        "\\end{align*}"
      ]
    },
    {
      "cell_type": "markdown",
      "metadata": {
        "id": "xxAUBfbbW0DZ",
        "colab_type": "text"
      },
      "source": [
        "## 化学ポテンシャル"
      ]
    },
    {
      "cell_type": "markdown",
      "metadata": {
        "id": "EKwULku3d7To",
        "colab_type": "text"
      },
      "source": [
        "### 化学ポテンシャルの簡潔な導出\n",
        "\n",
        "$n$ mol の 理想気体が始状態(intial)から終状態(final)に変わるときの $\\Delta G_{\\rm f}$ を計算します."
      ]
    },
    {
      "cell_type": "markdown",
      "metadata": {
        "id": "QrdDov5o7z2j",
        "colab_type": "text"
      },
      "source": [
        "\\begin{align*}\n",
        "\\Delta G_{\\rm f}\n",
        "&= \\Delta G_{\\rm fin}-  \\Delta G_{\\rm int}&\\\\\n",
        "&= \\Delta H_{\\rm f}-  T \\Delta S_{\\rm f}\n",
        "= \\Delta H_{\\rm f}\n",
        "-\n",
        "T \\left(\\Delta S_{\\rm fin}-\\Delta S_{\\rm int}\\right)\n",
        "&\n",
        "\\end{align*}\n",
        "\n",
        "ここで前回導出した $\\Delta S_{\\rm fin}-\\Delta S_{\\rm int}$ を生活範囲かつ自然対数の温度での近似を考慮すると\n",
        "\\begin{align*}\n",
        "\\Delta S_{\\rm fin}-\\Delta S_{\\rm int}\n",
        "&= n C_v \\ln\\frac{T_{\\rm fin}}{T_{\\rm int}}\n",
        "+\n",
        "n R \\ln\\frac{V_{\\rm fin}}{V_{\\rm int}}&\\\\\n",
        "&\\approx\n",
        "n C_v \\ln\\frac{T_{\\rm fin}}{T_{\\rm int}}\n",
        "-\n",
        "nR \\ln\\frac{p_{\\rm fin}}{p_{\\rm int}}\n",
        "&\\\\\n",
        "&\\approx\n",
        "n C_v \\ln  \\frac{T_{\\rm fin}}{T_{\\rm int}}\n",
        "-\n",
        "n R \\ln\\frac{c_{\\rm fin}}{c_{\\rm int}}\n",
        "\\end{align*}\n"
      ]
    },
    {
      "cell_type": "markdown",
      "metadata": {
        "id": "zwsphjwcEICG",
        "colab_type": "text"
      },
      "source": [
        "これより\n",
        "\\begin{align*}\n",
        "\\Delta G_{\\rm f}\n",
        "&= \\Delta H_{\\rm f}\n",
        "-\n",
        "T\n",
        "\\left(\n",
        "n C_v \\ln\\frac{T_{\\rm fin}}{T_{\\rm int}}\n",
        "-\n",
        "nR \\ln\\frac{p_{\\rm fin}}{p_{\\rm int}}\n",
        "  \\right)\n",
        "= n \\left(\n",
        "  \\dfrac{\\Delta H_{\\rm f}}{n}\n",
        "  -\n",
        "   C_v T \\ln\\frac{T_{\\rm fin}}{T_{\\rm int}}\n",
        "   \\right)\n",
        "   +\n",
        "   nR T \\ln\\frac{p_{\\rm fin}}{p_{\\rm int}}\n",
        "&\\\\\n",
        "&=\\Delta H_{\\rm f}\n",
        "-\n",
        "T\n",
        "\\left(\n",
        "n C_v \\ln\\frac{T_{\\rm fin}}{T_{\\rm int}}\n",
        "-\n",
        "nR \\ln\\frac{C_{\\rm fin}}{_{\\rm int}}\n",
        "  \\right)\n",
        "= n \\left(\n",
        "  \\frac{\\Delta H_{\\rm f}}{n}\n",
        "  -\n",
        "   C_v T\\ln\\frac{T_{\\rm fin}}{T_{\\rm int}}\n",
        "   \\right)\n",
        "   +\n",
        "   nR T \\ln\\frac{c_{\\rm fin}}{c_{\\rm int}}\n",
        "&\n",
        "\\end{align*}\n"
      ]
    },
    {
      "cell_type": "markdown",
      "metadata": {
        "id": "UuQzKyGvQmTA",
        "colab_type": "text"
      },
      "source": [
        "ここで 外的要因(圧力$P$やモル濃度$C$)に依存しない括弧を $\\mu^\\circ$, molあたりのギブスの自由エネルギを$\\mu= \\frac{\\Delta G}{n}$ として導入すると\n",
        "\n",
        "\\begin{align*}\n",
        "\\mu\n",
        "&= \\mu^\\circ + RT \\ln{\\frac{p_{\\rm fin}}{p_{\\rm int}}}&\\\\\n",
        "&= \\mu^\\circ + RT \\ln{\\frac{c_{\\rm fin}}{c_{\\rm int}}}&\n",
        "\\end{align*}\n",
        "\n",
        "この $\\mu$ を物質量 1 mol あたりのギブスエネルギーを **化学ポテンシャル** といいます\n",
        ">  $\\qquad \\mu = \\mu^\\circ + R T \\ln \\alpha$\n",
        "\n",
        "ここで $\\alpha$ は活量と呼ばれます. 活量が 1 のとき\n",
        ">> $\\qquad \\mu^\\circ \\sim \\Delta G_{\\rm f}^\\circ$ となります."
      ]
    },
    {
      "cell_type": "markdown",
      "metadata": {
        "id": "RqaKZOjsUl18",
        "colab_type": "text"
      },
      "source": [
        "### 化学ポテンシャル $\\mu$ を利用したつり合いの条件\n",
        "\n",
        "\\begin{align*}\n",
        " \\ce{n_{\\rm A}A +n_{\\rm B}B &<=> n_{\\rm C}C +n_{\\rm D}D}&\\\\\n",
        " \\ce{n_{\\rm A}\\mu_{\\rm A} +n_{\\rm B} \\mu_{\\rm B} &\n",
        " =\n",
        " n_{\\rm C}\\mu_{\\rm C} +n_{\\rm D} \\mu_{\\rm D}}&\\\\\n",
        "\\end{align*}\n",
        "これを一般化すると\n",
        "\\begin{align*}\n",
        "  \\sum n_i \\mu_i(\\text{原\b系})\n",
        "  &=\n",
        "  \\sum n_i \\mu_i(\\text{生成系})&\n",
        "\\end{align*}"
      ]
    },
    {
      "cell_type": "markdown",
      "metadata": {
        "id": "r-ss5ugvW9Vc",
        "colab_type": "text"
      },
      "source": [
        "## 活量\n",
        "\n",
        "一般的な化学ポテンシャルで導入した第二項は, いずれも粒子の個数である物質量 $\bn$ mol に依存します. 化学変化で物質量が変化しても対応できるように活量 $\\alpha$ の意味を物質量に注目し再定義します。\n",
        "\n",
        "---\n",
        "\n",
        "いま閉鎖系(風船内等)で, 異なる物質の気体が $n_1, n_2, n_3, \\dots$ 閉じ込められています. 分圧 $P_i$ や分けたモル濃度 $c_i$は, 全体の物質量と注目する物質量 $n_i$ の比で求められます. そこで活量 $\\alpha$ を次のように定義します.\n",
        "\\begin{align*}\n",
        "\\alpha_i\n",
        "&= \\frac{n_i}{\\sum n_k}&\n",
        "\\end{align*}\n",
        "これは次のように変形すれば, 分圧力や分けたモル濃度として捉えることができます.\n",
        "\\begin{align*}\n",
        "\\alpha_i\n",
        "= \\frac{n_i}{\\sum n_k}&= \\frac{n_i/V}{\\sum n_k/V}\n",
        "= \\frac{c_i}{\\sum c_k}\n",
        "= \\frac{c_i}{1 {\\rm mol/L}}\n",
        "= c_i\n",
        "&\\\\\n",
        "&= \\frac{p_i V/RT}{\\sum p_k V/RT}\n",
        "= \\frac{p_i}{\\sum p_k}\n",
        "= \\frac{p_i}{ 1 {\\rm atm}} = p_i\n",
        "&\n",
        "\\end{align*}\n",
        "\n",
        "このように活量 $\\alpha$ は, 化学変化の元となる分子原子の個数に起源を持ちますが,\n",
        "個数を調べるのは現実的ではないので, 物理化学では次のように考えます.\n",
        "\n",
        "|状況/状態|そのときの活量|\n",
        "|--|--|\n",
        "|溶質| モル濃度 $c$ |\n",
        "|気体| 分圧 $p$|\n",
        "|溶媒| 薄い溶液なら $\\alpha=1$|\n",
        "|固体| 純粋な固体なら $\\alpha=1$|"
      ]
    },
    {
      "cell_type": "markdown",
      "metadata": {
        "id": "ncfgnu6ldKmF",
        "colab_type": "text"
      },
      "source": [
        "> Q. 化学ポテンシャル$\\mu$は溶質の濃度が10倍になると, 25℃ で何 ${\\rm kJmol^{-1}}$増えるか. "
      ]
    },
    {
      "cell_type": "markdown",
      "metadata": {
        "id": "hdaiN4BQmPVN",
        "colab_type": "text"
      },
      "source": [
        "## 平衡化のイメージ\n",
        "\n",
        "### 化学反応直前\n",
        "\n",
        "\\begin{align*}\n",
        "\\Delta_{\\rm r}G^\n",
        "=\n",
        "\\sum \\Delta_{\\rm f}G^i(\\text{生成系})\n",
        "-\n",
        "\\sum \\Delta_{\\rm f}G^j(\\text{原系})\n",
        "\\end{align*}\n",
        "\n",
        "+ $\\Delta_{\\rm r}G$ の正負によって変化の向きと勢いがわかる\n",
        "+ $\\Delta_{\\rm r}G<0$ のとき, **$\\Delta_{\\rm r}G^\\circ$をゼロにするまで** 自発的な変化が起こる\n",
        "\n",
        "\n",
        "\n"
      ]
    },
    {
      "cell_type": "markdown",
      "metadata": {
        "id": "z8mjkiVcw0yi",
        "colab_type": "text"
      },
      "source": [
        "## 平衡定数と質量作用の法則\n",
        "$\\require{cancel}$\n",
        "次の化学反応について\n",
        "\\begin{align*}\n",
        "x\\ce{X} + y\\ce{Y} &\\ce{<=>} p \\ce{P} + q\\ce{Q}&\\\\\n",
        "\\end{align*}\n",
        "任意の状態の$\\Delta G_{\\rm r}$を求めてみます.\n",
        "活量についてはモル濃度 $[{\\rm P}],[{\\rm Q}], [{\\rm X}], [{\\rm Y}]$を利用します.\n",
        "\\begin{align*}\n",
        "\\Delta_{\\rm r} G\n",
        "&= \\sum n_i \\mu_i(\\text{生成系})\n",
        "-\n",
        "\\sum n_j \\mu_j(\\text{原系})&\\\\\n",
        "&=\n",
        "p\\left( \\mu_{\\rm P}^\\circ + RT \\ln{[{\\rm P}]}\\right)\n",
        "+\n",
        "q\\left( \\mu_{\\rm Q}^\\circ + RT \\ln{[{\\rm Q}]}\\right)\n",
        "-\n",
        "x\\left( \\mu_{\\rm X}^\\circ + RT \\ln{[{\\rm X}]}\\right)\n",
        "-\n",
        "y\\left( \\mu_{\\rm Y}^\\circ + RT \\ln{[{\\rm Y}]}\\right)&\\\\\n",
        "&=\n",
        "\\cancelto{\\Delta G_{\\rm r}^\\circ}{\n",
        "\\left(\n",
        "p \\mu_{\\rm P}^\\circ + q \\mu_{\\rm Q}^\\circ\n",
        "- x \\mu_{\\rm X}^\\circ - y \\mu_{\\rm X}^\\circ\n",
        "\\right)}\n",
        "+\n",
        "RT \\ln \\frac{[{\\rm P}]^p[{\\rm Q}]^q}{[{\\rm X}]^x[{\\rm Y}]^y}&\\\\\n",
        "&= \n",
        "\\Delta_{\\rm r}  G^\\circ\n",
        "+RT \\ln \\frac{[{\\rm P}]^p[{\\rm Q}]^q}{[{\\rm X}]^x[{\\rm Y}]^y} &\n",
        "\\end{align*}\n"
      ]
    },
    {
      "cell_type": "markdown",
      "metadata": {
        "id": "BtLX9KQs21s6",
        "colab_type": "text"
      },
      "source": [
        "$\\Delta G^\\circ\\to 0$ のとき反応が終えるのでその状況を利用すると\n",
        "\\begin{align*}\n",
        "\\Delta_{\\rm r} G^\\circ \n",
        "&=\n",
        "\\left(\n",
        "p \\mu_{\\rm P}^\\circ + q \\mu_{\\rm Q}^\\circ\n",
        "- x \\mu_{\\rm X}^\\circ - y \\mu_{\\rm X}^\\circ\n",
        "\\right) \\qquad :\\text{標準状態では一定} &\\\\\n",
        "\\Delta_{\\rm r} G^\\circ\n",
        "&=-RT \\ln \\frac{[{\\rm P}]^p[{\\rm Q}]^q}{[{\\rm X}]^x[{\\rm Y}]^y}&\\\\\n",
        "\\end{align*}\n",
        "ここで自然対数の中身を **平衡定数 $K$** としておくと\n",
        "\\begin{align*}\n",
        "\\Delta_{\\rm r} G^\\circ\n",
        "&=-RT \\ln K&\\\\\n",
        "K&=\\frac{[{\\rm P}]^p[{\\rm Q}]^q}{[{\\rm X}]^x[{\\rm Y}]^y}&\n",
        "\\end{align*}\n",
        "\n",
        "標準状態における各物質のギブスエネルギは熱力学表から与えられ一定です. この一定のを保つために, 自然対数の中の濃度比を一定に保つように変化する. このような関係を **質量作用の法則**といいます. なお, 水溶媒では $[\\ce{H2O}]=\\alpha_{\\ce{H2O}}=1$, 固体なら $\\alpha_{\\text{固体}}=1$ となるので, 省略できます."
      ]
    },
    {
      "cell_type": "markdown",
      "metadata": {
        "id": "EGDWT0fG6bxj",
        "colab_type": "text"
      },
      "source": [
        "### 固体の溶解度積と溶解度"
      ]
    },
    {
      "cell_type": "markdown",
      "metadata": {
        "id": "M08zRoq7OyK7",
        "colab_type": "text"
      },
      "source": [
        "\\begin{align*}\n",
        "\\ce{PbSO4 <=> Pb^2+ + SO4^2- } \n",
        "\\end{align*}"
      ]
    },
    {
      "cell_type": "code",
      "metadata": {
        "id": "J6lVjU4EOtK_",
        "colab_type": "code",
        "cellView": "both",
        "colab": {}
      },
      "source": [
        "#@title Q. 上式の化学ポテンシャルから 平衡定数K の計算してください.\n",
        "import numpy as np\n",
        "\n",
        "dG0_PbSO4=-813*10**3\n",
        "dG0_Pb2p=-24*10**3\n",
        "dG0_SO42m=-745*10**3\n",
        "dGr = dG0_SO42m + dG0_Pb2p - dG0_PbSO4\n",
        "\n",
        "(T0,R)=(273.15+25,8.31)\n",
        "K=np.exp(-dGr/R/T0)\n",
        "print(dGr, \"{:.2E}\".format(K))"
      ],
      "execution_count": 0,
      "outputs": []
    },
    {
      "cell_type": "markdown",
      "metadata": {
        "id": "aCF44dpvbxYE",
        "colab_type": "text"
      },
      "source": [
        "$\\require{cancel}$\n",
        "$\\require{mhchem}$\n",
        "\\begin{align*}\n",
        "K\n",
        "&= \\frac{[\\ce{Pb^2+}] [\\ce{SO4^2-}]}{\\cancelto{1}{[\\ce{PbSO4}]}}&\\\\\n",
        "K_{\\rm sp} &=  [\\ce{Pb^2+}] [\\ce{SO4^2-}] = S\\cdot S&\n",
        "\\end{align*}\n",
        "$S$ は溶解度"
      ]
    },
    {
      "cell_type": "code",
      "metadata": {
        "id": "t264V8R2cvfA",
        "colab_type": "code",
        "colab": {},
        "cellView": "form"
      },
      "source": [
        "#@title Q. 溶解度 S を 平衡定数から求めてください.\n",
        "S=np.sqrt(K)\n",
        "print(\"{:.2E}\".format(S))"
      ],
      "execution_count": 0,
      "outputs": []
    },
    {
      "cell_type": "code",
      "metadata": {
        "id": "um0i5HVFhxop",
        "colab_type": "code",
        "colab": {
          "base_uri": "https://localhost:8080/",
          "height": 724
        },
        "outputId": "636f8e03-ded7-4177-a462-f8f377c0dada"
      },
      "source": [
        "#@title Alkaline battery\n",
        "%%svg\n",
        "https://upload.wikimedia.org/wikipedia/commons/0/04/Alkaline-battery-english.svg"
      ],
      "execution_count": 18,
      "outputs": [
        {
          "output_type": "display_data",
          "data": {
            "text/plain": [
              "<IPython.core.display.SVG object>"
            ],
            "image/svg+xml": "<svg height=\"703.27771\" id=\"svg2\" inkscape:version=\"0.48.0 r9654\" sodipodi:docname=\"Alkaline-battery-en.svg\" version=\"1.1\" width=\"850.10156\" xmlns=\"http://www.w3.org/2000/svg\" xmlns:cc=\"http://creativecommons.org/ns#\" xmlns:dc=\"http://purl.org/dc/elements/1.1/\" xmlns:inkscape=\"http://www.inkscape.org/namespaces/inkscape\" xmlns:rdf=\"http://www.w3.org/1999/02/22-rdf-syntax-ns#\" xmlns:sodipodi=\"http://sodipodi.sourceforge.net/DTD/sodipodi-0.dtd\" xmlns:svg=\"http://www.w3.org/2000/svg\">\n  <metadata id=\"metadata8\">\n    <rdf:RDF>\n      <cc:Work rdf:about=\"\">\n        <dc:format>image/svg+xml</dc:format>\n        <dc:type rdf:resource=\"http://purl.org/dc/dcmitype/StillImage\"/>\n        <dc:title/>\n      </cc:Work>\n    </rdf:RDF>\n  </metadata>\n  <defs id=\"defs6\"/>\n  <sodipodi:namedview bordercolor=\"#1fff00\" borderopacity=\"1\" fit-margin-bottom=\"0\" fit-margin-left=\"0\" fit-margin-right=\"0\" fit-margin-top=\"0.1\" gridtolerance=\"10\" guidetolerance=\"10\" id=\"namedview4\" inkscape:current-layer=\"svg2\" inkscape:cx=\"359.98312\" inkscape:cy=\"335.80644\" inkscape:pageopacity=\"0\" inkscape:pageshadow=\"2\" inkscape:showpageshadow=\"false\" inkscape:window-height=\"1169\" inkscape:window-maximized=\"0\" inkscape:window-width=\"852\" inkscape:window-x=\"0\" inkscape:window-y=\"0\" inkscape:zoom=\"0.70710678\" objecttolerance=\"10\" pagecolor=\"#ffffff\" showgrid=\"false\"/>\n  <g id=\"g3775\" transform=\"translate(-33,-27.11875)\">\n    <path d=\"m 34,127 33,0 0,556 15,0 0,20 -48,0 z\" id=\"rect3770\" inkscape:connector-curvature=\"0\" sodipodi:nodetypes=\"ccccccc\" style=\"fill:#5aa02c;fill-opacity:1;stroke:#000000;stroke-width:2;stroke-linecap:round;stroke-linejoin:miter;stroke-miterlimit:4;stroke-opacity:1;stroke-dashoffset:0\"/>\n    <path d=\"m 406,127 -33,0 0,556 -15,0 0,20 48,0 z\" id=\"path3773\" inkscape:connector-curvature=\"0\" sodipodi:nodetypes=\"ccccccc\" style=\"fill:#5aa02c;fill-opacity:1;stroke:#000000;stroke-width:2;stroke-linecap:round;stroke-linejoin:miter;stroke-miterlimit:4;stroke-opacity:1;stroke-dashoffset:0\"/>\n  </g>\n  <rect height=\"474\" id=\"rect3779\" style=\"fill:#483e37;fill-opacity:1;stroke:#000000;stroke-width:2;stroke-linecap:round;stroke-linejoin:miter;stroke-miterlimit:4;stroke-opacity:1;stroke-dasharray:none;stroke-dashoffset:0\" width=\"334\" x=\"20\" y=\"110.88125\"/>\n  <path d=\"m 155.375,76.88125 0,5 0,15.40625 -140.71875,9.71875 -4.65625,0.3125 0,4.65625 0,549.90625 0,5 5,0 25,0 0,-10 -20,0 0,-540.21875 140.71875,-9.71875 4.65625,-0.3125 0,-4.6875 0,-15.0625 21.625,0 21.625,0 0,15.0625 0,4.6875 4.65625,0.3125 L 354,116.6625 l 0,540.21875 -20,0 0,10 25,0 5,0 0,-5 0,-549.90625 0,-4.65625 -4.65625,-0.3125 -140.71875,-9.71875 0,-15.40625 0,-5 -5,0 -26.625,0 -26.625,0 z\" id=\"rect2987\" inkscape:connector-curvature=\"0\" sodipodi:nodetypes=\"ccccccccccccccccccccccccccccccccccccccc\" style=\"font-size:medium;font-style:normal;font-variant:normal;font-weight:normal;font-stretch:normal;text-indent:0;text-align:start;text-decoration:none;line-height:normal;letter-spacing:normal;word-spacing:normal;text-transform:none;direction:ltr;block-progression:tb;writing-mode:lr-tb;text-anchor:start;baseline-shift:baseline;color:#000000;fill:#999999;fill-opacity:1;fill-rule:nonzero;stroke:#000000;stroke-width:2;stroke-miterlimit:4;stroke-dasharray:none;marker:none;visibility:visible;display:inline;overflow:visible;enable-background:accumulate;font-family:Sans;-inkscape-font-specification:Sans\"/>\n  <rect height=\"469.00003\" id=\"rect3781\" style=\"fill:#c8c4b7;fill-opacity:1;stroke:#000000;stroke-width:2;stroke-linecap:round;stroke-linejoin:miter;stroke-miterlimit:4;stroke-opacity:1;stroke-dasharray:none;stroke-dashoffset:0\" width=\"217\" x=\"78.5\" y=\"114.88125\"/>\n  <path d=\"m 186.67187,109.06877 c -28.22519,-0.045 -56.77289,1.20737 -86,3.82673 l -23.99999,9.39289 0,24.03568 12,0 0,-13.15638 22.99999,0 0,-13.15637 c 0,0 49.92007,-2.85486 75,-2.84633 0.20654,-4.7e-4 0.44618,7e-5 0.65625,0 25.07993,-0.008 75,2.84633 75,2.84633 l 0,13.15637 23,0 0,13.15638 12,0 0,-24.03568 -24,-9.39289 c -29.2271,-2.61936 -57.77481,-3.87182 -86,-3.82673 -0.21831,3.4e-4 -0.43797,-5.1e-4 -0.65625,0 z\" id=\"rect3783\" inkscape:connector-curvature=\"0\" style=\"font-size:medium;font-style:normal;font-variant:normal;font-weight:normal;font-stretch:normal;text-indent:0;text-align:start;text-decoration:none;line-height:normal;letter-spacing:normal;word-spacing:normal;text-transform:none;direction:ltr;block-progression:tb;writing-mode:lr-tb;text-anchor:start;baseline-shift:baseline;color:#000000;fill:#917c6f;fill-opacity:1;fill-rule:nonzero;stroke:#000000;stroke-width:2.00000024;stroke-miterlimit:4;stroke-dasharray:none;marker:none;visibility:visible;display:inline;overflow:visible;enable-background:accumulate;font-family:Sans;-inkscape-font-specification:Sans\"/>\n  <path d=\"M 99,605.78503 78,578.08074 78,123.49017 c 8.06675,-0.92965 16.0439,-1.71467 24,-2.4352 l 0,-8.15947 c -9.41793,0.84404 -18.89468,1.80334 -28.46875,2.9412 L 70,116.27946 l 0,3.57373 0,459.61909 0,1.35992 0.8125,1.10691 23,30.36085 1.21875,1.58129 1.96875,0 m 180,0 1.96875,0 1.21875,-1.58129 23,-30.36085 0.8125,-1.10691 0,-1.35992 0,-459.61909 0,-3.60534 -3.53125,-0.41115 C 291.29411,114.76642 282.15263,113.81296 273,112.99038 l 0,8.22273 c 7.65972,0.69785 15.32074,1.43872 23,2.30869 l 0,454.55894 -21,27.70429\" id=\"path3796\" inkscape:connector-curvature=\"0\" sodipodi:nodetypes=\"cccccccccccccccccccccccccccc\" style=\"font-size:medium;font-style:normal;font-variant:normal;font-weight:normal;font-stretch:normal;text-indent:0;text-align:start;text-decoration:none;line-height:normal;letter-spacing:normal;word-spacing:normal;text-transform:none;direction:ltr;block-progression:tb;writing-mode:lr-tb;text-anchor:start;baseline-shift:baseline;color:#000000;fill:#917c6f;fill-opacity:1;fill-rule:nonzero;stroke:#000000;stroke-width:2.00000024;stroke-miterlimit:4;stroke-dasharray:none;marker:none;visibility:visible;display:inline;overflow:visible;enable-background:accumulate;font-family:Sans;-inkscape-font-specification:Sans\"/>\n  <path d=\"m 187,255.88125 -10.5,18 0,381 -8.5,0 0,12 38,0 0,-12 -8.5,0 0,-381 -10.5,-18 z\" id=\"rect3801\" inkscape:connector-curvature=\"0\" style=\"fill:#b3b3b3;fill-opacity:1;stroke:#000000;stroke-width:2;stroke-linecap:round;stroke-linejoin:miter;stroke-miterlimit:4;stroke-opacity:1;stroke-dashoffset:0\"/>\n  <g id=\"g3812\" transform=\"translate(-33,-27.11875)\">\n    <path d=\"m 53,612 13,0 10,20 88,0 4,6 28,0 0,-26 14,0 0,73 -14,0 0,-37 -25,0 0,28 -63,-16 -23,0 0,25 -32,0 z\" id=\"rect3807\" inkscape:connector-curvature=\"0\" sodipodi:nodetypes=\"cccccccccccccccccc\" style=\"fill:#d3bc5f;fill-opacity:1;stroke:#000000;stroke-width:2;stroke-linecap:round;stroke-linejoin:miter;stroke-miterlimit:4;stroke-opacity:1;stroke-dashoffset:0\"/>\n    <path d=\"m 387,612 -13,0 -10,20 -88,0 -4,6 -28,0 0,-26 -14,0 0,73 14,0 0,-37 25,0 0,28 63,-16 23,0 0,25 32,0 z\" id=\"path3810\" inkscape:connector-curvature=\"0\" sodipodi:nodetypes=\"cccccccccccccccccc\" style=\"fill:#d3bc5f;fill-opacity:1;stroke:#000000;stroke-width:2;stroke-linecap:round;stroke-linejoin:miter;stroke-miterlimit:4;stroke-opacity:1;stroke-dashoffset:0\"/>\n  </g>\n  <path d=\"m 31.5,631.88125 0,12 28,0 13,34 111,0 7,0 111,0 13,-34 28,0 0,-12 -41,0 -10,34 -101,0 -7,0 -101,0 -10,-34 -41,0 z\" id=\"path3819\" inkscape:connector-curvature=\"0\" style=\"fill:#b3b3b3;fill-opacity:1;stroke:#000000;stroke-width:2;stroke-linecap:round;stroke-linejoin:miter;stroke-miterlimit:4;stroke-opacity:1;stroke-dashoffset:0\"/>\n  <g id=\"g3833\" transform=\"translate(-34,-27.11875)\">\n    <rect height=\"10\" id=\"rect3825\" style=\"fill:none;stroke:#000000;stroke-width:1.99999988;stroke-linecap:round;stroke-linejoin:miter;stroke-miterlimit:4;stroke-opacity:1;stroke-dasharray:1.99999988, 3.99999976;stroke-dashoffset:0\" width=\"16\" x=\"175\" y=\"638\"/>\n    <rect height=\"10\" id=\"rect3827\" style=\"fill:none;stroke:#000000;stroke-width:1.99999988;stroke-linecap:round;stroke-linejoin:miter;stroke-miterlimit:4;stroke-opacity:1;stroke-dasharray:1.99999988, 3.99999976;stroke-dashoffset:0\" width=\"16\" x=\"251\" y=\"638\"/>\n  </g>\n  <text id=\"text3837\" sodipodi:linespacing=\"125%\" style=\"font-size:14px;font-style:normal;font-weight:normal;line-height:125%;letter-spacing:0px;word-spacing:0px;fill:#000000;fill-opacity:1;stroke:none;font-family:Bitstream Vera Sans\" x=\"426\" xml:space=\"preserve\" y=\"20.88125\"><tspan id=\"tspan3839\" sodipodi:role=\"line\" style=\"font-size:28px\" x=\"426\" y=\"20.88125\">POSITIVE CONNECTION</tspan></text>\n  <text id=\"text3841\" sodipodi:linespacing=\"125%\" style=\"font-size:14px;font-style:normal;font-weight:normal;line-height:125%;letter-spacing:0px;word-spacing:0px;fill:#000000;fill-opacity:1;stroke:none;font-family:Bitstream Vera Sans\" x=\"426\" xml:space=\"preserve\" y=\"68.881248\"><tspan id=\"tspan3843\" sodipodi:role=\"line\" style=\"font-size:28px\" x=\"426\" y=\"68.881248\">CURRENT PICK UP</tspan></text>\n  <text id=\"text3845\" sodipodi:linespacing=\"125%\" style=\"font-size:14px;font-style:normal;font-weight:normal;line-height:125%;letter-spacing:0px;word-spacing:0px;fill:#000000;fill-opacity:1;stroke:none;font-family:Bitstream Vera Sans\" x=\"426\" xml:space=\"preserve\" y=\"118.88125\"><tspan id=\"tspan3847\" sodipodi:role=\"line\" style=\"font-size:28px\" x=\"426\" y=\"118.88125\">ZINC ANODE</tspan></text>\n  <text id=\"text3849\" sodipodi:linespacing=\"125%\" style=\"font-size:14px;font-style:normal;font-weight:normal;line-height:125%;letter-spacing:0px;word-spacing:0px;fill:#000000;fill-opacity:1;stroke:none;font-family:Bitstream Vera Sans\" x=\"426\" xml:space=\"preserve\" y=\"178.88126\"><tspan id=\"tspan3851\" sodipodi:role=\"line\" style=\"font-size:28px\" x=\"426\" y=\"178.88126\">ION CONDUCTING SEPARATOR</tspan></text>\n  <text id=\"text3853\" sodipodi:linespacing=\"125%\" style=\"font-size:14px;font-style:normal;font-weight:normal;line-height:125%;letter-spacing:0px;word-spacing:0px;fill:#000000;fill-opacity:1;stroke:none;font-family:Bitstream Vera Sans\" x=\"426\" xml:space=\"preserve\" y=\"238.88126\"><tspan id=\"tspan3855\" sodipodi:role=\"line\" style=\"font-size:28px\" x=\"426\" y=\"238.88126\">MANGANESE OXIDE CATHODE</tspan></text>\n  <text id=\"text3857\" sodipodi:linespacing=\"125%\" style=\"font-size:14px;font-style:normal;font-weight:normal;line-height:125%;letter-spacing:0px;word-spacing:0px;fill:#000000;fill-opacity:1;stroke:none;font-family:Bitstream Vera Sans\" x=\"426\" xml:space=\"preserve\" y=\"348.88126\"><tspan id=\"tspan3859\" sodipodi:role=\"line\" style=\"font-size:28px\" x=\"426\" y=\"348.88126\">OUTER CASING</tspan></text>\n  <text id=\"text3861\" sodipodi:linespacing=\"125%\" style=\"font-size:14px;font-style:normal;font-weight:normal;line-height:125%;letter-spacing:0px;word-spacing:0px;fill:#000000;fill-opacity:1;stroke:none;font-family:Bitstream Vera Sans\" x=\"426\" xml:space=\"preserve\" y=\"494.88126\"><tspan id=\"tspan3863\" sodipodi:role=\"line\" style=\"font-size:28px\" x=\"426\" y=\"494.88126\">PRESSURE EXPANSION SEAL</tspan></text>\n  <path d=\"M 417.1341,61.514574 188.03152,277.88923\" id=\"path3875\" inkscape:connector-curvature=\"0\" sodipodi:nodetypes=\"cc\" style=\"fill:none;stroke:#000000;stroke-width:1;stroke-linecap:butt;stroke-linejoin:miter;stroke-miterlimit:4;stroke-opacity:1;stroke-dasharray:none\"/>\n  <text id=\"text3877\" sodipodi:linespacing=\"125%\" style=\"font-size:14px;font-style:normal;font-weight:normal;line-height:125%;letter-spacing:0px;word-spacing:0px;fill:#000000;fill-opacity:1;stroke:none;font-family:Bitstream Vera Sans\" x=\"426\" xml:space=\"preserve\" y=\"702.88123\"><tspan id=\"tspan3879\" sodipodi:role=\"line\" style=\"font-size:28px\" x=\"426\" y=\"702.88123\">NEGATIVE TERMINAL</tspan></text>\n  <text id=\"text3881\" sodipodi:linespacing=\"125%\" style=\"font-size:14px;font-style:normal;font-weight:normal;line-height:125%;letter-spacing:0px;word-spacing:0px;fill:#000000;fill-opacity:1;stroke:none;font-family:Bitstream Vera Sans\" x=\"426\" xml:space=\"preserve\" y=\"632.88123\"><tspan id=\"tspan3909\" sodipodi:role=\"line\" style=\"font-size:28px\" x=\"426\" y=\"632.88123\">PROTECTIVE CAP</tspan></text>\n  <path d=\"M 420.95631,17.699495 208.87538,79.496443\" id=\"path3891\" inkscape:connector-curvature=\"0\" style=\"fill:none;stroke:#000000;stroke-width:1;stroke-linecap:butt;stroke-linejoin:miter;stroke-miterlimit:4;stroke-opacity:1;stroke-dasharray:none\"/>\n  <path d=\"M 417.1341,111.61508 251.67113,275.03188\" id=\"path3893\" inkscape:connector-curvature=\"0\" style=\"fill:none;stroke:#000000;stroke-width:0.99999988px;stroke-linecap:butt;stroke-linejoin:miter;stroke-opacity:1\"/>\n  <path d=\"M 417.1341,171.61508 299.75439,287.53966\" id=\"path3895\" inkscape:connector-curvature=\"0\" style=\"fill:none;stroke:#000000;stroke-width:0.99999994px;stroke-linecap:butt;stroke-linejoin:miter;stroke-opacity:1\"/>\n  <path d=\"M 417.1341,229.61508 330.86709,314.8094\" id=\"path3897\" inkscape:connector-curvature=\"0\" style=\"fill:none;stroke:#000000;stroke-width:0.99999994px;stroke-linecap:butt;stroke-linejoin:miter;stroke-opacity:1\"/>\n  <path d=\"m 417.1341,338.86991 -49.49746,0.79348\" id=\"path3899\" inkscape:connector-curvature=\"0\" sodipodi:nodetypes=\"cc\" style=\"fill:none;stroke:#000000;stroke-width:0.99999994px;stroke-linecap:butt;stroke-linejoin:miter;stroke-opacity:1\"/>\n  <path d=\"M 417.13408,697.03598 270.05588,670.78666\" id=\"path3901\" inkscape:connector-curvature=\"0\" style=\"fill:none;stroke:#000000;stroke-width:1px;stroke-linecap:butt;stroke-linejoin:miter;stroke-opacity:1\"/>\n  <path d=\"m 417.13408,623.58014 -147.0782,-0.79348\" id=\"path3903\" inkscape:connector-curvature=\"0\" sodipodi:nodetypes=\"cc\" style=\"fill:none;stroke:#000000;stroke-width:1px;stroke-linecap:butt;stroke-linejoin:miter;stroke-opacity:1\"/>\n  <path d=\"M 420.20239,484.36739 224.03152,615.88923\" id=\"path3907\" inkscape:connector-curvature=\"0\" sodipodi:nodetypes=\"cc\" style=\"fill:none;stroke:#000000;stroke-width:0.99999988px;stroke-linecap:butt;stroke-linejoin:miter;stroke-opacity:1\"/>\n</svg>"
          },
          "metadata": {
            "tags": []
          }
        }
      ]
    },
    {
      "cell_type": "markdown",
      "metadata": {
        "id": "ZAOascvwf2qg",
        "colab_type": "text"
      },
      "source": [
        "> Q. アルカリマンガン電池の負極では $\\ce{Zn(OH)2}$ を作り $\\ce{Ze^2+}$ を減少を抑え, 逆反応が起こることを防いでる. $\\ce{pH}=13(\\ce{pOH}=-\\log_{10}\\ce{OH-}=1)$ の溶液の中では, 下記の溶解反応を参考にして,自由に動ける$\\ce{Zn2+}$ の濃度はどうなるか計算してください.\n",
        "\\begin{align*}\n",
        "\\ce{Zn(OH)2 &-> Zn2+ + 2OH-}&\n",
        "\\end{align*}"
      ]
    },
    {
      "cell_type": "code",
      "metadata": {
        "id": "tUKu4pxYkd53",
        "colab_type": "code",
        "colab": {
          "base_uri": "https://localhost:8080/",
          "height": 34
        },
        "outputId": "fe7ce175-de5b-4c89-e8bc-a9dcf3cc9809"
      },
      "source": [
        "dG_ZnOH2=-555*10**3\n",
        "dG_Zn2p=-147*10**3\n",
        "dG_OHm=-157*10**3\n",
        "dG_r6 = dG_Zn2p + 2*dG_OHm - dG_ZnOH2\n",
        "\n",
        "(T0,R)=(273.15+25,8.31)\n",
        "Ksp=np.exp(-dG_r6/R/T0)\n",
        "\n",
        "c_OH2m=0.1\n",
        "c_Zn2p=Ksp/c_OH2m**2\n",
        "\n",
        "print(dG_r,\"{:.2E}\".format(Ksp),\"{:.2E}\".format(c_Zn2p) )"
      ],
      "execution_count": 30,
      "outputs": [
        {
          "output_type": "stream",
          "text": [
            "94000 3.33E-17 3.33E-15\n"
          ],
          "name": "stdout"
        }
      ]
    }
  ]
}