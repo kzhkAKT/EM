{
  "nbformat": 4,
  "nbformat_minor": 0,
  "metadata": {
    "colab": {
      "name": "2SC_001_EM",
      "provenance": [],
      "collapsed_sections": [],
      "authorship_tag": "ABX9TyNJ5wEzlZ5Mf5euSa6FN10y",
      "include_colab_link": true
    },
    "kernelspec": {
      "name": "python3",
      "display_name": "Python 3"
    }
  },
  "cells": [
    {
      "cell_type": "markdown",
      "metadata": {
        "id": "view-in-github",
        "colab_type": "text"
      },
      "source": [
        "<a href=\"https://colab.research.google.com/github/kzhkAKT/ErgyMtrlScience/blob/master/2SC_001_EM.ipynb\" target=\"_parent\"><img src=\"https://colab.research.google.com/assets/colab-badge.svg\" alt=\"Open In Colab\"/></a>"
      ]
    },
    {
      "cell_type": "markdown",
      "metadata": {
        "id": "nx1wGOlv0C6m",
        "colab_type": "text"
      },
      "source": [
        "## 集中定数回路\n",
        "\n",
        "> total length << wave length"
      ]
    },
    {
      "cell_type": "code",
      "metadata": {
        "id": "p8Cm9AB40NVU",
        "colab_type": "code",
        "cellView": "form",
        "colab": {
          "base_uri": "https://localhost:8080/",
          "height": 233
        },
        "outputId": "22eeea97-3512-438d-caa9-f37bff95d0d5"
      },
      "source": [
        "#@title Lumped-element model\n",
        "%%svg\n",
        "https://upload.wikimedia.org/wikipedia/commons/b/b4/Ohm%27s_Law_with_Voltage_source_TeX.svg"
      ],
      "execution_count": null,
      "outputs": [
        {
          "output_type": "display_data",
          "data": {
            "text/plain": [
              "<IPython.core.display.SVG object>"
            ],
            "image/svg+xml": "<svg height=\"158.77pt\" version=\"1.1\" viewBox=\"0 0 241.37 158.77\" width=\"241.37pt\" xmlns=\"http://www.w3.org/2000/svg\" xmlns:xlink=\"http://www.w3.org/1999/xlink\">\n<defs>\n<g>\n<symbol id=\"glyph0-0\" overflow=\"visible\">\n<path d=\"\" style=\"stroke:none;\"/>\n</symbol>\n<symbol id=\"glyph0-1\" overflow=\"visible\">\n<path d=\"M -6.109375 3.4375 L -10.28125 3.4375 C -10.484375 3.4375 -10.765625 3.4375 -10.765625 3.734375 C -10.765625 4.03125 -10.484375 4.03125 -10.28125 4.03125 L -6.109375 4.03125 L -6.109375 8.21875 C -6.109375 8.421875 -6.109375 8.703125 -5.8125 8.703125 C -5.515625 8.703125 -5.515625 8.421875 -5.515625 8.21875 L -5.515625 4.03125 L -1.328125 4.03125 C -1.125 4.03125 -0.84375 4.03125 -0.84375 3.734375 C -0.84375 3.4375 -1.125 3.4375 -1.328125 3.4375 L -5.515625 3.4375 L -5.515625 -0.75 C -5.515625 -0.953125 -5.515625 -1.234375 -5.8125 -1.234375 C -6.109375 -1.234375 -6.109375 -0.953125 -6.109375 -0.75 Z \" style=\"stroke:none;\"/>\n</symbol>\n<symbol id=\"glyph1-0\" overflow=\"visible\">\n<path d=\"\" style=\"stroke:none;\"/>\n</symbol>\n<symbol id=\"glyph1-1\" overflow=\"visible\">\n<path d=\"M -9.84375 3.4375 C -10.09375 3.4375 -10.359375 3.4375 -10.359375 3.734375 C -10.359375 4.03125 -10.09375 4.03125 -9.84375 4.03125 L -1.765625 4.03125 C -1.515625 4.03125 -1.234375 4.03125 -1.234375 3.734375 C -1.234375 3.4375 -1.515625 3.4375 -1.765625 3.4375 Z \" style=\"stroke:none;\"/>\n</symbol>\n<symbol id=\"glyph2-0\" overflow=\"visible\">\n<path d=\"\" style=\"stroke:none;\"/>\n</symbol>\n<symbol id=\"glyph2-1\" overflow=\"visible\">\n<path d=\"M 11.796875 -9.65625 C 11.796875 -11.28125 10.984375 -11.390625 10.765625 -11.390625 C 10.15625 -11.390625 9.578125 -10.765625 9.578125 -10.25 C 9.578125 -9.9375 9.765625 -9.765625 9.859375 -9.65625 C 10.125 -9.421875 10.796875 -8.734375 10.796875 -7.390625 C 10.796875 -6.296875 9.25 -0.265625 6.140625 -0.265625 C 4.578125 -0.265625 4.265625 -1.578125 4.265625 -2.53125 C 4.265625 -3.828125 4.859375 -5.625 5.546875 -7.484375 C 5.96875 -8.546875 6.0625 -8.8125 6.0625 -9.328125 C 6.0625 -10.40625 5.296875 -11.390625 4.03125 -11.390625 C 1.65625 -11.390625 0.703125 -7.640625 0.703125 -7.4375 C 0.703125 -7.328125 0.796875 -7.203125 0.984375 -7.203125 C 1.21875 -7.203125 1.234375 -7.3125 1.34375 -7.671875 C 1.96875 -9.890625 2.96875 -10.875 3.953125 -10.875 C 4.1875 -10.875 4.625 -10.875 4.625 -10.015625 C 4.625 -9.34375 4.34375 -8.59375 3.953125 -7.625 C 2.71875 -4.3125 2.71875 -3.515625 2.71875 -2.890625 C 2.71875 -2.328125 2.796875 -1.265625 3.59375 -0.546875 C 4.515625 0.265625 5.8125 0.265625 6.046875 0.265625 C 10.328125 0.265625 11.796875 -8.1875 11.796875 -9.65625 Z \" style=\"stroke:none;\"/>\n</symbol>\n<symbol id=\"glyph2-2\" overflow=\"visible\">\n<path d=\"M 7.3125 -3.6875 C 7.3125 -3.828125 7.203125 -3.921875 7.046875 -3.921875 C 6.8125 -3.921875 6.796875 -3.84375 6.65625 -3.40625 C 5.984375 -1.0625 4.9375 -0.265625 4.078125 -0.265625 C 3.765625 -0.265625 3.40625 -0.328125 3.40625 -1.109375 C 3.40625 -1.8125 3.71875 -2.578125 4 -3.359375 L 5.8125 -8.15625 C 5.890625 -8.375 6.0625 -8.828125 6.0625 -9.328125 C 6.0625 -10.40625 5.296875 -11.390625 4.03125 -11.390625 C 1.65625 -11.390625 0.703125 -7.640625 0.703125 -7.4375 C 0.703125 -7.328125 0.796875 -7.203125 0.984375 -7.203125 C 1.21875 -7.203125 1.234375 -7.3125 1.34375 -7.671875 C 1.96875 -9.84375 2.9375 -10.875 3.953125 -10.875 C 4.1875 -10.875 4.625 -10.84375 4.625 -10.015625 C 4.625 -9.34375 4.28125 -8.5 4.078125 -7.921875 L 2.265625 -3.125 C 2.125 -2.71875 1.96875 -2.296875 1.96875 -1.828125 C 1.96875 -0.671875 2.765625 0.265625 4 0.265625 C 6.375 0.265625 7.3125 -3.515625 7.3125 -3.6875 Z M 7.109375 -16.109375 C 7.109375 -16.5 6.796875 -16.96875 6.21875 -16.96875 C 5.625 -16.96875 4.953125 -16.40625 4.953125 -15.734375 C 4.953125 -15.078125 5.5 -14.875 5.8125 -14.875 C 6.515625 -14.875 7.109375 -15.546875 7.109375 -16.109375 Z \" style=\"stroke:none;\"/>\n</symbol>\n<symbol id=\"glyph2-3\" overflow=\"visible\">\n<path d=\"M 9.5 -15.890625 C 9.734375 -16.84375 9.84375 -16.890625 10.84375 -16.890625 L 12.703125 -16.890625 C 14.921875 -16.890625 16.578125 -16.21875 16.578125 -14.203125 C 16.578125 -12.890625 15.90625 -9.09375 10.71875 -9.09375 L 7.796875 -9.09375 Z M 13.09375 -8.78125 C 16.296875 -9.484375 18.796875 -11.546875 18.796875 -13.765625 C 18.796875 -15.78125 16.765625 -17.640625 13.171875 -17.640625 L 6.171875 -17.640625 C 5.65625 -17.640625 5.421875 -17.640625 5.421875 -17.15625 C 5.421875 -16.890625 5.609375 -16.890625 6.09375 -16.890625 C 7.640625 -16.890625 7.640625 -16.6875 7.640625 -16.40625 C 7.640625 -16.34375 7.640625 -16.1875 7.546875 -15.8125 L 4.0625 -1.90625 C 3.828125 -1 3.765625 -0.75 1.984375 -0.75 C 1.390625 -0.75 1.21875 -0.75 1.21875 -0.265625 C 1.21875 0 1.5 0 1.578125 0 C 2.046875 0 2.578125 -0.046875 3.078125 -0.046875 L 6.125 -0.046875 C 6.59375 -0.046875 7.125 0 7.59375 0 C 7.796875 0 8.078125 0 8.078125 -0.484375 C 8.078125 -0.75 7.859375 -0.75 7.46875 -0.75 C 5.890625 -0.75 5.890625 -0.953125 5.890625 -1.21875 C 5.890625 -1.234375 5.890625 -1.421875 5.9375 -1.625 L 7.671875 -8.578125 L 10.765625 -8.578125 C 13.21875 -8.578125 13.6875 -7.03125 13.6875 -6.171875 C 13.6875 -5.78125 13.4375 -4.78125 13.25 -4.109375 C 12.96875 -2.921875 12.890625 -2.640625 12.890625 -2.140625 C 12.890625 -0.3125 14.390625 0.546875 16.109375 0.546875 C 18.203125 0.546875 19.109375 -2.015625 19.109375 -2.375 C 19.109375 -2.5625 18.984375 -2.640625 18.828125 -2.640625 C 18.625 -2.640625 18.578125 -2.484375 18.515625 -2.265625 C 17.90625 -0.4375 16.84375 0.03125 16.1875 0.03125 C 15.546875 0.03125 15.140625 -0.265625 15.140625 -1.421875 C 15.140625 -2.046875 15.4375 -4.390625 15.46875 -4.515625 C 15.59375 -5.46875 15.59375 -5.578125 15.59375 -5.78125 C 15.59375 -7.671875 14.078125 -8.46875 13.09375 -8.78125 Z \" style=\"stroke:none;\"/>\n</symbol>\n</g>\n</defs>\n<g id=\"surface1\">\n<path d=\"M 0.00125 0.000125 L 0.00125 45.925906 M 0.00125 81.648562 L 0.00125 127.574344 M 0.00125 81.648562 L 0.00125 127.558719 M 0.00125 127.558719 L 127.559844 127.558719 M 127.575469 127.574344 L 127.575469 87.601687 M 127.575469 39.972781 L 127.575469 0.000125 M 127.559844 0.000125 L 0.00125 0.000125 \" style=\"fill:none;stroke-width:1.19553;stroke-linecap:butt;stroke-linejoin:miter;stroke:rgb(0%,0%,0%);stroke-opacity:1;stroke-miterlimit:10;\" transform=\"matrix(1,0,0,-1,58.655,143.172)\"/>\n<g style=\"fill:rgb(0%,0%,0%);fill-opacity:1;\">\n  <use x=\"64.467\" xlink:href=\"#glyph0-1\" y=\"68.137\"/>\n</g>\n<g style=\"fill:rgb(0%,0%,0%);fill-opacity:1;\">\n  <use x=\"64.467\" xlink:href=\"#glyph1-1\" y=\"83.176\"/>\n</g>\n<path d=\"M -17.858125 63.781375 C -17.858125 53.918094 -9.862031 45.922 0.00125 45.922 C 9.864531 45.922 17.856719 53.918094 17.856719 63.781375 C 17.856719 73.644656 9.864531 81.64075 0.00125 81.64075 C -9.862031 81.64075 -17.858125 73.644656 -17.858125 63.781375 Z \" style=\"fill:none;stroke-width:2.39105;stroke-linecap:butt;stroke-linejoin:miter;stroke:rgb(0%,0%,0%);stroke-opacity:1;stroke-miterlimit:10;\" transform=\"matrix(1,0,0,-1,58.655,143.172)\"/>\n<g style=\"fill:rgb(0%,0%,0%);fill-opacity:1;\">\n  <use x=\"19.981\" xlink:href=\"#glyph2-1\" y=\"84.944\"/>\n</g>\n<path d=\"M 0.00125 102.000125 L 2.977812 102.000125 L 0.00125 108.324344 L -2.975313 102.000125 L 0.00125 102.000125 \" style=\"fill-rule:nonzero;fill:rgb(0%,0%,0%);fill-opacity:1;stroke-width:1.19553;stroke-linecap:butt;stroke-linejoin:miter;stroke:rgb(0%,0%,0%);stroke-opacity:1;stroke-miterlimit:10;\" transform=\"matrix(1,0,0,-1,58.655,143.172)\"/>\n<g style=\"fill:rgb(0%,0%,0%);fill-opacity:1;\">\n  <use x=\"44.152\" xlink:href=\"#glyph2-2\" y=\"47.021\"/>\n</g>\n<path d=\"M 127.559844 87.589969 L 136.489531 83.621219 L 118.630156 75.687625 L 136.489531 67.750125 L 118.630156 59.812625 L 136.489531 51.875125 L 118.630156 43.937625 L 127.559844 39.968875 \" style=\"fill:none;stroke-width:2.39105;stroke-linecap:butt;stroke-linejoin:miter;stroke:rgb(0%,0%,0%);stroke-opacity:1;stroke-miterlimit:10;\" transform=\"matrix(1,0,0,-1,58.655,143.172)\"/>\n<g style=\"fill:rgb(0%,0%,0%);fill-opacity:1;\">\n  <use x=\"201.931\" xlink:href=\"#glyph2-3\" y=\"88.208\"/>\n</g>\n</g>\n</svg>"
          },
          "metadata": {
            "tags": []
          }
        }
      ]
    },
    {
      "cell_type": "markdown",
      "metadata": {
        "id": "paOWmCBtyuaO",
        "colab_type": "text"
      },
      "source": [
        "## 相互誘導を利用した変圧器\n",
        "\n",
        "相互誘導を利用\n",
        "\n",
        "![変圧器](https://upload.wikimedia.org/wikipedia/commons/thumb/4/4e/Transformer_110kV.jpg/320px-Transformer_110kV.jpg)"
      ]
    },
    {
      "cell_type": "code",
      "metadata": {
        "id": "NxbiF1_zzaEB",
        "colab_type": "code",
        "cellView": "form",
        "colab": {
          "base_uri": "https://localhost:8080/",
          "height": 521
        },
        "outputId": "003fac16-1acd-4f62-c938-15b37a4374bb"
      },
      "source": [
        "#@title 変圧器の基本構造\n",
        "%%svg\n",
        "https://upload.wikimedia.org/wikipedia/commons/6/63/Transformer_Flux.svg"
      ],
      "execution_count": null,
      "outputs": [
        {
          "output_type": "display_data",
          "data": {
            "text/plain": [
              "<IPython.core.display.SVG object>"
            ],
            "image/svg+xml": "<svg height=\"500\" style=\"enable-background:new 0 0 670 500;\" version=\"1.1\" viewBox=\"0 0 670 500\" width=\"670\" x=\"0px\" xml:space=\"preserve\" xmlns=\"http://www.w3.org/2000/svg\" xmlns:xlink=\"http://www.w3.org/1999/xlink\" y=\"0px\">\n<style type=\"text/css\">\n\t.st0{fill:#DADADA;stroke:#000;}\n\t.st1{fill:none;stroke:#000;}\n\t.st2{fill:#EDEDED;stroke:#000;}\n\t.st3{fill:none;stroke:#575756;stroke-width:2;stroke-dasharray:12,6;}\n\t.st4{fill:none;stroke:#000;stroke-width:2;}\n\t.st4a{fill:none;stroke:#000;stroke-width:1;}\n\t.st5{fill:none;stroke:#575756;stroke-width:2;stroke-dasharray:12,6;}\n\t.st6{fill:#575756;}\n\t.st7{font-family:'Liberation Sans','Arial';}\n\t.st8{font-size:30px;}\n\t.st9{font-size:21px;}\n\t.st10{font-size:24px;}\n</style>\n<g id=\"diagram\">\n\t<g id=\"body\">\n\t\t<path class=\"st0\" d=\"M573.4,470.7c0,4.5-3.7,8.2-8.2,8.2H100.7c-4.5,0-8.2-3.7-8.2-8.2V102.6c0-4.5,3.7-8.2,8.2-8.2h464.5    c4.5,0,8.2,3.7,8.2,8.2V470.7z\"/>\n\t\t<path class=\"st1\" d=\"M560,450.6c0,8.4-6.8,15.1-15.1,15.1H121.2c-8.4,0-15.1-6.8-15.1-15.1V122.7c0-8.4,6.8-15.1,15.1-15.1h423.6    c8.4,0,15.1,6.8,15.1,15.1V450.6z\"/>\n\t\t<path class=\"st1\" d=\"M135,454.7c-9.9,0-17.9-8-17.9-17.9V136.5c0-9.9,8-17.9,17.9-17.9h396c9.9,0,17.9,8,17.9,17.9v300.3    c0,9.9-8,17.9-17.9,17.9H135z\"/>\n\t\t<path class=\"st1\" d=\"M148.1,442.7c-10.5,0-19.1-8.5-19.1-19.1v-274c0-10.5,8.5-19.1,19.1-19.1h369.7c10.5,0,19.1,8.5,19.1,19.1    v274c0,10.5-8.5,19.1-19.1,19.1H148.1z\"/>\n\t\t<path class=\"st1\" d=\"M160.7,430.7c-10.9,0-19.7-8.8-19.7-19.7V162.2c0-10.9,8.8-19.7,19.7-19.7h344.6c10.9,0,19.6,8.8,19.6,19.6    v248.9c0,10.9-8.8,19.6-19.6,19.6H160.7z\"/>\n\t\t<path class=\"st2\" d=\"M477.3,375.9c0,4.1-3.4,7.5-7.5,7.5H196.2c-4.1,0-7.5-3.4-7.5-7.5V197.4c0-4.1,3.4-7.5,7.5-7.5h273.7    c4.1,0,7.5,3.4,7.5,7.5V375.9z\"/>\n\t</g>\n\t<g id=\"R_Hatch\">\n\t\t<path class=\"st3\" d=\"M282.3,395c0,6.6-5.4,12-12,12H175c-6.6,0-12-5.4-12-12V178.3c0-6.6,5.4-12,12-12h95.3c6.6,0,12,5.4,12,12    V395z\"/>\n\t</g>\n\t<g id=\"L_Hatch\">\n\t\t<path class=\"st3\" d=\"M383.7,395c0,6.6,5.4,12,12,12H491c6.6,0,12-5.4,12-12V178.3c0-6.6-5.4-12-12-12h-95.3c-6.6,0-12,5.4-12,12    V395z\"/>\n\t</g>\n\t<g id=\"L_winding\">\n\t\t<path class=\"st4\" d=\"M22.4,208.6h172.8c3.5,0,6.3,2.6,6.3,5.8l0,0c0,3.2-2.8,5.8-6.3,5.8h-6.5\"/>\n\t\t<path class=\"st4\" d=\"M70.6,232.8\"/>\n\t\t<path class=\"st4\" d=\"M92.6,221.2h-4.1c-3.5,0-6.3,2.6-6.3,5.8l0,0c0,3.2,2.8,5.8,6.3,5.8h106.7c3.5,0,6.3,2.6,6.3,5.8l0,0    c0,3.2-2.8,5.8-6.3,5.8h-6.5\"/>\n\t\t<path class=\"st4\" d=\"M92.6,245.4h-4.1c-3.5,0-6.3,2.6-6.3,5.8l0,0c0,3.2,2.8,5.8,6.3,5.8h106.7c3.5,0,6.3,2.6,6.3,5.8l0,0    c0,3.2-2.8,5.8-6.3,5.8h-6.5\"/>\n\t\t<path class=\"st4\" d=\"M92.6,269.6h-4.1c-3.5,0-6.3,2.6-6.3,5.8l0,0c0,3.2,2.8,5.8,6.3,5.8h106.7c3.5,0,6.3,2.6,6.3,5.8l0,0    c0,3.2-2.8,5.8-6.3,5.8h-6.5\"/>\n\t\t<path class=\"st4\" d=\"M92.6,293.8h-4.1c-3.5,0-6.3,2.6-6.3,5.8l0,0c0,3.2,2.8,5.8,6.3,5.8h106.7c3.5,0,6.3,2.6,6.3,5.8l0,0    c0,3.2-2.8,5.8-6.3,5.8h-6.5\"/>\n\t\t<path class=\"st4\" d=\"M92.6,317.9h-4.1c-3.5,0-6.3,2.6-6.3,5.8l0,0c0,3.2,2.8,5.8,6.3,5.8h106.7c3.5,0,6.3,2.6,6.3,5.8l0,0    c0,3.2-2.8,5.8-6.3,5.8h-6.5\"/>\n\t\t<path class=\"st4\" d=\"M92.6,342.1h-4.1c-3.5,0-6.3,2.6-6.3,5.8l0,0c0,3.2,2.8,5.8,6.3,5.8h106.7c3.5,0,6.3,2.6,6.3,5.8l0,0    c0,3.2-2.8,5.8-6.3,5.8h-6.5\"/>\n\t\t<line class=\"st4\" x1=\"92.6\" x2=\"22.3\" y1=\"365.2\" y2=\"365.2\"/>\n\t\t<g>\n\t\t\t<g>\n\t\t\t\t<polygon points=\"51.2,214.4 72.8,208.6 51.2,202.8     \"/>\n\t\t\t</g>\n\t\t</g>\n\t</g>\n\t<g>\n\t\t<g>\n\t\t\t<line class=\"st4\" x1=\"315.8\" x2=\"318.5\" y1=\"107.6\" y2=\"107.6\"/>\n\t\t\t<g>\n\t\t\t\t<polygon points=\"315.7,111.6 330.9,107.6 315.7,103.5     \"/>\n\t\t\t</g>\n\t\t</g>\n\t</g>\n\t<g>\n\t\t<g>\n\t\t\t<line class=\"st5\" x1=\"282.3\" x2=\"282.3\" y1=\"260.7\" y2=\"263.3\"/>\n\t\t\t<g>\n\t\t\t\t<polygon class=\"st6\" points=\"278.3,260.5 282.3,275.7 286.4,260.5     \"/>\n\t\t\t</g>\n\t\t</g>\n\t</g>\n\t<g>\n\t\t<g>\n\t\t\t<line class=\"st5\" x1=\"163\" x2=\"163\" y1=\"301.1\" y2=\"298.5\"/>\n\t\t\t<g>\n\t\t\t\t<polygon class=\"st6\" points=\"167.1,301.3 163,286.1 158.9,301.3     \"/>\n\t\t\t</g>\n\t\t</g>\n\t</g>\n\t<g>\n\t\t<g>\n\t\t\t<line class=\"st5\" x1=\"503\" x2=\"503\" y1=\"301.1\" y2=\"298.5\"/>\n\t\t\t<g>\n\t\t\t\t<polygon class=\"st6\" points=\"507.1,301.3 503,286.1 498.9,301.3     \"/>\n\t\t\t</g>\n\t\t</g>\n\t</g>\n\t<g>\n\t\t<g>\n\t\t\t<line class=\"st5\" x1=\"383.7\" x2=\"383.7\" y1=\"260.7\" y2=\"263.3\"/>\n\t\t\t<g>\n\t\t\t\t<polygon class=\"st6\" points=\"379.6,260.5 383.7,275.7 387.7,260.5     \"/>\n\t\t\t</g>\n\t\t</g>\n\t</g>\n\t<g>\n\t\t<g>\n\t\t\t<line class=\"st4\" x1=\"315.8\" x2=\"318.5\" y1=\"118.6\" y2=\"118.6\"/>\n\t\t\t<g>\n\t\t\t\t<polygon points=\"315.7,122.6 330.9,118.6 315.7,114.5     \"/>\n\t\t\t</g>\n\t\t</g>\n\t</g>\n\t<g>\n\t\t<g>\n\t\t\t<line class=\"st4\" x1=\"315.8\" x2=\"318.5\" y1=\"130.6\" y2=\"130.6\"/>\n\t\t\t<g>\n\t\t\t\t<polygon points=\"315.7,134.6 330.9,130.6 315.7,126.5     \"/>\n\t\t\t</g>\n\t\t</g>\n\t</g>\n\t<g>\n\t\t<g>\n\t\t\t<line class=\"st4\" x1=\"315.8\" x2=\"318.5\" y1=\"142.6\" y2=\"142.6\"/>\n\t\t\t<g>\n\t\t\t\t<polygon points=\"315.7,146.6 330.9,142.6 315.7,138.5     \"/>\n\t\t\t</g>\n\t\t</g>\n\t</g>\n\t<g id=\"R_winding\">\n\t\t<path class=\"st4a\" d=\"M643.7,208.6H470.8c-3.5,0-6.3,2.6-6.3,5.8l0,0c0,3.2,2.8,5.8,6.3,5.8h6.5\"/>\n\t\t<path class=\"st4a\" d=\"M595.5,232.8\"/>\n\t\t<path class=\"st4a\" d=\"M573.4,221.2h4.1c3.5,0,6.3,2.6,6.3,5.8l0,0c0,3.2-2.8,5.8-6.3,5.8H470.8c-3.5,0-6.3,2.6-6.3,5.8l0,0    c0,3.2,2.8,5.8,6.3,5.8h6.5\"/>\n\t\t<path class=\"st4a\" d=\"M573.4,245.4h4.1c3.5,0,6.3,2.6,6.3,5.8l0,0c0,3.2-2.8,5.8-6.3,5.8H470.8c-3.5,0-6.3,2.6-6.3,5.8l0,0    c0,3.2,2.8,5.8,6.3,5.8h6.5\"/>\n\t\t<path class=\"st4a\" d=\"M573.4,269.6h4.1c3.5,0,6.3,2.6,6.3,5.8l0,0c0,3.2-2.8,5.8-6.3,5.8H470.8c-3.5,0-6.3,2.6-6.3,5.8l0,0    c0,3.2,2.8,5.8,6.3,5.8h6.5\"/>\n\t\t<path class=\"st4a\" d=\"M573.4,293.8h4.1c3.5,0,6.3,2.6,6.3,5.8l0,0c0,3.2-2.8,5.8-6.3,5.8H470.8c-3.5,0-6.3,2.6-6.3,5.8l0,0    c0,3.2,2.8,5.8,6.3,5.8h6.5\"/>\n\t\t<path class=\"st4a\" d=\"M573.4,317.9h4.1c3.5,0,6.3,2.6,6.3,5.8l0,0c0,3.2-2.8,5.8-6.3,5.8H470.8c-3.5,0-6.3,2.6-6.3,5.8l0,0    c0,3.2,2.8,5.8,6.3,5.8h6.5\"/>\n\t\t<path class=\"st4a\" d=\"M573.4,342.1h4.1c3.5,0,6.3,2.6,6.3,5.8l0,0c0,3.2-2.8,5.8-6.3,5.8H470.8c-3.5,0-6.3,2.6-6.3,5.8l0,0    c0,3.2,2.8,5.8,6.3,5.8h6.5\"/>\n\t\t<line class=\"st4a\" x1=\"573.4\" x2=\"643.7\" y1=\"365.2\" y2=\"365.2\"/>\n\t\t<g>\n\t\t\t<g>\n\t\t\t\t<polygon points=\"614.9,202.8 593.2,208.6 614.9,214.4     \"/>\n\t\t\t</g>\n\t\t</g>\n\t</g>\n\t<g>\n\t\t<g>\n\t\t\t<line class=\"st4\" x1=\"353.1\" x2=\"350.8\" y1=\"430.7\" y2=\"430.7\"/>\n\t\t\t<g>\n\t\t\t\t<polygon points=\"353.6,426.6 338.4,430.7 353.6,434.8     \"/>\n\t\t\t</g>\n\t\t</g>\n\t</g>\n\t<g>\n\t\t<g>\n\t\t\t<line class=\"st4\" x1=\"353.1\" x2=\"350.8\" y1=\"442.7\" y2=\"442.7\"/>\n\t\t\t<g>\n\t\t\t\t<polygon points=\"353.6,438.6 338.4,442.7 353.6,446.8     \"/>\n\t\t\t</g>\n\t\t</g>\n\t</g>\n\t<g>\n\t\t<g>\n\t\t\t<line class=\"st4\" x1=\"353.1\" x2=\"350.8\" y1=\"454.7\" y2=\"454.7\"/>\n\t\t\t<g>\n\t\t\t\t<polygon points=\"353.6,450.6 338.4,454.7 353.6,458.8     \"/>\n\t\t\t</g>\n\t\t</g>\n\t</g>\n\t<g>\n\t\t<g>\n\t\t\t<line class=\"st4\" x1=\"353.1\" x2=\"350.8\" y1=\"465.7\" y2=\"465.7\"/>\n\t\t\t<g>\n\t\t\t\t<polygon points=\"353.6,461.6 338.4,465.7 353.6,469.8     \"/>\n\t\t\t</g>\n\t\t</g>\n\t</g>\n</g>\n<g id=\"text\">\n\t<text class=\"st7 st8\" transform=\"matrix(1 0 0 1 359 136)\">Main flux</text>\n\t<text transform=\"matrix(1 0 0 1 226 138)\">\n\t<tspan class=\"st7 st8\" x=\"0\" y=\"0\">Ф </tspan>\n\t<tspan class=\"st7 st9\" x=\"31.1\" y=\"0\">12</tspan>\n\t</text>\n\t<text transform=\"matrix(1 0 0 1 436 462)\">\n\t<tspan class=\"st7 st8\" x=\"0\" y=\"0\">Ф </tspan>\n\t<tspan class=\"st7 st9\" x=\"31.1\" y=\"0\">21</tspan>\n\t</text>\n\t<text transform=\"matrix(1 0 0 1 256 246)\">\n\t<tspan class=\"st7 st8\" x=\"0\" y=\"0\">Ф </tspan>\n\t<tspan class=\"st7 st9\" x=\"31.1\" y=\"0\">σ 1</tspan>\n\t</text>\n\t<text transform=\"matrix(1 0 0 1 357 246)\">\n\t<tspan class=\"st7 st8\" x=\"0\" y=\"0\">Ф </tspan>\n\t<tspan class=\"st7 st9\" x=\"31.1\" y=\"0\">σ 2</tspan>\n\t</text>\n\t<text transform=\"matrix(1 0 0 1 287 335)\">\n\t<tspan class=\"st7 st10\" x=\"0\" y=\"0\">Leakage</tspan>\n\t<tspan class=\"st7 st10\" x=\"27.4\" y=\"28.8\">flux</tspan>\n\t</text>\n\t<text transform=\"matrix(1 0 0 1 71 45)\">\n\t<tspan class=\"st7 st10\" x=\"0\" y=\"0\">Primary</tspan>\n\t<tspan class=\"st7 st10\" x=\"0.6\" y=\"28.8\">winding</tspan>\n\t</text>\n\t<text transform=\"matrix(1 0 0 1 496 45)\">\n\t<tspan class=\"st7 st10\" x=\"0\" y=\"0\">Secondary</tspan>\n\t<tspan class=\"st7 st10\" x=\"16.7\" y=\"28.8\">winding</tspan>\n\t</text>\n</g>\n</svg>"
          },
          "metadata": {
            "tags": []
          }
        }
      ]
    },
    {
      "cell_type": "code",
      "metadata": {
        "id": "_bD4bF1xt7o5",
        "colab_type": "code",
        "colab": {
          "base_uri": "https://localhost:8080/",
          "height": 336
        },
        "outputId": "35ed1e41-4a23-4feb-b2bd-40337ec706e5"
      },
      "source": [
        "%%html\n",
        "<iframe width=\"560\" height=\"315\" src=\"https://www.youtube-nocookie.com/embed/sENgdSF8ppA\" frameborder=\"0\" allow=\"accelerometer; autoplay; encrypted-media; gyroscope; picture-in-picture\" allowfullscreen></iframe>"
      ],
      "execution_count": null,
      "outputs": [
        {
          "output_type": "display_data",
          "data": {
            "text/html": [
              "<iframe width=\"560\" height=\"315\" src=\"https://www.youtube-nocookie.com/embed/sENgdSF8ppA\" frameborder=\"0\" allow=\"accelerometer; autoplay; encrypted-media; gyroscope; picture-in-picture\" allowfullscreen></iframe>"
            ],
            "text/plain": [
              "<IPython.core.display.HTML object>"
            ]
          },
          "metadata": {
            "tags": []
          }
        }
      ]
    },
    {
      "cell_type": "code",
      "metadata": {
        "id": "qn6ugo1wu0OB",
        "colab_type": "code",
        "colab": {
          "base_uri": "https://localhost:8080/",
          "height": 336
        },
        "outputId": "5f1d0ea5-ab21-41bf-c775-b4e4588c3650"
      },
      "source": [
        "%%html\n",
        "<iframe width=\"560\" height=\"315\" src=\"https://www.youtube-nocookie.com/embed/ZKLiuhZjdMo\" frameborder=\"0\" allow=\"accelerometer; autoplay; encrypted-media; gyroscope; picture-in-picture\" allowfullscreen></iframe>"
      ],
      "execution_count": null,
      "outputs": [
        {
          "output_type": "display_data",
          "data": {
            "text/html": [
              "<iframe width=\"560\" height=\"315\" src=\"https://www.youtube-nocookie.com/embed/ZKLiuhZjdMo\" frameborder=\"0\" allow=\"accelerometer; autoplay; encrypted-media; gyroscope; picture-in-picture\" allowfullscreen></iframe>"
            ],
            "text/plain": [
              "<IPython.core.display.HTML object>"
            ]
          },
          "metadata": {
            "tags": []
          }
        }
      ]
    },
    {
      "cell_type": "markdown",
      "metadata": {
        "id": "dGtl8xXJwEo2",
        "colab_type": "text"
      },
      "source": [
        "# Superconducting lumped element circuits\n",
        "referenc: \"Foundations of Applied Superconductivity\"\n",
        "Terry P. Orlando and Kevin A. Delin *Addison-Wesley* 1991 ISBN 0-201-18323-4"
      ]
    },
    {
      "cell_type": "markdown",
      "metadata": {
        "id": "cSQWIYWU9DXk",
        "colab_type": "text"
      },
      "source": [
        "![Figure 3.10](http://drive.google.com/uc?export=view&id=1MpPBYwcOQBNmaRJKZI96iNQonB9BUdjF)"
      ]
    },
    {
      "cell_type": "markdown",
      "metadata": {
        "id": "-f-nnytbxk1z",
        "colab_type": "text"
      },
      "source": [
        "### flux transfer\n",
        "\n",
        "On left\n",
        "- the sinesoidal current source: $i \\sim i_1$,\n",
        "- the inductor: $L_1$.\n",
        "\n",
        "On right\n",
        "- $L_2$,\n",
        "- a resistor: $R$.\n",
        "\n",
        "Between the two coils\n",
        "- the mutual inductance: $M$.\n",
        "\n",
        "Total flux by [flux linkage](https://en.wikipedia.org/wiki/Flux_linkage)\n",
        "\\begin{align*}\n",
        "\\lambda_{\\Phi2} &= M i_i + L_2 i_2&\\\\\n",
        "&= \\lambda_{\\Phi0} + L_2 i_2&,\n",
        "\\end{align*}\n",
        "where $\\lambda_{\\Phi0} \\equiv M i_i$.\n",
        "\n",
        "By using electromagnetic induction on the right,\n",
        "\\begin{align*}\n",
        "v_2 = \\dfrac{{\\rm d}}{{\\rm d} t} \\lambda_{\\Phi_2} = -i_2 R.\n",
        "\\end{align*}\n",
        "\n",
        "Combining these two expression yields\n",
        "\\begin{align*}\n",
        "\\dfrac{{\\rm d}}{{\\rm d} t} \n",
        "\\left(\n",
        "  \\lambda_{\\Phi0} + L_2 i_2\n",
        "  \\right)\n",
        "   = -i_2 R.\n",
        "\\end{align*}\n",
        "\n",
        "As in a superconductor: $R \\to 0$,\n",
        "\\begin{align*}\n",
        "\\dfrac{{\\rm d}}{{\\rm d} t} \n",
        "\\left(\n",
        "  \\lambda_{\\Phi0} + L_2 i_2\n",
        "  \\right)\n",
        "   = 0.\n",
        "\\end{align*}\n",
        "\n",
        "Since this flux relation is conserved over time,\n",
        "\\begin{align*}\n",
        "  \\lambda_{\\Phi0} &= - L_2 i_2&\n",
        "\\end{align*}\n",
        "\n",
        "\n",
        "\n"
      ]
    },
    {
      "cell_type": "markdown",
      "metadata": {
        "id": "Kyv-d1Q69KRD",
        "colab_type": "text"
      },
      "source": [
        "## DC Flux Transformer\n",
        "\n",
        "related apparatus: [clamp meter](https://ja.wikipedia.org/wiki/%E6%9E%B6%E7%B7%9A%E9%9B%BB%E6%B5%81%E8%A8%88) as a [magnetometer](https://en.wikipedia.org/wiki/Magnetometer)"
      ]
    },
    {
      "cell_type": "markdown",
      "metadata": {
        "id": "9pUo26PV9P1X",
        "colab_type": "text"
      },
      "source": [
        "![Figure 3.11](http://drive.google.com/uc?export=view&id=1gAB3o6AAJmHCiFvrUBV2ZU7rgDwI3CqO)\n",
        "\n",
        "$B_{\\rm app}, B_2$ are (magnetic) flux density, or [magnetic flux](https://en.wikipedia.org/wiki/Magnetic_flux)."
      ]
    },
    {
      "cell_type": "markdown",
      "metadata": {
        "id": "qDzin9n7_KgD",
        "colab_type": "text"
      },
      "source": [
        "Total flux linkage is\n",
        "\\begin{align*}\n",
        "\\lambda_{\\Phi1} + \\lambda_{\\Phi2} &= 0.&\n",
        "\\end{align*}\n",
        "\n",
        "If $L_1$ is far away from $L2$, we neglect the mutual inductance between $L1$ and $L2$, then the flux linkage on the left:\n",
        "\\begin{align*}\n",
        "\\lambda_{\\Phi1} &= \\lambda_{\\Phi0} + L_1 i&,\n",
        "\\end{align*}\n",
        "where $\\lambda_{\\Phi0}$ is created by $B_{\\rm app}$.\n",
        "\n",
        "On the other side,\n",
        "\\begin{align*}\n",
        "\\lambda_{\\Phi2} &= L_2 i.&\n",
        "\\end{align*}\n",
        "\n",
        "By subsitution to the total flux linkage,\n",
        "\\begin{align*}\n",
        "\\lambda_{\\Phi1} + \\lambda_{\\Phi2} &= 0.&\\\\\n",
        "\\lambda_{\\Phi0} + L_1i +  L_2 i&=0&\\\\\n",
        "i & = - \\dfrac{\\lambda_{\\Phi0}}{L_1 +L_2}.&\n",
        "\\end{align*}\n",
        "\n",
        "Then $\\lambda_{\\Phi2}$ can be written\n",
        "On the other side,\n",
        "\\begin{align*}\n",
        "\\lambda_{\\Phi2} &= - \\lambda_{\\Phi0}\\dfrac{L_2}{L_1 +L_2}.&\n",
        "\\end{align*}"
      ]
    },
    {
      "cell_type": "markdown",
      "metadata": {
        "id": "UAtonzcKEKv4",
        "colab_type": "text"
      },
      "source": [
        "$\\require{cancel}$\n",
        "The gain of the network, $\\beta$ is defined as,\n",
        "\\begin{align*}\n",
        "\\beta \\equiv \\dfrac{|B_2|}{|B_{\\rm app}|}.\n",
        "\\end{align*}\n",
        "\n",
        "For a [solenoid](https://en.wikipedia.org/wiki/Solenoid), the magnitude of the flux linkage is gvien by\n",
        "\\begin{align*}\n",
        "| B |  = | \\lambda_{\\Phi} | N \\cdot A,\n",
        "\\end{align*}\n",
        "where N is the number of loops in the coil and $A$ is the area encolosed by a single loop.\n",
        "\n",
        "From this dc flux transformer, the gain is\n",
        "\\begin{align*}\n",
        "\\beta \n",
        "&= \\dfrac{\\left| - N_2 A_2 \\dfrac{L_2}{L_1 +L_2} \\right| \\bcancel{| \\lambda_{\\Phi 0} |}}\n",
        " {|N_1 A_1| \\bcancel{| \\lambda_{\\Phi 0} |}}&\\\\\n",
        "&= \\dfrac{N_2 A_2}{N_1 A_1} \\dfrac{L_2}{L_1 +L_2}\n",
        "\\end{align*}"
      ]
    },
    {
      "cell_type": "markdown",
      "metadata": {
        "colab_type": "text",
        "id": "KAFQ4NfYxrX-"
      },
      "source": [
        "## a memory element"
      ]
    },
    {
      "cell_type": "markdown",
      "metadata": {
        "id": "54c0z-CXHfnY",
        "colab_type": "text"
      },
      "source": [
        "# Persistent Current\n",
        "![https://en.wikipedia.org/wiki/Persistent_current](https://upload.wikimedia.org/wikipedia/commons/c/c3/Persistent_Current_Ring.png)"
      ]
    },
    {
      "cell_type": "markdown",
      "metadata": {
        "id": "N7Rqs5tQMd1U",
        "colab_type": "text"
      },
      "source": [
        "### 0 and 1, off and on\n",
        "![Figure 3.12](http://drive.google.com/uc?export=view&id=1_z5B2RNcnYmnMZOB3YnRdOqpSSrNqTxD)"
      ]
    },
    {
      "cell_type": "markdown",
      "metadata": {
        "id": "ZH9hBycBVyd7",
        "colab_type": "text"
      },
      "source": [
        "### Storing informatin ($0\\to 1$)\n",
        "\n",
        "![Figure 3.13](http://drive.google.com/uc?export=view&id=1zKTxcUrSnE4YBIiaLPqz-VbCVTzcNtYs)\n"
      ]
    },
    {
      "cell_type": "markdown",
      "metadata": {
        "id": "x0slokK5WbE8",
        "colab_type": "text"
      },
      "source": [
        "for producing the current $I_c$, we can user [cryotron](https://en.wikipedia.org/wiki/Cryotron)."
      ]
    }
  ]
}