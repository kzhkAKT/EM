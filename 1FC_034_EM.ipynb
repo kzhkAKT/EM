{
  "nbformat": 4,
  "nbformat_minor": 0,
  "metadata": {
    "colab": {
      "name": "1FC_034_EM",
      "provenance": [],
      "authorship_tag": "ABX9TyNY2GXTM184D0iRUNrws068",
      "include_colab_link": true
    },
    "kernelspec": {
      "name": "python3",
      "display_name": "Python 3"
    }
  },
  "cells": [
    {
      "cell_type": "markdown",
      "metadata": {
        "id": "view-in-github",
        "colab_type": "text"
      },
      "source": [
        "<a href=\"https://colab.research.google.com/github/kzhkAKT/ErgyMtrlScience/blob/draft/1FC_034_EM.ipynb\" target=\"_parent\"><img src=\"https://colab.research.google.com/assets/colab-badge.svg\" alt=\"Open In Colab\"/></a>"
      ]
    },
    {
      "cell_type": "markdown",
      "metadata": {
        "id": "a39FgKZN7LS-",
        "colab_type": "text"
      },
      "source": [
        "# 電極電位"
      ]
    },
    {
      "cell_type": "markdown",
      "metadata": {
        "id": "Zdk0GC9f7Prn",
        "colab_type": "text"
      },
      "source": [
        "## $E^\\circ$ データが語ること\n",
        "\n",
        "### 電子授受能のスパン"
      ]
    },
    {
      "cell_type": "code",
      "metadata": {
        "id": "XK4NDFR9895j",
        "colab_type": "code",
        "colab": {
          "base_uri": "https://localhost:8080/",
          "height": 1000
        },
        "cellView": "form",
        "outputId": "0f50fbbf-5f31-46b7-ce3d-79a4dcd8e306"
      },
      "source": [
        "#@title Standard Electrode Potentials in Aqueous Solution at 25°C (http://hyperphysics.phy-astr.gsu.edu/)\n",
        "%%html\n",
        "http://hyperphysics.phy-astr.gsu.edu/hbase/Tables/electpot.html"
      ],
      "execution_count": 2,
      "outputs": [
        {
          "output_type": "display_data",
          "data": {
            "text/html": [
              "<HTML>\r<HEAD>\r   <TITLE>Table of Standard Electrode Potentials</TITLE>\r</HEAD>\r<body bgcolor=\"#FFE4C8\">\r<!-- Copyright 2001 by Carl Rod Nave, RodNave@gsu.edu-->\r\r\r<A Name=\"c1\"></A>\r<TABLE WIDTH=\"580\" HEIGHT=\"370\" BORDER=\"1\" CELLSPACING=\"2\" CELLPADDING=\r\"2\">\r<TR>\r<TD WIDTH=\"514\" HEIGHT=\"309\">\r<H1 align=center>Standard Electrode Potentials in Aqueous Solution at 25&#176;C\r</H1>\r <center><table BORDER=\"1\" CELLSPACING=\"2\" CELLPADDING=\r\"2\">\r<tr><td>Cathode (Reduction)<br>Half-Reaction</td><td> Standard Potential<br>E<sup>&#176;</sup> (volts)</td></tr>\r<tr><td>Li<sup>+</sup>(aq) + e<sup>-</sup> -> Li(s)</td><td><center> -3.04</center></td></tr>\r\r<tr><td>K<sup>+</sup>(aq) + e<sup>-</sup> -> K(s)</td><td><center> -2.92</center></td></tr>\r\r<tr><td>Ca<sup>2+</sup>(aq) + 2e<sup>-</sup> -> Ca(s)</td><td><center> -2.76</center></td></tr>\r\r<tr><td>Na<sup>+</sup>(aq) + e<sup>-</sup> -> Na(s)</td><td><center> -2.71</center></td></tr>\r\r<tr><td>Mg<sup>2+</sup>(aq) + 2e<sup>-</sup> -> Mg(s)</td><td><center> -2.38</center></td></tr>\r\r<tr><td>Al<sup>3+</sup>(aq) + 3e<sup>-</sup> -> Al(s)</td><td><center> -1.66</center></td></tr>\r\r<tr><td>2H<sub>2</sub>O(l) + 2e<sup>-</sup> -> H<sub>2</sub>(g) + 2OH<sup>-</sup>(aq)</td><td><center> -0.83</center></td></tr>\r\r<tr><td>Zn<sup>2+</sup>(aq) + 2e<sup>-</sup> -> Zn(s)</td><td><center> -0.76</center></td></tr>\r\r<tr><td>Cr<sup>3+</sup>(aq) + 3e<sup>-</sup> -> Cr(s)</td><td><center> -0.74</center></td></tr>\r\r<tr><td>Fe<sup>2+</sup>(aq) + 2e<sup>-</sup> -> Fe(s)</td><td><center> -0.41</center></td></tr>\r\r<tr><td>Cd<sup>2+</sup>(aq) + 2e<sup>-</sup> -> Cd(s)</td><td><center> -0.40</center></td></tr>\r\r<tr><td>Ni<sup>2+</sup>(aq) + 2e<sup>-</sup> -> Ni(s)</td><td><center> -0.23</center></td></tr>\r\r<tr><td>Sn<sup>2+</sup>(aq) + 2e<sup>-</sup> -> Sn(s)</td><td><center> -0.14</center></td></tr>\r\r<tr><td>Pb<sup>2+</sup>(aq) + 2e<sup>-</sup> -> Pb(s)</td><td><center> -0.13</center></td></tr>\r\r\r<tr><td>Fe<sup>3+</sup>(aq) + 3e<sup>-</sup> -> Fe(s)</td><td><center> -0.04</center></td></tr>\r\r\r<tr><td>2H<sup>+</sup>(aq) + 2e<sup>-</sup> -> H<sub>2</sub>(g)</td><td><center> 0.00</center></td></tr>\r\r\r<tr><td>Sn<sup>4+</sup>(aq) + 2e<sup>-</sup> -> Sn<sup>2+</sup>(aq)</td><td><center> 0.15</center></td></tr>\r\r<tr><td>Cu<sup>2+</sup>(aq) + e<sup>-</sup> -> Cu<sup>+</sup>(aq)</td><td><center> 0.16</center></td></tr>\r\r<tr><td>ClO<sub>4</sub><sup>-</sup>(aq) + H<sub>2</sub>O(l) + 2e<sup>-</sup> -> ClO<sub>3</sub><sup>-</sup>(aq) + 2OH<sup>-</sup>(aq)</td><td><center> 0.17</center></td></tr>\r\r<tr><td>AgCl(s) + e<sup>-</sup> -> Ag(s) + Cl<sup>-</sup>(aq)</td><td><center> 0.22</center></td></tr>\r\r<tr><td>Cu<sup>2+</sup>(aq) + 2e<sup>-</sup> -> Cu(s)</td><td><center> 0.34</center></td></tr>\r\r<tr><td>ClO<sub>3</sub><sup>-</sup>(aq) + H<sub>2</sub>O(l) + 2e<sup>-</sup> -> ClO<sub>2</sub><sup>-</sup>(aq) + 2OH<sup>-</sup>(aq)</td><td><center> 0.35</center></td></tr>\r\r<tr><td>IO<sup>-</sup>(aq) + H<sub>2</sub>O(l) + 2e<sup>-</sup> -> I<sup>-</sup>(aq) + 2OH<sup>-</sup>(aq)</td><td><center> 0.49</center></td></tr>\r\r<tr><td>Cu<sup>+</sup>(aq) + e<sup>-</sup> -> Cu(s)</td><td><center> 0.52</center></td></tr>\r\r<tr><td>I<sub>2</sub>(s) + 2e<sup>-</sup> -> 2I<sup>-</sup>(aq)</td><td><center> 0.54</center></td></tr>\r\r<tr><td>ClO<sub>2</sub><sup>-</sup>(aq) + H<sub>2</sub>O(l) + 2e<sup>-</sup> -> ClO<sup>-</sup>(aq) + 2OH<sup>-</sup>(aq)</td><td><center> 0.59</center></td></tr>\r\r<tr><td>Fe<sup>3+</sup>(aq) + e<sup>-</sup> -> Fe<sup>2+</sup>(aq)</td><td><center> 0.77</center></td></tr>\r\r<tr><td>Hg<sub>2</sub><sup>2+</sup>(aq) + 2e<sup>-</sup> -> 2Hg(l)</td><td><center> 0.80</center></td></tr>\r\r<tr><td>Ag<sup>+</sup>(aq) + e<sup>-</sup> -> Ag(s)</td><td><center> 0.80</center></td></tr>\r\r<tr><td>Hg<sup>2+</sup>(aq) + 2e<sup>-</sup> -> Hg(l)</td><td><center> 0.85</center></td></tr>\r\r<tr><td>ClO<sup>-</sup>(aq) + H<sub>2</sub>O(l) + 2e<sup>-</sup> -> Cl<sup>-</sup>(aq) + 2OH<sup>-</sup>(aq)</td><td><center> 0.90</center></td></tr>\r\r<tr><td>2Hg<sup>2+</sup>(aq) + 2e<sup>-</sup> -> Hg<sub>2</sub><sup>2+</sup>(aq)</td><td><center> 0.90</center></td></tr>\r\r<tr><td>NO<sub>3</sub><sup>-</sup>(aq) + 4H<sup>+</sup>(aq) + 3e<sup>-</sup> -> NO(g) + 2H<sub>2</sub>O(l)</td><td><center> 0.96</center></td></tr>\r\r<tr><td>Br<sub>2</sub>(l) + 2e<sup>-</sup> -> 2Br<sup>-</sup>(aq)</td><td><center> 1.07</center></td></tr>\r\r<tr><td>O<sub>2</sub>(g) +  4H<sup>+</sup>(aq) + 4e<sup>-</sup> -> 2H<sub>2</sub>O(l)</td><td><center> 1.23</center></td></tr>\r\r<tr><td>Cr<sub>2</sub>O<sub>7</sub><sup>2-</sup>(aq) + 14H<sup>+</sup>(aq) + 6e<sup>-</sup> -> 2Cr<sup>3+</sup>(aq) + 7H<sub>2</sub>O(l)</td><td><center> 1.33</center></td></tr>\r\r<tr><td>Cl<sub>2</sub>(g) + 2e<sup>-</sup> -> 2Cl<sup>-</sup>(aq)</td><td><center> 1.36</center></td></tr>\r\r<tr><td>Ce<sup>4+</sup>(aq) + e<sup>-</sup> -> Ce<sup>3+</sup>(aq)</td><td><center> 1.44</center></td></tr>\r\r<tr><td>MnO<sub>4</sub><sup>-</sup>(aq) + 8H<sup>+</sup>(aq) + 5e<sup>-</sup> -> Mn<sup>2+</sup>(aq) + 4H<sub>2</sub>O(l)</td><td><center> 1.49</center></td></tr>\r\r<tr><td>H<sub>2</sub>O<sub>2</sub>(aq) + 2H<sup>+</sup>(aq) + 2e<sup>-</sup> -> 2H<sub>2</sub>O(l)</td><td><center> 1.78</center></td></tr>\r\r<tr><td>Co<sup>3+</sup>(aq) + e<sup>-</sup> -> Co<sup>2+</sup>(aq)</td><td><center> 1.82</center></td></tr>\r\r<tr><td>S<sub>2</sub>O<sub>8</sub><sup>2-</sup>(aq)  + 2e<sup>-</sup> -> 2SO<sub>4</sub><sup>2-</sup>(aq)</td><td><center> 2.01</center></td></tr>\r\r<tr><td>O<sub>3</sub>(g) +  2H<sup>+</sup>(aq) + 2e<sup>-</sup> -> O<sub>2</sub>(g) + H<sub>2</sub>O(l)</td><td><center> 2.07</center></td></tr>\r\r<tr><td>F<sub>2</sub>(g) + 2e<sup>-</sup> -> 2F<sup>-</sup>(aq)</td><td><center> 2.87</center></td></tr>\r\r</table></center>\r<center><table BORDER=\"1\" CELLSPACING=\"2\" CELLPADDING=\r\"2\"><tr><td><a href=\"../chemical/electrode.html#c1\">Discussion of Standard Electrode Potentials</a></td></tr></table>\r</TD>\r<TD WIDTH=\"66\" align=center><a href=\"../hframe.html\">Index</a><br><br><a href=\"ttab.html#c1\">Tables</a><br><br>Reference<br><a href=\"../chemical/cheref.html\">Ebbing</a><br>Appendix I</TD></TR>\r<TR>\r<TD HEIGHT=\"17\">&nbsp;<A HREF=\"../hph.html\"> HyperPhysics</A>*****<A HREF=\"../chemical/chemcon.html#c1\">  Chemistry </A></TD>\r<TD><a href=\"Javascript:history.go(-1)\">Go Back</a></TD></TR>\r</TABLE>\r<BR>\r<BR>\r<BR>\r<BR>\r<BR>\r\r\r<BR>\r<BR>\r<BR>\r<BR>\r<BR>\r<BR>\r<BR>\r<BR>\r<BR>\r</BODY>\r</HTML>"
            ],
            "text/plain": [
              "<IPython.core.display.HTML object>"
            ]
          },
          "metadata": {
            "tags": []
          }
        }
      ]
    },
    {
      "cell_type": "markdown",
      "metadata": {
        "id": "Za1BLGiO-oHn",
        "colab_type": "text"
      },
      "source": [
        "https://en.wikipedia.org/wiki/Standard_electrode_potential_(data_page)"
      ]
    },
    {
      "cell_type": "markdown",
      "metadata": {
        "id": "d7Ryrix69V3a",
        "colab_type": "text"
      },
      "source": [
        "\n",
        "\n",
        "+ Li: 電子を放出した方が安定 ~ 還元体  \n",
        "  +  Li+: 電子を受け取りにくい ~ 酸化体\n",
        "\n",
        "> Q.  Au は電子を失いやすいかどうかを調べてください.\n",
        "\n"
      ]
    },
    {
      "cell_type": "markdown",
      "metadata": {
        "id": "NedHgoNR_o_p",
        "colab_type": "text"
      },
      "source": [
        "### 自発変化の向きと勢い\n",
        "\n",
        "$\\require{mhchem}$\n",
        "\\begin{align*}\n",
        "\\ce{Li+ + e- &<=> Li} &E^\\circ={\\rm -3.04\\ V}&\\\\\n",
        "\\ce{2SOCl2 + 4e- &<=> S + SO2 + 4Cl-} &E^\\circ={\\rm +1.11\\ V}&\n",
        "\\end{align*}\n",
        "\n",
        "$E^\\circ$ の正負によって平衡反応式を並び替え, 電子の物質量を合わせると\n",
        "\n",
        "\\begin{align*}\n",
        "\\ce{4Li &-> 4Li+ + 4e-} &\\\\\n",
        "\\ce{2SOCl2 + 4e- &-> S + SO2 + 4Cl-} &\n",
        "\\end{align*}\n",
        "これを足し合わせると, 自発できな酸化還元反応\n",
        "\\begin{align*}\n",
        "\\ce{4Li + 2SOCl2 &-> 4Li+ + S + SO2 + 4Cl-} &\n",
        "\\end{align*}\n",
        "$\\ce{4e-}$は両辺から取り払っています. 電位は一電子あがりの相対的なポテンシャルなので, この二つの電位差は 4.2 V となります.\n"
      ]
    },
    {
      "cell_type": "markdown",
      "metadata": {
        "id": "VmQjrX1uC9ri",
        "colab_type": "text"
      },
      "source": [
        ">> Q. この反応を教科書 p47 図3.9 で確認してください."
      ]
    },
    {
      "cell_type": "markdown",
      "metadata": {
        "id": "95SGelyUDQ3v",
        "colab_type": "text"
      },
      "source": [
        "### 電解の所要電圧\n",
        "\n",
        "\\begin{align*}\n",
        "\\ce{PbSO4 + 2e- &\\to Pb + SO4^{2-}} & E^\\circ ={\\rm -0.35\\ V}&\\\\\n",
        "\\ce{PbSO4 + 2H2O &\\to PbSO2 + 4H+ +SO4^{2-} + 2e-} & E^\\circ ={\\rm +1.68\\ V}&\n",
        "\\end{align*}"
      ]
    },
    {
      "cell_type": "markdown",
      "metadata": {
        "id": "Hn_4H1U4Eb05",
        "colab_type": "text"
      },
      "source": [
        "> Q.  $\\Delta_{\\rm f} G^\\circ$ から $E^\\circ$ を求めてください.\n",
        "\n",
        "> Q. この反応を教科書 p47 図 3.10 で確認してください."
      ]
    },
    {
      "cell_type": "markdown",
      "metadata": {
        "id": "1QlK9V7dFI9D",
        "colab_type": "text"
      },
      "source": [
        "### 固体の溶解度積 $K_{\\rm sp}$\n",
        "\n",
        "\\begin{align*}\n",
        "\\ce{PbSO4 &\\to Pb^{2+} + SO4^{2-}}&\\\\\n",
        "\\ce{PbSO4 + 2e- &\\to Pb + SO4^{2-}}& E^\\circ = {\\rm - 0.35\\ V}&\\\\\n",
        "\\ce{Pb &\\to Pb2+ + 2e-}& E^\\circ = {\\rm - 0.13\\ V}&\n",
        "\\end{align*}\n",
        "\n",
        "> Q 上式の電位差から $\\Delta G^\\circ$ を求めた上で, $K_{\\rm sp}$ を求めてください."
      ]
    },
    {
      "cell_type": "markdown",
      "metadata": {
        "id": "syLMk26PIycQ",
        "colab_type": "text"
      },
      "source": [
        "### 式量電位, formal potential\n",
        "\n",
        "- $E^\\circ$: 反応種の $\\Delta_{\\rm f}G^\\circ$ から求めた半経験的な電位\n",
        "- $E^{\\circ}$': 具体的な溶液における電位\n",
        "\n",
        "> Q. 教科書 p49 表3.1 で $E^\\circ$ と $E^{\\circ}$' の違いを確認してください."
      ]
    }
  ]
}