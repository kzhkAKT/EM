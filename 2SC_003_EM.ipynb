{
  "nbformat": 4,
  "nbformat_minor": 0,
  "metadata": {
    "colab": {
      "name": "2SC_003_EM",
      "provenance": [],
      "collapsed_sections": [],
      "authorship_tag": "ABX9TyOE88lu7o3rFmb7WdE/+IrN",
      "include_colab_link": true
    },
    "kernelspec": {
      "name": "python3",
      "display_name": "Python 3"
    }
  },
  "cells": [
    {
      "cell_type": "markdown",
      "metadata": {
        "id": "view-in-github",
        "colab_type": "text"
      },
      "source": [
        "<a href=\"https://colab.research.google.com/github/kzhkAKT/ErgyMtrlScience/blob/master/2SC_003_EM.ipynb\" target=\"_parent\"><img src=\"https://colab.research.google.com/assets/colab-badge.svg\" alt=\"Open In Colab\"/></a>"
      ]
    },
    {
      "cell_type": "markdown",
      "metadata": {
        "id": "rN1LVyGih2Mk",
        "colab_type": "text"
      },
      "source": [
        "# $\\vec{E}-\\vec{H}$ and $\\vec{D}-\\vec{B}$\n",
        "\n",
        "- $\\vec{E}$: electric field (strength)\n",
        "  - $\\vec{D}$: electric flux density / electric displacement field\n",
        "- $\\vec{H}$: magnetic field (strength)\n",
        "  - $\\vec{B}$: magnetic flux density\n",
        "\n",
        "> $\\qquad c = \\dfrac{1}{\\sqrt{\\epsilon_0 \\mu_0}}$\n",
        "\n",
        "Genenarl relation:\n",
        "\\begin{align*}\n",
        "\\vec{D} &= \\epsilon_0 \\vec{E} + \\vec{P}&\\\\\n",
        "\\vec{B} &= \\mu_0 \\vec{H} + \\vec{P}_{m},\n",
        "\\end{align*}\n",
        "\n",
        "- $\\epsilon$: (vacuum) permittivitythe\n",
        "- $\\mu$: (vacuum) permeability\n",
        "- $\\vec{P}$: dielectric polarization density\n",
        "- $\\vec{P}_{m}=\\mu_0 \\vec{M}$: magnetic polarization density\n",
        "  - $\\vec{M}$: magnetization\n",
        "\n",
        "Assuming an isotropic material,\n",
        "\\begin{align*}\n",
        "\\vec{D} &= \\epsilon \\vec{E} &\\\\\n",
        "\\vec{B} &= \\mu \\vec{H}.&\n",
        "\\end{align*}\n",
        "\n",
        "For simplicity, we assume\n",
        "\\begin{align*}\n",
        "\\vec{D} &= \\epsilon_0 \\vec{E} &\\\\\n",
        "\\vec{B} &= \\mu_0 \\vec{H}.&\n",
        "\\end{align*}"
      ]
    },
    {
      "cell_type": "markdown",
      "metadata": {
        "id": "m--AWfFY_jNa",
        "colab_type": "text"
      },
      "source": [
        "$\\require{cancel}$\n",
        "## Penenetraton depth\n",
        "\n",
        "Maxwell's equations for Faraday's law of induction:\n",
        "\\begin{align*}\n",
        "\\nabla \\times \\vec{E} &= - \\dfrac{\\partial \\vec{B}}{\\partial t}.&\\\\\n",
        "\\end{align*}\n",
        "\n",
        "The equation for Ampère's circuital law:\n",
        "\\begin{align*}\n",
        "\\nabla \\times \\vec{H} \n",
        "= \\dfrac{\\partial \\vec{D}}{\\partial t} + \\vec{J}.\n",
        "\\end{align*}\n",
        "\n",
        "The equation for Gauss's law for magnetism:\n",
        "\\begin{align*}\n",
        "\\nabla \\cdot \\vec{B} = 0.\n",
        "\\end{align*}\n",
        "\n",
        "$\\vec{D}$ is constant with the *superelectron* of superconductivity\n",
        "\\begin{align*}\n",
        "\\nabla \\times \\vec{H} \n",
        "&= \\cancelto{0}{\\dfrac{\\partial \\vec{D}}{\\partial t}} + \\vec{J},&\\\\\n",
        "\\nabla \\times \\nabla \\times \\vec{H} \n",
        "&= \\nabla \\times \\vec{J},&\\\\\n",
        "-\\nabla^2 \\vec{H} &= \\nabla \\times \\vec{J}&\\\\\n",
        "-\\nabla^2  \\Lambda \\vec{H} &= \\nabla \\times \\Lambda \\vec{J}&\\\\\n",
        "-\\nabla^2 \\dfrac{\\partial }{\\partial t}(\\Lambda \\vec{H})\n",
        "&= \\nabla \\times \\dfrac{\\partial }{\\partial t} (\\Lambda \\vec{J}) &\\\\\n",
        "&= \\nabla \\times \\vec{E}\n",
        "= - \\dfrac{\\partial \\vec{B}}{\\partial t} \n",
        "= \\dfrac{1}{\\mu_0} \\dfrac{\\partial \\vec{H}}{\\partial t}.\n",
        "\\end{align*}\n",
        "We obtain a vector differential equation\n",
        "\\begin{align*}\n",
        "&\\left( \\dfrac{\\mu_0}{\\Lambda} - \\nabla^2\\right)\n",
        "\\dfrac{\\partial }{\\partial t}\\vec{H}=0,&\n",
        "\\end{align*}\n",
        "and here we define the *penetration depth* as:\n",
        "\\begin{align*}\n",
        "&\\lambda = \\sqrt{\\dfrac{\\Lambda}{\\mu_0}},&\n",
        "\\end{align*}\n",
        "then \n",
        "\\begin{align*}\n",
        "&\\left( \\dfrac{1}{\\lambda^2} - \\nabla^2\\right)\n",
        "\\dfrac{\\partial }{\\partial t}\\vec{H}=0.&\n",
        "\\end{align*}\n",
        "\n"
      ]
    },
    {
      "cell_type": "markdown",
      "metadata": {
        "id": "4Sy6CZwkfdcE",
        "colab_type": "text"
      },
      "source": [
        "# Simple drivation of the second London Equation\n",
        "\n"
      ]
    },
    {
      "cell_type": "markdown",
      "metadata": {
        "id": "9uUWNcaTfqvp",
        "colab_type": "text"
      },
      "source": [
        "The first london equation:\n",
        "\\begin{align*}\n",
        "\\vec{E} &= \\dfrac{\\partial }{\\partial t} \n",
        "\\left( \\Lambda\\vec{J}\n",
        "  \\right),\n",
        "  \\qquad\n",
        "\\Lambda = {\\dfrac{m^*}{n^*(q^*)^2}}& \n",
        "\\end{align*}\n",
        "\n",
        "Maxwell's equations for Faraday's law of induction:\n",
        "\\begin{align*}\n",
        "\\nabla \\times \\vec{E} &= - \\dfrac{\\partial \\vec{B}}{\\partial t}&\\\\\n",
        "\\end{align*}\n",
        "\n",
        "We can find:\n",
        "\\begin{align*}\n",
        "\\nabla \\times \\left[ \\dfrac{\\partial }{\\partial t} \n",
        "\\left( \\Lambda\\vec{J}\n",
        "  \\right)\\right] &= - \\dfrac{\\partial \\vec{B}}{\\partial t}&\\\\\n",
        "\\dfrac{\\partial }{\\partial t} \n",
        "\\left( \\nabla \\times \\Lambda\\vec{J}\n",
        "  \\right) &= - \\dfrac{\\partial \\vec{B}}{\\partial t}&\\\\\n",
        "\\dfrac{\\partial }{\\partial t} \n",
        "\\left( \\nabla \\times \\Lambda\\vec{J} + \\vec{B}\n",
        "  \\right) &= 0.&\n",
        "\\end{align*}\n",
        "Since this delivative is hold $t:0 \\to \\infty$,\n",
        "\\begin{align*}\n",
        "\\nabla \\times \\Lambda\\vec{J} + \\vec{B} &= 0,&\n",
        "\\end{align*}\n",
        "which is called *the second London equation.*\n"
      ]
    },
    {
      "cell_type": "markdown",
      "metadata": {
        "id": "TsQWc1-NUfcJ",
        "colab_type": "text"
      },
      "source": [
        "# the two-fluid model"
      ]
    },
    {
      "cell_type": "markdown",
      "metadata": {
        "id": "pct74US7LIXa",
        "colab_type": "text"
      },
      "source": [
        "![Figure 3.15](http://drive.google.com/uc?export=view&id=1M4SaqEHw6N2lipcBzI0Rd5WnKNe8H_T-)\n",
        "Superconductivity is a *thermodynamics* phenomenon:\n",
        "\\begin{align*}\n",
        "\\lambda(T) &=  \\dfrac{\\lambda_0}{\\sqrt{1 - \\left( \\dfrac{T}{T_{\\rm C}}\\right)^4}}& {\\rm for \\quad } T \\leqq T_{\\rm C}\n",
        "\\end{align*}\n",
        "\n",
        "With the help of the first London equation: \n",
        "\\begin{align*}\n",
        "\\lambda \n",
        "= \\sqrt{\\dfrac{\\Lambda}{\\mu_0}}\n",
        "= \\sqrt{\\dfrac{m^*}{n^*(q^*)^2\\mu_0}},\n",
        "\\end{align*}\n",
        "we obtain the number of temperature-dependent superelectrons \n",
        "\\begin{align*}\n",
        "n^* (T) &= n_0^* \\left( 1 -\\left( \\dfrac{T}{T_{\\rm C}} \\right)^4\\right) & {\\rm for \\quad} T \\leqq T_{\\rm C},\n",
        "\\end{align*}\n",
        "where $n_0^* \\equiv \\dfrac{m^*}{\\lambda_0^2 (q^*)^2 \\mu_0}$."
      ]
    },
    {
      "cell_type": "markdown",
      "metadata": {
        "id": "-4jtKfaaPBob",
        "colab_type": "text"
      },
      "source": [
        "Recall superelectrons consist of sets of a Cooper pair and there are no unpaird electrons left in the material at $T=0 {\\rm K}$:\n",
        "\\begin{align*}\n",
        "n_0^* = \\dfrac{1}{2} n_{\\rm tot}.\n",
        "\\end{align*}\n",
        "\n",
        "Then we can rewritten\n",
        "\\begin{align*}\n",
        "n^* (T) &= \\dfrac{1}{2} n_{\\rm tot} \\left( 1 -\\left( \\dfrac{T}{T_{\\rm C}} \\right)^4\\right) & {\\rm for \\quad} T \\leqq T_{\\rm C}.\n",
        "\\end{align*}\n",
        "\n",
        "Taking into account of the total number of electrons in the material, we know\n",
        "\\begin{align*}\n",
        "n_{\\rm tot} &= n(T) + 2n^*(T) & {\\rm for\\ all\\ } T,\n",
        "\\end{align*}\n",
        "so we can deduce the unpaired electron density as\n",
        "\\begin{align*}\n",
        "n(T) &= n_{\\rm tot} \\left( \\dfrac{T}{T_{\\rm C}} \\right)^4 & {\\rm for\\ all\\ } T,\n",
        "\\end{align*}\n"
      ]
    },
    {
      "cell_type": "markdown",
      "metadata": {
        "id": "v8CEVm1hQHaA",
        "colab_type": "text"
      },
      "source": [
        "> The total current density flowing within a material in the superconducting state $\\vec{J}$ is the sum of the normal (ohmic) current density $\\vec{J}_n$ maintained by unpaired electrons, and the suppercurrent density $\\vec{J}_s$ maintained by the superelectrons."
      ]
    },
    {
      "cell_type": "markdown",
      "metadata": {
        "id": "v3GCZl9yTjIr",
        "colab_type": "text"
      },
      "source": [
        "\n",
        "\n",
        "Adopting *kinetic theory of gas* in the lumped element model\n",
        "\\begin{align*}\n",
        "\\varepsilon_{\\rm pair} \\approx k_{\\rm B} T_{\\rm C}.\n",
        "\\end{align*}\n",
        "\n",
        "In quantum mechanics\n",
        "\\begin{align*}\n",
        "\\varepsilon &= \\hbar \\nu = \\dfrac{h}{2\\pi} \\omega.&\n",
        "\\end{align*}\n",
        "\n",
        "The critical frequency can be estimated as\n",
        "\\begin{align*}\n",
        "\\omega_{\\rm pair}\n",
        "&\\approx \\dfrac{k_{\\rm B}}{\\hbar} T_{\\rm C}\n",
        "\\approx 1.309 \\times 10^{11} T_{\\rm C}\n",
        "\\end{align*}\n",
        "\n",
        "> For temperatures  above absolute zero, a superconductor will appear truly lossless under static conditons only.\n",
        "\n",
        "![Figure 3.16](http://drive.google.com/uc?export=view&id=1R9AcwzuPtVsR-pcjQZklWQPxDeaRN71U)"
      ]
    },
    {
      "cell_type": "markdown",
      "metadata": {
        "id": "d3KZ4CorVgw0",
        "colab_type": "text"
      },
      "source": [
        "## suppercurrent and normal current\n",
        "\n",
        "\\begin{align*}\n",
        "\\vec{J} &= \\vec{J}_{\\rm n} +  \\vec{J}_{\\rm s}&\n",
        "\\end{align*}\n",
        "\n",
        "By using Drude model\n",
        "\\begin{align*}\n",
        "m \\dfrac{{\\rm d} \\vec{v}}{{\\rm d} t} + \\dfrac{m}{\\tau_{\\rm tr}} \\vec{v}= q \\vec{E},\n",
        "\\end{align*}\n",
        "for $\\vec{J}$ we can obtain\n",
        "\\begin{align*}\n",
        "\\vec{E} &= \\dfrac{1}{\\tilde{\\sigma}_0(T)}\n",
        "\\left( 1 + \\tau_{\\rm tr} \\dfrac{\\partial }{\\partial t}\\right) \\vec{J}_{\\rm n}.\n",
        "\\end{align*}\n",
        "\n",
        "By the first London equation:\n",
        "\\begin{align*}\n",
        "\\vec{E} &= \\dfrac{\\partial }{\\partial t} \n",
        "\\left( \\Lambda(T)\\vec{J}_{\\rm s}\n",
        "  \\right) = \\mu_0 (\\lambda(T))^2\n",
        "  \\dfrac{\\partial }{\\partial t}\\vec{J}_{\\rm s} &\n",
        "\\end{align*}\n",
        "\n",
        "The sinusoidal steady state yelids\n",
        "\\begin{align*}\n",
        "\\vec{J} \n",
        "&= \\vec{J}_{\\rm n} +  \\vec{J}_{\\rm s}\n",
        "= \\left(\n",
        "  \\dfrac{\\tilde{\\sigma}_0(T)}{1+j\\omega \\tau_{\\rm tr}}\n",
        "  +\n",
        "  \\dfrac{1}{j\\omega \\mu_0 (\\lambda(T))^2}\n",
        "  \\right) \\vec{E}.\n",
        "\\end{align*}\n",
        "\n",
        "Similary, we rewrite the second London equation,\n",
        "\\begin{align*}\n",
        "\\nabla \\times \\left( \\Lambda(T)\\vec{J}_{\\rm s}\\right) =- \\vec{B}&\n",
        "\\end{align*}\n"
      ]
    },
    {
      "cell_type": "markdown",
      "metadata": {
        "id": "KSE0K7iIh6JF",
        "colab_type": "text"
      },
      "source": [
        "\\begin{align*}\n",
        "\\tilde{\\sigma}_0 (T) &= \\dfrac{n(T)\\ q^2 \\tau_{\\rm tr}}{m}\n",
        "= \\dfrac{n_{\\rm tot}q^2\\tau_{\\rm tr}}{m}\n",
        "\\left(\n",
        "  \\dfrac{T}{T_{\\rm C}}\n",
        "\\right)^4&\\\\\n",
        "&= \\dfrac{n_{\\rm tot} e^2\\tau_{\\rm tr}}{m}\n",
        "\\left(\n",
        "  \\dfrac{T}{T_{\\rm C}}\n",
        "\\right)^4 \n",
        " \\quad {\\rm for \\quad} T \\leqq T_{\\rm C}.&\\\\\n",
        "%\n",
        "\\Lambda(T) &= \\dfrac{m^*}{n^*(T)\\  (q^*)^2}&\\\\\n",
        "&= \\dfrac{m^*}{\\dfrac{1}{2} n_{\\rm tot} \\left( 1 - \\left(\\dfrac{T}{T_{\\rm C}}\\right)^4\\right) (q^*)^2}\n",
        "= \\dfrac{2 m^*}{n_{\\rm tot} \\left( 1 - \\left(\\dfrac{T}{T_{\\rm C}}\\right)^4\\right) (q^*)^2}&\\\\\n",
        "&= \\dfrac{2 m^*}{n_{\\rm tot} \\left( 1 - \\left(\\dfrac{T}{T_{\\rm C}}\\right)^4\\right) (q^*)^2}\n",
        "= \\dfrac{2(2m)}{n_{\\rm tot} \\left( 1 - \\left(\\dfrac{T}{T_{\\rm C}}\\right)^4\\right) (-2e)^2}&\\\\\n",
        "&= \\dfrac{m}{n_{\\rm tot} e^2} \\left( \\dfrac{1}{ 1 - \\left(\\dfrac{T}{T_{\\rm C}}\\right)^4} \\right) \\quad  {\\rm for \\quad} T \\leqq T_{\\rm C}.&\n",
        "\\end{align*}"
      ]
    },
    {
      "cell_type": "markdown",
      "metadata": {
        "id": "kLdpr1Pe0m-n",
        "colab_type": "text"
      },
      "source": [
        "![Figure 3.16](http://drive.google.com/uc?export=view&id=1R9AcwzuPtVsR-pcjQZklWQPxDeaRN71U)\n",
        "\n",
        "We find and define \n",
        "\\begin{align*}\n",
        "\\dfrac{L_{\\rm n}}{R_{\\rm n}} &= \\tau_{\\rm tr} &\\\\\n",
        "\\dfrac{L_{\\rm s}}{R_{\\rm n}} & = \\dfrac{\\tilde{\\sigma}_0(T)}{1/\\Lambda(T)}\n",
        "= \\tilde{\\sigma}_0(T) \\Lambda(T) \\equiv \\tau_{\\rm chan}.\n",
        "\\end{align*}\n",
        "\n",
        "\\begin{align*}\n",
        "\\tau_{\\rm chan} = \\tau_{\\rm tr} \n",
        "\\left( \\dfrac{\\left(\\dfrac{T}{T_{\\rm C}}\\right)^4}{ 1 - \\left(\\dfrac{T}{T_{\\rm C}}\\right)^4} \\right) \\quad {\\rm for\\quad } T\\leqq T_{\\rm C}\n",
        "\\end{align*}"
      ]
    },
    {
      "cell_type": "markdown",
      "metadata": {
        "id": "eOrkKROgzNT1",
        "colab_type": "text"
      },
      "source": [
        "### $\\tau_{\\rm tr}$ vs. $\\tau_{\\rm chan}$\n",
        "\n",
        "$\\omega \\tau <<1$\n",
        "\n",
        "![Figure 3.17](http://drive.google.com/uc?export=view&id=1avXo-QnFQ_yMijvGSrLMDW4WQa-nZkyV)"
      ]
    },
    {
      "cell_type": "markdown",
      "metadata": {
        "id": "KNbI_sg23bLf",
        "colab_type": "text"
      },
      "source": [
        "### $\\omega \\tau$ vs. $T/T_{\\rm C}$\n",
        "\n",
        "> $\\qquad \\omega < \\omega_{\\rm pair}$\n",
        "\n",
        "\\begin{align*}\n",
        "\\dfrac{1}{\\tau_{\\rm chan}} \n",
        "= \\dfrac{1}{\\tau_{\\rm tr}}\n",
        "\\left[\n",
        "  {\\left( \\dfrac{T}{T_{\\rm C}} \\right)^{-4}} \n",
        "  - 1\n",
        "\\right]\n",
        "\\end{align*}\n",
        "\n",
        "When $1/\\tau_{\\rm chan} = 1/\\tau_{\\rm tr}$\n",
        "\\begin{align*}\n",
        "\\dfrac{T}{T_{\\rm C}} &= 2^{-1/4} \\approx 0.84&\n",
        "\\end{align*}"
      ]
    },
    {
      "cell_type": "markdown",
      "metadata": {
        "id": "vYp8g3Jy3fwB",
        "colab_type": "text"
      },
      "source": [
        "![Figure 3.18](http://drive.google.com/uc?export=view&id=19VZ3T8wd2n7Ba5Lwn0hw6rTYmHr0H79-)"
      ]
    },
    {
      "cell_type": "markdown",
      "metadata": {
        "id": "arcLq2Y97iR-",
        "colab_type": "text"
      },
      "source": [
        "#### $2^{-1/4} < T/T_{\\rm C}< 1$\n",
        "\n",
        "\\begin{align*}\n",
        "\\nabla \\times \\vec{H} \\approx \\vec{J} = \\vec{J}_{\\rm n}  + \\vec{J}_{\\rm s}\n",
        "\\end{align*}\n",
        "\n",
        "\n"
      ]
    },
    {
      "cell_type": "markdown",
      "metadata": {
        "id": "oCWvK48Geamw",
        "colab_type": "text"
      },
      "source": [
        "By using the follwing relation:\n",
        "\\begin{align*}\n",
        "\\vec{E} &= \\dfrac{1}{\\tilde{\\sigma}_0(T)}\n",
        "\\left( 1 + \\tau_{\\rm tr} \\dfrac{\\partial }{\\partial t}\\right) \\vec{J}_{\\rm n},\n",
        "\\end{align*}\n",
        "with 2nd London equation, we can obtain\n",
        "\\begin{align*}\n",
        "\\left( 1 - \\lambda^2 \\nabla^2 \n",
        "+ \\left( \\mu_0 \\tilde{\\sigma_0} \\lambda^2\n",
        "- \\tau_{\\rm tr} \\lambda^2 \\nabla^2\n",
        "+ \\tau_{\\rm tr}\n",
        "  \\right) \\dfrac{\\partial }{\\partial t}\\right)\\vec{B} =0.\n",
        "\\end{align*}\n",
        "Additionally, we analyse the above equation under sinusoidal steday-state condition, $\\vec{B} = \\vec{B}_0 e^{j\\omega t}$\n",
        "\\begin{align*}\n",
        "\\left[\n",
        "  1 - ( 1+ j\\omega \\tau_{\\rm tr}) \\lambda^2 \\nabla^2 \n",
        "+ j \\left( \\omega\\tilde{\\sigma}_0\\Lambda+ \\omega\\tau_{\\rm tr}\n",
        "\\right)\n",
        "  \\right]\\vec{B} =0.\n",
        "\\end{align*}\n"
      ]
    },
    {
      "cell_type": "markdown",
      "metadata": {
        "id": "ZwikJdOxph7K",
        "colab_type": "text"
      },
      "source": [
        "#### $\\omega \\tau_{\\rm tr} << 1$\n",
        "\n",
        "When there is only superconducting state, $\\omega \\tau_{\\rm tr} << 1$,\n",
        "the total current can be written\n",
        "\\begin{align*}\n",
        "\\lim_{\\omega \\tau_{\\rm tr} << 1} \\vec{J}\n",
        "=\n",
        "\\left(\n",
        "  \\tilde{\\sigma}_0(T) + \\dfrac{1}{j\\omega\\mu_0(\\lambda(t))^2}\n",
        "  \\right)\\vec{E},\n",
        "\\end{align*}\n",
        "and the equation of $\\vec{B}$ as\n",
        "\\begin{align*}\n",
        "\\left(\n",
        "  1 - \\lambda^2 \\nabla^2 \n",
        "+ j \\tilde{\\sigma}_0\\Lambda\n",
        "  \\right)\\vec{B} =0.\n",
        "\\end{align*}\n",
        "\n",
        "If $\\tau_{\\rm chan}=\\tilde{\\sigma}_0\\Lambda<<1$, and then\n",
        "\\begin{align*}\n",
        "\\left(\n",
        "  1 - \\lambda^2 \\nabla^2 \n",
        "  \\right)\\vec{B} &=0&\\\\\n",
        " \\left(\n",
        "  \\dfrac{1}{\\lambda^2} - \\nabla^2 \n",
        "  \\right)\\vec{B} &=0.&\\\\\n",
        "\\end{align*}\n"
      ]
    }
  ]
}