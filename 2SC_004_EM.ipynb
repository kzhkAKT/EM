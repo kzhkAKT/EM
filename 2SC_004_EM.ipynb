{
  "nbformat": 4,
  "nbformat_minor": 0,
  "metadata": {
    "colab": {
      "name": "2SC_004_EM",
      "provenance": [],
      "collapsed_sections": [],
      "toc_visible": true,
      "authorship_tag": "ABX9TyOKzYGFUPTyKMRhdI+pstJn",
      "include_colab_link": true
    },
    "kernelspec": {
      "name": "python3",
      "display_name": "Python 3"
    }
  },
  "cells": [
    {
      "cell_type": "markdown",
      "metadata": {
        "id": "view-in-github",
        "colab_type": "text"
      },
      "source": [
        "<a href=\"https://colab.research.google.com/github/kzhkAKT/ErgyMtrlScience/blob/draft/2SC_004_EM.ipynb\" target=\"_parent\"><img src=\"https://colab.research.google.com/assets/colab-badge.svg\" alt=\"Open In Colab\"/></a>"
      ]
    },
    {
      "cell_type": "markdown",
      "metadata": {
        "id": "f5P0klmPtO8U",
        "colab_type": "text"
      },
      "source": [
        "<!-- Chapter 5 -->\n",
        "# The Macroscopic Quantum Model"
      ]
    },
    {
      "cell_type": "code",
      "metadata": {
        "id": "TktBMgNvv_xA",
        "colab_type": "code",
        "cellView": "form",
        "colab": {
          "base_uri": "https://localhost:8080/",
          "height": 336
        },
        "outputId": "2fba0e02-75d0-46b5-b214-ffa8fc66cb5b"
      },
      "source": [
        "#@title One electron double slit experiment by Akira Tonomura\n",
        "%%html\n",
        "<iframe width=\"560\" height=\"315\" src=\"https://www.youtube-nocookie.com/embed/jvO0P5-SMxk\" frameborder=\"0\" allow=\"accelerometer; autoplay; encrypted-media; gyroscope; picture-in-picture\" allowfullscreen></iframe>"
      ],
      "execution_count": null,
      "outputs": [
        {
          "output_type": "display_data",
          "data": {
            "text/html": [
              "<iframe width=\"560\" height=\"315\" src=\"https://www.youtube-nocookie.com/embed/jvO0P5-SMxk\" frameborder=\"0\" allow=\"accelerometer; autoplay; encrypted-media; gyroscope; picture-in-picture\" allowfullscreen></iframe>"
            ],
            "text/plain": [
              "<IPython.core.display.HTML object>"
            ]
          },
          "metadata": {
            "tags": []
          }
        }
      ]
    },
    {
      "cell_type": "markdown",
      "metadata": {
        "id": "yJcCkrNltT_H",
        "colab_type": "text"
      },
      "source": [
        "## Introduction\n",
        "\n",
        "Fritz London gave us a profound statement in 1940s,\n",
        ">> Superconductivity is an inherently quantum mechanical phenomenon that manifests itself on macroscopic scales."
      ]
    },
    {
      "cell_type": "markdown",
      "metadata": {
        "id": "GSEs8uzPuPUn",
        "colab_type": "text"
      },
      "source": [
        "##  Schrodinger's equation\n",
        "\n"
      ]
    },
    {
      "cell_type": "markdown",
      "metadata": {
        "id": "halS6rrcR_Jh",
        "colab_type": "text"
      },
      "source": [
        "### Einstein-de Broglie relatons\n",
        "\n",
        "The following relation describe both the wavelike and particlelike behavir of quantum system.\n",
        "\\begin{align*}\n",
        "\\mathcal{E} &= \\hbar \\omega&\\\\\n",
        "\\vec{p} &= \\hbar \\vec{k}&\n",
        "\\end{align*}\n",
        "where\n",
        "- $\\mathcal{E}$ is the total energy of quantum particle,   \n",
        "- $\\omega$ is the flequency of ocillation, \n",
        "- $\\vec{p}$ is the momentum of the quantum particle\n",
        "- $\\vec{k}$ is the wavevector which magnitude is $\\left| \\vec{k} \\right| = \\dfrac{2\\pi}{\\lambda}$\n",
        "  - $\\lambda$ is the matter wavelength\n",
        "\n",
        "- $\\hbar$ is (reduced) Planck's constant\n",
        "  \\begin{align*}\n",
        "    \\hbar \\equiv \\dfrac{h}{2\\pi},\n",
        "  \\end{align*}\n",
        "  $h=6.6262 \\times 10^{-34}\\ {\\rm J\\cdot s}$"
      ]
    },
    {
      "cell_type": "markdown",
      "metadata": {
        "id": "G94zWnT9SCHY",
        "colab_type": "text"
      },
      "source": [
        "$\\require{cancel}$\n",
        "### Analogy and wave\n",
        "\n",
        "In classicalmechanics, kinetic energy is given without potential feild\n",
        "\\begin{align*}\n",
        "\\mathcal{E} &= \\dfrac{1}{2} m (\\vec{v}\\cdot \\vec{v})&.\n",
        "\\end{align*}\n",
        "\n",
        "Conservation of momentum without external forces:\n",
        "\\begin{align*}\n",
        "\\dfrac{{\\rm d} \\vec{p}}{{\\rm d}t} &= 0.&\n",
        "\\end{align*}\n",
        "\n",
        "Newton's law without forces:\n",
        "\\begin{align*}\n",
        "m \\dfrac{{\\rm d} \\vec{v}}{{\\rm d}t} &= \\cancelto{0}{\\vec{F}}.&\n",
        "\\end{align*}\n",
        "\n",
        "By comparing these two expressions, we find\n",
        "\\begin{align*}\n",
        "\\vec{p} &= m \\vec{v}&\n",
        "\\end{align*}\n",
        "\n",
        "Rewriting $\\mathcal{E}$,\n",
        "\\begin{align*}\n",
        "\\mathcal{E} &= \\dfrac{\\vec{p}\\cdot\\vec{p}}{2m}.&\n",
        "\\end{align*}\n",
        "Assuming that this classical expression is also valid under quantum mechanics,\n",
        "it transforms under the Einstein-de Broglie relation to be\n",
        "\\begin{align*}\n",
        "\\hbar \\omega &= \\dfrac{\\hbar^2}{2m}\\left(\\vec{k}\\cdot\\vec{k}\\right).&\n",
        "\\end{align*}\n",
        "As we saw the above, $\\omega = \\omega(\\vec{k})$, which is called a disparsion relation."
      ]
    },
    {
      "cell_type": "markdown",
      "metadata": {
        "id": "2nwoOn53Wyp3",
        "colab_type": "text"
      },
      "source": [
        "New we are going to find an equation within wavelike behaviour.  \n",
        "As we saw in Tonomura's research,  on an electron,  \n",
        "as a quantum particle, shall have wave wavelike behaviour\n",
        "\\begin{align*}\n",
        "\\psi &= \\hat{\\psi} e^{i\\left(k\\cdot r - \\omega t\\right)}&\\\\\n",
        "&=\\hat{\\psi}\\left[\n",
        "  \\cos\\left({\\vec{k}\\cdot \\vec{r} - \\omega t}\\right)\n",
        "  +\n",
        "  \\sin\\left({\\vec{k}\\cdot \\vec{r} - \\omega t}\\right)\n",
        "\\right],&\n",
        "\\end{align*}\n",
        "where $i$ is defined to be $\\sqrt{-1}$. We can define such a function as a *wave function*.\n",
        "\n",
        "By compairing the quantumized energy relation with the wave function, we can come accross\n",
        "\\begin{align*}\n",
        "i \\hbar \\dfrac{\\partial }{\\partial t} \\psi \n",
        "&=\n",
        "-  \\dfrac{\\hbar}{2m} \\nabla^2 \\psi,&\n",
        "\\end{align*}\n",
        "as can be verified by direct substitution. This expression is called Schrodinger's equation for free particle.\n",
        "\n",
        "> *It should be noted that we have not in any way derived Schrodinger's equation.*\n",
        "\n",
        "\n"
      ]
    },
    {
      "cell_type": "markdown",
      "metadata": {
        "id": "gCTF1x-lbmvq",
        "colab_type": "text"
      },
      "source": [
        "### Quantum particle under potential field\n",
        "\n",
        "Classically,\n",
        "\\begin{align*}\n",
        "\\mathcal{E} = \\dfrac{1}{2} m \\left(\\vec{v}\\cdot\\vec{v}\\right) + V (\\vec{r}).\n",
        "\\end{align*}\n",
        "\n",
        "Since the potential field is not a function of time, the total energy of the particle is conserved:\n",
        "\\begin{align*}\n",
        "\\dfrac{{\\rm d}\\mathcal{E}}{{\\rm d} t} &=0,&\n",
        "\\end{align*}\n",
        "or specifically,\n",
        "\\begin{align*}\n",
        "\\dfrac{{\\rm d}}{{\\rm d} t}\n",
        "\\left(\n",
        "  \\dfrac{1}{2} m \\left(\\vec{v}\\cdot\\vec{v}\\right) + V (\\vec{r})\n",
        "  \\right)\n",
        "   &=\n",
        "  m \\cdot \\vec{v} \\dfrac{{\\rm d}\\vec{v}}{{\\rm d} t}\n",
        "  + \n",
        "  \\dfrac{{\\rm d} V(\\vec{r})}{{\\rm d} t}\n",
        "   =0.&\n",
        "\\end{align*}\n",
        "\n",
        "By using the chain rule of differentiation that\n",
        "\\begin{align*}\n",
        "\\dfrac{{\\rm d} V(\\vec{r})}{{\\rm d} t}\n",
        "=\n",
        "\\dfrac{\\partial}{\\partial t} V(\\vec{r})\n",
        "+\n",
        "\\left(v\\cdot \\nabla \\right)V(\\vec{r}),\n",
        "\\end{align*}\n",
        "so we can express\n",
        "\\begin{align*}\n",
        "\\vec{v}\\cdot\n",
        "\\left(\n",
        "  m \\dfrac{{\\rm d}\\vec{v}}{{\\rm d} t}\n",
        "  +\n",
        "  \\nabla V(\\vec{r})\n",
        "\\right)\n",
        "&=0.&\n",
        "\\end{align*}\n",
        "\n",
        "Since this expression holds for any value of $\\vec{v}$,\n",
        "\\begin{align*}\n",
        "  m \\dfrac{{\\rm d}\\vec{v}}{{\\rm d} t}\n",
        "  &=\n",
        "  -\\nabla V(\\vec{r})&\\\\\n",
        "  \\dfrac{{\\rm d}\\vec{p}}{{\\rm d}t} &= -\\nabla V(\\vec{r})&\n",
        "\\end{align*}\n",
        "\n",
        "> the term in the time derivative is the *canonical momentum*, $\\vec{p}$\n",
        "\n",
        "> the term in right hand side is the *generalized potential*, $V(\\vec{r})$"
      ]
    },
    {
      "cell_type": "markdown",
      "metadata": {
        "id": "pRvquNAqjxgN",
        "colab_type": "text"
      },
      "source": [
        "\n",
        "Having identified the canonical momentum and generalized potential\n",
        "\\begin{align*}\n",
        "\\mathcal{E} = \\dfrac{1}{2m}  \\left(\\vec{p}\\cdot\\vec{p}\\right) + V (\\vec{r}).\n",
        "\\end{align*}\n",
        "\n",
        "From the Einstein-de Brogile relation, it becomes\n",
        "\\begin{align*}\n",
        "\\hbar \\omega &= \\dfrac{\\hbar^2}{2m}\\left(\\vec{k}\\cdot\\vec{k}\\right) + V(\\vec{r}).&\n",
        "\\end{align*}\n",
        "We can NOT treat this expression as a dispersion relation, directly."
      ]
    },
    {
      "cell_type": "markdown",
      "metadata": {
        "id": "-85pQ9oL1RQU",
        "colab_type": "text"
      },
      "source": [
        "But still using $\\dot{\\vec{p}}= - \\nabla V$, we could reform free particle Schrodinger equation to genetal potential feild:\n",
        "\\begin{align*}\n",
        "i \\hbar \\dfrac{\\partial }{\\partial t} \\psi \n",
        "&=\n",
        "-  \\dfrac{\\hbar}{2m} \\nabla^2 \\psi  + V(\\vec{r}) \\psi.&\n",
        "\\end{align*}\n",
        "\n",
        "\n",
        "\n"
      ]
    },
    {
      "cell_type": "markdown",
      "metadata": {
        "id": "LxpWhQzg26bj",
        "colab_type": "text"
      },
      "source": [
        "## Step on (first) quantization of a particle\n",
        "\n",
        "1. \\begin{align*} \\dfrac{{\\rm d}\\vec{p}}{{\\rm d}}= - \\nabla V \\end{align*}\n",
        "2. \\begin{align*} \\mathcal{E} = \\dfrac{\\left(\\vec{p}\\cdot\\vec{p}\\right)}{2m} + V (\\vec{r}) \\end{align*}\n",
        "\n",
        "3.  the Einstein-de Brogle relation:  \n",
        "\\begin{align*}\n",
        "     \\mathcal{E} &= \\hbar \\omega &\\to i\\hbar\\dfrac{\\partial}{\\partial t}&\\\\\n",
        "     \\vec{p} &= \\hbar \\vec{k} &\\to \\dfrac{\\hbar}{i}\\nabla.\n",
        "   \\end{align*}"
      ]
    }
  ]
}