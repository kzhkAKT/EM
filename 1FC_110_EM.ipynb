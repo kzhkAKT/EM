{
  "nbformat": 4,
  "nbformat_minor": 0,
  "metadata": {
    "colab": {
      "name": "1FC_110_EM",
      "provenance": [],
      "collapsed_sections": [],
      "authorship_tag": "ABX9TyNbVLwf1RETp5PNpDx98PrE",
      "include_colab_link": true
    },
    "kernelspec": {
      "name": "python3",
      "display_name": "Python 3"
    }
  },
  "cells": [
    {
      "cell_type": "markdown",
      "metadata": {
        "id": "view-in-github",
        "colab_type": "text"
      },
      "source": [
        "<a href=\"https://colab.research.google.com/github/kzhkAKT/ErgyMtrlScience/blob/draft/1FC_110_EM.ipynb\" target=\"_parent\"><img src=\"https://colab.research.google.com/assets/colab-badge.svg\" alt=\"Open In Colab\"/></a>"
      ]
    },
    {
      "cell_type": "markdown",
      "metadata": {
        "id": "JcEQYLQcCnFc",
        "colab_type": "text"
      },
      "source": [
        "# Equation of state\n",
        "\n",
        "\\begin{align*}\n",
        " pV &= nRT \\to pV - nRT = 0&\\\\\n",
        "  &\\to f(p,V,T)=0&\n",
        "\\end{align*}\n"
      ]
    },
    {
      "cell_type": "markdown",
      "metadata": {
        "id": "q618yts-oLxP",
        "colab_type": "text"
      },
      "source": [
        "# First law of thermodynamics\n",
        "\n",
        "\\begin{align*}\n",
        "\\Delta U\n",
        "&= \\delta Q_{\\rm in} + \\delta W_{\\rm in}&\\\\\n",
        "&= \\delta Q_{\\rm in} - \\delta W_{\\rm out}&\n",
        "\\end{align*}"
      ]
    },
    {
      "cell_type": "markdown",
      "metadata": {
        "id": "wp4Cb8TpobYD",
        "colab_type": "text"
      },
      "source": [
        "# Second law\n",
        "\n",
        "\\begin{align*}\n",
        "\\Delta S &= \\dfrac{\\delta Q}{T} \\geqq 0&\\\\\n",
        "\\Delta S_{\\rm rev} &=\\dfrac{\\delta Q_{\\rm rev}}{T} = 0&\n",
        "\\end{align*}\n",
        "\n"
      ]
    },
    {
      "cell_type": "markdown",
      "metadata": {
        "id": "G39zE1R0pg-2",
        "colab_type": "text"
      },
      "source": [
        "$\\require{cancel}$\n",
        "# $U$: internal energy\n",
        "\n",
        "combination of 1st and 2nd:\n",
        "\n",
        "- aboslute temperature $T\\geqq0$ : $\\qquad \\delta Q = T \\Delta S$, \n",
        "- external work: $\\qquad \\delta W_{\\rm out} = p \\Delta V$\n",
        "\n",
        "only volume expansion is considered...\n",
        "\n",
        "\\begin{align*}\n",
        "\\Delta U = T \\Delta S  - p \\Delta V\\\\\n",
        "\\end{align*}\n",
        "For a constant-temperature $T$, constant-pressure process $p$, you can integrate\n",
        "\\begin{align*}\n",
        "U = T S  - p V\n",
        "\\end{align*}\n",
        "> Internal Energy (U). The energy needed to create a system in the absence of changes in temperature or pressure.\n",
        "\n",
        "\n",
        "If you take the variation $\\Delta U$ in infinitesimal changes,\n",
        "\\begin{align*}\n",
        "{\\rm d} U = T {\\rm d} S  - p {\\rm d}  V.\\\\\n",
        "\\end{align*}\n",
        "We can derive $U=U(S,V)$, additonally\n",
        "\\begin{align*}\n",
        "\\dfrac{\\partial U}{\\partial S} =T, \\qquad \\dfrac{\\partial U}{\\partial V} =-p.\n",
        "\\end{align*}\n",
        "\n",
        ">> we assume that we could derive some other function related to energy by two variable from $p, V, T, S$.\n",
        "\n",
        "\n",
        "\n"
      ]
    },
    {
      "cell_type": "markdown",
      "metadata": {
        "id": "1ayEXZlFrtfS",
        "colab_type": "text"
      },
      "source": [
        "$\\require{cancel}$\n",
        "## G: Gibbs free energy\n",
        "### Legendre transform. $(S,V) \\to (T,p)$\n",
        "\n",
        "$(S,V) \\to (T,p)\\qquad U(S,V) \\to G(T,p)$\n",
        "\n",
        "\\begin{align*}\n",
        "G &= U \n",
        "- \\left(\\dfrac{\\partial U}{\\partial S}\\right)_{V} S\n",
        "- \\left(\\dfrac{\\partial U}{\\partial V}\\right)_{S} V&\\\\\n",
        "&= U - TS + pV&\n",
        "\\end{align*}\n",
        "> Gibbs Free Energy (G). The energy needed to create a system and make room for it minus the energy that you can get from the environment due to heat transfer. In other words, G represents the net energy cost for a system created at a constant environmental temperature T from a negligible initial volume after subtracting what the environment automatically supplied.\n",
        "\n",
        "The variation of G (mathematically dG) results in\n",
        "\\begin{align*}\n",
        "{\\rm d} G &={\\rm d} U -{\\rm d} \\left(TS \\right)+ pV&\\\\\n",
        "&=\n",
        "{\\rm d} U -{\\rm d} T S - T {\\rm d} S + {\\rm d} p V + p {\\rm d} V&\\\\\n",
        "&=\n",
        "\\cancelto{0}{{\\rm d} U - T {\\rm d} S + p {\\rm d} V} -{\\rm d} T S + {\\rm d} p V &\\\\\n",
        "{\\rm d} G &= -S {\\rm d} T + V {\\rm d} p&\n",
        "\\end{align*}\n",
        "\n",
        "\n"
      ]
    },
    {
      "cell_type": "markdown",
      "metadata": {
        "id": "ZRU7xZ-_uYC_",
        "colab_type": "text"
      },
      "source": [
        "$\\require{cancel}$\n",
        "## H: Enthalpy\n",
        "### Legendre transform. $(S,V) \\to (S,p)$\n",
        "\n",
        "$(S,V) \\to (S,p)\\qquad U(S,V) \\to H(S,p)$\n",
        "- keep $S$ \n",
        "- change $V$ to $p$\n",
        "\n",
        "\\begin{align*}\n",
        "H &= U \n",
        "- \\left(\\dfrac{\\partial U}{\\partial V}\\right)_{S} V&\\\\\n",
        "&= U + pV&\n",
        "\\end{align*}\n",
        "\n",
        "> Enthalpy (H). The energy needed to create a system plus the work needed to make room for it (from zero volume).\n",
        "\n",
        "The variation of H (mathematically dH) results in\n",
        "\\begin{align*}\n",
        "{\\rm d} H &= {\\rm d} U + {\\rm d} \\left( pV \\right)&\\\\\n",
        "& = {\\rm d} U + {\\rm d} p V  +  p {\\rm d}V &\\\\\n",
        "& = \\cancelto{T{\\rm d}S}{{\\rm d} U +  p {\\rm d}V} + {\\rm d} p V&\\\\\n",
        "{\\rm d} H &= T{\\rm d}S + V {\\rm d} p\n",
        "\\end{align*}\n",
        "\n",
        "\n",
        "$H=H(S,p)$\n"
      ]
    },
    {
      "cell_type": "markdown",
      "metadata": {
        "id": "vBpvV7OXFt-P",
        "colab_type": "text"
      },
      "source": [
        "$\\require{cancel}$\n",
        "## F: Helmholtz free energy\n",
        "### Legendre transform. $(S,V) \\to (T,V)$\n",
        "\n",
        "\\begin{align*}\n",
        "F &= U \n",
        "- \\left( \\dfrac{\\partial U}{\\partial S}\\right)_{V} S&\\\\\n",
        "&= U - TS&\n",
        "\\end{align*} \n",
        "\n",
        "> Helmholtz Free Energy (F). The energy needed to create a system minus the energy that you can get from the system's environment due to spontaneous heat transfer (at constant temperature).\n",
        "\n",
        "The variation of F (mathematically dF) results in\n",
        "\\begin{align*}\n",
        "{\\rm d} F &= {\\rm d} U - {\\rm d}(TS)&\\\\\n",
        "& =  {\\rm d} U - {\\rm d}T S -T{\\rm d}S&\\\\\n",
        "& = -S{\\rm d}T + \\cancelto{-p{\\rm d}V}{{\\rm d} U -T{\\rm d}S} &\\\\\n",
        "&= -S{\\rm d}T -p{\\rm d}V&\n",
        "\\end{align*} \n",
        "\n"
      ]
    },
    {
      "cell_type": "markdown",
      "metadata": {
        "id": "fg2it_sgUApX",
        "colab_type": "text"
      },
      "source": [
        "# Thermodynamics for electro-motive forece\n",
        "\n",
        "\\begin{align*}\n",
        "{\\rm d} G &={\\rm d} U -{\\rm d} \\left(TS \\right)+ pV&\\\\\n",
        "&=\n",
        "{\\rm d} U - T {\\rm d} S + p {\\rm d} V -{\\rm d} T S  + {\\rm d} p V &\\\\\n",
        "%\n",
        "{\\rm d} U\n",
        "&= T {\\rm d} S - \\left( p {\\rm d} V + {\\rm d} W_{\\rm elec}\\right)&\\\\\n",
        "%\n",
        "{\\rm d} G &= -S {\\rm d} T + V {\\rm d} p - {\\rm d} W_{\\rm elec}\n",
        "\\end{align*}\n",
        "\n",
        "If ${\\rm d} p = 0, {\\rm d} T=0$;\n",
        "\\begin{align*}\n",
        "{\\rm d} G &=- {\\rm d} W_{\\rm elec}&\\\\\n",
        "\\int_{\\rm init}^{\\rm fin}{\\rm d} W_{\\rm elec}\n",
        " &= - \\int_{\\rm init}^{\\rm fin}{\\rm d} G &\\\\\n",
        " W_{\\rm elec} - 0 &=  G_{\\rm fin} - G_{\\rm init} &\\\\\n",
        " W_{\\rm elec} &= - \\Delta G_{\\rm rxn}&\n",
        "\\end{align*}\n",
        "\n",
        "By using molar quantities, like in JANF\n",
        ">> $\\qquad W_{\\rm elec} = - \\Delta g_{\\rm rxn}$\n",
        "\n",
        "By using Faraday constants $\\mathcal{F}$ and Number of electrons transferred in the reaction $n$\n",
        "\n",
        ">> $\\qquad E = \\dfrac{-\\Delta g_{\\rm rxn}}{nF}$\n",
        "\n",
        "\n"
      ]
    },
    {
      "cell_type": "markdown",
      "metadata": {
        "id": "jtsGhZHtdMFN",
        "colab_type": "text"
      },
      "source": [
        "# Reversible Voltage Variation with Temperature"
      ]
    },
    {
      "cell_type": "markdown",
      "metadata": {
        "id": "Y9lPwwysdYp8",
        "colab_type": "text"
      },
      "source": [
        "\\begin{align*}\n",
        "{\\rm d}G &= −S{\\rm d}T + V {\\rm d}p&\\\\\n",
        "\\left(\\dfrac{\\partial G}{\\partial T}\\right)_{p} &= -S&\\\\\n",
        "\\left(\\dfrac{\\partial \\Delta \\hat{g}}{\\partial T}\\right)_{p} &= -\\Delta\\hat{s}&\\\\\n",
        "\\Delta \\hat{g} &= - n\\mathcal{F}E&\\\\\n",
        "\\left( \\dfrac{\\partial E }{\\partial T}\\right)_{p}\n",
        "&= \\dfrac{\\Delta \\hat{s}}{n\\mathcal{F}}&\\\\\n",
        "E_{T} -E^\\circ &= \\dfrac{\\Delta \\hat{s}}{n\\mathcal{F}}\\left(T-T_0\\right)&\n",
        "\\end{align*}"
      ]
    },
    {
      "cell_type": "markdown",
      "metadata": {
        "id": "ZW4KOuujfSov",
        "colab_type": "text"
      },
      "source": [
        "# Reversible Voltage Variation with Pressure\n",
        "\n",
        "\\begin{align*}\n",
        "{\\rm d}G &= −S{\\rm d}T + V {\\rm d}p&\\\\\n",
        "\\left(\\dfrac{\\partial G}{\\partial T}\\right)_{T} &= V&\\\\\n",
        "\\left(\\dfrac{\\partial \\Delta \\hat{g}}{\\partial T}\\right)_{T} &= \\Delta \\hat{v}&\\\\\n",
        "\\Delta \\hat{g} &= - n\\mathcal{F}E&\\\\\n",
        "\\left( \\dfrac{\\partial E }{\\partial p}\\right) \n",
        "&= - \\dfrac{\\Delta \\hat{v}}{n\\mathcal{F}}&\\\\\n",
        "\\end{align*}"
      ]
    },
    {
      "cell_type": "markdown",
      "metadata": {
        "id": "G6zUBVvJGfhh",
        "colab_type": "text"
      },
      "source": [
        "Assuming a ideal-gas reaction at $\\Delta p=0, \\ \\Delta T=0$,\n",
        "\\begin{align*}\n",
        " p v_r &= n_r R T&\\\\\n",
        " p v_p &= n_p R T&\\\\\n",
        " p \\Delta \\hat{v} &= \\Delta \\hat{n}_{g(as)} R T&\n",
        "\\end{align*}\n",
        ", where $\\Delta \\hat{n}_{g(as)}=n_p - n_r$"
      ]
    },
    {
      "cell_type": "markdown",
      "metadata": {
        "id": "XHd4NNAWHkVv",
        "colab_type": "text"
      },
      "source": [
        "\\begin{align*}\n",
        "\\left( \\dfrac{\\partial E }{\\partial p}\\right) \n",
        "&= - \\dfrac{\\Delta \\hat{v}}{n\\mathcal{F}}&\\\\\n",
        "&= - \\dfrac{\\Delta \\hat{n}_g RT}{n\\mathcal{F}p}&\\\\\n",
        "E - E_T \n",
        "&= -\\dfrac{RT}{n\\mathcal{F}} \n",
        " \\ln\\left( \\dfrac{p}{p_0}\\right)^{\\Delta \\hat{n}_g}\n",
        "\\end{align*}"
      ]
    },
    {
      "cell_type": "markdown",
      "metadata": {
        "id": "q1WK1RyzL96Y",
        "colab_type": "text"
      },
      "source": [
        "> Q. We will show you how to use the dice."
      ]
    }
  ]
}