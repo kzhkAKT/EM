{
  "nbformat": 4,
  "nbformat_minor": 0,
  "metadata": {
    "colab": {
      "name": "1FC_01_EM",
      "provenance": [],
      "collapsed_sections": [],
      "authorship_tag": "ABX9TyN5WwMRf4eF91A0rGN4VCyq",
      "include_colab_link": true
    },
    "kernelspec": {
      "name": "python3",
      "display_name": "Python 3"
    }
  },
  "cells": [
    {
      "cell_type": "markdown",
      "metadata": {
        "id": "view-in-github",
        "colab_type": "text"
      },
      "source": [
        "<a href=\"https://colab.research.google.com/github/kzhkAKT/EM/blob/master/1FC_01_EM.ipynb\" target=\"_parent\"><img src=\"https://colab.research.google.com/assets/colab-badge.svg\" alt=\"Open In Colab\"/></a>"
      ]
    },
    {
      "cell_type": "markdown",
      "metadata": {
        "id": "90WJib4xDXHR",
        "colab_type": "text"
      },
      "source": [
        "# 電池歴史と概要\n",
        "\n",
        "## 電池の歴史\n",
        "\n",
        "- [The history and development of batteries, phys.org](https://phys.org/news/2015-04-history-batteries.html)\n",
        "  - [Kite Experiment, Benjamin Franklin](http://www.benjamin-franklin-history.org/kite-experiment/)\n",
        "\n",
        "- [Battery and Fuel Cell Technology, ECS](https://www.electrochem.org/battery-and-fuel-cell)"
      ]
    },
    {
      "cell_type": "markdown",
      "metadata": {
        "id": "P4o2UHiU1-AG",
        "colab_type": "text"
      },
      "source": [
        "$\\require{mhchem}$\n",
        "# 燃料電池 ~ Fuel Cell\n",
        "> $\\ce{ H2 + 1/2 O2 -> H2O }$\n"
      ]
    },
    {
      "cell_type": "markdown",
      "metadata": {
        "id": "kvAGQWtn7-xI",
        "colab_type": "text"
      },
      "source": [
        "## 水素の生成\n",
        "\n",
        "> $\\ce{ H2O -> H2 + 1/2 O2}$"
      ]
    },
    {
      "cell_type": "code",
      "metadata": {
        "id": "AqbjW-o81PQ9",
        "colab_type": "code",
        "cellView": "form",
        "outputId": "f091825f-b1f1-4bd4-e394-e5dfff958769",
        "colab": {
          "base_uri": "https://localhost:8080/",
          "height": 336
        }
      },
      "source": [
        "#@title 水の電気分解\n",
        "%%html\n",
        "<iframe width=\"560\" height=\"315\" src=\"https://www.youtube-nocookie.com/embed/HQ9Fhd7P_HA\" frameborder=\"0\" allow=\"accelerometer; autoplay; encrypted-media; gyroscope; picture-in-picture\" allowfullscreen></iframe>"
      ],
      "execution_count": 0,
      "outputs": [
        {
          "output_type": "display_data",
          "data": {
            "text/html": [
              "<iframe width=\"560\" height=\"315\" src=\"https://www.youtube-nocookie.com/embed/HQ9Fhd7P_HA\" frameborder=\"0\" allow=\"accelerometer; autoplay; encrypted-media; gyroscope; picture-in-picture\" allowfullscreen></iframe>"
            ],
            "text/plain": [
              "<IPython.core.display.HTML object>"
            ]
          },
          "metadata": {
            "tags": []
          }
        }
      ]
    },
    {
      "cell_type": "markdown",
      "metadata": {
        "id": "GItb8Dyt8pUp",
        "colab_type": "text"
      },
      "source": [
        "## 水素の燃焼\n",
        "\n",
        "> $\\ce{ H2 + 1/2 O2 -> H2O }$"
      ]
    },
    {
      "cell_type": "code",
      "metadata": {
        "id": "fH5yJGzI1npY",
        "colab_type": "code",
        "cellView": "form",
        "outputId": "03dec20c-f06d-4afe-e39f-051cd1db42ed",
        "colab": {
          "base_uri": "https://localhost:8080/",
          "height": 336
        }
      },
      "source": [
        "#@title\n",
        "%%html\n",
        "<iframe width=\"560\" height=\"315\" src=\"https://www.youtube-nocookie.com/embed/d49TzVF1gmY\" frameborder=\"0\" allow=\"accelerometer; autoplay; encrypted-media; gyroscope; picture-in-picture\" allowfullscreen></iframe>"
      ],
      "execution_count": 0,
      "outputs": [
        {
          "output_type": "display_data",
          "data": {
            "text/html": [
              "<iframe width=\"560\" height=\"315\" src=\"https://www.youtube-nocookie.com/embed/d49TzVF1gmY\" frameborder=\"0\" allow=\"accelerometer; autoplay; encrypted-media; gyroscope; picture-in-picture\" allowfullscreen></iframe>"
            ],
            "text/plain": [
              "<IPython.core.display.HTML object>"
            ]
          },
          "metadata": {
            "tags": []
          }
        }
      ]
    },
    {
      "cell_type": "code",
      "metadata": {
        "id": "QLtLjusC1sEm",
        "colab_type": "code",
        "cellView": "form",
        "outputId": "f5011da2-2899-4cca-9a16-77f37c895e3a",
        "colab": {
          "base_uri": "https://localhost:8080/",
          "height": 336
        }
      },
      "source": [
        "#@title 温度差をもつ水素の燃焼\n",
        "%%html\n",
        "<iframe width=\"560\" height=\"315\" src=\"https://www.youtube-nocookie.com/embed/z7-8gxAXXbU\" frameborder=\"0\" allow=\"accelerometer; autoplay; encrypted-media; gyroscope; picture-in-picture\" allowfullscreen></iframe>"
      ],
      "execution_count": 0,
      "outputs": [
        {
          "output_type": "display_data",
          "data": {
            "text/html": [
              "<iframe width=\"560\" height=\"315\" src=\"https://www.youtube-nocookie.com/embed/z7-8gxAXXbU\" frameborder=\"0\" allow=\"accelerometer; autoplay; encrypted-media; gyroscope; picture-in-picture\" allowfullscreen></iframe>"
            ],
            "text/plain": [
              "<IPython.core.display.HTML object>"
            ]
          },
          "metadata": {
            "tags": []
          }
        }
      ]
    },
    {
      "cell_type": "markdown",
      "metadata": {
        "id": "3ugsN-su9gUV",
        "colab_type": "text"
      },
      "source": [
        "## 発電機としての燃料電池"
      ]
    },
    {
      "cell_type": "code",
      "metadata": {
        "id": "6GmBe5s7H34U",
        "colab_type": "code",
        "cellView": "form",
        "outputId": "78a4b5e9-2d71-469e-8109-983f5ee2e100",
        "colab": {
          "base_uri": "https://localhost:8080/",
          "height": 591
        }
      },
      "source": [
        "#@title 燃料電池の基本構成(酸性電解質)\n",
        "%%svg\n",
        "https://upload.wikimedia.org/wikipedia/commons/9/90/Solid_oxide_fuel_cell_protonic.svg"
      ],
      "execution_count": 0,
      "outputs": [
        {
          "output_type": "display_data",
          "data": {
            "text/plain": [
              "<IPython.core.display.SVG object>"
            ],
            "image/svg+xml": "<svg enable-background=\"new 0 0 508 570\" height=\"570px\" id=\"Layer_2\" version=\"1.1\" viewBox=\"0 0 508 570\" width=\"508px\" x=\"0px\" xml:space=\"preserve\" xmlns=\"http://www.w3.org/2000/svg\" xmlns:xlink=\"http://www.w3.org/1999/xlink\" y=\"0px\">\n<rect fill=\"#FFFFFF\" height=\"570\" width=\"508\" x=\"0\" y=\"0\"/>\n<rect fill=\"#CCCCCC\" height=\"359\" width=\"76\" x=\"224.6\" y=\"131\"/>\n<rect fill=\"#E6E6E6\" height=\"359\" width=\"38\" x=\"300.6\" y=\"131\"/>\n<rect fill=\"#E6E6E6\" height=\"359\" width=\"38\" x=\"186.6\" y=\"131\"/>\n<line fill=\"none\" stroke=\"#000000\" stroke-width=\"1.5\" x1=\"81.6\" x2=\"443.6\" y1=\"131\" y2=\"131\"/>\n<line fill=\"none\" stroke=\"#000000\" stroke-width=\"1.5\" x1=\"81.6\" x2=\"443.6\" y1=\"490\" y2=\"490\"/>\n<polyline fill=\"none\" points=\"81.6,438.5 130.6,438.5 130.6,182.5 81.6,182.5 \" stroke=\"#000000\" stroke-width=\"1.5\"/>\n<polyline fill=\"none\" points=\"443.6,182.5 394.6,182.5 394.6,438.5 443.6,438.5 \" stroke=\"#000000\" stroke-width=\"1.5\"/>\n<g>\n\t<g>\n\t\t<line fill=\"none\" stroke=\"#000000\" stroke-width=\"1.5\" x1=\"186.6\" x2=\"186.6\" y1=\"131\" y2=\"490\"/>\n\t\t<line fill=\"none\" stroke=\"#000000\" stroke-width=\"1.5\" x1=\"224.6\" x2=\"224.6\" y1=\"131\" y2=\"490\"/>\n\t</g>\n\t<g>\n\t\t<line fill=\"none\" stroke=\"#000000\" stroke-width=\"1.5\" x1=\"300.6\" x2=\"300.6\" y1=\"131\" y2=\"490\"/>\n\t\t<line fill=\"none\" stroke=\"#000000\" stroke-width=\"1.5\" x1=\"338.6\" x2=\"338.6\" y1=\"131\" y2=\"490\"/>\n\t</g>\n</g>\n<g>\n\t<g>\n\t\t<circle cx=\"262.8\" cy=\"70.6\" fill=\"none\" r=\"22.28\" stroke=\"#000000\" stroke-width=\"1.5\"/>\n\t\t<path d=\"M242.25,79.25c1.29,2.851,3.02,4.82,5.13,4.82    c7.7,0,10.26-26.03,5.13-26.03s-2.56,26.03,5.13,26.03c7.7,0,10.271-26.03,5.13-26.03c-5.14,0-2.569,26.03,5.13,26.03    c7.7,0,10.261-26.03,5.13-26.03c-5.13,0-2.569,26.03,5.131,26.03c1.93,0,3.529-1.63,4.77-4.07\" fill=\"none\" stroke=\"#000000\" stroke-width=\"1.5\"/>\n\t</g>\n\t<polyline fill=\"none\" points=\"282.95,80 324.15,80 324.15,131  \" stroke=\"#000000\" stroke-width=\"1.5\"/>\n\t<polyline fill=\"none\" points=\"242.25,79.25 201.05,79.25 201.05,130.25  \" stroke=\"#000000\" stroke-width=\"1.5\"/>\n</g>\n<polygon fill=\"#FF4000\" points=\"211.94,153.84 204.67,136.28 197.41,153.84 201.53,153.84 201.53,176.67   207.82,176.67 207.82,153.84 \" stroke=\"#000000\"/>\n<polygon fill=\"#FF4000\" points=\"211.94,231.84 204.67,214.28 197.41,231.84 201.53,231.84 201.53,254.67   207.82,254.67 207.82,231.84 \" stroke=\"#000000\"/>\n<polygon fill=\"#FF4000\" points=\"311.74,196.45 319.01,214 326.27,196.45 322.16,196.45 322.16,173.62   315.86,173.62 315.86,196.45 \" stroke=\"#000000\"/>\n<polygon fill=\"#FF4000\" points=\"305.74,116.45 313.01,134 320.27,116.45 316.16,116.45 316.16,93.62 309.86,93.62   309.86,116.45 \" stroke=\"#000000\"/>\n<polygon fill=\"#FF4000\" points=\"219,76.29 236.56,69.03 219,61.77 219,65.88 196.17,65.88 196.17,72.18 219,72.18   \" stroke=\"#000000\"/>\n<polygon fill=\"#FFBF00\" points=\"112.3,167.75 134.2,158.68 112.3,149.62 112.3,154.75   83.81,154.75 83.81,162.61 112.3,162.61 \" stroke=\"#000000\" stroke-width=\"1.2476\"/>\n<polygon fill=\"#61E1FF\" points=\"414.05,136.62 392.14,145.68 414.05,154.75 414.05,149.61   442.53,149.61 442.53,141.75 414.05,141.75 \" stroke=\"#000000\" stroke-width=\"1.2476\"/>\n<polygon fill=\"#61E1FF\" points=\"428.619,462.41 450.53,453.35 428.619,444.29   428.619,449.42 400.14,449.42 400.14,457.28 428.619,457.28 \" stroke=\"#000000\" stroke-width=\"1.2476\"/>\n<polygon fill=\"#FFBF00\" points=\"99.71,455.29 77.81,464.35 99.71,473.41 99.71,468.28   128.19,468.28 128.19,460.421 99.71,460.421 \" stroke=\"#000000\" stroke-width=\"1.2476\"/>\n<polygon fill=\"#00A0C6\" points=\"428.624,472.091 400.145,472.091 400.145,479.94   428.624,479.94 428.624,485.08 450.525,476.01 428.624,466.95 \" stroke=\"#000000\" stroke-width=\"1.2476\"/>\n<polygon fill=\"#FFBF00\" points=\"191.98,280.41 209.53,271.35 191.98,262.29 191.98,267.42   169.15,267.42 169.15,275.28 191.98,275.28 \" stroke=\"#000000\" stroke-width=\"1.117\"/>\n<polygon fill=\"#FFBF00\" points=\"191.98,323.75 209.53,314.68 191.98,305.62 191.98,310.75   169.15,310.75 169.15,318.61 191.98,318.61 \" stroke=\"#000000\" stroke-width=\"1.117\"/>\n<polygon fill=\"#61E1FF\" points=\"330.03,288.95 312.48,298.01 330.03,307.08 330.03,301.94   352.86,301.94 352.86,294.09 330.03,294.09 \" stroke=\"#000000\" stroke-width=\"1.117\"/>\n<g>\n\t<polygon fill=\"#00A0C6\" points=\"348.979,352.091 326.15,352.091 326.15,359.94    348.979,359.94 348.979,365.08 366.53,356.01 348.979,346.95  \" stroke=\"#000000\" stroke-width=\"1.117\"/>\n\t<polygon fill=\"#00A0C6\" points=\"348.979,378.091 326.15,378.091 326.15,385.94    348.979,385.94 348.979,391.08 366.53,382.01 348.979,372.95  \" stroke=\"#000000\" stroke-width=\"1.117\"/>\n</g>\n<text font-family=\"'Verdana'\" font-size=\"24\" transform=\"matrix(1 0 0 1 203.7644 116.6716)\">e</text>\n<text font-family=\"'Verdana'\" font-size=\"16\" transform=\"matrix(1 0 0 1 218.0642 104.6716)\">–</text>\n<text font-family=\"'Verdana'\" font-size=\"24\" transform=\"matrix(1 0 0 1 195.0974 204.0037)\">e</text>\n<text font-family=\"'Verdana'\" font-size=\"16\" transform=\"matrix(1 0 0 1 209.3977 192.0037)\">–</text>\n<text font-family=\"'Verdana'\" font-size=\"24\" transform=\"matrix(1 0 0 1 308.7659 161.3376)\">e</text>\n<text font-family=\"'Verdana'\" font-size=\"16\" transform=\"matrix(1 0 0 1 323.0647 149.3376)\">–</text>\n<text font-family=\"'Verdana'\" font-size=\"24\" transform=\"matrix(1 0 0 1 308.7659 245.3376)\">e</text>\n<text font-family=\"'Verdana'\" font-size=\"16\" transform=\"matrix(1 0 0 1 323.0647 233.3376)\">–</text>\n<text font-family=\"'Verdana'\" font-size=\"24\" transform=\"matrix(1 0 0 1 250.6736 265.3376)\">H</text>\n<text font-family=\"'Verdana'\" font-size=\"16\" transform=\"matrix(1 0 0 1 269.5637 253.3376)\">+</text>\n<text font-family=\"'Verdana'\" font-size=\"24\" transform=\"matrix(1 0 0 1 250.6736 354.0027)\">H</text>\n<text font-family=\"'Verdana'\" font-size=\"16\" transform=\"matrix(1 0 0 1 269.5637 342.0027)\">+</text>\n<text font-family=\"'Verdana'\" font-size=\"24\" transform=\"matrix(1 0 0 1 400.4885 380.0027)\">Unused</text>\n<text font-family=\"'Verdana'\" font-size=\"24\" transform=\"matrix(1 0 0 1 409.1682 404.0027)\">Gases</text>\n<text font-family=\"'Verdana'\" font-size=\"24\" transform=\"matrix(1 0 0 1 423.5686 428.0027)\">Out</text>\n<text font-family=\"'Verdana'\" font-size=\"24\" transform=\"matrix(1 0 0 1 35.074 392.0027)\">Excess</text>\n<text font-family=\"'Verdana'\" font-size=\"24\" transform=\"matrix(1 0 0 1 24.2439 416.0027)\">   Fuel</text>\n<text font-family=\"'Verdana'\" font-size=\"24\" transform=\"matrix(1 0 0 1 122.2976 526.0037)\">Anode</text>\n<text font-family=\"'Verdana'\" font-size=\"24\" transform=\"matrix(1 0 0 1 330.8538 526.0037)\">Cathode</text>\n<text font-family=\"'Verdana'\" font-size=\"24\" transform=\"matrix(1 0 0 1 200.3181 549.3376)\">Electrolyte</text>\n<text font-family=\"'Verdana'\" font-size=\"24\" transform=\"matrix(1 0 0 1 170.4236 38.6716)\">Electric Current</text>\n<text font-family=\"'Verdana'\" font-size=\"24\" transform=\"matrix(1 0 0 1 373.8538 122.6697)\">Air In</text>\n<text font-family=\"'Verdana'\" font-size=\"24\" transform=\"matrix(1 0 0 1 76.8738 122.6697)\">Fuel In</text>\n<text font-family=\"'Verdana'\" font-size=\"24\" transform=\"matrix(1 0 0 1 342.7551 425.3376)\">H</text>\n<text font-family=\"'Verdana'\" font-size=\"16\" transform=\"matrix(1 0 0 1 360.7952 429.3376)\">2</text>\n<text font-family=\"'Verdana'\" font-size=\"24\" transform=\"matrix(1 0 0 1 370.9651 425.3376)\">O</text>\n<text font-family=\"'Verdana'\" font-size=\"24\" transform=\"matrix(1 0 0 1 146.5613 298.0027)\">H</text>\n<text font-family=\"'Verdana'\" font-size=\"16\" transform=\"matrix(1 0 0 1 164.6013 302.0027)\">2</text>\n<text font-family=\"'Verdana'\" font-size=\"24\" transform=\"matrix(1 0 0 1 346.1311 333.3376)\">O</text>\n<text font-family=\"'Verdana'\" font-size=\"16\" transform=\"matrix(1 0 0 1 365.0217 337.3376)\">2</text>\n<line fill=\"none\" stroke=\"#000000\" stroke-width=\"1.5\" x1=\"196.67\" x2=\"190\" y1=\"490\" y2=\"507.341\"/>\n<line fill=\"none\" stroke=\"#000000\" stroke-width=\"1.5\" x1=\"326.55\" x2=\"333.22\" y1=\"490\" y2=\"507.341\"/>\n<line fill=\"none\" stroke=\"#000000\" stroke-width=\"1.5\" x1=\"261.33\" x2=\"261.33\" y1=\"490\" y2=\"524.671\"/>\n<polygon fill=\"#00A0C6\" points=\"414.81,161.555 392.909,170.615 414.81,179.685   414.81,174.545 443.289,174.545 443.289,166.696 414.81,166.696 \" stroke=\"#000000\" stroke-width=\"1.2476\"/>\n<text font-family=\"'Verdana'\" font-size=\"24\" transform=\"matrix(1 0 0 1 403.9944 212.28)\">H</text>\n<text font-family=\"'Verdana'\" font-size=\"16\" transform=\"matrix(1 0 0 1 422.0344 216.28)\">2</text>\n<text font-family=\"'Verdana'\" font-size=\"24\" transform=\"matrix(1 0 0 1 432.2043 212.28)\">O</text>\n</svg>"
          },
          "metadata": {
            "tags": []
          }
        }
      ]
    },
    {
      "cell_type": "code",
      "metadata": {
        "id": "hxA5OFbc74dZ",
        "colab_type": "code",
        "outputId": "405e0508-bf4b-41ff-9a11-e6e4aec1eca3",
        "colab": {
          "base_uri": "https://localhost:8080/",
          "height": 336
        },
        "cellView": "form"
      },
      "source": [
        "#@title 燃料電池自動車基本構造\n",
        "%%html\n",
        "<iframe width=\"560\" height=\"315\" src=\"https://www.youtube-nocookie.com/embed/LSxPkyZOU7E\" frameborder=\"0\" allow=\"accelerometer; autoplay; encrypted-media; gyroscope; picture-in-picture\" allowfullscreen></iframe>"
      ],
      "execution_count": 4,
      "outputs": [
        {
          "output_type": "display_data",
          "data": {
            "text/html": [
              "<iframe width=\"560\" height=\"315\" src=\"https://www.youtube-nocookie.com/embed/LSxPkyZOU7E\" frameborder=\"0\" allow=\"accelerometer; autoplay; encrypted-media; gyroscope; picture-in-picture\" allowfullscreen></iframe>"
            ],
            "text/plain": [
              "<IPython.core.display.HTML object>"
            ]
          },
          "metadata": {
            "tags": []
          }
        }
      ]
    },
    {
      "cell_type": "code",
      "metadata": {
        "id": "rXbc668D1wMV",
        "colab_type": "code",
        "outputId": "9bdaf3ac-3804-4141-b9cd-82dcdeb1c533",
        "colab": {
          "base_uri": "https://localhost:8080/",
          "height": 336
        },
        "cellView": "form"
      },
      "source": [
        "#@title 燃料電池バス(国内)\n",
        "%%html\n",
        "<iframe width=\"560\" height=\"315\" src=\"https://www.youtube-nocookie.com/embed/ZmA25cZ6_1Q?start=210\" frameborder=\"0\" allow=\"accelerometer; autoplay; encrypted-media; gyroscope; picture-in-picture\" allowfullscreen></iframe>"
      ],
      "execution_count": 5,
      "outputs": [
        {
          "output_type": "display_data",
          "data": {
            "text/html": [
              "<iframe width=\"560\" height=\"315\" src=\"https://www.youtube-nocookie.com/embed/ZmA25cZ6_1Q?start=210\" frameborder=\"0\" allow=\"accelerometer; autoplay; encrypted-media; gyroscope; picture-in-picture\" allowfullscreen></iframe>"
            ],
            "text/plain": [
              "<IPython.core.display.HTML object>"
            ]
          },
          "metadata": {
            "tags": []
          }
        }
      ]
    },
    {
      "cell_type": "code",
      "metadata": {
        "id": "3hGkvZurZtYa",
        "colab_type": "code",
        "colab": {
          "base_uri": "https://localhost:8080/",
          "height": 336
        },
        "cellView": "form",
        "outputId": "614adbed-d313-41ef-e52b-fc72fc6a1ec4"
      },
      "source": [
        "#@title 燃料電池トラック(米国)\n",
        "%%html\n",
        "<iframe width=\"560\" height=\"315\" src=\"https://www.youtube-nocookie.com/embed/5_BSH0OEOJ4\" frameborder=\"0\" allow=\"accelerometer; autoplay; encrypted-media; gyroscope; picture-in-picture\" allowfullscreen></iframe>"
      ],
      "execution_count": 6,
      "outputs": [
        {
          "output_type": "display_data",
          "data": {
            "text/html": [
              "<iframe width=\"560\" height=\"315\" src=\"https://www.youtube-nocookie.com/embed/5_BSH0OEOJ4\" frameborder=\"0\" allow=\"accelerometer; autoplay; encrypted-media; gyroscope; picture-in-picture\" allowfullscreen></iframe>"
            ],
            "text/plain": [
              "<IPython.core.display.HTML object>"
            ]
          },
          "metadata": {
            "tags": []
          }
        }
      ]
    },
    {
      "cell_type": "markdown",
      "metadata": {
        "id": "LbCeoDlGMNYA",
        "colab_type": "text"
      },
      "source": [
        "## News\n",
        "\n",
        "- [トヨタ、船舶向けに初の燃料電池システムを開発し、フランスの「エナジー・オブザーバー号」に搭載, 2020-02-03](https://global.toyota/jp/newsroom/corporate/31321293.html)\n",
        "- [船舶用燃料電池システムの開発を開始, 2020-05-12](https://www.yanmar.com/media/news/2020/04/28095206/pdf_news_20200512_01.pdf)"
      ]
    }
  ]
}