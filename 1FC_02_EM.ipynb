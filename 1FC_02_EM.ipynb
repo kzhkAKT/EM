{
  "nbformat": 4,
  "nbformat_minor": 0,
  "metadata": {
    "colab": {
      "name": "1FC_02_EM",
      "provenance": [],
      "toc_visible": true,
      "authorship_tag": "ABX9TyPdeLLZHVe98KWBpa1NNhiO",
      "include_colab_link": true
    },
    "kernelspec": {
      "name": "python3",
      "display_name": "Python 3"
    }
  },
  "cells": [
    {
      "cell_type": "markdown",
      "metadata": {
        "id": "view-in-github",
        "colab_type": "text"
      },
      "source": [
        "<a href=\"https://colab.research.google.com/github/kzhkAKT/ErgyMtrlScience/blob/draft/1FC_02_EM.ipynb\" target=\"_parent\"><img src=\"https://colab.research.google.com/assets/colab-badge.svg\" alt=\"Open In Colab\"/></a>"
      ]
    },
    {
      "cell_type": "markdown",
      "metadata": {
        "id": "2UKaAfgEFnY2",
        "colab_type": "text"
      },
      "source": [
        "# 化学変化とエネルギー\n"
      ]
    },
    {
      "cell_type": "markdown",
      "metadata": {
        "id": "5nR9PylUFrVt",
        "colab_type": "text"
      },
      "source": [
        "## エネルギー変換"
      ]
    },
    {
      "cell_type": "markdown",
      "metadata": {
        "id": "sk20CiPmEH1S",
        "colab_type": "text"
      },
      "source": [
        "\n",
        "\n",
        "### エネルギーの6形態\n",
        "\n",
        "![エネルギーのいろいろな形態と相互変換](https://info.ouj.ac.jp/~hamada/TextLib/rm/chap14/Figure/Cr99ef01.jpg)\n",
        "\n",
        "\n",
        "\n"
      ]
    },
    {
      "cell_type": "markdown",
      "metadata": {
        "id": "gvFbctUrFxkt",
        "colab_type": "text"
      },
      "source": [
        "### 自発変化と非自発変化"
      ]
    },
    {
      "cell_type": "code",
      "metadata": {
        "id": "5n3qPo0j_nFy",
        "colab_type": "code",
        "colab": {}
      },
      "source": [
        ""
      ],
      "execution_count": 0,
      "outputs": []
    }
  ]
}